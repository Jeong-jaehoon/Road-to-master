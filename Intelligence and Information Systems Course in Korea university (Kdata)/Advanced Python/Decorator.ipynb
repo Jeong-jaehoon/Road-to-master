{
 "cells": [
  {
   "cell_type": "markdown",
   "metadata": {},
   "source": [
    "## First Order"
   ]
  },
  {
   "cell_type": "markdown",
   "metadata": {},
   "source": [
    "- can be created at runtime\n",
    "- can be assigned to a variable\n",
    "- can be passed as a argument to a function\n",
    "- can be returned as the result of a function"
   ]
  },
  {
   "cell_type": "code",
   "execution_count": 2,
   "metadata": {},
   "outputs": [
    {
     "name": "stdout",
     "output_type": "stream",
     "text": [
      "Hi i am a function\n"
     ]
    }
   ],
   "source": [
    "def hello(x):\n",
    "    print(\"Hi i am a function\")\n",
    "    \n",
    "hello(12)"
   ]
  },
  {
   "cell_type": "code",
   "execution_count": 3,
   "metadata": {},
   "outputs": [
    {
     "name": "stdout",
     "output_type": "stream",
     "text": [
      "Hi i am a function\n",
      "None\n"
     ]
    }
   ],
   "source": [
    "def hello(x):\n",
    "    print(\"Hi i am a function\")\n",
    "\n",
    "firs=hello\n",
    "print(firs(12))\n",
    "\n",
    "##return을 생략 할 수 있다."
   ]
  },
  {
   "cell_type": "code",
   "execution_count": 4,
   "metadata": {},
   "outputs": [
    {
     "name": "stdout",
     "output_type": "stream",
     "text": [
      "Hello i am print\n"
     ]
    }
   ],
   "source": [
    "Ankit=print\n",
    "Ankit(\"Hello i am print\")\n",
    "\n",
    "##함수를 할당 할 수 있다."
   ]
  },
  {
   "cell_type": "markdown",
   "metadata": {},
   "source": [
    "---"
   ]
  },
  {
   "cell_type": "code",
   "execution_count": 10,
   "metadata": {},
   "outputs": [
    {
     "name": "stdout",
     "output_type": "stream",
     "text": [
      "Hi i am a function\n",
      "None\n"
     ]
    }
   ],
   "source": [
    "def hello(x):\n",
    "    print(\"Hi i am a function\")\n",
    "\n",
    "firs=hello\n",
    "del hello\n",
    "print(firs(12))"
   ]
  },
  {
   "cell_type": "code",
   "execution_count": 4,
   "metadata": {
    "collapsed": true
   },
   "outputs": [
    {
     "name": "stdout",
     "output_type": "stream",
     "text": [
      "Hi i am a function\n"
     ]
    },
    {
     "data": {
      "text/plain": [
       "['__abs__',\n",
       " '__add__',\n",
       " '__and__',\n",
       " '__bool__',\n",
       " '__ceil__',\n",
       " '__class__',\n",
       " '__delattr__',\n",
       " '__dir__',\n",
       " '__divmod__',\n",
       " '__doc__',\n",
       " '__eq__',\n",
       " '__float__',\n",
       " '__floor__',\n",
       " '__floordiv__',\n",
       " '__format__',\n",
       " '__ge__',\n",
       " '__getattribute__',\n",
       " '__getnewargs__',\n",
       " '__gt__',\n",
       " '__hash__',\n",
       " '__index__',\n",
       " '__init__',\n",
       " '__init_subclass__',\n",
       " '__int__',\n",
       " '__invert__',\n",
       " '__le__',\n",
       " '__lshift__',\n",
       " '__lt__',\n",
       " '__mod__',\n",
       " '__mul__',\n",
       " '__ne__',\n",
       " '__neg__',\n",
       " '__new__',\n",
       " '__or__',\n",
       " '__pos__',\n",
       " '__pow__',\n",
       " '__radd__',\n",
       " '__rand__',\n",
       " '__rdivmod__',\n",
       " '__reduce__',\n",
       " '__reduce_ex__',\n",
       " '__repr__',\n",
       " '__rfloordiv__',\n",
       " '__rlshift__',\n",
       " '__rmod__',\n",
       " '__rmul__',\n",
       " '__ror__',\n",
       " '__round__',\n",
       " '__rpow__',\n",
       " '__rrshift__',\n",
       " '__rshift__',\n",
       " '__rsub__',\n",
       " '__rtruediv__',\n",
       " '__rxor__',\n",
       " '__setattr__',\n",
       " '__sizeof__',\n",
       " '__str__',\n",
       " '__sub__',\n",
       " '__subclasshook__',\n",
       " '__truediv__',\n",
       " '__trunc__',\n",
       " '__xor__',\n",
       " 'bit_length',\n",
       " 'conjugate',\n",
       " 'denominator',\n",
       " 'from_bytes',\n",
       " 'imag',\n",
       " 'numerator',\n",
       " 'real',\n",
       " 'to_bytes']"
      ]
     },
     "execution_count": 4,
     "metadata": {},
     "output_type": "execute_result"
    }
   ],
   "source": [
    "def hello(x):\n",
    "    print(\"Hi i am a function\")\n",
    "    return 1\n",
    " \n",
    "firs=hello(1)\n",
    "callable(firs)\n",
    "firs.__call__()\n",
    "# dir(firs)\n",
    "# print(firs(12))"
   ]
  },
  {
   "cell_type": "code",
   "execution_count": 5,
   "metadata": {},
   "outputs": [],
   "source": [
    "def hello(x):\n",
    "    print(\"Hi i am a function\")\n",
    "    return hello\n",
    " \n",
    "# firs=hello(1)\n",
    "# print(firs(12))"
   ]
  },
  {
   "cell_type": "code",
   "execution_count": 6,
   "metadata": {},
   "outputs": [
    {
     "name": "stdout",
     "output_type": "stream",
     "text": [
      "Hi i am a function\n",
      "Hi i am a function\n",
      "Hi i am a function\n",
      "Hi i am a function\n"
     ]
    },
    {
     "data": {
      "text/plain": [
       "<function __main__.hello(x)>"
      ]
     },
     "execution_count": 6,
     "metadata": {},
     "output_type": "execute_result"
    }
   ],
   "source": [
    "firs = hello(1)(2)(3)(4)"
   ]
  },
  {
   "cell_type": "markdown",
   "metadata": {},
   "source": [
    "--- "
   ]
  },
  {
   "cell_type": "code",
   "execution_count": 12,
   "metadata": {},
   "outputs": [
    {
     "name": "stdout",
     "output_type": "stream",
     "text": [
      "Hi i am a function\n",
      "12.333333333333334\n"
     ]
    }
   ],
   "source": [
    "def hello(x):\n",
    "    print(\"Hi i am a function\")\n",
    "    x+=132\n",
    "    x=x/12\n",
    "    print(x)\n",
    " \n",
    " \n",
    "hello(16)"
   ]
  },
  {
   "cell_type": "code",
   "execution_count": 1,
   "metadata": {
    "collapsed": true
   },
   "outputs": [
    {
     "name": "stdout",
     "output_type": "stream",
     "text": [
      "Hi i am a function\n",
      "12.333333333333334\n"
     ]
    },
    {
     "ename": "NameError",
     "evalue": "name 'x' is not defined",
     "output_type": "error",
     "traceback": [
      "\u001b[1;31m---------------------------------------------------------------------------\u001b[0m",
      "\u001b[1;31mNameError\u001b[0m                                 Traceback (most recent call last)",
      "\u001b[1;32m<ipython-input-1-829914ad28fc>\u001b[0m in \u001b[0;36m<module>\u001b[1;34m()\u001b[0m\n\u001b[0;32m     14\u001b[0m \u001b[1;33m\u001b[0m\u001b[0m\n\u001b[0;32m     15\u001b[0m \u001b[1;33m\u001b[0m\u001b[0m\n\u001b[1;32m---> 16\u001b[1;33m \u001b[0mbye\u001b[0m\u001b[1;33m(\u001b[0m\u001b[1;36m12\u001b[0m\u001b[1;33m)\u001b[0m\u001b[1;33m\u001b[0m\u001b[0m\n\u001b[0m",
      "\u001b[1;32m<ipython-input-1-829914ad28fc>\u001b[0m in \u001b[0;36mbye\u001b[1;34m(y)\u001b[0m\n\u001b[0;32m     10\u001b[0m \u001b[1;33m\u001b[0m\u001b[0m\n\u001b[0;32m     11\u001b[0m \u001b[1;32mdef\u001b[0m \u001b[0mbye\u001b[0m\u001b[1;33m(\u001b[0m\u001b[0my\u001b[0m\u001b[1;33m)\u001b[0m\u001b[1;33m:\u001b[0m\u001b[1;33m\u001b[0m\u001b[0m\n\u001b[1;32m---> 12\u001b[1;33m     \u001b[0mz\u001b[0m\u001b[1;33m=\u001b[0m\u001b[0mx\u001b[0m\u001b[1;33m+\u001b[0m\u001b[0my\u001b[0m\u001b[1;33m\u001b[0m\u001b[0m\n\u001b[0m\u001b[0;32m     13\u001b[0m     \u001b[0mprint\u001b[0m\u001b[1;33m(\u001b[0m\u001b[0mz\u001b[0m\u001b[1;33m)\u001b[0m\u001b[1;33m\u001b[0m\u001b[0m\n\u001b[0;32m     14\u001b[0m \u001b[1;33m\u001b[0m\u001b[0m\n",
      "\u001b[1;31mNameError\u001b[0m: name 'x' is not defined"
     ]
    }
   ],
   "source": [
    "def hello(x):\n",
    "    print(\"Hi i am a function\")\n",
    "    x+=132\n",
    "    x=x/12\n",
    "    print(x)\n",
    "\n",
    "    \n",
    "hello(16)\n",
    " \n",
    "    \n",
    "def bye(y):\n",
    "    z=x+y\n",
    "    print(z)\n",
    "\n",
    "    \n",
    "bye(12) ## bye에 x가 없기때문에 name error // unbound local error랑 혼동하지마\n"
   ]
  },
  {
   "cell_type": "code",
   "execution_count": 2,
   "metadata": {},
   "outputs": [
    {
     "name": "stdout",
     "output_type": "stream",
     "text": [
      "Hi i am a function\n",
      "12.333333333333334\n",
      "24.333333333333336\n"
     ]
    }
   ],
   "source": [
    "def hello(x):\n",
    "    print(\"Hi i am a function\")\n",
    "    x+=132\n",
    "    x=x/12\n",
    "    print(x)\n",
    "    return x\n",
    "\n",
    "\n",
    "ref=hello(16)\n",
    "\n",
    "def bye(y):\n",
    "    z=ref+y\n",
    "    print(z)\n",
    "\n",
    "\n",
    "bye(12)\n",
    "## 얘는 error 안난다."
   ]
  },
  {
   "cell_type": "code",
   "execution_count": 3,
   "metadata": {},
   "outputs": [
    {
     "name": "stdout",
     "output_type": "stream",
     "text": [
      "hello\n",
      "look\n"
     ]
    }
   ],
   "source": [
    "def bye():\n",
    "    print(\"look\")\n",
    "\n",
    "\n",
    "def hello(fun):\n",
    "    print(\"hello\")\n",
    "    fun() ##이게 무슨... fun인자가 callable이라면 가능하겠죠!!\n",
    "\n",
    "\n",
    "hello(bye)"
   ]
  },
  {
   "cell_type": "code",
   "execution_count": 8,
   "metadata": {
    "scrolled": false
   },
   "outputs": [
    {
     "name": "stdout",
     "output_type": "stream",
     "text": [
      "hello\n",
      "This is my real fun bye\n",
      "look\n"
     ]
    }
   ],
   "source": [
    "def bye():\n",
    "    print(\"look\")\n",
    "\n",
    "\n",
    "def hello(fun):\n",
    "    print(\"hello\")\n",
    "    print(\"This is my real fun\",fun.__name__)\n",
    "    fun()\n",
    "\n",
    "\n",
    "hello(bye)"
   ]
  },
  {
   "cell_type": "code",
   "execution_count": 4,
   "metadata": {
    "scrolled": true
   },
   "outputs": [
    {
     "data": {
      "text/plain": [
       "'__main__'"
      ]
     },
     "execution_count": 4,
     "metadata": {},
     "output_type": "execute_result"
    }
   ],
   "source": [
    "__name__"
   ]
  },
  {
   "cell_type": "code",
   "execution_count": 7,
   "metadata": {},
   "outputs": [
    {
     "data": {
      "text/plain": [
       "'sys'"
      ]
     },
     "execution_count": 7,
     "metadata": {},
     "output_type": "execute_result"
    }
   ],
   "source": [
    "import sys\n",
    "sys.__name__\n",
    "\n",
    "##import 했을때는 import 뒤에 이름이 나와요 import안했을떄는 __main__ 이나온다"
   ]
  },
  {
   "cell_type": "code",
   "execution_count": 8,
   "metadata": {
    "scrolled": false
   },
   "outputs": [
    {
     "name": "stdout",
     "output_type": "stream",
     "text": [
      "look\n",
      "hello\n",
      "oh 12\n",
      "[0, 0, 0]\n",
      "[0, 0, 0]\n",
      "[0, 0, 0]\n"
     ]
    }
   ],
   "source": [
    "def bye():\n",
    "    print(\"look\")\n",
    "    return 0\n",
    "\n",
    "def hello():\n",
    "    print(\"hello\")\n",
    "    return 0\n",
    "\n",
    "def byea(r):\n",
    "    print(\"oh\",r)\n",
    "    return 0\n",
    "\n",
    "l=[bye(),hello(),byea(12)]\n",
    "# for i in l:\n",
    "#     print(i)\n",
    "for a in l:\n",
    "    print(l)\n",
    "    \n",
    "## 실행 되고나서 값이 들어갔다."
   ]
  },
  {
   "cell_type": "code",
   "execution_count": 13,
   "metadata": {},
   "outputs": [
    {
     "name": "stdout",
     "output_type": "stream",
     "text": [
      "look\n",
      "hello\n",
      "oh 12\n"
     ]
    }
   ],
   "source": [
    "ㅣ = [bye(),hello(),byea(12)] ##l 집어넣으면서 print까지 되버렸다 즉 0 0 0 의 결과가 아닌것이다."
   ]
  },
  {
   "cell_type": "code",
   "execution_count": 10,
   "metadata": {
    "scrolled": true
   },
   "outputs": [
    {
     "name": "stdout",
     "output_type": "stream",
     "text": [
      "[0, 0, 0]\n",
      "[0, 0, 0]\n",
      "[0, 0, 0]\n"
     ]
    }
   ],
   "source": [
    "for i in l:\n",
    "    print(l)"
   ]
  },
  {
   "cell_type": "code",
   "execution_count": 11,
   "metadata": {},
   "outputs": [
    {
     "name": "stdout",
     "output_type": "stream",
     "text": [
      "0\n",
      "0\n",
      "0\n"
     ]
    }
   ],
   "source": [
    "for i in l:\n",
    "    print(a) ##뭐지얘는? 각 함수를 return 0 으로 해놨기 때문에 0"
   ]
  },
  {
   "cell_type": "markdown",
   "metadata": {},
   "source": [
    "___"
   ]
  },
  {
   "cell_type": "markdown",
   "metadata": {},
   "source": [
    "## closure\n",
    "#### closure가 되려면 함수가 중첩되야하고 안에있는 함수가 영향을 미쳐야됨"
   ]
  },
  {
   "cell_type": "code",
   "execution_count": 16,
   "metadata": {},
   "outputs": [
    {
     "name": "stdout",
     "output_type": "stream",
     "text": [
      "11\n",
      "None\n"
     ]
    }
   ],
   "source": [
    "def helllo(x):\n",
    "    x=11\n",
    "    def bye():\n",
    "        print(x)\n",
    "#         return 0\n",
    "    return bye ##함수를 return\n",
    "\n",
    "er=helllo(12)  # er == closure\n",
    "print(er())"
   ]
  },
  {
   "cell_type": "markdown",
   "metadata": {},
   "source": [
    "A closure remembers the values from its enclosing lexical scope even when the program flow is no longer in that scope.\n",
    "In practical terms this means not only can functions return behaviors but they can also pre-configure those behaviors."
   ]
  },
  {
   "cell_type": "code",
   "execution_count": 21,
   "metadata": {},
   "outputs": [
    {
     "data": {
      "text/plain": [
       "<function math.sqrt>"
      ]
     },
     "execution_count": 21,
     "metadata": {},
     "output_type": "execute_result"
    }
   ],
   "source": [
    "import math\n",
    "\n",
    "def demo_one():\n",
    "    return math.sqrt # return a function\n",
    "\n",
    "demo_one() ##결과가 그냥 함 수."
   ]
  },
  {
   "cell_type": "code",
   "execution_count": 25,
   "metadata": {},
   "outputs": [
    {
     "name": "stdout",
     "output_type": "stream",
     "text": [
      "ankit\n",
      "ANKIT\n"
     ]
    }
   ],
   "source": [
    "def hello(x):\n",
    "    def by():\n",
    "        print(x)\n",
    "        return x.upper()\n",
    "    return by\n",
    " \n",
    "print(hello(\"ankit\")()) ##ankit가 print 되고 ()를 쓰면 upper된것 까지."
   ]
  },
  {
   "cell_type": "code",
   "execution_count": 27,
   "metadata": {},
   "outputs": [
    {
     "name": "stdout",
     "output_type": "stream",
     "text": [
      "6\n"
     ]
    }
   ],
   "source": [
    "def funcwrapper(y):\n",
    "    def addone(x):\n",
    "        return x + y + 1\n",
    "    return addone\n",
    "\n",
    "result = funcwrapper(3)(2)\n",
    "print(result)"
   ]
  },
  {
   "cell_type": "markdown",
   "metadata": {},
   "source": [
    "## nested\n",
    "- using return\n",
    "- using closure\n",
    "- using func()()"
   ]
  },
  {
   "cell_type": "code",
   "execution_count": 14,
   "metadata": {},
   "outputs": [
    {
     "name": "stdout",
     "output_type": "stream",
     "text": [
      "waa\n"
     ]
    }
   ],
   "source": [
    "def hello(x):\n",
    "    def bye(f):\n",
    "        print(\"waa\")\n",
    "    return bye\n",
    "hello(12)(11)"
   ]
  },
  {
   "cell_type": "markdown",
   "metadata": {},
   "source": [
    "### using return"
   ]
  },
  {
   "cell_type": "code",
   "execution_count": 17,
   "metadata": {},
   "outputs": [
    {
     "name": "stdout",
     "output_type": "stream",
     "text": [
      "I am nested function 12\n",
      "None\n"
     ]
    }
   ],
   "source": [
    "def demo(x):\n",
    "    def ine():\n",
    "        print(\"I am nested function\",x)\n",
    "    return ine()\n",
    "print(demo(12))"
   ]
  },
  {
   "cell_type": "markdown",
   "metadata": {},
   "source": [
    "### using closure"
   ]
  },
  {
   "cell_type": "code",
   "execution_count": 15,
   "metadata": {},
   "outputs": [
    {
     "name": "stdout",
     "output_type": "stream",
     "text": [
      "I am nested function 12\n",
      "None\n"
     ]
    }
   ],
   "source": [
    "def demo(x):\n",
    "    def ine():\n",
    "        print(\"I am nested function\",x)\n",
    "    return ine\n",
    "print(demo(12)())"
   ]
  },
  {
   "cell_type": "markdown",
   "metadata": {},
   "source": [
    "### using func()()"
   ]
  },
  {
   "cell_type": "code",
   "execution_count": 28,
   "metadata": {},
   "outputs": [
    {
     "name": "stdout",
     "output_type": "stream",
     "text": [
      "I am nested function 12\n"
     ]
    }
   ],
   "source": [
    "def demo(x):\n",
    "    def ine():\n",
    "        print(\"I am nested function\",x)\n",
    "    return ine#()\n",
    "\n",
    "## ine는 함수 ine()는 함수값\n",
    "demo(12)()"
   ]
  },
  {
   "cell_type": "code",
   "execution_count": 33,
   "metadata": {},
   "outputs": [
    {
     "name": "stdout",
     "output_type": "stream",
     "text": [
      "waa\n",
      "None\n"
     ]
    }
   ],
   "source": [
    "def hello(x):\n",
    "    def bye(f):\n",
    "        print(\"waa\")\n",
    "    return bye\n",
    "io=hello(12)\n",
    "print(io(1))"
   ]
  },
  {
   "cell_type": "markdown",
   "metadata": {},
   "source": [
    "---\n",
    "### 여기서부터 중요\n",
    "#### 여기서는 이해도 어렵지만 이해를 기반으로 코딩까지 해야햐ㅏ핳ㅎ\n"
   ]
  },
  {
   "cell_type": "code",
   "execution_count": 18,
   "metadata": {},
   "outputs": [
    {
     "name": "stdout",
     "output_type": "stream",
     "text": [
      "before the decoratr\n",
      "hk\n",
      "after the decorat\n",
      "None\n"
     ]
    }
   ],
   "source": [
    "def hello(func): ##함수를 인자로 받았다.\n",
    "    def bye(x):\n",
    "        print(\"before the decoratr\")\n",
    "        func(x) ##이게되려면 최소한 func가 fucntion이어야함.\n",
    "        print(\"after the decorat\")\n",
    "    return bye ## return 값이 함수\n",
    "\n",
    "def hi(sa):\n",
    "    print(\"hk\")\n",
    "\n",
    "# hi(1)\n",
    "# df=hello(hi)\n",
    "print(hello(hi)(1))\n",
    "\n"
   ]
  },
  {
   "cell_type": "code",
   "execution_count": 39,
   "metadata": {},
   "outputs": [
    {
     "name": "stdout",
     "output_type": "stream",
     "text": [
      "before the decoratr\n",
      "hk\n",
      "after the decorat\n"
     ]
    }
   ],
   "source": [
    "def hello(func):\n",
    "    def bye(x):\n",
    "        print(\"before the decoratr\")\n",
    "        func(x)\n",
    "        print(\"after the decorat\")\n",
    "    return bye\n",
    "\n",
    "@hello\n",
    "def hi(sa):\n",
    "    print(\"hk\")\n",
    "\n",
    "hi(1)"
   ]
  },
  {
   "cell_type": "code",
   "execution_count": 40,
   "metadata": {},
   "outputs": [
    {
     "name": "stdout",
     "output_type": "stream",
     "text": [
      "This is stuff before decorator\n",
      "this function want to use decorator\n",
      "this is stuff after decorator\n",
      "None\n"
     ]
    }
   ],
   "source": [
    "def hello(func):\n",
    "    def wrapper(x):\n",
    "        print(\"This is stuff before decorator\")\n",
    "        func(x)\n",
    "        print(\"this is stuff after decorator\")\n",
    "    return wrapper\n",
    "\n",
    "def testingfunc(x):\n",
    "    print(\"this function want to use decorator\")\n",
    "\n",
    "closure=hello(testingfunc)\n",
    "print(closure(12))"
   ]
  },
  {
   "cell_type": "markdown",
   "metadata": {},
   "source": [
    "### 중요예시"
   ]
  },
  {
   "cell_type": "code",
   "execution_count": 31,
   "metadata": {},
   "outputs": [],
   "source": [
    "def extrafun(hi):\n",
    "    def decorator(func):\n",
    "        def wrapper(x):\n",
    "            print('before decoraoting')\n",
    "            func(x)\n",
    "            print('After decoraoting')\n",
    "        return wrapper\n",
    "    return decorator\n",
    "\n",
    "@extrafun(12)\n",
    "def newfunc(c):\n",
    "    print(\"this is new function\")\n",
    "\n",
    "newfunc(12)"
   ]
  },
  {
   "cell_type": "code",
   "execution_count": 48,
   "metadata": {
    "scrolled": true
   },
   "outputs": [
    {
     "ename": "TypeError",
     "evalue": "hi() missing 1 required positional argument: 'sa'",
     "output_type": "error",
     "traceback": [
      "\u001b[0;31m---------------------------------------------------------------------------\u001b[0m",
      "\u001b[0;31mTypeError\u001b[0m                                 Traceback (most recent call last)",
      "\u001b[0;32m<ipython-input-48-81b065e6eb46>\u001b[0m in \u001b[0;36m<module>\u001b[0;34m()\u001b[0m\n\u001b[1;32m      8\u001b[0m     \u001b[0;32mpass\u001b[0m\u001b[0;34m\u001b[0m\u001b[0m\n\u001b[1;32m      9\u001b[0m \u001b[0;34m\u001b[0m\u001b[0m\n\u001b[0;32m---> 10\u001b[0;31m \u001b[0mhi\u001b[0m\u001b[0;34m(\u001b[0m\u001b[0;34m)\u001b[0m\u001b[0;34m\u001b[0m\u001b[0m\n\u001b[0m",
      "\u001b[0;32m<ipython-input-48-81b065e6eb46>\u001b[0m in \u001b[0;36mbye\u001b[0;34m()\u001b[0m\n\u001b[1;32m      1\u001b[0m \u001b[0;32mdef\u001b[0m \u001b[0mhello\u001b[0m\u001b[0;34m(\u001b[0m\u001b[0mfunc\u001b[0m\u001b[0;34m)\u001b[0m\u001b[0;34m:\u001b[0m\u001b[0;34m\u001b[0m\u001b[0m\n\u001b[1;32m      2\u001b[0m     \u001b[0;32mdef\u001b[0m \u001b[0mbye\u001b[0m\u001b[0;34m(\u001b[0m\u001b[0;34m)\u001b[0m\u001b[0;34m:\u001b[0m\u001b[0;34m\u001b[0m\u001b[0m\n\u001b[0;32m----> 3\u001b[0;31m         \u001b[0mfunc\u001b[0m\u001b[0;34m(\u001b[0m\u001b[0;34m)\u001b[0m\u001b[0;34m\u001b[0m\u001b[0m\n\u001b[0m\u001b[1;32m      4\u001b[0m     \u001b[0;32mreturn\u001b[0m \u001b[0mbye\u001b[0m\u001b[0;34m\u001b[0m\u001b[0m\n\u001b[1;32m      5\u001b[0m \u001b[0;34m\u001b[0m\u001b[0m\n",
      "\u001b[0;31mTypeError\u001b[0m: hi() missing 1 required positional argument: 'sa'"
     ]
    }
   ],
   "source": [
    "def hello(func):\n",
    "    def bye():\n",
    "        func()\n",
    "    return bye\n",
    "\n",
    "@hello\n",
    "def hi(sa):\n",
    "    pass\n",
    "\n",
    "hi()\n",
    "\n",
    "## hi는 인자를 받는데 bye는 인자를 안받으니까 가변 키워드로 해결해주자 bye(*arg, **kwlist)"
   ]
  },
  {
   "cell_type": "code",
   "execution_count": 37,
   "metadata": {},
   "outputs": [],
   "source": [
    "def hello(func):\n",
    "    def bye(*arg, **kwlist):\n",
    "        func(*arg) \n",
    "    return bye\n",
    "\n",
    "@hello\n",
    "def hi(sa):\n",
    "    pass\n",
    "\n",
    "hi(3)\n",
    "\n",
    "## hi는 인자를 받는데 bye는 인자를 안받으니까 가변 키워드로 해결 해주자"
   ]
  },
  {
   "cell_type": "code",
   "execution_count": 50,
   "metadata": {},
   "outputs": [
    {
     "ename": "TypeError",
     "evalue": "bye() takes 0 positional arguments but 1 was given",
     "output_type": "error",
     "traceback": [
      "\u001b[0;31m---------------------------------------------------------------------------\u001b[0m",
      "\u001b[0;31mTypeError\u001b[0m                                 Traceback (most recent call last)",
      "\u001b[0;32m<ipython-input-50-14d58fb8c51d>\u001b[0m in \u001b[0;36m<module>\u001b[0;34m()\u001b[0m\n\u001b[1;32m      8\u001b[0m     \u001b[0;32mpass\u001b[0m\u001b[0;34m\u001b[0m\u001b[0m\n\u001b[1;32m      9\u001b[0m \u001b[0;34m\u001b[0m\u001b[0m\n\u001b[0;32m---> 10\u001b[0;31m \u001b[0mhi\u001b[0m\u001b[0;34m(\u001b[0m\u001b[0;36m1\u001b[0m\u001b[0;34m)\u001b[0m\u001b[0;34m\u001b[0m\u001b[0m\n\u001b[0m",
      "\u001b[0;31mTypeError\u001b[0m: bye() takes 0 positional arguments but 1 was given"
     ]
    }
   ],
   "source": [
    "def hello(func):\n",
    "    def bye():\n",
    "        func()\n",
    "    return bye\n",
    "\n",
    "@hello\n",
    "def hi(sa):\n",
    "    pass\n",
    "\n",
    "hi(1)"
   ]
  },
  {
   "cell_type": "code",
   "execution_count": 51,
   "metadata": {},
   "outputs": [
    {
     "ename": "TypeError",
     "evalue": "bye() takes 1 positional argument but 2 were given",
     "output_type": "error",
     "traceback": [
      "\u001b[0;31m---------------------------------------------------------------------------\u001b[0m",
      "\u001b[0;31mTypeError\u001b[0m                                 Traceback (most recent call last)",
      "\u001b[0;32m<ipython-input-51-1a28bf2039cd>\u001b[0m in \u001b[0;36m<module>\u001b[0;34m()\u001b[0m\n\u001b[1;32m     13\u001b[0m \u001b[0;32mdef\u001b[0m \u001b[0mhi2\u001b[0m\u001b[0;34m(\u001b[0m\u001b[0ma\u001b[0m\u001b[0;34m,\u001b[0m\u001b[0mb\u001b[0m\u001b[0;34m)\u001b[0m\u001b[0;34m:\u001b[0m\u001b[0;34m\u001b[0m\u001b[0m\n\u001b[1;32m     14\u001b[0m     \u001b[0mprint\u001b[0m\u001b[0;34m(\u001b[0m\u001b[0;34m\"two parameter\"\u001b[0m\u001b[0;34m)\u001b[0m\u001b[0;34m\u001b[0m\u001b[0m\n\u001b[0;32m---> 15\u001b[0;31m \u001b[0mhi2\u001b[0m\u001b[0;34m(\u001b[0m\u001b[0;36m1\u001b[0m\u001b[0;34m,\u001b[0m\u001b[0;36m2\u001b[0m\u001b[0;34m)\u001b[0m\u001b[0;34m\u001b[0m\u001b[0m\n\u001b[0m",
      "\u001b[0;31mTypeError\u001b[0m: bye() takes 1 positional argument but 2 were given"
     ]
    }
   ],
   "source": [
    "def hello(func):\n",
    "    def bye(e):\n",
    "        func(e)\n",
    "    return bye\n",
    "\n",
    "@hello\n",
    "def hi(sa):\n",
    "    pass\n",
    "\n",
    "hi(1)\n",
    "\n",
    "@hello\n",
    "def hi2(a,b):\n",
    "    print(\"two parameter\")\n",
    "hi2(1,2)"
   ]
  },
  {
   "cell_type": "code",
   "execution_count": 52,
   "metadata": {},
   "outputs": [
    {
     "name": "stdout",
     "output_type": "stream",
     "text": [
      "wow\n",
      "two parameter\n"
     ]
    }
   ],
   "source": [
    "def hello(func):\n",
    "    def bye(*args,**kwargs):\n",
    "        func(*args)\n",
    "    return bye\n",
    "\n",
    "@hello\n",
    "def hi(sa):\n",
    "    print(\"wow\")\n",
    "\n",
    "hi(1)\n",
    "\n",
    "@hello\n",
    "def hi2(a,b):\n",
    "    print(\"two parameter\")\n",
    "\n",
    "hi2(1,2)"
   ]
  },
  {
   "cell_type": "code",
   "execution_count": 42,
   "metadata": {},
   "outputs": [
    {
     "name": "stdout",
     "output_type": "stream",
     "text": [
      "before decoraoting\n",
      "this is new function\n",
      "After decoraoting\n"
     ]
    }
   ],
   "source": [
    "##세번 중첩시켰다 이거는.\n",
    "##여러개 한방에 쓸수도 있다 어떻게? if를 붙여서.\n",
    "def extrafun(hi):\n",
    "    def decorator(func):\n",
    "        def wrapper(x):\n",
    "            print('before decoraoting')\n",
    "            func(x)\n",
    "            print('After decoraoting')\n",
    "        return wrapper\n",
    "    return decorator\n",
    "\n",
    "def newfunc(c):\n",
    "    print(\"this is new function\")\n",
    "\n",
    "func1=extrafun(12)(newfunc)\n",
    "func1(12)"
   ]
  },
  {
   "cell_type": "code",
   "execution_count": 44,
   "metadata": {},
   "outputs": [
    {
     "name": "stdout",
     "output_type": "stream",
     "text": [
      "before decoraoting\n",
      "this is new function\n",
      "After decoraoting\n"
     ]
    }
   ],
   "source": [
    "def extrafun(hi):\n",
    "    def decorator(func):\n",
    "        def wrapper(x):\n",
    "            print('before decoraoting')\n",
    "            func(x)\n",
    "            print('After decoraoting')\n",
    "        return wrapper\n",
    "    return decorator\n",
    "\n",
    "@extrafun(12)\n",
    "def newfunc(c):\n",
    "    print(\"this is new function\")\n",
    "\n",
    "newfunc(12)"
   ]
  },
  {
   "cell_type": "code",
   "execution_count": 54,
   "metadata": {},
   "outputs": [
    {
     "name": "stdout",
     "output_type": "stream",
     "text": [
      "first deco\n",
      "second deco\n",
      "i am tiny function\n"
     ]
    }
   ],
   "source": [
    "def deco1(func):\n",
    "    def wrap(x):\n",
    "        print(\"first deco\")\n",
    "        func(x)\n",
    "    return wrap\n",
    "\n",
    "def dec2(func2):\n",
    "    def wrap2(x1):\n",
    "        print(\"second deco\")\n",
    "        func2(x1)\n",
    "    return wrap2\n",
    "\n",
    "\n",
    "##decorator를 이중으로 쓸 수 있다.\n",
    "@deco1\n",
    "@dec2\n",
    "def hi(o):\n",
    "    print(\"i am tiny function\")\n",
    "\n",
    "hi(1)"
   ]
  },
  {
   "cell_type": "code",
   "execution_count": 55,
   "metadata": {},
   "outputs": [
    {
     "name": "stdout",
     "output_type": "stream",
     "text": [
      "second deco\n",
      "first deco\n",
      "i am tiny function\n"
     ]
    }
   ],
   "source": [
    "def deco1(func):\n",
    "    def wrap(x):\n",
    "        print(\"first deco\")\n",
    "        func(x)\n",
    "    return wrap\n",
    "\n",
    "def dec2(func2):\n",
    "    def wrap2(x1):\n",
    "        print(\"second deco\")\n",
    "        func2(x1)\n",
    "    return wrap2\n",
    "\n",
    "@dec2\n",
    "@deco1\n",
    "def hi(o):\n",
    "    print(\"i am tiny function\")\n",
    "\n",
    "hi(1)"
   ]
  },
  {
   "cell_type": "code",
   "execution_count": 56,
   "metadata": {},
   "outputs": [
    {
     "name": "stdout",
     "output_type": "stream",
     "text": [
      "are you kidding?\n",
      "no i am not kidding\n",
      "bye\n",
      "ok i am also a decorator, really not kidding\n",
      "hi\n"
     ]
    }
   ],
   "source": [
    "def decora(de):\n",
    "    print(\"are you kidding?\")\n",
    "    def hello(*args):\n",
    "        print(\"no i am not kidding\")\n",
    "        def wrapper(x):\n",
    "            print(\"bye\")\n",
    "            return de(*args,x)\n",
    "        return wrapper\n",
    "    return hello\n",
    "\n",
    "@decora\n",
    "def hi(fi,*args):\n",
    "    def wrappe(xx):\n",
    "        print(\"ok i am also a decorator, really not kidding\")\n",
    "        fi(xx)\n",
    "    return wrappe\n",
    "\n",
    "@hi()\n",
    "def has(xxx):\n",
    "    print(\"hi\")\n",
    "\n",
    "has(\"ui\")"
   ]
  },
  {
   "cell_type": "code",
   "execution_count": 57,
   "metadata": {},
   "outputs": [],
   "source": [
    "def decorator_with_args(decorator_to_enhance):\n",
    "    \"\"\" \n",
    "    This function is supposed to be used as a decorator.\n",
    "    It must decorate an other function, that is intended to be used as a decorator.\n",
    "    Take a cup of coffee.\n",
    "    It will allow any decorator to accept an arbitrary number of arguments,\n",
    "    saving you the headache to remember how to do that every time.\n",
    "    \"\"\"\n",
    "\n",
    "    # We use the same trick we did to pass arguments\n",
    "    def decorator_maker(*args, **kwargs):\n",
    "\n",
    "        # We create on the fly a decorator that accepts only a function\n",
    "        # but keeps the passed arguments from the maker.\n",
    "        def decorator_wrapper(func):\n",
    "\n",
    "            # We return the result of the original decorator, which, after all, \n",
    "            # IS JUST AN ORDINARY FUNCTION (which returns a function).\n",
    "            # Only pitfall: the decorator must have this specific signature or it won't work:\n",
    "            return decorator_to_enhance(func, *args, **kwargs)\n",
    "\n",
    "        return decorator_wrapper\n",
    "\n",
    "    return decorator_maker"
   ]
  },
  {
   "cell_type": "code",
   "execution_count": 58,
   "metadata": {},
   "outputs": [
    {
     "name": "stdout",
     "output_type": "stream",
     "text": [
      "Decorated with (42, 404, 1024) {}\n",
      "Hello Universe and everything\n"
     ]
    }
   ],
   "source": [
    "# You create the function you will use as a decorator. And stick a decorator on it :-)\n",
    "# Don't forget, the signature is \"decorator(func, *args, **kwargs)\"\n",
    "@decorator_with_args \n",
    "def decorated_decorator(func, *args, **kwargs): \n",
    "    def wrapper(function_arg1, function_arg2):\n",
    "        print(\"Decorated with {0} {1}\".format(args, kwargs))\n",
    "        return func(function_arg1, function_arg2)\n",
    "    return wrapper\n",
    "\n",
    "# Then you decorate the functions you wish with your brand new decorated decorator.\n",
    "\n",
    "@decorated_decorator(42, 404, 1024)\n",
    "def decorated_function(function_arg1, function_arg2):\n",
    "    print(\"Hello {0} {1}\".format(function_arg1, function_arg2))\n",
    "\n",
    "decorated_function(\"Universe and\", \"everything\")\n",
    "#outputs:\n",
    "#Decorated with (42, 404, 1024) {}\n",
    "#Hello Universe and everything\n",
    "\n",
    "# Whoooot!"
   ]
  },
  {
   "cell_type": "markdown",
   "metadata": {},
   "source": [
    "---"
   ]
  },
  {
   "cell_type": "code",
   "execution_count": 60,
   "metadata": {},
   "outputs": [
    {
     "name": "stdout",
     "output_type": "stream",
     "text": [
      "Just\n",
      "Hi i am he function he\n",
      "d\n",
      "Hi i am gh function he\n"
     ]
    }
   ],
   "source": [
    "def hello(func):\n",
    "    def he(x):\n",
    "        print(\"Just\")\n",
    "        print(\"Hi i am he function\",he.__name__)\n",
    "        func(x)\n",
    "    return he\n",
    "\n",
    "@hello\n",
    "def gh(xa):\n",
    "    print(\"d\")\n",
    "    print(\"Hi i am gh function\", gh.__name__)\n",
    "\n",
    "gh(13)"
   ]
  },
  {
   "cell_type": "code",
   "execution_count": 74,
   "metadata": {},
   "outputs": [
    {
     "name": "stdout",
     "output_type": "stream",
     "text": [
      "Just\n",
      "d\n",
      "Hi i am gh function gh\n"
     ]
    }
   ],
   "source": [
    "import functools\n",
    "\n",
    "def hello(func):\n",
    "    @functools.wraps(func)\n",
    "    def he(x):\n",
    "        print(\"Just\")\n",
    "        func(x)\n",
    "    return he\n",
    "\n",
    "@hello\n",
    "def gh(xa):\n",
    "    print(\"d\")\n",
    "    print(\"Hi i am gh function\", gh.__name__)\n",
    "\n",
    "gh(13)"
   ]
  },
  {
   "cell_type": "code",
   "execution_count": 68,
   "metadata": {},
   "outputs": [
    {
     "name": "stdout",
     "output_type": "stream",
     "text": [
      "decorator2\n",
      "decorator1\n",
      "inner1\n",
      "inner2\n",
      "foo\n"
     ]
    }
   ],
   "source": [
    "def decorator1(fn):\n",
    "    print(\"decorator1\")\n",
    "    def inner1(*args, **kwargs):\n",
    "        print(\"inner1\")\n",
    "        return fn(*args, **kwargs)\n",
    "    return inner1\n",
    "\n",
    "def decorator2(fn):\n",
    "    print(\"decorator2\")\n",
    "    def inner2(*args, **kwargs):\n",
    "        print(\"inner2\")\n",
    "        return fn(*args, **kwargs)\n",
    "    return inner2\n",
    "\n",
    "@decorator1\n",
    "@decorator2\n",
    "def foo():\n",
    "    print(\"foo\")\n",
    "    \n",
    "foo()"
   ]
  },
  {
   "cell_type": "code",
   "execution_count": 69,
   "metadata": {},
   "outputs": [
    {
     "name": "stdout",
     "output_type": "stream",
     "text": [
      "inner1\n",
      "inner2\n",
      "foo\n"
     ]
    }
   ],
   "source": [
    "foo()"
   ]
  },
  {
   "cell_type": "code",
   "execution_count": 70,
   "metadata": {},
   "outputs": [
    {
     "name": "stdout",
     "output_type": "stream",
     "text": [
      "inner1\n",
      "inner2\n",
      "foo\n"
     ]
    }
   ],
   "source": [
    "foo()"
   ]
  },
  {
   "cell_type": "code",
   "execution_count": 71,
   "metadata": {},
   "outputs": [
    {
     "name": "stdout",
     "output_type": "stream",
     "text": [
      "decorator2\n",
      "decorator1\n"
     ]
    }
   ],
   "source": [
    "@decorator1\n",
    "@decorator2\n",
    "def foo():\n",
    "    print(\"foo\")"
   ]
  },
  {
   "cell_type": "code",
   "execution_count": null,
   "metadata": {},
   "outputs": [],
   "source": []
  }
 ],
 "metadata": {
  "kernelspec": {
   "display_name": "Python 3",
   "language": "python",
   "name": "python3"
  },
  "language_info": {
   "codemirror_mode": {
    "name": "ipython",
    "version": 3
   },
   "file_extension": ".py",
   "mimetype": "text/x-python",
   "name": "python",
   "nbconvert_exporter": "python",
   "pygments_lexer": "ipython3",
   "version": "3.6.5"
  }
 },
 "nbformat": 4,
 "nbformat_minor": 2
}
