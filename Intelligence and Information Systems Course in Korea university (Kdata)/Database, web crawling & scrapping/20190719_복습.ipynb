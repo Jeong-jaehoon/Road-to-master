{
 "cells": [
  {
   "cell_type": "markdown",
   "metadata": {},
   "source": [
    "# NLP\n",
    "\n",
    "- 형태소분석 : 토큰분리, 어간추출, 품사부착, 색인, 벡터화\n",
    "- 구문분석 : 문장 경계인식, 구문분석, 공기어, 개체명 사전 구축, 개체명 인식\n",
    "- 의미분석 : 대용어 해소, 의미 중의성 해결\n",
    "- 담론분석 : 분류, 군집, 중복, 요약, 가중치 순위화, 토픽 모델링, 이슈트래킹, 평판분석, 감성분석, 복합논증분석"
   ]
  },
  {
   "cell_type": "markdown",
   "metadata": {},
   "source": [
    "KoNLPy : 한국어 정보처리를 위한 파이썬 패키지"
   ]
  },
  {
   "cell_type": "markdown",
   "metadata": {},
   "source": [
    "* stemming = 어간 추출\n",
    "* lemmatization = 어근 추출"
   ]
  },
  {
   "cell_type": "markdown",
   "metadata": {},
   "source": [
    "ㄹ니ㅏ렁날어니렁니ㅏㄹㅇ나"
   ]
  },
  {
   "cell_type": "code",
   "execution_count": 3,
   "metadata": {},
   "outputs": [],
   "source": [
    "import nltk"
   ]
  },
  {
   "cell_type": "code",
   "execution_count": 4,
   "metadata": {},
   "outputs": [],
   "source": [
    "from nltk.tokenize import sent_tokenize"
   ]
  },
  {
   "cell_type": "code",
   "execution_count": 5,
   "metadata": {},
   "outputs": [
    {
     "name": "stdout",
     "output_type": "stream",
     "text": [
      "[nltk_data] Downloading package punkt to\n",
      "[nltk_data]     C:\\Users\\정재훈\\AppData\\Roaming\\nltk_data...\n",
      "[nltk_data]   Package punkt is already up-to-date!\n"
     ]
    },
    {
     "data": {
      "text/plain": [
       "True"
      ]
     },
     "execution_count": 5,
     "metadata": {},
     "output_type": "execute_result"
    }
   ],
   "source": [
    "nltk.download(\"punkt\")"
   ]
  },
  {
   "cell_type": "code",
   "execution_count": 11,
   "metadata": {},
   "outputs": [],
   "source": [
    "import sqlite3\n",
    "con = sqlite3.connect(\"news.db\")\n",
    "cur = con.cursor()"
   ]
  },
  {
   "cell_type": "code",
   "execution_count": 12,
   "metadata": {},
   "outputs": [],
   "source": [
    "cur.execute('''\n",
    "    SELECT content FROM table2 ORDER BY id ASC\n",
    "''')\n",
    "corpus = [_[0] for _ in cur.fetchall()]"
   ]
  },
  {
   "cell_type": "code",
   "execution_count": 15,
   "metadata": {
    "collapsed": true
   },
   "outputs": [
    {
     "data": {
      "text/plain": [
       "'[앵커]\\n오늘 오전 서해 행담도 인근에서, 잠수함의 \\'잠망경\\'으로 추정되는 물체가 발견됐다는 신고가 접수돼 우리 군이 수색 작전을 폈는데요. 조금 전 군의 최종 확인 결과가 나왔는데, 오인 신고였던 것으로 보입니다.\\n\\n정치부 취재기자 연결합니다. 이채현 기자! 잠수함이 아니었습니까?\\n\\n[리포트]\\n네, 오늘 오전 충남 당진의 행담도 휴게소 인근 해상에서 잠수함에 달려있는 망원경, 잠망경으로 추정되는 물체가 발견돼 우리 군이 대대적인 수색 작전을 펼친 결과, 오인 신고였던 것으로 드러났습니다.\\n\\n군은 \"어망 부표로 추정된다\"며 대공 혐의점은 없다고 발표 했습니다. 또 \"해당 지역은 수심을 고려하면 잠수 함정의 수중 운행도 어렵다\"고 했습니다.\\n\\n해양경찰청 측은 \"해당 지점의 최대 수심은 10~11m\"라고 밝혔습니다. 북한의 상어급, 연어급 잠수함은 길이가 30m 정도여서, 군 관계자들은 침투가 불가능하다고 설명했습니다.\\n\\n앞서, 오늘 오전 7시 쯤 행담도 휴게소에서 고속도로 순찰대원이 잠망경으로 추정되는 물체를 봤다며, 관계기관에 신고했습니다.\\n\\n이후 군과 경찰은 주변 해역 등에 대한 수색, 차단 작전을 펼쳤고 오인 신고로 판정돼 6시간 만에 수색이 종료됐습니다.\\n\\n정치부에서 TV조선 이채현입니다.\\n\\n☞ 네이버 메인에서 TV조선 구독하기\\n☞ 더 많은 TV조선 뉴스 보기\\n☞ TV조선 뉴스 홈페이지 바로가기\\n* 뉴스제보 : 이메일(tvchosun@chosun.com), 카카오톡(tv조선제보), 전화(1661-0190)\\n\\n이채현 기자(lee229@chosun.com)\\n\\n- Copyrights ⓒ TV조선. 무단전재 및 재배포 금지 -'"
      ]
     },
     "execution_count": 15,
     "metadata": {},
     "output_type": "execute_result"
    }
   ],
   "source": [
    "corpus[1]"
   ]
  },
  {
   "cell_type": "code",
   "execution_count": 17,
   "metadata": {},
   "outputs": [],
   "source": [
    "sentences = sent_tokenize(corpus[1]) ##말뭉치를 sentence 단위로 "
   ]
  },
  {
   "cell_type": "code",
   "execution_count": 21,
   "metadata": {},
   "outputs": [
    {
     "name": "stdout",
     "output_type": "stream",
     "text": [
      "15\n"
     ]
    }
   ],
   "source": [
    "print(len(sentences))"
   ]
  },
  {
   "cell_type": "code",
   "execution_count": 22,
   "metadata": {},
   "outputs": [
    {
     "data": {
      "text/plain": [
       "60"
      ]
     },
     "execution_count": 22,
     "metadata": {},
     "output_type": "execute_result"
    }
   ],
   "source": [
    "len(corpus)"
   ]
  },
  {
   "cell_type": "code",
   "execution_count": 23,
   "metadata": {},
   "outputs": [
    {
     "data": {
      "text/plain": [
       "15"
      ]
     },
     "execution_count": 23,
     "metadata": {},
     "output_type": "execute_result"
    }
   ],
   "source": [
    "from nltk.tokenize import sent_tokenize\n",
    "len(sent_tokenize(corpus[1]))"
   ]
  },
  {
   "cell_type": "code",
   "execution_count": 24,
   "metadata": {},
   "outputs": [
    {
     "data": {
      "text/plain": [
       "'[앵커]'"
      ]
     },
     "execution_count": 24,
     "metadata": {},
     "output_type": "execute_result"
    }
   ],
   "source": [
    "corpus[1].splitlines()[0] ##개행단위"
   ]
  },
  {
   "cell_type": "code",
   "execution_count": 27,
   "metadata": {},
   "outputs": [
    {
     "data": {
      "text/plain": [
       "\"[앵커]\\n오늘 오전 서해 행담도 인근에서, 잠수함의 '잠망경'으로 추정되는 물체가 발견됐다는 신고가 접수돼 우리 군이 수색 작전을 폈는데요.\""
      ]
     },
     "execution_count": 27,
     "metadata": {},
     "output_type": "execute_result"
    }
   ],
   "source": [
    "sent_tokenize(corpus[1])[0]"
   ]
  },
  {
   "cell_type": "code",
   "execution_count": 28,
   "metadata": {},
   "outputs": [
    {
     "data": {
      "text/plain": [
       "'!\"#$%&\\'()*+,-./:;<=>?@[\\\\]^_`{|}~'"
      ]
     },
     "execution_count": 28,
     "metadata": {},
     "output_type": "execute_result"
    }
   ],
   "source": [
    "from string import punctuation\n",
    "punctuation"
   ]
  },
  {
   "cell_type": "code",
   "execution_count": 29,
   "metadata": {},
   "outputs": [
    {
     "data": {
      "text/plain": [
       "['\\n    Life is too short... Life is too short???', 'Life is too short']"
      ]
     },
     "execution_count": 29,
     "metadata": {},
     "output_type": "execute_result"
    }
   ],
   "source": [
    "sent_tokenize(\"\"\"\n",
    "    Life is too short... Life is too short???\n",
    "    Life is too short\n",
    "\n",
    "\"\"\")"
   ]
  },
  {
   "cell_type": "code",
   "execution_count": null,
   "metadata": {},
   "outputs": [],
   "source": []
  }
 ],
 "metadata": {
  "kernelspec": {
   "display_name": "Python 3",
   "language": "python",
   "name": "python3"
  },
  "language_info": {
   "codemirror_mode": {
    "name": "ipython",
    "version": 3
   },
   "file_extension": ".py",
   "mimetype": "text/x-python",
   "name": "python",
   "nbconvert_exporter": "python",
   "pygments_lexer": "ipython3",
   "version": "3.7.3"
  }
 },
 "nbformat": 4,
 "nbformat_minor": 2
}
