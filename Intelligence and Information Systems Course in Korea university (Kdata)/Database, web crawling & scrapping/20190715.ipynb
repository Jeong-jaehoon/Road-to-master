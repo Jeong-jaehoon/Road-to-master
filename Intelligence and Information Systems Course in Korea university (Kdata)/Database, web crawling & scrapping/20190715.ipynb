{
 "cells": [
  {
   "cell_type": "markdown",
   "metadata": {},
   "source": [
    "# Crawling"
   ]
  },
  {
   "cell_type": "markdown",
   "metadata": {},
   "source": [
    "세종21 프로젝트 -> 언어패턴들이 다 들어가있다. \n",
    "\n",
    "## Crawling\n",
    "What: web crawlers are known by a variety of names such as spiders, bots, or web crawlers\n",
    "        systematicallly browses the world wide web\n",
    "\n",
    "WHY: typically for the purpose of web indexing, specifically they index what words are used on a website and\n",
    "    in what context"
   ]
  },
  {
   "cell_type": "markdown",
   "metadata": {},
   "source": [
    "수많은 정보를 수집하기 위한 목적\n",
    "나에게 맞는 정보를 수집하기 위한 목정\n",
    "인덱싱이라는 색인 작업을 수행하기 위한 과정\n",
    "Feature 를 어떻게 찾냐는 문제가 될 수도 있다.\n",
    "\n",
    "In this course -> indexing 직전까지 간다. \n",
    "선수로 알아야 하는 것들이 있어서... 허허\n",
    "Focused crawling -> 내가 원하는 목적에 있어서 내가 정한 범위 안에까지만 가져오는 방식이다. \n",
    "\n",
    "# architecture\n",
    "\n",
    "process of repetitively finding and fetching hyperlinks starting from a list of starting URLS\n",
    "\n",
    "# Scrapy\n",
    "Scrapy : web-spider or web scraper framework, 봇이다. \n",
    "Beautifulsoup : parsing a library Parsing & Fetching이 목적\n",
    "\n",
    "http://example.webscraping.com/places/default/index\n",
    "\n"
   ]
  },
  {
   "cell_type": "code",
   "execution_count": 258,
   "metadata": {},
   "outputs": [],
   "source": [
    "import requests\n",
    "import re"
   ]
  },
  {
   "cell_type": "code",
   "execution_count": 259,
   "metadata": {},
   "outputs": [],
   "source": [
    "url = \"http://example.webscraping.com/places/default/index\"\n",
    "html = requests.request('get',url)"
   ]
  },
  {
   "cell_type": "code",
   "execution_count": 260,
   "metadata": {},
   "outputs": [
    {
     "data": {
      "text/plain": [
       "'<!--[if HTML5]><![endif]-->\\n<!DOCTYPE html>\\n<!-- paulirish.com/2008/conditional-stylesheets-vs-css-hacks-answer-neither/ -->\\n<!--[if lt IE 7]><html class=\"ie ie6 ie-lte9 ie-lte8 ie-lte7 no-js\" lang=\"en-us\"> <![endif]-->\\n<!--[if IE 7]><html class=\"ie ie7 ie-lte9 ie-lte8 ie-lte7 no-js\" lang=\"en-us\"> <![endif]-->\\n<!--[if IE 8]><html class=\"ie ie8 ie-lte9 ie-lte8 no-js\" lang=\"en-us\"> <![endif]-->\\n<!--[if IE 9]><html class=\"ie9 ie-lte9 no-js\" lang=\"en-us\"> <![endif]-->\\n<!--[if (gt IE 9)|!(IE)]><!--> <html class=\"no-js\" lang=\"en-us\"> <!--<![endif]-->\\n<head>\\n<title>Example web scraping website</title>\\n  <!--[if !HTML5]>\\n      <meta http-equiv=\"X-UA-Compatible\" content=\"IE=edge,chrome=1\">\\n  <![endif]-->\\n  <!-- www.phpied.com/conditional-comments-block-downloads/ -->\\n  <!-- Always force latest IE rendering engine\\n       (even in intranet) & Chrome Frame\\n       Remove this if you use the .htaccess -->\\n\\t   \\n  <meta charset=\"utf-8\" />\\n\\n  <!-- http://dev.w3.org/html5/markup/meta.name.html -->\\n  <meta name=\"application-name\" content=\"places\" />\\n\\n  <!--  Mobile Viewport Fix\\n        j.mp/mobileviewport & davidbcalhoun.com/2010/viewport-metatag\\n        device-width: Occupy full width of the screen in its current orientation\\n        initial-scale = 1.0 retains dimensions instead of zooming out if page height > device height\\n        user-scalable = yes allows the user to zoom in -->\\n  <meta name=\"viewport\" content=\"width=device-width, initial-scale=1.0\" />\\n\\n  <link rel=\"shortcut icon\" href=\"/places/static/images/favicon.ico\" type=\"image/x-icon\">\\n  <link rel=\"apple-touch-icon\" href=\"/places/static/images/favicon.png\">\\n\\n  <!-- All JavaScript at the bottom, except for Modernizr which enables\\n       HTML5 elements & feature detects -->\\n  <script src=\"/places/static/js/modernizr.custom.js\"></script>\\n\\n  <!-- include stylesheets -->\\n  \\n\\n  <script type=\"text/javascript\"><!--\\n    // These variables are used by the web2py_ajax_init function in web2py_ajax.js (which is loaded below).\\n    var w2p_ajax_confirm_message = \"Are you sure you want to delete this object?\";\\n    var w2p_ajax_disable_with_message = \"Working...\";\\n    var w2p_ajax_date_format = \"%Y-%m-%d\";\\n    var w2p_ajax_datetime_format = \"%Y-%m-%d %H:%M:%S\";\\n    var ajax_error_500 = \\'An error occured, please <a href=\"/places/default/index\">reload</a> the page\\'\\n    //--></script>\\n\\n<meta name=\"keywords\" content=\"web2py, python, web scraping\" />\\n<meta name=\"generator\" content=\"Web2py Web Framework\" />\\n<meta name=\"author\" content=\"Richard Penman\" />\\n<script src=\"/places/static/js/jquery.js\" type=\"text/javascript\"></script><link href=\"/places/static/css/calendar.css\" rel=\"stylesheet\" type=\"text/css\" /><script src=\"/places/static/js/calendar.js\" type=\"text/javascript\"></script><script src=\"/places/static/js/web2py.js\" type=\"text/javascript\"></script><link href=\"/places/static/css/web2py.css\" rel=\"stylesheet\" type=\"text/css\" /><link href=\"/places/static/css/bootstrap.min.css\" rel=\"stylesheet\" type=\"text/css\" /><link href=\"/places/static/css/bootstrap-responsive.min.css\" rel=\"stylesheet\" type=\"text/css\" /><link href=\"/places/static/css/style.css\" rel=\"stylesheet\" type=\"text/css\" /><link href=\"/places/static/css/web2py_bootstrap.css\" rel=\"stylesheet\" type=\"text/css\" />\\n\\n\\n  \\n\\n  <!-- uncomment here to load jquery-ui\\n       <link rel=\"stylesheet\" href=\"http://ajax.googleapis.com/ajax/libs/jqueryui/1.10.3/themes/ui-lightness/jquery-ui.css\" type=\"text/css\" media=\"all\" />\\n       <script src=\"http://ajax.googleapis.com/ajax/libs/jqueryui/1.10.3/jquery-ui.min.js\" type=\"text/javascript\"></script>\\n       uncomment to load jquery-ui //-->\\n  <noscript><link href=\"/places/static/css/web2py_bootstrap_nojs.css\" rel=\"stylesheet\" type=\"text/css\" /></noscript>\\n  \\n</head>\\n\\n<body>\\n  <!-- Navbar ================================================== -->\\n  <div class=\"navbar navbar-inverse\">\\n    <div class=\"flash\"></div>\\n    <div class=\"navbar-inner\">\\n      <div class=\"container\">\\n        \\n        <!-- the next tag is necessary for bootstrap menus, do not remove -->\\n        <button type=\"button\" class=\"btn btn-navbar\" data-toggle=\"collapse\" data-target=\".nav-collapse\" style=\"display:none;\">\\n          <span class=\"icon-bar\"></span>\\n          <span class=\"icon-bar\"></span>\\n          <span class=\"icon-bar\"></span>\\n        </button>\\n        \\n        <ul id=\"navbar\" class=\"nav pull-right\"><li class=\"dropdown\"><a class=\"dropdown-toggle\" data-toggle=\"dropdown\" href=\"#\" rel=\"nofollow\">Log In</a><ul class=\"dropdown-menu\"><li><a href=\"/places/default/user/register?_next=/places/default/index\" rel=\"nofollow\"><i class=\"icon icon-user glyphicon glyphicon-user\"></i> Sign Up</a></li><li class=\"divider\"></li><li><a href=\"/places/default/user/login?_next=/places/default/index\" rel=\"nofollow\"><i class=\"icon icon-off glyphicon glyphicon-off\"></i> Log In</a></li></ul></li></ul>\\n        <div class=\"nav\">\\n          \\n          <ul class=\"nav\"><li class=\"web2py-menu-first\"><a href=\"/places/default/index\">Home</a></li><li class=\"web2py-menu-last\"><a href=\"/places/default/search\">Search</a></li></ul>\\n          \\n        </div><!--/.nav-collapse -->\\n      </div>\\n    </div>\\n  </div><!--/top navbar -->\\n\\n  <div class=\"container\">\\n    <!-- Masthead ================================================== -->\\n      \\n    <header class=\"mastheader row\" id=\"header\">\\n        <div class=\"span12\">\\n            <div class=\"page-header\">\\n                <h1>\\n                    Example web scraping website\\n                    <small></small>\\n                </h1>\\n            </div>\\n        </div>\\n    </header>\\n\\t\\n\\n    <section id=\"main\" class=\"main row\">\\n        \\n\\n        <div class=\"span12\">\\n            \\n            \\n\\n<div id=\"results\">\\n<table><tr><td><div><a href=\"/places/default/view/Afghanistan-1\"><img src=\"/places/static/images/flags/af.png\" /> Afghanistan</a></div></td><td><div><a href=\"/places/default/view/Aland-Islands-2\"><img src=\"/places/static/images/flags/ax.png\" /> Aland Islands</a></div></td></tr><tr><td><div><a href=\"/places/default/view/Albania-3\"><img src=\"/places/static/images/flags/al.png\" /> Albania</a></div></td><td><div><a href=\"/places/default/view/Algeria-4\"><img src=\"/places/static/images/flags/dz.png\" /> Algeria</a></div></td></tr><tr><td><div><a href=\"/places/default/view/American-Samoa-5\"><img src=\"/places/static/images/flags/as.png\" /> American Samoa</a></div></td><td><div><a href=\"/places/default/view/Andorra-6\"><img src=\"/places/static/images/flags/ad.png\" /> Andorra</a></div></td></tr><tr><td><div><a href=\"/places/default/view/Angola-7\"><img src=\"/places/static/images/flags/ao.png\" /> Angola</a></div></td><td><div><a href=\"/places/default/view/Anguilla-8\"><img src=\"/places/static/images/flags/ai.png\" /> Anguilla</a></div></td></tr><tr><td><div><a href=\"/places/default/view/Antarctica-9\"><img src=\"/places/static/images/flags/aq.png\" /> Antarctica</a></div></td><td><div><a href=\"/places/default/view/Antigua-and-Barbuda-10\"><img src=\"/places/static/images/flags/ag.png\" /> Antigua and Barbuda</a></div></td></tr></table>\\n</div>\\n\\n<div id=\"pagination\">\\n\\n    &lt; Previous\\n\\n|\\n\\n    <a href=\"/places/default/index/1\">Next &gt;</a>\\n\\n</div>\\n\\n            \\n        </div>\\n\\n        \\n    </section><!--/main-->\\n\\n    <!-- Footer ================================================== -->\\n    <div class=\"row\">\\n        <footer class=\"footer span12\" id=\"footer\">\\n        </footer>\\n    </div>\\n\\n  </div> <!-- /container -->\\n\\n  <!-- The javascript =============================================\\n       (Placed at the end of the document so the pages load faster) -->\\n  <script src=\"/places/static/js/bootstrap.min.js\"></script>\\n  <script src=\"/places/static/js/web2py_bootstrap.js\"></script>\\n  <!--[if lt IE 7 ]>\\n      <script src=\"/places/static/js/dd_belatedpng.js\"></script>\\n      <script> DD_belatedPNG.fix(\\'img, .png_bg\\'); //fix any <img> or .png_bg background-images </script>\\n      <![endif]-->\\n</body>\\n</html>\\n\\n'"
      ]
     },
     "execution_count": 260,
     "metadata": {},
     "output_type": "execute_result"
    }
   ],
   "source": [
    "html.text"
   ]
  },
  {
   "cell_type": "code",
   "execution_count": 261,
   "metadata": {},
   "outputs": [],
   "source": [
    "from bs4 import BeautifulSoup as bs"
   ]
  },
  {
   "cell_type": "code",
   "execution_count": 262,
   "metadata": {},
   "outputs": [
    {
     "data": {
      "text/plain": [
       "['#',\n",
       " '/places/default/user/register?_next=/places/default/index',\n",
       " '/places/default/user/login?_next=/places/default/index',\n",
       " '/places/default/index',\n",
       " '/places/default/search',\n",
       " '/places/default/view/Afghanistan-1',\n",
       " '/places/default/view/Aland-Islands-2',\n",
       " '/places/default/view/Albania-3',\n",
       " '/places/default/view/Algeria-4',\n",
       " '/places/default/view/American-Samoa-5',\n",
       " '/places/default/view/Andorra-6',\n",
       " '/places/default/view/Angola-7',\n",
       " '/places/default/view/Anguilla-8',\n",
       " '/places/default/view/Antarctica-9',\n",
       " '/places/default/view/Antigua-and-Barbuda-10',\n",
       " '/places/default/index/1']"
      ]
     },
     "execution_count": 262,
     "metadata": {},
     "output_type": "execute_result"
    }
   ],
   "source": [
    "dom = bs(html.text, 'lxml')\n",
    "[_[\"href\"] for _ in dom.find_all(\"a\")]"
   ]
  },
  {
   "cell_type": "code",
   "execution_count": 264,
   "metadata": {},
   "outputs": [
    {
     "data": {
      "text/plain": [
       "'#'"
      ]
     },
     "execution_count": 264,
     "metadata": {},
     "output_type": "execute_result"
    }
   ],
   "source": [
    "dom.find('a')['href']"
   ]
  },
  {
   "cell_type": "code",
   "execution_count": 7,
   "metadata": {},
   "outputs": [
    {
     "data": {
      "text/plain": [
       "['http://example.webscraping.com/places/default/user/register?_next=/places/default/index',\n",
       " 'http://example.webscraping.com/places/default/user/login?_next=/places/default/index',\n",
       " 'http://example.webscraping.com/places/default/index',\n",
       " 'http://example.webscraping.com/places/default/search',\n",
       " 'http://example.webscraping.com/places/default/view/Afghanistan-1',\n",
       " 'http://example.webscraping.com/places/default/view/Aland-Islands-2',\n",
       " 'http://example.webscraping.com/places/default/view/Albania-3',\n",
       " 'http://example.webscraping.com/places/default/view/Algeria-4',\n",
       " 'http://example.webscraping.com/places/default/view/American-Samoa-5',\n",
       " 'http://example.webscraping.com/places/default/view/Andorra-6',\n",
       " 'http://example.webscraping.com/places/default/view/Angola-7',\n",
       " 'http://example.webscraping.com/places/default/view/Anguilla-8',\n",
       " 'http://example.webscraping.com/places/default/view/Antarctica-9',\n",
       " 'http://example.webscraping.com/places/default/view/Antigua-and-Barbuda-10',\n",
       " 'http://example.webscraping.com/places/default/index/1']"
      ]
     },
     "execution_count": 7,
     "metadata": {},
     "output_type": "execute_result"
    }
   ],
   "source": [
    "[requests.compat.urljoin(url, _[\"href\"]) for _ in dom.find_all(\"a\") if len(_[\"href\"])>3]"
   ]
  },
  {
   "cell_type": "code",
   "execution_count": 8,
   "metadata": {},
   "outputs": [],
   "source": [
    "list1 = [requests.compat.urljoin(url, _[\"href\"]) for _ in dom.find_all(\"a\") if len(_[\"href\"])>3]"
   ]
  },
  {
   "cell_type": "code",
   "execution_count": 9,
   "metadata": {},
   "outputs": [],
   "source": [
    "# this process is from get request, link extractor, url normalization, and url fliter. "
   ]
  },
  {
   "cell_type": "code",
   "execution_count": 18,
   "metadata": {},
   "outputs": [],
   "source": [
    "def parseURL(seed):\n",
    "    html = requests.request('get',seed)\n",
    "    dom = bs(html.text, 'lxml')\n",
    "    return [requests.compat.urljoin(url, _[\"href\"]) for _ in dom.find_all(\"a\") if len(_[\"href\"])>3]"
   ]
  },
  {
   "cell_type": "code",
   "execution_count": 16,
   "metadata": {},
   "outputs": [],
   "source": [
    "import time"
   ]
  },
  {
   "cell_type": "code",
   "execution_count": 17,
   "metadata": {},
   "outputs": [
    {
     "ename": "TypeError",
     "evalue": "sleep() takes exactly one argument (0 given)",
     "output_type": "error",
     "traceback": [
      "\u001b[1;31m---------------------------------------------------------------------------\u001b[0m",
      "\u001b[1;31mTypeError\u001b[0m                                 Traceback (most recent call last)",
      "\u001b[1;32m<ipython-input-17-5bd05a92975d>\u001b[0m in \u001b[0;36m<module>\u001b[1;34m()\u001b[0m\n\u001b[1;32m----> 1\u001b[1;33m \u001b[0mtime\u001b[0m\u001b[1;33m.\u001b[0m\u001b[0msleep\u001b[0m\u001b[1;33m(\u001b[0m\u001b[1;33m)\u001b[0m\u001b[1;33m\u001b[0m\u001b[0m\n\u001b[0m",
      "\u001b[1;31mTypeError\u001b[0m: sleep() takes exactly one argument (0 given)"
     ]
    }
   ],
   "source": [
    "time.sleep()"
   ]
  },
  {
   "cell_type": "code",
   "execution_count": null,
   "metadata": {},
   "outputs": [],
   "source": []
  },
  {
   "cell_type": "code",
   "execution_count": null,
   "metadata": {},
   "outputs": [],
   "source": []
  },
  {
   "cell_type": "code",
   "execution_count": 18,
   "metadata": {},
   "outputs": [
    {
     "name": "stdout",
     "output_type": "stream",
     "text": [
      "queue: 0, Seen: 1\n"
     ]
    }
   ],
   "source": [
    "queue = list()\n",
    "queue.append(\"http://example.webscraping.com/places/default/index\")\n",
    "seen = list()\n",
    "while queue:\n",
    "    baseURL = queue.pop(0)\n",
    "    seen.append(baseURL)\n",
    "    # 슬립 걸어놓기 time.sleep(60)\n",
    "    linkList = parseURL(baseURL)\n",
    "    for link in linkList:\n",
    "        if link not in queue and link not in seen:\n",
    "            queue.append(link)\n",
    "    print(\"queue: {0}, Seen: {1}\".format(len(queue), len(seen)))\n",
    "        #queue.extend(linkList)"
   ]
  },
  {
   "cell_type": "code",
   "execution_count": 35,
   "metadata": {},
   "outputs": [],
   "source": [
    "import requests\n",
    "import time\n",
    "\n",
    "def download(method, url, param = None, data = None, timeout = 1, maxretries = 3):\n",
    "#    headers = {\"user-agent\":\"Mozilla/5.0 (Windows NT 10.0; Win64; x64) AppleWebKit/537.36 (KHTML, like Gecko) Chrome/75.0.3770.100 Safari/537.36\"}\n",
    "    try: \n",
    "        resp = requests.request(method, url, params=param, data=data, headers = {'user-agent': 'Mozilla/5.0 (Windows NT 10.0; Win64; x64) AppleWebKit/537.36 (KHTML, like Gecko) Chrome/75.0.3770.100 Safari/537.36)'})\n",
    "        resp.raise_for_status()\n",
    "    except requests.exceptions.HTTPError as e:\n",
    "        if 500 <=e.response.status_code <= 600:\n",
    "            if maxretries > 0:\n",
    "                print(maxretries)\n",
    "                time.sleep(timeout)\n",
    "                resp = download(method, url, param, data, timeout, maxretries-1)\n",
    "                print('retry')\n",
    "            #print(type(e.response.status_code))\n",
    "        else:\n",
    "            print(e.response.status_code)\n",
    "            print(e.response.reason)\n",
    "        \n",
    "    return resp"
   ]
  },
  {
   "cell_type": "code",
   "execution_count": 29,
   "metadata": {},
   "outputs": [],
   "source": [
    "def parseURL(seed):\n",
    "    html = download('get',seed)\n",
    "    dom = bs(html.text, 'lxml')\n",
    "    return [requests.compat.urljoin(url, _[\"href\"]) for _ in dom.find_all(\"a\") if _.has_attr('href') and len(_[\"href\"])>3 ]"
   ]
  },
  {
   "cell_type": "code",
   "execution_count": 28,
   "metadata": {},
   "outputs": [
    {
     "data": {
      "text/plain": [
       "False"
      ]
     },
     "execution_count": 28,
     "metadata": {},
     "output_type": "execute_result"
    }
   ],
   "source": [
    "html1 = download('get','https://www.google.com/search?q=hadoop+with+raspberry+pi&oq=hadoop+with+raspberry+pi+&aqs=chrome..69i57j0.24095j0j7&sourceid=chrome&ie=UTF-8')\n",
    "dom1 = bs(html1.text,'lxml')\n",
    "dom1.has_attr('href')"
   ]
  },
  {
   "cell_type": "code",
   "execution_count": 265,
   "metadata": {},
   "outputs": [],
   "source": [
    "a = parseURL('https://www.google.com/search?q=hadoop+with+raspberry+pi&oq=hadoop+with+raspberry+pi+&aqs=chrome..69i57j0.24095j0j7&sourceid=chrome&ie=UTF-8')\n"
   ]
  },
  {
   "cell_type": "code",
   "execution_count": 266,
   "metadata": {},
   "outputs": [
    {
     "ename": "AttributeError",
     "evalue": "'list' object has no attribute 'has_attr'",
     "output_type": "error",
     "traceback": [
      "\u001b[1;31m---------------------------------------------------------------------------\u001b[0m",
      "\u001b[1;31mAttributeError\u001b[0m                            Traceback (most recent call last)",
      "\u001b[1;32m<ipython-input-266-e626611a9d27>\u001b[0m in \u001b[0;36m<module>\u001b[1;34m()\u001b[0m\n\u001b[1;32m----> 1\u001b[1;33m \u001b[0ma\u001b[0m\u001b[1;33m.\u001b[0m\u001b[0mhas_attr\u001b[0m\u001b[1;33m(\u001b[0m\u001b[1;34m'http'\u001b[0m\u001b[1;33m)\u001b[0m\u001b[1;33m\u001b[0m\u001b[0m\n\u001b[0m",
      "\u001b[1;31mAttributeError\u001b[0m: 'list' object has no attribute 'has_attr'"
     ]
    }
   ],
   "source": [
    "a.has_attr('http')"
   ]
  },
  {
   "cell_type": "code",
   "execution_count": 30,
   "metadata": {},
   "outputs": [
    {
     "name": "stdout",
     "output_type": "stream",
     "text": [
      "queue: 56, Seen: 1\n",
      "queue: 74, Seen: 2\n",
      "queue: 75, Seen: 3\n",
      "queue: 126, Seen: 4\n",
      "queue: 193, Seen: 5\n",
      "queue: 261, Seen: 6\n",
      "queue: 315, Seen: 7\n",
      "queue: 315, Seen: 8\n",
      "queue: 333, Seen: 9\n",
      "queue: 409, Seen: 10\n",
      "queue: 418, Seen: 11\n",
      "queue: 466, Seen: 12\n",
      "queue: 483, Seen: 13\n",
      "queue: 510, Seen: 14\n",
      "queue: 541, Seen: 15\n",
      "queue: 574, Seen: 16\n",
      "queue: 612, Seen: 17\n",
      "queue: 642, Seen: 18\n",
      "queue: 680, Seen: 19\n",
      "queue: 683, Seen: 20\n",
      "queue: 701, Seen: 21\n",
      "403\n",
      "Forbidden\n",
      "queue: 706, Seen: 22\n",
      "403\n",
      "Forbidden\n",
      "queue: 705, Seen: 23\n",
      "queue: 759, Seen: 24\n",
      "queue: 758, Seen: 25\n",
      "queue: 846, Seen: 26\n",
      "queue: 889, Seen: 27\n",
      "queue: 898, Seen: 28\n"
     ]
    },
    {
     "ename": "KeyboardInterrupt",
     "evalue": "",
     "output_type": "error",
     "traceback": [
      "\u001b[1;31m---------------------------------------------------------------------------\u001b[0m",
      "\u001b[1;31mKeyboardInterrupt\u001b[0m                         Traceback (most recent call last)",
      "\u001b[1;32m<ipython-input-30-a798f18a7aea>\u001b[0m in \u001b[0;36m<module>\u001b[1;34m()\u001b[0m\n\u001b[0;32m      6\u001b[0m     \u001b[0mbaseURL\u001b[0m \u001b[1;33m=\u001b[0m \u001b[0mqueue\u001b[0m\u001b[1;33m.\u001b[0m\u001b[0mpop\u001b[0m\u001b[1;33m(\u001b[0m\u001b[1;36m0\u001b[0m\u001b[1;33m)\u001b[0m\u001b[1;33m\u001b[0m\u001b[0m\n\u001b[0;32m      7\u001b[0m     \u001b[0mseen\u001b[0m\u001b[1;33m.\u001b[0m\u001b[0mappend\u001b[0m\u001b[1;33m(\u001b[0m\u001b[0mbaseURL\u001b[0m\u001b[1;33m)\u001b[0m\u001b[1;33m\u001b[0m\u001b[0m\n\u001b[1;32m----> 8\u001b[1;33m     \u001b[0mtime\u001b[0m\u001b[1;33m.\u001b[0m\u001b[0msleep\u001b[0m\u001b[1;33m(\u001b[0m\u001b[1;36m1\u001b[0m\u001b[1;33m)\u001b[0m\u001b[1;33m\u001b[0m\u001b[0m\n\u001b[0m\u001b[0;32m      9\u001b[0m     \u001b[0mlinkList\u001b[0m \u001b[1;33m=\u001b[0m \u001b[0mparseURL\u001b[0m\u001b[1;33m(\u001b[0m\u001b[0mbaseURL\u001b[0m\u001b[1;33m)\u001b[0m\u001b[1;33m\u001b[0m\u001b[0m\n\u001b[0;32m     10\u001b[0m     \u001b[1;32mfor\u001b[0m \u001b[0mlink\u001b[0m \u001b[1;32min\u001b[0m \u001b[0mlinkList\u001b[0m\u001b[1;33m:\u001b[0m\u001b[1;33m\u001b[0m\u001b[0m\n",
      "\u001b[1;31mKeyboardInterrupt\u001b[0m: "
     ]
    }
   ],
   "source": [
    "url = \"https://www.google.com/search?q=hadoop+with+raspberry+pi&oq=hadoop+with+raspberry+pi+&aqs=chrome..69i57j0.24095j0j7&sourceid=chrome&ie=UTF-8\"\n",
    "\n",
    "queue = list()\n",
    "queue.append(\"https://www.google.com/search?q=hadoop+with+raspberry+pi&oq=hadoop+with+raspberry+pi+&aqs=chrome..69i57j0.24095j0j7&sourceid=chrome&ie=UTF-8\")\n",
    "seen = list()\n",
    "while queue:\n",
    "    baseURL = queue.pop(0)\n",
    "    seen.append(baseURL)\n",
    "    time.sleep(1)\n",
    "    linkList = parseURL(baseURL)\n",
    "    for link in linkList:\n",
    "        if link not in queue and link not in seen:\n",
    "            queue.append(link)\n",
    "    print(\"queue: {0}, Seen: {1}\".format(len(queue), len(seen)))\n",
    "        #queue.extend(linkList)"
   ]
  },
  {
   "cell_type": "markdown",
   "metadata": {},
   "source": [
    "BeautifulSoup has startwith command"
   ]
  },
  {
   "cell_type": "code",
   "execution_count": null,
   "metadata": {},
   "outputs": [],
   "source": []
  },
  {
   "cell_type": "code",
   "execution_count": 53,
   "metadata": {},
   "outputs": [
    {
     "name": "stdout",
     "output_type": "stream",
     "text": [
      "['https://ko.wikipedia.org/wiki/%EB%B0%95%EB%B3%B4%EC%98%81', 'https://ko.wikipedia.org/wiki/%EB%B0%95%EB%B3%B4%EC%98%81%EC%9D%98_%EC%9E%91%ED%92%88_%EB%AA%A9%EB%A1%9D', 'https://namu.wiki/w/%EB%B0%95%EB%B3%B4%EC%98%81', 'https://news.joins.com/article/22895953', 'https://www.msn.com/ko-kr/entertainment/news/%EB%B0%95%EB%B3%B4%EC%98%81-tvn-%EB%93%9C%EB%9D%BC%EB%A7%88-%EC%96%B4%EB%B9%84%EC%8A%A4-%EC%97%AC%EC%A3%BC%EC%9D%B8%EA%B3%B5/ar-BBLZzVh', 'https://www.msn.com/ko-kr/entertainment/tv/hd%EC%8A%A4%ED%86%A0%EB%A6%AC-%EC%9E%91%EC%9D%80-%EA%B1%B0%EC%9D%B8-%EB%B0%95%EB%B3%B4%EC%98%81%E2%80%A6%EA%B7%B8%EC%9D%98-%EC%97%B0%EA%B8%B0%EC%97%90-%EB%8C%80%ED%95%9C-%ED%9D%94%EC%A0%81%EB%93%A4/ar-BBUvL0V', 'https://movie.daum.net/person/main?personId=105244', 'https://twitter.com/hashtag/%EB%B0%95%EB%B3%B4%EC%98%81']\n"
     ]
    }
   ],
   "source": [
    "url = \"https://www.google.com/search\"\n",
    "param = {'q':'박보영'}\n",
    "html = download('get',url,param)\n",
    "dom = bs(html.text,'lxml')\n",
    "#[_find_parent()[\"href\"] for _ in dom.select(\".LC201b\")]\n",
    "list2 = [(_['href']) for _ in dom.select(\".rc > .r a[href^http]\")]\n",
    "list3 = [(_.find_parent()[\"href\"]) for _ in dom.select(\".LC20lb\")]\n",
    "print(list3)"
   ]
  },
  {
   "cell_type": "code",
   "execution_count": 52,
   "metadata": {},
   "outputs": [
    {
     "data": {
      "text/plain": [
       "[]"
      ]
     },
     "execution_count": 52,
     "metadata": {},
     "output_type": "execute_result"
    }
   ],
   "source": []
  },
  {
   "cell_type": "code",
   "execution_count": 54,
   "metadata": {},
   "outputs": [
    {
     "name": "stdout",
     "output_type": "stream",
     "text": [
      "queue: 864, Seen: 1\n",
      "queue: 1123, Seen: 2\n",
      "queue: 2092, Seen: 3\n",
      "queue: 2214, Seen: 4\n",
      "queue: 2249, Seen: 5\n",
      "queue: 2258, Seen: 6\n",
      "queue: 2301, Seen: 7\n",
      "queue: 2484, Seen: 8\n"
     ]
    },
    {
     "ename": "KeyboardInterrupt",
     "evalue": "",
     "output_type": "error",
     "traceback": [
      "\u001b[1;31m---------------------------------------------------------------------------\u001b[0m",
      "\u001b[1;31mKeyboardInterrupt\u001b[0m                         Traceback (most recent call last)",
      "\u001b[1;32m<ipython-input-54-92758ee34f23>\u001b[0m in \u001b[0;36m<module>\u001b[1;34m()\u001b[0m\n\u001b[0;32m      7\u001b[0m     \u001b[0mbaseURL\u001b[0m \u001b[1;33m=\u001b[0m \u001b[0mqueue\u001b[0m\u001b[1;33m.\u001b[0m\u001b[0mpop\u001b[0m\u001b[1;33m(\u001b[0m\u001b[1;36m0\u001b[0m\u001b[1;33m)\u001b[0m\u001b[1;33m\u001b[0m\u001b[0m\n\u001b[0;32m      8\u001b[0m     \u001b[0mseen\u001b[0m\u001b[1;33m.\u001b[0m\u001b[0mappend\u001b[0m\u001b[1;33m(\u001b[0m\u001b[0mbaseURL\u001b[0m\u001b[1;33m)\u001b[0m\u001b[1;33m\u001b[0m\u001b[0m\n\u001b[1;32m----> 9\u001b[1;33m     \u001b[0mtime\u001b[0m\u001b[1;33m.\u001b[0m\u001b[0msleep\u001b[0m\u001b[1;33m(\u001b[0m\u001b[1;36m1\u001b[0m\u001b[1;33m)\u001b[0m\u001b[1;33m\u001b[0m\u001b[0m\n\u001b[0m\u001b[0;32m     10\u001b[0m     \u001b[0mlinkList\u001b[0m \u001b[1;33m=\u001b[0m \u001b[0mparseURL\u001b[0m\u001b[1;33m(\u001b[0m\u001b[0mbaseURL\u001b[0m\u001b[1;33m)\u001b[0m\u001b[1;33m\u001b[0m\u001b[0m\n\u001b[0;32m     11\u001b[0m     \u001b[1;32mfor\u001b[0m \u001b[0mlink\u001b[0m \u001b[1;32min\u001b[0m \u001b[0mlinkList\u001b[0m\u001b[1;33m:\u001b[0m\u001b[1;33m\u001b[0m\u001b[0m\n",
      "\u001b[1;31mKeyboardInterrupt\u001b[0m: "
     ]
    }
   ],
   "source": [
    "#url = \"https://www.google.com/search?q=hadoop+with+raspberry+pi&oq=hadoop+with+raspberry+pi+&aqs=chrome..69i57j0.24095j0j7&sourceid=chrome&ie=UTF-8\"\n",
    "\n",
    "queue = list()\n",
    "queue.extend(list3)\n",
    "seen = list()\n",
    "while queue:\n",
    "    baseURL = queue.pop(0)\n",
    "    seen.append(baseURL)\n",
    "    time.sleep(1)\n",
    "    linkList = parseURL(baseURL)\n",
    "    for link in linkList:\n",
    "        if link not in queue and link not in seen:\n",
    "            queue.append(link)\n",
    "    print(\"queue: {0}, Seen: {1}\".format(len(queue), len(seen)))\n",
    "        #queue.extend(linkList)"
   ]
  },
  {
   "cell_type": "code",
   "execution_count": 2,
   "metadata": {},
   "outputs": [],
   "source": [
    "import requests\n",
    "import time\n",
    "\n",
    "def download(method, url, param = None, data = None, timeout = 1, maxretries = 3):\n",
    "#    headers = {\"user-agent\":\"Mozilla/5.0 (Windows NT 10.0; Win64; x64) AppleWebKit/537.36 (KHTML, like Gecko) Chrome/75.0.3770.100 Safari/537.36\"}\n",
    "    try: \n",
    "        resp = requests.request(method, url, params=param, data=data, headers = None)\n",
    "        resp.raise_for_status()\n",
    "    except requests.exceptions.HTTPError as e:\n",
    "        if 500 <=e.response.status_code <= 600:\n",
    "            if maxretries > 0:\n",
    "                print(maxretries)\n",
    "                time.sleep(timeout)\n",
    "                resp = download(method, url, param, data, timeout, maxretries-1)\n",
    "                print('retry')\n",
    "            #print(type(e.response.status_code))\n",
    "        else:\n",
    "            print(e.response.status_code)\n",
    "            print(e.response.reason)\n",
    "        \n",
    "    return resp"
   ]
  },
  {
   "cell_type": "code",
   "execution_count": 19,
   "metadata": {},
   "outputs": [],
   "source": [
    "def parseURL(seed):\n",
    "    html = download('get',seed)\n",
    "    dom = bs(html.text, 'lxml')\n",
    "    return [requests.compat.urljoin(url, _[\"href\"]) for _ in dom.find_all(\"a\") if _.has_attr('href') and len(_[\"href\"])>3 ]"
   ]
  },
  {
   "cell_type": "code",
   "execution_count": 4,
   "metadata": {},
   "outputs": [],
   "source": [
    "import requests\n",
    "import re\n",
    "from bs4 import BeautifulSoup as bs"
   ]
  },
  {
   "cell_type": "code",
   "execution_count": 17,
   "metadata": {},
   "outputs": [
    {
     "data": {
      "text/plain": [
       "['https://blog.naver.com/imagetech1?Redirect=Log&logNo=221530358950',\n",
       " 'https://blog.naver.com/js2y86?Redirect=Log&logNo=221530397718',\n",
       " 'https://blog.naver.com/dlqlwm14?Redirect=Log&logNo=221529807195']"
      ]
     },
     "execution_count": 17,
     "metadata": {},
     "output_type": "execute_result"
    }
   ],
   "source": [
    "url = \"https://search.naver.com/search.naver\"\n",
    "param = {'query': '박보영'}\n",
    "html = download('get',url,param)\n",
    "dom = bs(html.text,'lxml')\n",
    "#[_find_parent()[\"href\"] for _ in dom.select(\".LC201b\")]\n",
    "#list2 = [(_['href']) for _ in dom.select(\".rc > .r a[href^http]\")]\n",
    "#list3 = [(_.find_parent()[\"href\"]) for _ in dom.select(\".LC20lb\")]\n",
    "list4 = [(_[\"href\"]) for _ in dom.select('a.sh_blog_title._sp_each_url._sp_each_title') if checkBlog(_['href'])]"
   ]
  },
  {
   "cell_type": "code",
   "execution_count": 14,
   "metadata": {},
   "outputs": [
    {
     "data": {
      "text/plain": [
       "ParseResult(scheme='https', netloc='blog.naver.com', path='/imagetech1/221530358950', params='', query='', fragment='')"
      ]
     },
     "execution_count": 14,
     "metadata": {},
     "output_type": "execute_result"
    }
   ],
   "source": [
    "requests.compat.urlparse(\"https://blog.naver.com/imagetech1/221530358950\")"
   ]
  },
  {
   "cell_type": "code",
   "execution_count": 11,
   "metadata": {},
   "outputs": [],
   "source": [
    "def checkBlog(url):\n",
    "    return requests.compat.urlparse(url)[1] == 'blog.naver.com'"
   ]
  },
  {
   "cell_type": "code",
   "execution_count": 20,
   "metadata": {},
   "outputs": [
    {
     "name": "stdout",
     "output_type": "stream",
     "text": [
      "queue: 2, Seen: 1\n",
      "queue: 1, Seen: 2\n",
      "queue: 0, Seen: 3\n"
     ]
    }
   ],
   "source": [
    "#url = \"https://www.google.com/search?q=hadoop+with+raspberry+pi&oq=hadoop+with+raspberry+pi+&aqs=chrome..69i57j0.24095j0j7&sourceid=chrome&ie=UTF-8\"\n",
    "\n",
    "queue = list()\n",
    "queue.extend(list4)\n",
    "seen = list()\n",
    "while queue:\n",
    "    baseURL = queue.pop(0)\n",
    "    seen.append(baseURL)\n",
    "    time.sleep(1)\n",
    "    linkList = parseURL(baseURL)\n",
    "    for link in linkList:\n",
    "        if link not in queue and link not in seen:\n",
    "            queue.append(link)\n",
    "    print(\"queue: {0}, Seen: {1}\".format(len(queue), len(seen)))\n",
    "        #queue.extend(linkList)"
   ]
  },
  {
   "cell_type": "code",
   "execution_count": 27,
   "metadata": {},
   "outputs": [],
   "source": [
    "def parseURL(seed):\n",
    "    html = download('get',seed)\n",
    "    dom = bs(html.text, 'lxml')\n",
    "    seed = requests.compat.urljoin(seed, dom.select(\"#mainFrame\")[0][\"src\"])\n",
    "    html = download('get',seed)\n",
    "    dom = bs(html.text, 'lxml')\n",
    "    \n",
    "    return [requests.compat.urljoin(seed, _[\"href\"]) for _ in dom.find_all(\"a\") if _.has_attr('href') and len(_[\"href\"])>3 ]"
   ]
  },
  {
   "cell_type": "code",
   "execution_count": 28,
   "metadata": {
    "scrolled": true
   },
   "outputs": [
    {
     "name": "stdout",
     "output_type": "stream",
     "text": [
      "queue: 31, Seen: 1\n",
      "queue: 53, Seen: 2\n",
      "queue: 75, Seen: 3\n"
     ]
    },
    {
     "ename": "IndexError",
     "evalue": "list index out of range",
     "output_type": "error",
     "traceback": [
      "\u001b[1;31m---------------------------------------------------------------------------\u001b[0m",
      "\u001b[1;31mIndexError\u001b[0m                                Traceback (most recent call last)",
      "\u001b[1;32m<ipython-input-28-0f4e477f5f64>\u001b[0m in \u001b[0;36m<module>\u001b[1;34m()\u001b[0m\n\u001b[0;32m      6\u001b[0m     \u001b[0mseen\u001b[0m\u001b[1;33m.\u001b[0m\u001b[0mappend\u001b[0m\u001b[1;33m(\u001b[0m\u001b[0mbaseURL\u001b[0m\u001b[1;33m)\u001b[0m\u001b[1;33m\u001b[0m\u001b[0m\n\u001b[0;32m      7\u001b[0m     \u001b[0mtime\u001b[0m\u001b[1;33m.\u001b[0m\u001b[0msleep\u001b[0m\u001b[1;33m(\u001b[0m\u001b[1;36m1\u001b[0m\u001b[1;33m)\u001b[0m\u001b[1;33m\u001b[0m\u001b[0m\n\u001b[1;32m----> 8\u001b[1;33m     \u001b[0mlinkList\u001b[0m \u001b[1;33m=\u001b[0m \u001b[0mparseURL\u001b[0m\u001b[1;33m(\u001b[0m\u001b[0mbaseURL\u001b[0m\u001b[1;33m)\u001b[0m\u001b[1;33m\u001b[0m\u001b[0m\n\u001b[0m\u001b[0;32m      9\u001b[0m     \u001b[1;32mfor\u001b[0m \u001b[0mlink\u001b[0m \u001b[1;32min\u001b[0m \u001b[0mlinkList\u001b[0m\u001b[1;33m:\u001b[0m\u001b[1;33m\u001b[0m\u001b[0m\n\u001b[0;32m     10\u001b[0m         \u001b[1;32mif\u001b[0m \u001b[0mlink\u001b[0m \u001b[1;32mnot\u001b[0m \u001b[1;32min\u001b[0m \u001b[0mqueue\u001b[0m \u001b[1;32mand\u001b[0m \u001b[0mlink\u001b[0m \u001b[1;32mnot\u001b[0m \u001b[1;32min\u001b[0m \u001b[0mseen\u001b[0m\u001b[1;33m:\u001b[0m\u001b[1;33m\u001b[0m\u001b[0m\n",
      "\u001b[1;32m<ipython-input-27-cb9ae9ef6598>\u001b[0m in \u001b[0;36mparseURL\u001b[1;34m(seed)\u001b[0m\n\u001b[0;32m      2\u001b[0m     \u001b[0mhtml\u001b[0m \u001b[1;33m=\u001b[0m \u001b[0mdownload\u001b[0m\u001b[1;33m(\u001b[0m\u001b[1;34m'get'\u001b[0m\u001b[1;33m,\u001b[0m\u001b[0mseed\u001b[0m\u001b[1;33m)\u001b[0m\u001b[1;33m\u001b[0m\u001b[0m\n\u001b[0;32m      3\u001b[0m     \u001b[0mdom\u001b[0m \u001b[1;33m=\u001b[0m \u001b[0mbs\u001b[0m\u001b[1;33m(\u001b[0m\u001b[0mhtml\u001b[0m\u001b[1;33m.\u001b[0m\u001b[0mtext\u001b[0m\u001b[1;33m,\u001b[0m \u001b[1;34m'lxml'\u001b[0m\u001b[1;33m)\u001b[0m\u001b[1;33m\u001b[0m\u001b[0m\n\u001b[1;32m----> 4\u001b[1;33m     \u001b[0mseed\u001b[0m \u001b[1;33m=\u001b[0m \u001b[0mrequests\u001b[0m\u001b[1;33m.\u001b[0m\u001b[0mcompat\u001b[0m\u001b[1;33m.\u001b[0m\u001b[0murljoin\u001b[0m\u001b[1;33m(\u001b[0m\u001b[0mseed\u001b[0m\u001b[1;33m,\u001b[0m \u001b[0mdom\u001b[0m\u001b[1;33m.\u001b[0m\u001b[0mselect\u001b[0m\u001b[1;33m(\u001b[0m\u001b[1;34m\"#mainFrame\"\u001b[0m\u001b[1;33m)\u001b[0m\u001b[1;33m[\u001b[0m\u001b[1;36m0\u001b[0m\u001b[1;33m]\u001b[0m\u001b[1;33m[\u001b[0m\u001b[1;34m\"src\"\u001b[0m\u001b[1;33m]\u001b[0m\u001b[1;33m)\u001b[0m\u001b[1;33m\u001b[0m\u001b[0m\n\u001b[0m\u001b[0;32m      5\u001b[0m     \u001b[0mhtml\u001b[0m \u001b[1;33m=\u001b[0m \u001b[0mdownload\u001b[0m\u001b[1;33m(\u001b[0m\u001b[1;34m'get'\u001b[0m\u001b[1;33m,\u001b[0m\u001b[0mseed\u001b[0m\u001b[1;33m)\u001b[0m\u001b[1;33m\u001b[0m\u001b[0m\n\u001b[0;32m      6\u001b[0m     \u001b[0mdom\u001b[0m \u001b[1;33m=\u001b[0m \u001b[0mbs\u001b[0m\u001b[1;33m(\u001b[0m\u001b[0mhtml\u001b[0m\u001b[1;33m.\u001b[0m\u001b[0mtext\u001b[0m\u001b[1;33m,\u001b[0m \u001b[1;34m'lxml'\u001b[0m\u001b[1;33m)\u001b[0m\u001b[1;33m\u001b[0m\u001b[0m\n",
      "\u001b[1;31mIndexError\u001b[0m: list index out of range"
     ]
    }
   ],
   "source": [
    "queue = list()\n",
    "queue.extend(list4)\n",
    "seen = list()\n",
    "while queue:\n",
    "    baseURL = queue.pop(0)\n",
    "    seen.append(baseURL)\n",
    "    time.sleep(1)\n",
    "    linkList = parseURL(baseURL)\n",
    "    for link in linkList:\n",
    "        if link not in queue and link not in seen:\n",
    "            queue.append(link)\n",
    "    print(\"queue: {0}, Seen: {1}\".format(len(queue), len(seen)))"
   ]
  },
  {
   "cell_type": "code",
   "execution_count": 31,
   "metadata": {},
   "outputs": [],
   "source": [
    "def parseURL(seed):\n",
    "    html = download('get',seed)\n",
    "    dom = bs(html.text, 'lxml')\n",
    "    if len(dom.select(\"#mainFrame\")) < 1:\n",
    "        return []\n",
    "    seed = requests.compat.urljoin(seed, dom.select(\"#mainFrame\")[0][\"src\"])\n",
    "    html = download('get',seed)\n",
    "    dom = bs(html.text, 'lxml')\n",
    "    \n",
    "    return [requests.compat.urljoin(seed, _[\"href\"]) for _ in dom.find_all(\"a\") if _.has_attr('href') and len(_[\"href\"])>3 ]"
   ]
  },
  {
   "cell_type": "code",
   "execution_count": 32,
   "metadata": {},
   "outputs": [
    {
     "name": "stdout",
     "output_type": "stream",
     "text": [
      "queue: 31, Seen: 1\n",
      "queue: 53, Seen: 2\n",
      "queue: 75, Seen: 3\n",
      "queue: 74, Seen: 4\n",
      "queue: 73, Seen: 5\n",
      "queue: 72, Seen: 6\n",
      "queue: 71, Seen: 7\n",
      "queue: 70, Seen: 8\n",
      "queue: 69, Seen: 9\n",
      "queue: 68, Seen: 10\n",
      "queue: 67, Seen: 11\n",
      "queue: 66, Seen: 12\n",
      "404\n",
      "Not Found\n",
      "queue: 65, Seen: 13\n",
      "queue: 64, Seen: 14\n",
      "queue: 63, Seen: 15\n",
      "queue: 62, Seen: 16\n",
      "queue: 61, Seen: 17\n",
      "queue: 60, Seen: 18\n",
      "404\n",
      "Not Found\n",
      "queue: 59, Seen: 19\n",
      "queue: 58, Seen: 20\n",
      "queue: 57, Seen: 21\n",
      "queue: 56, Seen: 22\n",
      "queue: 83, Seen: 23\n"
     ]
    },
    {
     "ename": "KeyboardInterrupt",
     "evalue": "",
     "output_type": "error",
     "traceback": [
      "\u001b[1;31m---------------------------------------------------------------------------\u001b[0m",
      "\u001b[1;31mKeyboardInterrupt\u001b[0m                         Traceback (most recent call last)",
      "\u001b[1;32m<ipython-input-32-0f4e477f5f64>\u001b[0m in \u001b[0;36m<module>\u001b[1;34m()\u001b[0m\n\u001b[0;32m      5\u001b[0m     \u001b[0mbaseURL\u001b[0m \u001b[1;33m=\u001b[0m \u001b[0mqueue\u001b[0m\u001b[1;33m.\u001b[0m\u001b[0mpop\u001b[0m\u001b[1;33m(\u001b[0m\u001b[1;36m0\u001b[0m\u001b[1;33m)\u001b[0m\u001b[1;33m\u001b[0m\u001b[0m\n\u001b[0;32m      6\u001b[0m     \u001b[0mseen\u001b[0m\u001b[1;33m.\u001b[0m\u001b[0mappend\u001b[0m\u001b[1;33m(\u001b[0m\u001b[0mbaseURL\u001b[0m\u001b[1;33m)\u001b[0m\u001b[1;33m\u001b[0m\u001b[0m\n\u001b[1;32m----> 7\u001b[1;33m     \u001b[0mtime\u001b[0m\u001b[1;33m.\u001b[0m\u001b[0msleep\u001b[0m\u001b[1;33m(\u001b[0m\u001b[1;36m1\u001b[0m\u001b[1;33m)\u001b[0m\u001b[1;33m\u001b[0m\u001b[0m\n\u001b[0m\u001b[0;32m      8\u001b[0m     \u001b[0mlinkList\u001b[0m \u001b[1;33m=\u001b[0m \u001b[0mparseURL\u001b[0m\u001b[1;33m(\u001b[0m\u001b[0mbaseURL\u001b[0m\u001b[1;33m)\u001b[0m\u001b[1;33m\u001b[0m\u001b[0m\n\u001b[0;32m      9\u001b[0m     \u001b[1;32mfor\u001b[0m \u001b[0mlink\u001b[0m \u001b[1;32min\u001b[0m \u001b[0mlinkList\u001b[0m\u001b[1;33m:\u001b[0m\u001b[1;33m\u001b[0m\u001b[0m\n",
      "\u001b[1;31mKeyboardInterrupt\u001b[0m: "
     ]
    }
   ],
   "source": [
    "queue = list()\n",
    "queue.extend(list4)\n",
    "seen = list()\n",
    "while queue:\n",
    "    baseURL = queue.pop(0)\n",
    "    seen.append(baseURL)\n",
    "    time.sleep(1)\n",
    "    linkList = parseURL(baseURL)\n",
    "    for link in linkList:\n",
    "        if link not in queue and link not in seen:\n",
    "            queue.append(link)\n",
    "    print(\"queue: {0}, Seen: {1}\".format(len(queue), len(seen)))"
   ]
  },
  {
   "cell_type": "code",
   "execution_count": 35,
   "metadata": {},
   "outputs": [
    {
     "data": {
      "text/plain": [
       "ParseResult(scheme='https', netloc='cscs0717.tistory.com', path='/27', params='', query='', fragment='')"
      ]
     },
     "execution_count": 35,
     "metadata": {},
     "output_type": "execute_result"
    }
   ],
   "source": [
    "requests.compat.urlparse(\"https://cscs0717.tistory.com/27\")"
   ]
  },
  {
   "cell_type": "code",
   "execution_count": 62,
   "metadata": {},
   "outputs": [],
   "source": [
    "def checkBlog(url):\n",
    "    return re.match(requests.compat.urlparse(url)[1], 'tistory.com') == True"
   ]
  },
  {
   "cell_type": "code",
   "execution_count": 63,
   "metadata": {},
   "outputs": [
    {
     "data": {
      "text/plain": [
       "False"
      ]
     },
     "execution_count": 63,
     "metadata": {},
     "output_type": "execute_result"
    }
   ],
   "source": [
    "checkBlog('http://cscs0717.tistory.com/27')"
   ]
  },
  {
   "cell_type": "code",
   "execution_count": null,
   "metadata": {},
   "outputs": [],
   "source": [
    "def checkBlog(url):\n",
    "    return "
   ]
  },
  {
   "cell_type": "code",
   "execution_count": 48,
   "metadata": {},
   "outputs": [
    {
     "name": "stdout",
     "output_type": "stream",
     "text": [
      "queue: 23, Seen: 1\n",
      "queue: 22, Seen: 2\n",
      "403\n",
      "Forbidden\n",
      "queue: 21, Seen: 3\n",
      "queue: 20, Seen: 4\n",
      "queue: 19, Seen: 5\n",
      "queue: 18, Seen: 6\n",
      "queue: 17, Seen: 7\n",
      "queue: 16, Seen: 8\n",
      "403\n",
      "Forbidden\n",
      "queue: 15, Seen: 9\n",
      "403\n",
      "Forbidden\n",
      "queue: 14, Seen: 10\n",
      "403\n",
      "Forbidden\n",
      "queue: 13, Seen: 11\n",
      "403\n",
      "Forbidden\n",
      "queue: 12, Seen: 12\n",
      "queue: 11, Seen: 13\n",
      "queue: 10, Seen: 14\n",
      "queue: 9, Seen: 15\n",
      "queue: 8, Seen: 16\n"
     ]
    },
    {
     "ename": "KeyboardInterrupt",
     "evalue": "",
     "output_type": "error",
     "traceback": [
      "\u001b[1;31m---------------------------------------------------------------------------\u001b[0m",
      "\u001b[1;31mKeyboardInterrupt\u001b[0m                         Traceback (most recent call last)",
      "\u001b[1;32m<ipython-input-48-1d71612a0e31>\u001b[0m in \u001b[0;36m<module>\u001b[1;34m()\u001b[0m\n\u001b[0;32m     24\u001b[0m     \u001b[0mbaseURL\u001b[0m \u001b[1;33m=\u001b[0m \u001b[0mqueue\u001b[0m\u001b[1;33m.\u001b[0m\u001b[0mpop\u001b[0m\u001b[1;33m(\u001b[0m\u001b[1;36m0\u001b[0m\u001b[1;33m)\u001b[0m\u001b[1;33m\u001b[0m\u001b[0m\n\u001b[0;32m     25\u001b[0m     \u001b[0mseen\u001b[0m\u001b[1;33m.\u001b[0m\u001b[0mappend\u001b[0m\u001b[1;33m(\u001b[0m\u001b[0mbaseURL\u001b[0m\u001b[1;33m)\u001b[0m\u001b[1;33m\u001b[0m\u001b[0m\n\u001b[1;32m---> 26\u001b[1;33m     \u001b[0mtime\u001b[0m\u001b[1;33m.\u001b[0m\u001b[0msleep\u001b[0m\u001b[1;33m(\u001b[0m\u001b[1;36m1\u001b[0m\u001b[1;33m)\u001b[0m\u001b[1;33m\u001b[0m\u001b[0m\n\u001b[0m\u001b[0;32m     27\u001b[0m     \u001b[0mlinkList\u001b[0m \u001b[1;33m=\u001b[0m \u001b[0mparseURL\u001b[0m\u001b[1;33m(\u001b[0m\u001b[0mbaseURL\u001b[0m\u001b[1;33m)\u001b[0m\u001b[1;33m\u001b[0m\u001b[0m\n\u001b[0;32m     28\u001b[0m     \u001b[1;32mfor\u001b[0m \u001b[0mlink\u001b[0m \u001b[1;32min\u001b[0m \u001b[0mlinkList\u001b[0m\u001b[1;33m:\u001b[0m\u001b[1;33m\u001b[0m\u001b[0m\n",
      "\u001b[1;31mKeyboardInterrupt\u001b[0m: "
     ]
    }
   ],
   "source": [
    "url = \"https://search.daum.net/search\"\n",
    "param = {'q': '박보영'}\n",
    "html = download('get',url,param)\n",
    "dom = bs(html.text,'lxml')\n",
    "#[_find_parent()[\"href\"] for _ in dom.select(\".LC201b\")]\n",
    "#list2 = [(_['href']) for _ in dom.select(\".rc > .r a[href^http]\")]\n",
    "#list3 = [(_.find_parent()[\"href\"]) for _ in dom.select(\".LC20lb\")]\n",
    "list4 = [(_[\"href\"]) for _ in dom.select('a.f_link_b') if checkBlog]\n",
    "def parseURL(seed):\n",
    "    html = download('get',seed)\n",
    "    dom = bs(html.text, 'lxml')\n",
    "    if len(dom.select(\"#mainFrame\")) < 1:\n",
    "        return []\n",
    "    seed = requests.compat.urljoin(seed, dom.select(\"#mainFrame\")[0][\"src\"])\n",
    "    html = download('get',seed)\n",
    "    dom = bs(html.text, 'lxml')\n",
    "    \n",
    "    return [requests.compat.urljoin(seed, _[\"href\"]) \n",
    "            for _ in dom.find_all(\"a\") if _.has_attr('href') and len(_[\"href\"])>3 ]\n",
    "queue = list()\n",
    "queue.extend(list4)\n",
    "seen = list()\n",
    "while queue:\n",
    "    baseURL = queue.pop(0)\n",
    "    seen.append(baseURL)\n",
    "    time.sleep(1)\n",
    "    linkList = parseURL(baseURL)\n",
    "    for link in linkList:\n",
    "        if link not in queue and link not in seen:\n",
    "            queue.append(link)\n",
    "    print(\"queue: {0}, Seen: {1}\".format(len(queue), len(seen)))"
   ]
  },
  {
   "cell_type": "code",
   "execution_count": 37,
   "metadata": {},
   "outputs": [
    {
     "data": {
      "text/plain": [
       "['http://v.media.daum.net/v/20190714140658700?f=o',\n",
       " 'https://cp.news.search.daum.net/p/81920399',\n",
       " 'http://v.media.daum.net/v/20190625224946276?f=o',\n",
       " 'https://cp.news.search.daum.net/p/81869161',\n",
       " 'http://gall.dcinside.com/board/lists/?id=parkboyoung',\n",
       " 'http://cafe.daum.net/parkboyoungfd',\n",
       " 'http://channels.vlive.tv/FCE49/video',\n",
       " 'http://www.bjc.or.kr/',\n",
       " 'http://adam24eve.tistory.com/858',\n",
       " 'http://cscs0717.tistory.com/27',\n",
       " 'http://listup.tistory.com/248',\n",
       " 'http://34344541.tistory.com/43',\n",
       " 'http://cafe.daum.net/subdued20club/ReHf/2280152?q=%EB%B0%95%EB%B3%B4%EC%98%81',\n",
       " 'http://cafe.daum.net/ok1221/9Zdf/1524913?q=%EB%B0%95%EB%B3%B4%EC%98%81',\n",
       " 'http://cafe.daum.net/subdued20club/ReHf/2345077?q=%EB%B0%95%EB%B3%B4%EC%98%81',\n",
       " 'http://cafe.daum.net/ASMONACOFC/gAVU/1243818?q=%EB%B0%95%EB%B3%B4%EC%98%81']"
      ]
     },
     "execution_count": 37,
     "metadata": {},
     "output_type": "execute_result"
    }
   ],
   "source": [
    "seen"
   ]
  },
  {
   "cell_type": "code",
   "execution_count": 56,
   "metadata": {},
   "outputs": [
    {
     "name": "stdout",
     "output_type": "stream",
     "text": [
      "['http://adam24eve.tistory.com/858', 'http://cscs0717.tistory.com/27', 'http://listup.tistory.com/248', 'http://34344541.tistory.com/43']\n",
      "403\n",
      "Forbidden\n",
      "queue: 9, Seen: 1\n",
      "['http://cscs0717.tistory.com/27', 'http://listup.tistory.com/248', 'http://34344541.tistory.com/43', 'http://adam24eve.tistory.com/858#kakaoBody', 'http://adam24eve.tistory.com/858#kakaoGnb', 'http://adam24eve.tistory.com/858#none', 'https://cs.daum.net/faq/173.html', 'javascript:window.history.back();', 'https://www.tistory.com']\n",
      "403\n",
      "Forbidden\n",
      "queue: 11, Seen: 2\n",
      "['http://listup.tistory.com/248', 'http://34344541.tistory.com/43', 'http://adam24eve.tistory.com/858#kakaoBody', 'http://adam24eve.tistory.com/858#kakaoGnb', 'http://adam24eve.tistory.com/858#none', 'https://cs.daum.net/faq/173.html', 'javascript:window.history.back();', 'https://www.tistory.com', 'http://cscs0717.tistory.com/27#kakaoBody', 'http://cscs0717.tistory.com/27#kakaoGnb', 'http://cscs0717.tistory.com/27#none']\n",
      "403\n",
      "Forbidden\n",
      "queue: 13, Seen: 3\n",
      "['http://34344541.tistory.com/43', 'http://adam24eve.tistory.com/858#kakaoBody', 'http://adam24eve.tistory.com/858#kakaoGnb', 'http://adam24eve.tistory.com/858#none', 'https://cs.daum.net/faq/173.html', 'javascript:window.history.back();', 'https://www.tistory.com', 'http://cscs0717.tistory.com/27#kakaoBody', 'http://cscs0717.tistory.com/27#kakaoGnb', 'http://cscs0717.tistory.com/27#none', 'http://listup.tistory.com/248#kakaoBody', 'http://listup.tistory.com/248#kakaoGnb', 'http://listup.tistory.com/248#none']\n",
      "403\n",
      "Forbidden\n",
      "queue: 15, Seen: 4\n",
      "['http://adam24eve.tistory.com/858#kakaoBody', 'http://adam24eve.tistory.com/858#kakaoGnb', 'http://adam24eve.tistory.com/858#none', 'https://cs.daum.net/faq/173.html', 'javascript:window.history.back();', 'https://www.tistory.com', 'http://cscs0717.tistory.com/27#kakaoBody', 'http://cscs0717.tistory.com/27#kakaoGnb', 'http://cscs0717.tistory.com/27#none', 'http://listup.tistory.com/248#kakaoBody', 'http://listup.tistory.com/248#kakaoGnb', 'http://listup.tistory.com/248#none', 'http://34344541.tistory.com/43#kakaoBody', 'http://34344541.tistory.com/43#kakaoGnb', 'http://34344541.tistory.com/43#none']\n",
      "403\n",
      "Forbidden\n",
      "queue: 14, Seen: 5\n",
      "['http://adam24eve.tistory.com/858#kakaoGnb', 'http://adam24eve.tistory.com/858#none', 'https://cs.daum.net/faq/173.html', 'javascript:window.history.back();', 'https://www.tistory.com', 'http://cscs0717.tistory.com/27#kakaoBody', 'http://cscs0717.tistory.com/27#kakaoGnb', 'http://cscs0717.tistory.com/27#none', 'http://listup.tistory.com/248#kakaoBody', 'http://listup.tistory.com/248#kakaoGnb', 'http://listup.tistory.com/248#none', 'http://34344541.tistory.com/43#kakaoBody', 'http://34344541.tistory.com/43#kakaoGnb', 'http://34344541.tistory.com/43#none']\n",
      "403\n",
      "Forbidden\n",
      "queue: 13, Seen: 6\n",
      "['http://adam24eve.tistory.com/858#none', 'https://cs.daum.net/faq/173.html', 'javascript:window.history.back();', 'https://www.tistory.com', 'http://cscs0717.tistory.com/27#kakaoBody', 'http://cscs0717.tistory.com/27#kakaoGnb', 'http://cscs0717.tistory.com/27#none', 'http://listup.tistory.com/248#kakaoBody', 'http://listup.tistory.com/248#kakaoGnb', 'http://listup.tistory.com/248#none', 'http://34344541.tistory.com/43#kakaoBody', 'http://34344541.tistory.com/43#kakaoGnb', 'http://34344541.tistory.com/43#none']\n",
      "403\n",
      "Forbidden\n",
      "queue: 12, Seen: 7\n",
      "['https://cs.daum.net/faq/173.html', 'javascript:window.history.back();', 'https://www.tistory.com', 'http://cscs0717.tistory.com/27#kakaoBody', 'http://cscs0717.tistory.com/27#kakaoGnb', 'http://cscs0717.tistory.com/27#none', 'http://listup.tistory.com/248#kakaoBody', 'http://listup.tistory.com/248#kakaoGnb', 'http://listup.tistory.com/248#none', 'http://34344541.tistory.com/43#kakaoBody', 'http://34344541.tistory.com/43#kakaoGnb', 'http://34344541.tistory.com/43#none']\n",
      "queue: 45, Seen: 8\n",
      "['javascript:window.history.back();', 'https://www.tistory.com', 'http://cscs0717.tistory.com/27#kakaoBody', 'http://cscs0717.tistory.com/27#kakaoGnb', 'http://cscs0717.tistory.com/27#none', 'http://listup.tistory.com/248#kakaoBody', 'http://listup.tistory.com/248#kakaoGnb', 'http://listup.tistory.com/248#none', 'http://34344541.tistory.com/43#kakaoBody', 'http://34344541.tistory.com/43#kakaoGnb', 'http://34344541.tistory.com/43#none', 'https://cs.daum.net/faq/173.html#daumBody', 'http://cs.daum.net', 'https://cs.daum.net/faq/173.html#none', 'https://member.daum.net/find/id.do', 'https://member.daum.net/find/password.do', 'http://cs.daum.net/my/qnaList.html', 'https://cs.daum.net/faq/173/21532.html', 'https://cs.daum.net/faq/173/21197.html', 'https://cs.daum.net/faq/173/7594.html', 'https://cs.daum.net/faq/173/21533.html', 'https://cs.daum.net/faq/173/21535.html', 'https://cs.daum.net/faq/173/7598.html', 'https://cs.daum.net/faq/173/7589.html', 'https://cs.daum.net/faq/173/7599.html', 'https://cs.daum.net/faq/173/7593.html', 'https://cs.daum.net/faq/173/15573.html', 'https://cs.daum.net/faq/173.html#rank_hit', 'https://cs.daum.net/faq/173.html#rank_like', 'https://cs.daum.net/faq/173/7598.html?faqId=36769', 'https://cs.daum.net/faq/173/21197.html?faqId=36684', 'https://cs.daum.net/faq/173/21197.html?faqId=36834', 'https://cs.daum.net/faq/173/21197.html?faqId=36680', 'https://cs.daum.net/faq/173/7599.html?faqId=36795', 'https://cs.daum.net/faq/173/21533.html?faqId=36777', 'https://cs.daum.net/faq/173/7598.html?faqId=37680', 'https://cs.daum.net/faq/173/15573.html?faqId=31093', 'https://cs.daum.net/faq/173/21533.html?faqId=36781', 'https://cs.daum.net/faq/173/21197.html?faqId=36675', 'http://www.daum.net/doc/info.html', 'https://with.kakao.com', 'http://game.daum.net/cs.html?t__nil_gamemini=cs', 'https://cs.daum.net/faq/137.html', 'https://business.kakao.com', 'http://www.kakaocorp.com/']\n"
     ]
    },
    {
     "ename": "InvalidSchema",
     "evalue": "No connection adapters were found for 'javascript:window.history.back();'",
     "output_type": "error",
     "traceback": [
      "\u001b[1;31m---------------------------------------------------------------------------\u001b[0m",
      "\u001b[1;31mInvalidSchema\u001b[0m                             Traceback (most recent call last)",
      "\u001b[1;32m<ipython-input-56-930e8fadb018>\u001b[0m in \u001b[0;36m<module>\u001b[1;34m()\u001b[0m\n\u001b[0;32m     26\u001b[0m     \u001b[0mseen\u001b[0m\u001b[1;33m.\u001b[0m\u001b[0mappend\u001b[0m\u001b[1;33m(\u001b[0m\u001b[0mbaseURL\u001b[0m\u001b[1;33m)\u001b[0m\u001b[1;33m\u001b[0m\u001b[0m\n\u001b[0;32m     27\u001b[0m     \u001b[0mtime\u001b[0m\u001b[1;33m.\u001b[0m\u001b[0msleep\u001b[0m\u001b[1;33m(\u001b[0m\u001b[1;36m1\u001b[0m\u001b[1;33m)\u001b[0m\u001b[1;33m\u001b[0m\u001b[0m\n\u001b[1;32m---> 28\u001b[1;33m     \u001b[0mlinkList\u001b[0m \u001b[1;33m=\u001b[0m \u001b[0mparseURL\u001b[0m\u001b[1;33m(\u001b[0m\u001b[0mbaseURL\u001b[0m\u001b[1;33m)\u001b[0m\u001b[1;33m\u001b[0m\u001b[0m\n\u001b[0m\u001b[0;32m     29\u001b[0m     \u001b[1;32mfor\u001b[0m \u001b[0mlink\u001b[0m \u001b[1;32min\u001b[0m \u001b[0mlinkList\u001b[0m\u001b[1;33m:\u001b[0m\u001b[1;33m\u001b[0m\u001b[0m\n\u001b[0;32m     30\u001b[0m         \u001b[1;32mif\u001b[0m \u001b[0mlink\u001b[0m \u001b[1;32mnot\u001b[0m \u001b[1;32min\u001b[0m \u001b[0mqueue\u001b[0m \u001b[1;32mand\u001b[0m \u001b[0mlink\u001b[0m \u001b[1;32mnot\u001b[0m \u001b[1;32min\u001b[0m \u001b[0mseen\u001b[0m\u001b[1;33m:\u001b[0m\u001b[1;33m\u001b[0m\u001b[0m\n",
      "\u001b[1;32m<ipython-input-56-930e8fadb018>\u001b[0m in \u001b[0;36mparseURL\u001b[1;34m(seed)\u001b[0m\n\u001b[0;32m      9\u001b[0m \u001b[0mprint\u001b[0m\u001b[1;33m(\u001b[0m\u001b[0mlist4\u001b[0m\u001b[1;33m)\u001b[0m\u001b[1;33m\u001b[0m\u001b[0m\n\u001b[0;32m     10\u001b[0m \u001b[1;32mdef\u001b[0m \u001b[0mparseURL\u001b[0m\u001b[1;33m(\u001b[0m\u001b[0mseed\u001b[0m\u001b[1;33m)\u001b[0m\u001b[1;33m:\u001b[0m\u001b[1;33m\u001b[0m\u001b[0m\n\u001b[1;32m---> 11\u001b[1;33m     \u001b[0mhtml\u001b[0m \u001b[1;33m=\u001b[0m \u001b[0mdownload\u001b[0m\u001b[1;33m(\u001b[0m\u001b[1;34m'get'\u001b[0m\u001b[1;33m,\u001b[0m\u001b[0mseed\u001b[0m\u001b[1;33m)\u001b[0m\u001b[1;33m\u001b[0m\u001b[0m\n\u001b[0m\u001b[0;32m     12\u001b[0m     \u001b[0mdom\u001b[0m \u001b[1;33m=\u001b[0m \u001b[0mbs\u001b[0m\u001b[1;33m(\u001b[0m\u001b[0mhtml\u001b[0m\u001b[1;33m.\u001b[0m\u001b[0mtext\u001b[0m\u001b[1;33m,\u001b[0m \u001b[1;34m'lxml'\u001b[0m\u001b[1;33m)\u001b[0m\u001b[1;33m\u001b[0m\u001b[0m\n\u001b[0;32m     13\u001b[0m     \u001b[1;31m#if len(dom.select(\"#mainFrame\")) < 1:\u001b[0m\u001b[1;33m\u001b[0m\u001b[1;33m\u001b[0m\u001b[0m\n",
      "\u001b[1;32m<ipython-input-2-6afc2cb77acd>\u001b[0m in \u001b[0;36mdownload\u001b[1;34m(method, url, param, data, timeout, maxretries)\u001b[0m\n\u001b[0;32m      5\u001b[0m \u001b[1;31m#    headers = {\"user-agent\":\"Mozilla/5.0 (Windows NT 10.0; Win64; x64) AppleWebKit/537.36 (KHTML, like Gecko) Chrome/75.0.3770.100 Safari/537.36\"}\u001b[0m\u001b[1;33m\u001b[0m\u001b[1;33m\u001b[0m\u001b[0m\n\u001b[0;32m      6\u001b[0m     \u001b[1;32mtry\u001b[0m\u001b[1;33m:\u001b[0m\u001b[1;33m\u001b[0m\u001b[0m\n\u001b[1;32m----> 7\u001b[1;33m         \u001b[0mresp\u001b[0m \u001b[1;33m=\u001b[0m \u001b[0mrequests\u001b[0m\u001b[1;33m.\u001b[0m\u001b[0mrequest\u001b[0m\u001b[1;33m(\u001b[0m\u001b[0mmethod\u001b[0m\u001b[1;33m,\u001b[0m \u001b[0murl\u001b[0m\u001b[1;33m,\u001b[0m \u001b[0mparams\u001b[0m\u001b[1;33m=\u001b[0m\u001b[0mparam\u001b[0m\u001b[1;33m,\u001b[0m \u001b[0mdata\u001b[0m\u001b[1;33m=\u001b[0m\u001b[0mdata\u001b[0m\u001b[1;33m,\u001b[0m \u001b[0mheaders\u001b[0m \u001b[1;33m=\u001b[0m \u001b[1;32mNone\u001b[0m\u001b[1;33m)\u001b[0m\u001b[1;33m\u001b[0m\u001b[0m\n\u001b[0m\u001b[0;32m      8\u001b[0m         \u001b[0mresp\u001b[0m\u001b[1;33m.\u001b[0m\u001b[0mraise_for_status\u001b[0m\u001b[1;33m(\u001b[0m\u001b[1;33m)\u001b[0m\u001b[1;33m\u001b[0m\u001b[0m\n\u001b[0;32m      9\u001b[0m     \u001b[1;32mexcept\u001b[0m \u001b[0mrequests\u001b[0m\u001b[1;33m.\u001b[0m\u001b[0mexceptions\u001b[0m\u001b[1;33m.\u001b[0m\u001b[0mHTTPError\u001b[0m \u001b[1;32mas\u001b[0m \u001b[0me\u001b[0m\u001b[1;33m:\u001b[0m\u001b[1;33m\u001b[0m\u001b[0m\n",
      "\u001b[1;32mC:\\Program Files (x86)\\Microsoft Visual Studio\\Shared\\Anaconda3_64\\lib\\site-packages\\requests\\api.py\u001b[0m in \u001b[0;36mrequest\u001b[1;34m(method, url, **kwargs)\u001b[0m\n\u001b[0;32m     56\u001b[0m     \u001b[1;31m# cases, and look like a memory leak in others.\u001b[0m\u001b[1;33m\u001b[0m\u001b[1;33m\u001b[0m\u001b[0m\n\u001b[0;32m     57\u001b[0m     \u001b[1;32mwith\u001b[0m \u001b[0msessions\u001b[0m\u001b[1;33m.\u001b[0m\u001b[0mSession\u001b[0m\u001b[1;33m(\u001b[0m\u001b[1;33m)\u001b[0m \u001b[1;32mas\u001b[0m \u001b[0msession\u001b[0m\u001b[1;33m:\u001b[0m\u001b[1;33m\u001b[0m\u001b[0m\n\u001b[1;32m---> 58\u001b[1;33m         \u001b[1;32mreturn\u001b[0m \u001b[0msession\u001b[0m\u001b[1;33m.\u001b[0m\u001b[0mrequest\u001b[0m\u001b[1;33m(\u001b[0m\u001b[0mmethod\u001b[0m\u001b[1;33m=\u001b[0m\u001b[0mmethod\u001b[0m\u001b[1;33m,\u001b[0m \u001b[0murl\u001b[0m\u001b[1;33m=\u001b[0m\u001b[0murl\u001b[0m\u001b[1;33m,\u001b[0m \u001b[1;33m**\u001b[0m\u001b[0mkwargs\u001b[0m\u001b[1;33m)\u001b[0m\u001b[1;33m\u001b[0m\u001b[0m\n\u001b[0m\u001b[0;32m     59\u001b[0m \u001b[1;33m\u001b[0m\u001b[0m\n\u001b[0;32m     60\u001b[0m \u001b[1;33m\u001b[0m\u001b[0m\n",
      "\u001b[1;32mC:\\Program Files (x86)\\Microsoft Visual Studio\\Shared\\Anaconda3_64\\lib\\site-packages\\requests\\sessions.py\u001b[0m in \u001b[0;36mrequest\u001b[1;34m(self, method, url, params, data, headers, cookies, files, auth, timeout, allow_redirects, proxies, hooks, stream, verify, cert, json)\u001b[0m\n\u001b[0;32m    506\u001b[0m         }\n\u001b[0;32m    507\u001b[0m         \u001b[0msend_kwargs\u001b[0m\u001b[1;33m.\u001b[0m\u001b[0mupdate\u001b[0m\u001b[1;33m(\u001b[0m\u001b[0msettings\u001b[0m\u001b[1;33m)\u001b[0m\u001b[1;33m\u001b[0m\u001b[0m\n\u001b[1;32m--> 508\u001b[1;33m         \u001b[0mresp\u001b[0m \u001b[1;33m=\u001b[0m \u001b[0mself\u001b[0m\u001b[1;33m.\u001b[0m\u001b[0msend\u001b[0m\u001b[1;33m(\u001b[0m\u001b[0mprep\u001b[0m\u001b[1;33m,\u001b[0m \u001b[1;33m**\u001b[0m\u001b[0msend_kwargs\u001b[0m\u001b[1;33m)\u001b[0m\u001b[1;33m\u001b[0m\u001b[0m\n\u001b[0m\u001b[0;32m    509\u001b[0m \u001b[1;33m\u001b[0m\u001b[0m\n\u001b[0;32m    510\u001b[0m         \u001b[1;32mreturn\u001b[0m \u001b[0mresp\u001b[0m\u001b[1;33m\u001b[0m\u001b[0m\n",
      "\u001b[1;32mC:\\Program Files (x86)\\Microsoft Visual Studio\\Shared\\Anaconda3_64\\lib\\site-packages\\requests\\sessions.py\u001b[0m in \u001b[0;36msend\u001b[1;34m(self, request, **kwargs)\u001b[0m\n\u001b[0;32m    610\u001b[0m \u001b[1;33m\u001b[0m\u001b[0m\n\u001b[0;32m    611\u001b[0m         \u001b[1;31m# Get the appropriate adapter to use\u001b[0m\u001b[1;33m\u001b[0m\u001b[1;33m\u001b[0m\u001b[0m\n\u001b[1;32m--> 612\u001b[1;33m         \u001b[0madapter\u001b[0m \u001b[1;33m=\u001b[0m \u001b[0mself\u001b[0m\u001b[1;33m.\u001b[0m\u001b[0mget_adapter\u001b[0m\u001b[1;33m(\u001b[0m\u001b[0murl\u001b[0m\u001b[1;33m=\u001b[0m\u001b[0mrequest\u001b[0m\u001b[1;33m.\u001b[0m\u001b[0murl\u001b[0m\u001b[1;33m)\u001b[0m\u001b[1;33m\u001b[0m\u001b[0m\n\u001b[0m\u001b[0;32m    613\u001b[0m \u001b[1;33m\u001b[0m\u001b[0m\n\u001b[0;32m    614\u001b[0m         \u001b[1;31m# Start time (approximately) of the request\u001b[0m\u001b[1;33m\u001b[0m\u001b[1;33m\u001b[0m\u001b[0m\n",
      "\u001b[1;32mC:\\Program Files (x86)\\Microsoft Visual Studio\\Shared\\Anaconda3_64\\lib\\site-packages\\requests\\sessions.py\u001b[0m in \u001b[0;36mget_adapter\u001b[1;34m(self, url)\u001b[0m\n\u001b[0;32m    701\u001b[0m \u001b[1;33m\u001b[0m\u001b[0m\n\u001b[0;32m    702\u001b[0m         \u001b[1;31m# Nothing matches :-/\u001b[0m\u001b[1;33m\u001b[0m\u001b[1;33m\u001b[0m\u001b[0m\n\u001b[1;32m--> 703\u001b[1;33m         \u001b[1;32mraise\u001b[0m \u001b[0mInvalidSchema\u001b[0m\u001b[1;33m(\u001b[0m\u001b[1;34m\"No connection adapters were found for '%s'\"\u001b[0m \u001b[1;33m%\u001b[0m \u001b[0murl\u001b[0m\u001b[1;33m)\u001b[0m\u001b[1;33m\u001b[0m\u001b[0m\n\u001b[0m\u001b[0;32m    704\u001b[0m \u001b[1;33m\u001b[0m\u001b[0m\n\u001b[0;32m    705\u001b[0m     \u001b[1;32mdef\u001b[0m \u001b[0mclose\u001b[0m\u001b[1;33m(\u001b[0m\u001b[0mself\u001b[0m\u001b[1;33m)\u001b[0m\u001b[1;33m:\u001b[0m\u001b[1;33m\u001b[0m\u001b[0m\n",
      "\u001b[1;31mInvalidSchema\u001b[0m: No connection adapters were found for 'javascript:window.history.back();'"
     ]
    }
   ],
   "source": [
    "url = \"https://search.daum.net/search\"\n",
    "param = {'q': '박보영'}\n",
    "html = download('get',url,param)\n",
    "dom = bs(html.text,'lxml')\n",
    "#[_find_parent()[\"href\"] for _ in dom.select(\".LC201b\")]\n",
    "#list2 = [(_['href']) for _ in dom.select(\".rc > .r a[href^http]\")]\n",
    "#list3 = [(_.find_parent()[\"href\"]) for _ in dom.select(\".LC20lb\")]\n",
    "list4 = [(_[\"href\"]) for _ in dom.select('#blogColl a.f_link_b') if checkBlog(_[\"href\"])]\n",
    "print(list4)\n",
    "def parseURL(seed):\n",
    "    html = download('get',seed)\n",
    "    dom = bs(html.text, 'lxml')\n",
    "    #if len(dom.select(\"#mainFrame\")) < 1:\n",
    "    #    return []\n",
    "    #seed = requests.compat.urljoin(seed, dom.select(\"#mainFrame\")[0][\"src\"])\n",
    "    #html = download('get',seed)\n",
    "    #dom = bs(html.text, 'lxml')\n",
    "    \n",
    "    return [requests.compat.urljoin(seed, _[\"href\"]) \n",
    "            for _ in dom.find_all(\"a\") if _.has_attr('href') and len(_[\"href\"])>3 ]\n",
    "queue = list()\n",
    "queue.extend(list4)\n",
    "seen = list()\n",
    "while queue:\n",
    "    baseURL = queue.pop(0)\n",
    "    seen.append(baseURL)\n",
    "    time.sleep(1)\n",
    "    linkList = parseURL(baseURL)\n",
    "    for link in linkList:\n",
    "        if link not in queue and link not in seen:\n",
    "            queue.append(link)\n",
    "    print(\"queue: {0}, Seen: {1}\".format(len(queue), len(seen)))"
   ]
  },
  {
   "cell_type": "code",
   "execution_count": 267,
   "metadata": {},
   "outputs": [
    {
     "data": {
      "text/plain": [
       "True"
      ]
     },
     "execution_count": 267,
     "metadata": {},
     "output_type": "execute_result"
    }
   ],
   "source": [
    "b = 'bae6383@gmail.com'\n",
    "b.endswith('gmail.com')"
   ]
  },
  {
   "cell_type": "code",
   "execution_count": 268,
   "metadata": {},
   "outputs": [
    {
     "data": {
      "text/plain": [
       "True"
      ]
     },
     "execution_count": 268,
     "metadata": {},
     "output_type": "execute_result"
    }
   ],
   "source": [
    "b.startswith(\"bae\")"
   ]
  },
  {
   "cell_type": "code",
   "execution_count": null,
   "metadata": {},
   "outputs": [],
   "source": []
  },
  {
   "cell_type": "code",
   "execution_count": 69,
   "metadata": {},
   "outputs": [],
   "source": [
    "def checkBlog(url):\n",
    "    return requests.compat.urlparse(url)[1].endswith(\"tistory.com\")"
   ]
  },
  {
   "cell_type": "code",
   "execution_count": 78,
   "metadata": {},
   "outputs": [
    {
     "name": "stdout",
     "output_type": "stream",
     "text": [
      "queue: 46, Seen: 1\n",
      "queue: 64, Seen: 2\n",
      "queue: 87, Seen: 3\n",
      "queue: 94, Seen: 4\n",
      "queue: 100, Seen: 5\n",
      "queue: 106, Seen: 6\n",
      "queue: 112, Seen: 7\n",
      "queue: 115, Seen: 8\n",
      "queue: 122, Seen: 9\n",
      "queue: 125, Seen: 10\n",
      "queue: 124, Seen: 11\n",
      "queue: 123, Seen: 12\n",
      "queue: 198, Seen: 13\n",
      "queue: 197, Seen: 14\n",
      "queue: 196, Seen: 15\n",
      "queue: 195, Seen: 16\n",
      "queue: 194, Seen: 17\n",
      "queue: 195, Seen: 18\n",
      "queue: 194, Seen: 19\n",
      "queue: 193, Seen: 20\n",
      "queue: 192, Seen: 21\n",
      "queue: 207, Seen: 22\n",
      "queue: 219, Seen: 23\n",
      "queue: 227, Seen: 24\n",
      "queue: 229, Seen: 25\n",
      "queue: 229, Seen: 26\n",
      "queue: 236, Seen: 27\n",
      "queue: 245, Seen: 28\n",
      "queue: 250, Seen: 29\n",
      "queue: 249, Seen: 30\n",
      "queue: 249, Seen: 31\n",
      "queue: 259, Seen: 32\n",
      "queue: 259, Seen: 33\n",
      "queue: 264, Seen: 34\n"
     ]
    },
    {
     "ename": "KeyboardInterrupt",
     "evalue": "",
     "output_type": "error",
     "traceback": [
      "\u001b[1;31m---------------------------------------------------------------------------\u001b[0m",
      "\u001b[1;31mKeyboardInterrupt\u001b[0m                         Traceback (most recent call last)",
      "\u001b[1;32m<ipython-input-78-c8d11fe50362>\u001b[0m in \u001b[0;36m<module>\u001b[1;34m()\u001b[0m\n\u001b[0;32m     25\u001b[0m     \u001b[0mbaseURL\u001b[0m \u001b[1;33m=\u001b[0m \u001b[0mqueue\u001b[0m\u001b[1;33m.\u001b[0m\u001b[0mpop\u001b[0m\u001b[1;33m(\u001b[0m\u001b[1;36m0\u001b[0m\u001b[1;33m)\u001b[0m\u001b[1;33m\u001b[0m\u001b[0m\n\u001b[0;32m     26\u001b[0m     \u001b[0mseen\u001b[0m\u001b[1;33m.\u001b[0m\u001b[0mappend\u001b[0m\u001b[1;33m(\u001b[0m\u001b[0mbaseURL\u001b[0m\u001b[1;33m)\u001b[0m\u001b[1;33m\u001b[0m\u001b[0m\n\u001b[1;32m---> 27\u001b[1;33m     \u001b[0mtime\u001b[0m\u001b[1;33m.\u001b[0m\u001b[0msleep\u001b[0m\u001b[1;33m(\u001b[0m\u001b[1;36m1\u001b[0m\u001b[1;33m)\u001b[0m\u001b[1;33m\u001b[0m\u001b[0m\n\u001b[0m\u001b[0;32m     28\u001b[0m     \u001b[0mlinkList\u001b[0m \u001b[1;33m=\u001b[0m \u001b[0mparseURL\u001b[0m\u001b[1;33m(\u001b[0m\u001b[0mbaseURL\u001b[0m\u001b[1;33m)\u001b[0m\u001b[1;33m\u001b[0m\u001b[0m\n\u001b[0;32m     29\u001b[0m     \u001b[1;32mfor\u001b[0m \u001b[0mlink\u001b[0m \u001b[1;32min\u001b[0m \u001b[0mlinkList\u001b[0m\u001b[1;33m:\u001b[0m\u001b[1;33m\u001b[0m\u001b[0m\n",
      "\u001b[1;31mKeyboardInterrupt\u001b[0m: "
     ]
    }
   ],
   "source": [
    "url = \"https://search.daum.net/search\"\n",
    "param = {'q': '박보영'}\n",
    "html = download('get',url,param)\n",
    "dom = bs(html.text,'lxml')\n",
    "#[_find_parent()[\"href\"] for _ in dom.select(\".LC201b\")]\n",
    "#list2 = [(_['href']) for _ in dom.select(\".rc > .r a[href^http]\")]\n",
    "#list3 = [(_.find_parent()[\"href\"]) for _ in dom.select(\".LC20lb\")]\n",
    "list4 = [(_[\"href\"]) for _ in dom.select('#blogColl a.f_link_b') if checkBlog(_[\"href\"])]\n",
    "#print(list4)\n",
    "def parseURL(seed):\n",
    "    html = download('get',seed)\n",
    "    dom = bs(html.text, 'lxml')\n",
    "    #if len(dom.select(\"#mainFrame\")) < 1:\n",
    "    #    return []\n",
    "    #seed = requests.compat.urljoin(seed, dom.select(\"#mainFrame\")[0][\"src\"])\n",
    "    #html = download('get',seed)\n",
    "    #dom = bs(html.text, 'lxml')\n",
    "    \n",
    "    return [(requests.compat.urljoin(seed, _[\"href\"])) \n",
    "            for _ in dom.find_all(\"a\") if _.has_attr('href') and len(_[\"href\"])>3 ]\n",
    "queue = list()\n",
    "queue.extend(list4)\n",
    "seen = list()\n",
    "while queue:\n",
    "    baseURL = queue.pop(0)\n",
    "    seen.append(baseURL)\n",
    "    time.sleep(1)\n",
    "    linkList = parseURL(baseURL)\n",
    "    for link in linkList:\n",
    "        if link not in queue and link not in seen:\n",
    "            queue.append(link)\n",
    "    print(\"queue: {0}, Seen: {1}\".format(len(queue), len(seen)))"
   ]
  },
  {
   "cell_type": "code",
   "execution_count": 75,
   "metadata": {},
   "outputs": [],
   "source": [
    "import requests\n",
    "import time\n",
    "\n",
    "def download(method, url, param = None, data = None, timeout = 1, maxretries = 3):\n",
    "#    headers = {\"user-agent\":\"Mozilla/5.0 (Windows NT 10.0; Win64; x64) AppleWebKit/537.36 (KHTML, like Gecko) Chrome/75.0.3770.100 Safari/537.36\"}\n",
    "    try: \n",
    "        resp = requests.request(method, url, params=param, data=data, headers = {'user-agent': 'Mozilla/5.0 (Windows NT 10.0; Win64; x64) AppleWebKit/537.36 (KHTML, like Gecko) Chrome/75.0.3770.100 Safari/537.36'})\n",
    "        resp.raise_for_status()\n",
    "    except requests.exceptions.HTTPError as e:\n",
    "        if 500 <=e.response.status_code <= 600:\n",
    "            if maxretries > 0:\n",
    "                print(maxretries)\n",
    "                time.sleep(timeout)\n",
    "                resp = download(method, url, param, data, timeout, maxretries-1)\n",
    "                print('retry')\n",
    "            #print(type(e.response.status_code))\n",
    "        else:\n",
    "            print(e.response.status_code)\n",
    "            print(e.response.reason)\n",
    "        \n",
    "    return resp"
   ]
  },
  {
   "cell_type": "code",
   "execution_count": 85,
   "metadata": {},
   "outputs": [
    {
     "name": "stdout",
     "output_type": "stream",
     "text": [
      "Queue : 44, Seen : 1\n",
      "Queue : 60, Seen : 2\n",
      "Queue : 83, Seen : 3\n",
      "Queue : 90, Seen : 4\n",
      "Queue : 96, Seen : 5\n",
      "Queue : 102, Seen : 6\n",
      "Queue : 108, Seen : 7\n",
      "Queue : 111, Seen : 8\n",
      "Queue : 118, Seen : 9\n",
      "Queue : 121, Seen : 10\n",
      "Queue : 120, Seen : 11\n",
      "Queue : 119, Seen : 12\n",
      "Queue : 118, Seen : 13\n",
      "Queue : 117, Seen : 14\n",
      "Queue : 116, Seen : 15\n",
      "Queue : 115, Seen : 16\n",
      "Queue : 116, Seen : 17\n",
      "Queue : 115, Seen : 18\n",
      "Queue : 114, Seen : 19\n",
      "Queue : 113, Seen : 20\n",
      "Queue : 128, Seen : 21\n",
      "Queue : 140, Seen : 22\n",
      "Queue : 148, Seen : 23\n"
     ]
    },
    {
     "ename": "KeyboardInterrupt",
     "evalue": "",
     "output_type": "error",
     "traceback": [
      "\u001b[1;31m---------------------------------------------------------------------------\u001b[0m",
      "\u001b[1;31mKeyboardInterrupt\u001b[0m                         Traceback (most recent call last)",
      "\u001b[1;32m<ipython-input-85-0630564def89>\u001b[0m in \u001b[0;36m<module>\u001b[1;34m()\u001b[0m\n\u001b[0;32m     28\u001b[0m     \u001b[0mseen\u001b[0m\u001b[1;33m.\u001b[0m\u001b[0mappend\u001b[0m\u001b[1;33m(\u001b[0m\u001b[0mbaseURL\u001b[0m\u001b[1;33m)\u001b[0m\u001b[1;33m\u001b[0m\u001b[0m\n\u001b[0;32m     29\u001b[0m \u001b[1;33m\u001b[0m\u001b[0m\n\u001b[1;32m---> 30\u001b[1;33m     \u001b[0mtime\u001b[0m\u001b[1;33m.\u001b[0m\u001b[0msleep\u001b[0m\u001b[1;33m(\u001b[0m\u001b[1;36m1\u001b[0m\u001b[1;33m)\u001b[0m \u001b[1;31m#이렇게\u001b[0m\u001b[1;33m\u001b[0m\u001b[0m\n\u001b[0m\u001b[0;32m     31\u001b[0m     \u001b[0mlinkList\u001b[0m \u001b[1;33m=\u001b[0m \u001b[0mparseURL\u001b[0m\u001b[1;33m(\u001b[0m\u001b[0mbaseURL\u001b[0m\u001b[1;33m)\u001b[0m  \u001b[1;31m# linkList에 중복되는 URL 이 계속해서 생길거야\u001b[0m\u001b[1;33m\u001b[0m\u001b[0m\n\u001b[0;32m     32\u001b[0m     \u001b[1;32mfor\u001b[0m \u001b[0mlink\u001b[0m \u001b[1;32min\u001b[0m \u001b[0mlinkList\u001b[0m\u001b[1;33m:\u001b[0m\u001b[1;33m\u001b[0m\u001b[0m\n",
      "\u001b[1;31mKeyboardInterrupt\u001b[0m: "
     ]
    }
   ],
   "source": [
    "#daum 주소 설정\n",
    "url = \"https://search.daum.net/search\"\n",
    "param = {\"q\":\"박보영\"}\n",
    "html = download(\"get\",url,param)\n",
    "dom = bs(html.text, \"lxml\")\n",
    "\n",
    "[_[\"href\"]\n",
    "    for _ in dom.select(\"a.f_link_b\")\n",
    "if checkBlog(_[\"href\"]) ]\n",
    "def parseURL(seed):\n",
    "    html = download(\"get\", seed)\n",
    "    dom = bs(html.text, \"lxml\")\n",
    "    return [requests.compat.urljoin(seed, _[\"href\"])\n",
    " for _ in dom.find_all(\"a\") \n",
    "        if _.has_attr(\"href\") and len(_[\"href\"]) > 3\n",
    "            and checkBlog(requests.compat.urljoin(seed, _[\"href\"]))]\n",
    "\n",
    "#tistory.com 을 잘라내기\n",
    "def checkBlog(url):\n",
    "    return requests.compat.urlparse(url)[1].endswith(\"tistory.com\")\n",
    "#### 크롤링하는 코드 ########\n",
    "queue = [_[\"href\"]\n",
    "    for _ in dom.select(\"#blogColl a.f_link_b\") if checkBlog(_[\"href\"])]\n",
    "seen = list()\n",
    "\n",
    "while queue:\n",
    "    baseURL = queue.pop(0)   # 이 다음에 너무 빠르지 않게 sleep 을 추가해줘야함 \n",
    "    seen.append(baseURL)\n",
    "    \n",
    "    time.sleep(1) #이렇게 \n",
    "    linkList = parseURL(baseURL)  # linkList에 중복되는 URL 이 계속해서 생길거야\n",
    "    for link in linkList:\n",
    "        if link not in queue and link not in seen:\n",
    "            queue.append(link)\n",
    "    print(\"Queue : {0}, Seen : {1}\".format(len(queue), len(seen)))\n",
    "    #queue.extend(linkList) 얘만 쓰면 중복확인이 안되서 위에"
   ]
  },
  {
   "cell_type": "code",
   "execution_count": 86,
   "metadata": {},
   "outputs": [
    {
     "data": {
      "text/plain": [
       "['http://adam24eve.tistory.com/858',\n",
       " 'http://cscs0717.tistory.com/27',\n",
       " 'http://listup.tistory.com/248',\n",
       " 'http://34344541.tistory.com/43',\n",
       " 'http://adam24eve.tistory.com/category',\n",
       " 'http://adam24eve.tistory.com/category/Cosmos',\n",
       " 'http://adam24eve.tistory.com/category/Mystery%20world',\n",
       " 'http://adam24eve.tistory.com/category/Star',\n",
       " 'http://adam24eve.tistory.com/category/Political%20',\n",
       " 'http://adam24eve.tistory.com/category/It-game',\n",
       " 'http://adam24eve.tistory.com/guestbook',\n",
       " 'https://adam24eve.tistory.com/rss',\n",
       " 'http://adam24eve.tistory.com/tag/%EA%B9%80%EC%98%81%EA%B4%91',\n",
       " 'http://adam24eve.tistory.com/tag/%EA%B9%80%EC%98%81%EA%B4%91%20%EB%82%98%EC%9D%B4',\n",
       " 'http://adam24eve.tistory.com/tag/%EA%B9%80%EC%98%81%EA%B4%91%20%EB%B0%95%EB%B3%B4%EC%98%81%20%EC%97%B4%EC%95%A0',\n",
       " 'http://adam24eve.tistory.com/tag/%EA%B9%80%EC%98%81%EA%B4%91%20%ED%82%A4',\n",
       " 'http://adam24eve.tistory.com/tag/%EB%AF%B8%EC%9A%B0%EC%83%88',\n",
       " 'http://adam24eve.tistory.com/tag/%EB%AF%B8%EC%9A%B4%EC%9A%B0%EB%A6%AC%EC%83%88%EB%81%BC',\n",
       " 'http://adam24eve.tistory.com/tag/%EB%B0%95%EB%B3%B4%EC%98%81',\n",
       " 'http://adam24eve.tistory.com/tag/%EB%B0%95%EB%B3%B4%EC%98%81%20%ED%82%A4',\n",
       " 'http://adam24eve.tistory.com/860?category=820301',\n",
       " 'http://adam24eve.tistory.com/859?category=820301',\n",
       " 'http://adam24eve.tistory.com/857?category=820301',\n",
       " 'http://adam24eve.tistory.com/855?category=820301']"
      ]
     },
     "execution_count": 86,
     "metadata": {},
     "output_type": "execute_result"
    }
   ],
   "source": [
    "seen"
   ]
  },
  {
   "cell_type": "code",
   "execution_count": 88,
   "metadata": {},
   "outputs": [
    {
     "name": "stdout",
     "output_type": "stream",
     "text": [
      "Queue : 45, Seen : 1\n",
      "Queue : 61, Seen : 2\n",
      "Queue : 85, Seen : 3\n",
      "Queue : 92, Seen : 4\n",
      "Queue : 91, Seen : 5\n",
      "Queue : 90, Seen : 6\n",
      "Queue : 89, Seen : 7\n",
      "Queue : 88, Seen : 8\n",
      "Queue : 87, Seen : 9\n",
      "Queue : 86, Seen : 10\n",
      "Queue : 85, Seen : 11\n",
      "Queue : 84, Seen : 12\n",
      "Queue : 83, Seen : 13\n",
      "Queue : 82, Seen : 14\n",
      "Queue : 81, Seen : 15\n",
      "Queue : 80, Seen : 16\n",
      "Queue : 79, Seen : 17\n",
      "Queue : 78, Seen : 18\n",
      "Queue : 77, Seen : 19\n",
      "Queue : 76, Seen : 20\n",
      "Queue : 75, Seen : 21\n",
      "Queue : 74, Seen : 22\n",
      "Queue : 73, Seen : 23\n",
      "Queue : 72, Seen : 24\n",
      "Queue : 71, Seen : 25\n",
      "Queue : 70, Seen : 26\n",
      "Queue : 69, Seen : 27\n",
      "Queue : 68, Seen : 28\n",
      "Queue : 67, Seen : 29\n",
      "Queue : 66, Seen : 30\n",
      "Queue : 65, Seen : 31\n",
      "Queue : 64, Seen : 32\n",
      "Queue : 63, Seen : 33\n",
      "Queue : 62, Seen : 34\n",
      "Queue : 61, Seen : 35\n",
      "Queue : 60, Seen : 36\n",
      "Queue : 59, Seen : 37\n",
      "Queue : 58, Seen : 38\n",
      "Queue : 57, Seen : 39\n",
      "Queue : 56, Seen : 40\n",
      "Queue : 55, Seen : 41\n",
      "Queue : 54, Seen : 42\n",
      "Queue : 53, Seen : 43\n",
      "Queue : 52, Seen : 44\n",
      "Queue : 51, Seen : 45\n",
      "Queue : 50, Seen : 46\n",
      "Queue : 49, Seen : 47\n",
      "Queue : 48, Seen : 48\n",
      "Queue : 47, Seen : 49\n",
      "Queue : 46, Seen : 50\n",
      "Queue : 45, Seen : 51\n",
      "Queue : 44, Seen : 52\n",
      "Queue : 43, Seen : 53\n",
      "Queue : 42, Seen : 54\n",
      "Queue : 41, Seen : 55\n",
      "Queue : 40, Seen : 56\n",
      "Queue : 39, Seen : 57\n",
      "Queue : 38, Seen : 58\n",
      "Queue : 37, Seen : 59\n",
      "Queue : 36, Seen : 60\n",
      "Queue : 35, Seen : 61\n",
      "Queue : 34, Seen : 62\n",
      "Queue : 33, Seen : 63\n",
      "Queue : 32, Seen : 64\n",
      "Queue : 31, Seen : 65\n",
      "Queue : 30, Seen : 66\n",
      "Queue : 29, Seen : 67\n",
      "Queue : 28, Seen : 68\n",
      "Queue : 27, Seen : 69\n",
      "Queue : 26, Seen : 70\n",
      "Queue : 25, Seen : 71\n",
      "Queue : 24, Seen : 72\n",
      "Queue : 23, Seen : 73\n",
      "Queue : 22, Seen : 74\n",
      "Queue : 21, Seen : 75\n",
      "Queue : 20, Seen : 76\n",
      "Queue : 19, Seen : 77\n",
      "Queue : 18, Seen : 78\n",
      "Queue : 17, Seen : 79\n",
      "Queue : 16, Seen : 80\n",
      "Queue : 15, Seen : 81\n",
      "Queue : 14, Seen : 82\n",
      "Queue : 13, Seen : 83\n",
      "Queue : 12, Seen : 84\n",
      "Queue : 11, Seen : 85\n",
      "Queue : 10, Seen : 86\n",
      "Queue : 9, Seen : 87\n",
      "Queue : 8, Seen : 88\n",
      "Queue : 7, Seen : 89\n",
      "Queue : 6, Seen : 90\n",
      "Queue : 5, Seen : 91\n",
      "Queue : 4, Seen : 92\n",
      "Queue : 3, Seen : 93\n",
      "Queue : 2, Seen : 94\n",
      "Queue : 1, Seen : 95\n",
      "Queue : 0, Seen : 96\n"
     ]
    }
   ],
   "source": [
    "#daum 주소 설정\n",
    "url = \"https://search.daum.net/search\"\n",
    "param = {\"q\":\"박보영\"}\n",
    "html = download(\"get\",url,param)\n",
    "dom = bs(html.text, \"lxml\")\n",
    "\n",
    "[_[\"href\"]\n",
    "    for _ in dom.select(\"a.f_link_b\")\n",
    "if checkBlog(_[\"href\"]) ]\n",
    "def parseURL(seed):\n",
    "    html = download(\"get\", seed[0])\n",
    "    dom = bs(html.text, \"lxml\")\n",
    "    return [(requests.compat.urljoin(seed[0], _[\"href\"]),seed[1]+1)\n",
    " for _ in dom.find_all(\"a\") \n",
    "        if seed[1] < 2 and _.has_attr(\"href\") and len(_[\"href\"]) > 3\n",
    "            and checkBlog(requests.compat.urljoin(seed[0], _[\"href\"]))]\n",
    "\n",
    "#tistory.com 을 잘라내기\n",
    "def checkBlog(url):\n",
    "    return requests.compat.urlparse(url)[1].endswith(\"tistory.com\")\n",
    "#### 크롤링하는 코드 ########\n",
    "queue = [(_[\"href\"],1)\n",
    "    for _ in dom.select(\"#blogColl a.f_link_b\") if checkBlog(_[\"href\"])]\n",
    "seen = list()\n",
    "\n",
    "while queue:\n",
    "    baseURL = queue.pop(0)   # 이 다음에 너무 빠르지 않게 sleep 을 추가해줘야함 \n",
    "    seen.append(baseURL)\n",
    "    \n",
    "    time.sleep(1) #이렇게 \n",
    "    linkList = parseURL(baseURL)  # linkList에 중복되는 URL 이 계속해서 생길거야\n",
    "    for link in linkList:\n",
    "        if link not in queue and link not in seen:\n",
    "            queue.append(link)\n",
    "    print(\"Queue : {0}, Seen : {1}\".format(len(queue), len(seen)))\n",
    "    #queue.extend(linkList) 얘만 쓰면 중복확인이 안되서 위에"
   ]
  },
  {
   "cell_type": "code",
   "execution_count": 89,
   "metadata": {},
   "outputs": [
    {
     "data": {
      "text/plain": [
       "[('http://adam24eve.tistory.com/858', 1),\n",
       " ('http://cscs0717.tistory.com/27', 1),\n",
       " ('http://listup.tistory.com/248', 1),\n",
       " ('http://34344541.tistory.com/43', 1),\n",
       " ('http://adam24eve.tistory.com/category', 2),\n",
       " ('http://adam24eve.tistory.com/category/Cosmos', 2),\n",
       " ('http://adam24eve.tistory.com/category/Mystery%20world', 2),\n",
       " ('http://adam24eve.tistory.com/category/Star', 2),\n",
       " ('http://adam24eve.tistory.com/category/Political%20', 2),\n",
       " ('http://adam24eve.tistory.com/category/It-game', 2),\n",
       " ('http://adam24eve.tistory.com/guestbook', 2),\n",
       " ('https://adam24eve.tistory.com/rss', 2),\n",
       " ('http://adam24eve.tistory.com/858', 2),\n",
       " ('http://adam24eve.tistory.com/tag/%EA%B9%80%EC%98%81%EA%B4%91', 2),\n",
       " ('http://adam24eve.tistory.com/tag/%EA%B9%80%EC%98%81%EA%B4%91%20%EB%82%98%EC%9D%B4',\n",
       "  2),\n",
       " ('http://adam24eve.tistory.com/tag/%EA%B9%80%EC%98%81%EA%B4%91%20%EB%B0%95%EB%B3%B4%EC%98%81%20%EC%97%B4%EC%95%A0',\n",
       "  2),\n",
       " ('http://adam24eve.tistory.com/tag/%EA%B9%80%EC%98%81%EA%B4%91%20%ED%82%A4',\n",
       "  2),\n",
       " ('http://adam24eve.tistory.com/tag/%EB%AF%B8%EC%9A%B0%EC%83%88', 2),\n",
       " ('http://adam24eve.tistory.com/tag/%EB%AF%B8%EC%9A%B4%EC%9A%B0%EB%A6%AC%EC%83%88%EB%81%BC',\n",
       "  2),\n",
       " ('http://adam24eve.tistory.com/tag/%EB%B0%95%EB%B3%B4%EC%98%81', 2),\n",
       " ('http://adam24eve.tistory.com/tag/%EB%B0%95%EB%B3%B4%EC%98%81%20%ED%82%A4',\n",
       "  2),\n",
       " ('http://adam24eve.tistory.com/860?category=820301', 2),\n",
       " ('http://adam24eve.tistory.com/859?category=820301', 2),\n",
       " ('http://adam24eve.tistory.com/857?category=820301', 2),\n",
       " ('http://adam24eve.tistory.com/855?category=820301', 2),\n",
       " ('http://adam24eve.tistory.com/859', 2),\n",
       " ('http://adam24eve.tistory.com/983', 2),\n",
       " ('http://adam24eve.tistory.com/862', 2),\n",
       " ('http://adam24eve.tistory.com/861', 2),\n",
       " ('http://adam24eve.tistory.com/860', 2),\n",
       " ('http://adam24eve.tistory.com/857', 2),\n",
       " ('http://adam24eve.tistory.com/856', 2),\n",
       " ('http://adam24eve.tistory.com/855', 2),\n",
       " ('http://adam24eve.tistory.com/854', 2),\n",
       " ('http://adam24eve.tistory.com/notice/406', 2),\n",
       " ('http://adam24eve.tistory.com/982', 2),\n",
       " ('http://adam24eve.tistory.com/981', 2),\n",
       " ('http://adam24eve.tistory.com/980', 2),\n",
       " ('http://adam24eve.tistory.com/979', 2),\n",
       " ('http://adam24eve.tistory.com/957#comment15494479', 2),\n",
       " ('http://adam24eve.tistory.com/810#comment15492825', 2),\n",
       " ('http://adam24eve.tistory.com/934#comment15492756', 2),\n",
       " ('http://adam24eve.tistory.com/114#comment15492408', 2),\n",
       " ('http://adam24eve.tistory.com/820#comment15492397', 2),\n",
       " ('https://adam24eve.tistory.com/manage', 2),\n",
       " ('https://adam24eve.tistory.com/manage/entry/post', 2),\n",
       " ('https://cscs0717.tistory.com/rss', 2),\n",
       " ('http://cscs0717.tistory.com/category/', 2),\n",
       " ('https://cscs0717.tistory.com/10', 2),\n",
       " ('https://cscs0717.tistory.com/11', 2),\n",
       " ('https://cscs0717.tistory.com/18', 2),\n",
       " ('https://cscs0717.tistory.com/19', 2),\n",
       " ('https://cscs0717.tistory.com/17', 2),\n",
       " ('https://cscs0717.tistory.com/14', 2),\n",
       " ('http://cscs0717.tistory.com/29?category=713249', 2),\n",
       " ('http://cscs0717.tistory.com/28?category=713249', 2),\n",
       " ('http://cscs0717.tistory.com/27?category=713249', 2),\n",
       " ('http://cscs0717.tistory.com/26?category=713249', 2),\n",
       " ('http://cscs0717.tistory.com/24?category=713249', 2),\n",
       " ('http://cscs0717.tistory.com/23?category=713249', 2),\n",
       " ('http://cscs0717.tistory.com/tag/%EB%B0%95%EB%B3%B4%EC%98%81', 2),\n",
       " ('http://cscs0717.tistory.com/tag/%EB%B0%95%EB%B3%B4%EC%98%81%20%EB%AA%B8%EB%A7%A4',\n",
       "  2),\n",
       " ('http://cscs0717.tistory.com/tag/%EB%B0%95%EB%B3%B4%EC%98%81%20%ED%82%A4',\n",
       "  2),\n",
       " ('http://listup.tistory.com/248#dkBody', 2),\n",
       " ('http://listup.tistory.com/248#dkGnb', 2),\n",
       " ('https://listup.tistory.com/manage/entry/post', 2),\n",
       " ('https://listup.tistory.com/manage', 2),\n",
       " ('http://listup.tistory.com/tag', 2),\n",
       " ('http://listup.tistory.com/guestbook', 2),\n",
       " ('https://listup.tistory.com/rss', 2),\n",
       " ('http://listup.tistory.com/category', 2),\n",
       " ('http://listup.tistory.com/248', 2),\n",
       " ('http://listup.tistory.com/248#none', 2),\n",
       " ('http://listup.tistory.com/tag/%EB%B0%95%EB%B3%B4%EC%98%81', 2),\n",
       " ('http://listup.tistory.com/tag/%EB%B0%95%EB%B3%B4%EC%98%81%20%EB%82%98%EC%9D%B4',\n",
       "  2),\n",
       " ('http://listup.tistory.com/tag/%EB%B0%95%EB%B3%B4%EC%98%81%20%EB%93%9C%EB%9D%BC%EB%A7%88',\n",
       "  2),\n",
       " ('http://listup.tistory.com/tag/%EB%B0%95%EB%B3%B4%EC%98%81%20%EC%96%B4%EB%B9%84%EC%8A%A4',\n",
       "  2),\n",
       " ('http://listup.tistory.com/tag/%EB%B0%95%EB%B3%B4%EC%98%81%20%EC%9D%B8%EC%8A%A4%ED%83%80%EA%B7%B8%EB%9E%A8',\n",
       "  2),\n",
       " ('http://listup.tistory.com/tag/%EB%B0%95%EB%B3%B4%EC%98%81%20%ED%82%A4', 2),\n",
       " ('http://listup.tistory.com/249', 2),\n",
       " ('http://listup.tistory.com/321', 2),\n",
       " ('http://listup.tistory.com/253', 2),\n",
       " ('http://listup.tistory.com/251', 2),\n",
       " ('http://listup.tistory.com/250', 2),\n",
       " ('http://listup.tistory.com/247', 2),\n",
       " ('http://listup.tistory.com/246', 2),\n",
       " ('http://listup.tistory.com/245', 2),\n",
       " ('http://listup.tistory.com/244', 2),\n",
       " ('http://34344541.tistory.com/43#content', 2),\n",
       " ('http://34344541.tistory.com/tag', 2),\n",
       " ('http://34344541.tistory.com/guestbook', 2),\n",
       " ('http://34344541.tistory.com/45?category=0', 2),\n",
       " ('http://34344541.tistory.com/44?category=0', 2),\n",
       " ('http://34344541.tistory.com/42?category=0', 2),\n",
       " ('http://34344541.tistory.com/41?category=0', 2),\n",
       " ('https://34344541.tistory.com/manage', 2)]"
      ]
     },
     "execution_count": 89,
     "metadata": {},
     "output_type": "execute_result"
    }
   ],
   "source": [
    "seen"
   ]
  },
  {
   "cell_type": "code",
   "execution_count": 90,
   "metadata": {},
   "outputs": [],
   "source": [
    "# id, url ,seen, date ->  \n",
    "# startwith, endwith 파이썬엔 있지유? 특정 url을 갖는 애들한테 접근하고 싶다? python이 아니라 SQL로 해야한다.\n",
    "# "
   ]
  },
  {
   "cell_type": "code",
   "execution_count": 92,
   "metadata": {},
   "outputs": [],
   "source": [
    "import sqlite3"
   ]
  },
  {
   "cell_type": "code",
   "execution_count": 93,
   "metadata": {},
   "outputs": [],
   "source": [
    "conn = sqlite3.connect(\"bot.db\")"
   ]
  },
  {
   "cell_type": "code",
   "execution_count": 95,
   "metadata": {},
   "outputs": [],
   "source": [
    "cur = conn.cursor()"
   ]
  },
  {
   "cell_type": "code",
   "execution_count": 96,
   "metadata": {},
   "outputs": [
    {
     "data": {
      "text/plain": [
       "<sqlite3.Cursor at 0x1506fe448f0>"
      ]
     },
     "execution_count": 96,
     "metadata": {},
     "output_type": "execute_result"
    }
   ],
   "source": [
    "cur.executescript(\"\"\"\n",
    "    CREATE TABLE table1(\n",
    "    id INTEGER PRIMARY KEY AUTOINCREMENT NOT NULL, \n",
    "    table2_id INTEGER NOT NULL,\n",
    "    path TEXT NOT NULL, \n",
    "    param TEXT NOT NULL,\n",
    "    seen BOOLEAN DEFAULT FALSE,\n",
    "    date TIMESTAMP DEFAULT CURRENT_TIMESTAMP NOT NULL\n",
    "    );\n",
    "\"\"\")"
   ]
  },
  {
   "cell_type": "code",
   "execution_count": 97,
   "metadata": {},
   "outputs": [
    {
     "data": {
      "text/plain": [
       "<sqlite3.Cursor at 0x1506fe448f0>"
      ]
     },
     "execution_count": 97,
     "metadata": {},
     "output_type": "execute_result"
    }
   ],
   "source": [
    "cur.executescript(\"\"\"\n",
    "    CREATE TABLE table2(\n",
    "    id INTEGER PRIMARY KEY AUTOINCREMENT NOT NULL,\n",
    "    netloc TEXT NOT NULL,\n",
    "    date TIMESTAMP DEFAULT CURRENT_TIMESTAMP NOT NULL\n",
    "    );\n",
    "\"\"\")"
   ]
  },
  {
   "cell_type": "code",
   "execution_count": 94,
   "metadata": {},
   "outputs": [
    {
     "ename": "NameError",
     "evalue": "name 'netloc' is not defined",
     "output_type": "error",
     "traceback": [
      "\u001b[1;31m---------------------------------------------------------------------------\u001b[0m",
      "\u001b[1;31mNameError\u001b[0m                                 Traceback (most recent call last)",
      "\u001b[1;32m<ipython-input-94-1f343d2aa24c>\u001b[0m in \u001b[0;36m<module>\u001b[1;34m()\u001b[0m\n\u001b[0;32m      1\u001b[0m \u001b[1;31m#table1 = id, url, seen, date\u001b[0m\u001b[1;33m\u001b[0m\u001b[1;33m\u001b[0m\u001b[0m\n\u001b[1;32m----> 2\u001b[1;33m \u001b[0mtable2\u001b[0m \u001b[1;33m=\u001b[0m \u001b[0mid\u001b[0m\u001b[1;33m,\u001b[0m \u001b[0mnetloc\u001b[0m\u001b[1;33m,\u001b[0m \u001b[0mdate\u001b[0m\u001b[1;33m\u001b[0m\u001b[0m\n\u001b[0m\u001b[0;32m      3\u001b[0m \u001b[0mtable1\u001b[0m \u001b[1;33m=\u001b[0m \u001b[0mid\u001b[0m\u001b[1;33m,\u001b[0m \u001b[0mpath\u001b[0m\u001b[1;33m,\u001b[0m \u001b[0mparam\u001b[0m\u001b[1;33m,\u001b[0m \u001b[0mseen\u001b[0m\u001b[1;33m,\u001b[0m \u001b[0mdate\u001b[0m\u001b[1;33m\u001b[0m\u001b[0m\n\u001b[0;32m      4\u001b[0m \u001b[0murl\u001b[0m \u001b[1;33m=\u001b[0m \u001b[0mnetloc\u001b[0m \u001b[1;33m+\u001b[0m \u001b[0mpath\u001b[0m \u001b[1;33m+\u001b[0m \u001b[0mparam\u001b[0m\u001b[1;33m\u001b[0m\u001b[0m\n\u001b[0;32m      5\u001b[0m \u001b[1;31m# 테이블을 쪼개면 쪼갤수록 효과적이다. 속도도 빠르고. ...\u001b[0m\u001b[1;33m\u001b[0m\u001b[1;33m\u001b[0m\u001b[0m\n",
      "\u001b[1;31mNameError\u001b[0m: name 'netloc' is not defined"
     ]
    }
   ],
   "source": [
    "#table1 = id, url, seen, date\n",
    "#table2 = id, netloc, date\n",
    "#table1 = id, path, param, seen, date\n",
    "#url = netloc + path + param\n",
    "# 테이블을 쪼개면 쪼갤수록 효과적이다. 속도도 빠르고. ... \n",
    "# Entity를 중복 최소화, 쪼ㅗ갤수 있을 만큼 쪼개야 한다. "
   ]
  },
  {
   "cell_type": "code",
   "execution_count": 98,
   "metadata": {},
   "outputs": [],
   "source": [
    "import requests\n",
    "import time\n",
    "\n",
    "def download(method, url, param = None, data = None, timeout = 1, maxretries = 3):\n",
    "#    headers = {\"user-agent\":\"Mozilla/5.0 (Windows NT 10.0; Win64; x64) AppleWebKit/537.36 (KHTML, like Gecko) Chrome/75.0.3770.100 Safari/537.36\"}\n",
    "    try: \n",
    "        resp = requests.request(method, url, params=param, data=data, headers = {'user-agent': 'Mozilla/5.0 (Windows NT 10.0; Win64; x64) AppleWebKit/537.36 (KHTML, like Gecko) Chrome/75.0.3770.100 Safari/537.36)'})\n",
    "        resp.raise_for_status()\n",
    "    except requests.exceptions.HTTPError as e:\n",
    "        if 500 <=e.response.status_code <= 600:\n",
    "            if maxretries > 0:\n",
    "                print(maxretries)\n",
    "                time.sleep(timeout)\n",
    "                resp = download(method, url, param, data, timeout, maxretries-1)\n",
    "                print('retry')\n",
    "            #print(type(e.response.status_code))\n",
    "        else:\n",
    "            print(e.response.status_code)\n",
    "            print(e.response.reason)\n",
    "        \n",
    "    return resp\n"
   ]
  },
  {
   "cell_type": "code",
   "execution_count": 109,
   "metadata": {},
   "outputs": [
    {
     "name": "stdout",
     "output_type": "stream",
     "text": [
      "8 (2,)\n",
      "8 (1,)\n",
      "8 (1,)\n",
      "8 (3,)\n",
      "8 (5,)\n",
      "8 (6,)\n",
      "8 (4,)\n",
      "8 (7,)\n",
      "8 (8,)\n"
     ]
    }
   ],
   "source": [
    "# Seed URLs -> DB Insert \n",
    "url = \"https://www.google.com/search\"\n",
    "param = {'q':'박보영'}\n",
    "html = download('get',url,param)\n",
    "dom = bs(html.text,'lxml')\n",
    "#[_find_parent()[\"href\"] for _ in dom.select(\".LC201b\")]\n",
    "#list2 = [(_['href']) for _ in dom.select(\".rc > .r a[href^http]\")]\n",
    "for href in  [(_.find_parent()[\"href\"]) for _ in dom.select(\".LC20lb\")]:\n",
    "    netloc = \"://\".join(requests.compat.urlparse(href)[:2])\n",
    "    cur.execute(\"SELECT id FROM table2 WHERE netloc=? LIMIT 0,1\", [netloc])\n",
    "    netlocID = cur.fetchone()\n",
    "    if not netlocID:\n",
    "        cur.execute(\"INSERT INTO table2(netloc) VALUES(?)\",[netloc])\n",
    "        conn.commit()\n",
    "        cur.execute(\"SELECT id FROM table2 WHERE netloc=? LIMIT 0,1\", [netloc])\n",
    "        netlocID = cur.fetchone()\n",
    "    \n",
    "    print(cur.lastrowid, netlocID)\n",
    "#print(list3)\n",
    "# DB SELECT LIMIT 0,1"
   ]
  },
  {
   "cell_type": "code",
   "execution_count": 113,
   "metadata": {},
   "outputs": [],
   "source": [
    "cur.close()"
   ]
  },
  {
   "cell_type": "code",
   "execution_count": 114,
   "metadata": {},
   "outputs": [
    {
     "name": "stdout",
     "output_type": "stream",
     "text": [
      "<sqlite3.Cursor object at 0x000001506FB56A40>\n"
     ]
    }
   ],
   "source": [
    "print(cur)"
   ]
  },
  {
   "cell_type": "code",
   "execution_count": null,
   "metadata": {},
   "outputs": [],
   "source": []
  },
  {
   "cell_type": "code",
   "execution_count": 119,
   "metadata": {},
   "outputs": [],
   "source": [
    "cur = conn.cursor()"
   ]
  },
  {
   "cell_type": "code",
   "execution_count": 122,
   "metadata": {},
   "outputs": [
    {
     "ename": "OperationalError",
     "evalue": "table table1 already exists",
     "output_type": "error",
     "traceback": [
      "\u001b[1;31m---------------------------------------------------------------------------\u001b[0m",
      "\u001b[1;31mOperationalError\u001b[0m                          Traceback (most recent call last)",
      "\u001b[1;32m<ipython-input-122-e2259b4e9a97>\u001b[0m in \u001b[0;36m<module>\u001b[1;34m()\u001b[0m\n\u001b[0;32m     13\u001b[0m     \u001b[0mdate\u001b[0m \u001b[0mTIMESTAMP\u001b[0m \u001b[0mDEFAULT\u001b[0m \u001b[0mCURRENT_TIMESTAMP\u001b[0m \u001b[0mNOT\u001b[0m \u001b[0mNULL\u001b[0m\u001b[1;33m\u001b[0m\u001b[0m\n\u001b[0;32m     14\u001b[0m     );\n\u001b[1;32m---> 15\u001b[1;33m \"\"\")\n\u001b[0m\u001b[0;32m     16\u001b[0m \u001b[0mconn\u001b[0m\u001b[1;33m.\u001b[0m\u001b[0mcommit\u001b[0m\u001b[1;33m(\u001b[0m\u001b[1;33m)\u001b[0m\u001b[1;33m\u001b[0m\u001b[0m\n",
      "\u001b[1;31mOperationalError\u001b[0m: table table1 already exists"
     ]
    }
   ],
   "source": [
    "cur.executescript(\"\"\"\n",
    "    CREATE TABLE table1(\n",
    "    id INTEGER PRIMARY KEY AUTOINCREMENT NOT NULL, \n",
    "    table2_id INTEGER NOT NULL,\n",
    "    path TEXT NOT NULL, \n",
    "    param TEXT,\n",
    "    seen BOOLEAN DEFAULT FALSE,\n",
    "    date TIMESTAMP DEFAULT CURRENT_TIMESTAMP NOT NULL\n",
    "    );\n",
    "    CREATE TABLE table2(\n",
    "    id INTEGER PRIMARY KEY AUTOINCREMENT NOT NULL,\n",
    "    netloc TEXT NOT NULL,\n",
    "    date TIMESTAMP DEFAULT CURRENT_TIMESTAMP NOT NULL\n",
    "    );\n",
    "\"\"\")\n",
    "conn.commit()"
   ]
  },
  {
   "cell_type": "code",
   "execution_count": 187,
   "metadata": {},
   "outputs": [],
   "source": [
    "cur.close()"
   ]
  },
  {
   "cell_type": "code",
   "execution_count": 188,
   "metadata": {},
   "outputs": [],
   "source": [
    "conn1.close()"
   ]
  },
  {
   "cell_type": "code",
   "execution_count": 212,
   "metadata": {},
   "outputs": [],
   "source": [
    "con = sqlite3.connect('bot2.db')"
   ]
  },
  {
   "cell_type": "code",
   "execution_count": 213,
   "metadata": {},
   "outputs": [],
   "source": [
    "cur = con.cursor()"
   ]
  },
  {
   "cell_type": "code",
   "execution_count": 214,
   "metadata": {},
   "outputs": [
    {
     "data": {
      "text/plain": [
       "<function Connection.commit>"
      ]
     },
     "execution_count": 214,
     "metadata": {},
     "output_type": "execute_result"
    }
   ],
   "source": [
    "cur.executescript(\"\"\"\n",
    "    DROP TABLE IF EXISTS table1;\n",
    "    DROP TABLE IF EXISTS table2;\n",
    "    CREATE TABLE table1(\n",
    "        id INTEGER PRIMARY KEY AUTOINCREMENT NOT NULL,\n",
    "        table2_id INTEGER NOT NULL,\n",
    "        path TEXT NOT NULL,\n",
    "        param TEXT, \n",
    "        seen BOOLEAN DEFAULT FALSE,\n",
    "        date TIMESTAMP DEFAULT CURRENT_TIMESTAMP NOT NULL\n",
    "    );\n",
    "    \n",
    "    DROP TABLE IF EXISTS table2;\n",
    "    CREATE TABLE table2(\n",
    "        id INTEGER PRIMARY KEY AUTOINCREMENT NOT NULL,\n",
    "        netloc TEXT NOT NULL,\n",
    "        date TIMESTAMP DEFAULT CURRENT_TIMESTAMP NOT NULL\n",
    "    );\n",
    "    \n",
    "\"\"\")\n",
    "\n",
    "con.commit"
   ]
  },
  {
   "cell_type": "code",
   "execution_count": 215,
   "metadata": {},
   "outputs": [],
   "source": [
    "def parseURL(seed):\n",
    "    html = download(\"get\", seed)\n",
    "    dom = bs(html.text, \"lxml\")\n",
    "    return [requests.compat.urljoin(seed, _[\"href\"])\n",
    " for _ in dom.find_all(\"a\") \n",
    "        if _.has_attr(\"href\") and len(_[\"href\"]) > 3]"
   ]
  },
  {
   "cell_type": "code",
   "execution_count": 222,
   "metadata": {
    "scrolled": true
   },
   "outputs": [
    {
     "ename": "IntegrityError",
     "evalue": "NOT NULL constraint failed: table1.depth",
     "output_type": "error",
     "traceback": [
      "\u001b[1;31m---------------------------------------------------------------------------\u001b[0m",
      "\u001b[1;31mIntegrityError\u001b[0m                            Traceback (most recent call last)",
      "\u001b[1;32m<ipython-input-222-2e7f7bc30658>\u001b[0m in \u001b[0;36m<module>\u001b[1;34m()\u001b[0m\n\u001b[0;32m     18\u001b[0m \u001b[1;33m\u001b[0m\u001b[0m\n\u001b[0;32m     19\u001b[0m     cur.execute(\"INSERT INTO table1(table2_id, path, param) VALUES(?,?,?)\",\n\u001b[1;32m---> 20\u001b[1;33m                [netlocID[0], _urlparse[2], _urlparse[4]])\n\u001b[0m\u001b[0;32m     21\u001b[0m     \u001b[0mcon\u001b[0m\u001b[1;33m.\u001b[0m\u001b[0mcommit\u001b[0m\u001b[1;33m(\u001b[0m\u001b[1;33m)\u001b[0m\u001b[1;33m\u001b[0m\u001b[0m\n",
      "\u001b[1;31mIntegrityError\u001b[0m: NOT NULL constraint failed: table1.depth"
     ]
    }
   ],
   "source": [
    "url = \"https://www.google.com/search\"\n",
    "param = {\"q\":\"박보영\"}\n",
    "html = download(\"get\",url,param)\n",
    "dom = bs(html.text, \"lxml\")\n",
    "\n",
    "\n",
    "for href in [_.find_parent()[\"href\"] for _ in dom.select(\".LC20lb\")]:\n",
    "    _urlparse = requests.compat.urlparse(href)\n",
    "    netloc = \"://\".join(_urlparse[:2])\n",
    "    cur.execute(\"SELECT id FROM table2 WHERE netloc=? LIMIT 0,1\", [netloc])\n",
    "    \n",
    "    netlocID = cur.fetchone()\n",
    "    if not netlocID:\n",
    "        cur.execute(\"INSERT INTO table2(netloc) VALUES(?)\",[netloc])\n",
    "        con.commit()\n",
    "        cur.execute(\"SELECT id FROM table2 WHERE netloc=? LIMIT 0,1\", [netloc])\n",
    "        netlocID = cur.fetchone()\n",
    "        \n",
    "    cur.execute(\"INSERT INTO table1(table2_id, path, param) VALUES(?,?,?)\",\n",
    "               [netlocID[0], _urlparse[2], _urlparse[4]])\n",
    "    con.commit()"
   ]
  },
  {
   "cell_type": "code",
   "execution_count": 208,
   "metadata": {},
   "outputs": [
    {
     "ename": "NameError",
     "evalue": "name 'i' is not defined",
     "output_type": "error",
     "traceback": [
      "\u001b[1;31m---------------------------------------------------------------------------\u001b[0m",
      "\u001b[1;31mNameError\u001b[0m                                 Traceback (most recent call last)",
      "\u001b[1;32m<ipython-input-208-8bbfb4136aee>\u001b[0m in \u001b[0;36m<module>\u001b[1;34m()\u001b[0m\n\u001b[0;32m      9\u001b[0m     \"\"\")\n\u001b[0;32m     10\u001b[0m     \u001b[0mseed\u001b[0m \u001b[1;33m=\u001b[0m \u001b[0mcur\u001b[0m\u001b[1;33m.\u001b[0m\u001b[0mfetchone\u001b[0m\u001b[1;33m(\u001b[0m\u001b[1;33m)\u001b[0m\u001b[1;33m\u001b[0m\u001b[0m\n\u001b[1;32m---> 11\u001b[1;33m     \u001b[1;32mif\u001b[0m \u001b[1;32mnot\u001b[0m \u001b[0mseed\u001b[0m \u001b[1;32mor\u001b[0m \u001b[0mi\u001b[0m \u001b[1;33m>\u001b[0m \u001b[1;36m1000\u001b[0m\u001b[1;33m:\u001b[0m\u001b[1;33m\u001b[0m\u001b[0m\n\u001b[0m\u001b[0;32m     12\u001b[0m         \u001b[1;32mbreak\u001b[0m\u001b[1;33m;\u001b[0m\u001b[1;33m\u001b[0m\u001b[0m\n\u001b[0;32m     13\u001b[0m     \u001b[0mi\u001b[0m \u001b[1;33m+=\u001b[0m \u001b[1;36m1\u001b[0m\u001b[1;33m\u001b[0m\u001b[0m\n",
      "\u001b[1;31mNameError\u001b[0m: name 'i' is not defined"
     ]
    }
   ],
   "source": [
    "while True:\n",
    "    cur.execute(\"\"\"\n",
    "        SELECT table1.id, table2.netloc, table1.path, table1.param \n",
    "        FROM table1 JOIN table2 \n",
    "        ON table1.table2_id = table2.id \n",
    "        WHERE table1.seen = \"FALSE\"\n",
    "        ORDER BY table1.date ASC\n",
    "        LIMIT 0,1;\n",
    "    \"\"\")\n",
    "    seed = cur.fetchone()\n",
    "    if not seed or i > 1000:\n",
    "        break;\n",
    "    i += 1\n",
    "    cur.execute(\"\"\"\n",
    "        UPDATE table1 SET seen=\"TRUE\"\n",
    "        WHERE id=?\n",
    "    \"\"\", [seed[0]])\n",
    "    con.commit()\n",
    "    \n",
    "    baseURL = \"{0}{1}?{2}\".format(seed[1], seed[2], seed[3])\n",
    "    for href in parseURL(baseURL):\n",
    "        _urlparse = requests.compat.urlparse(href)\n",
    "        netloc = \"://\".join(_urlparse[:2])\n",
    "        cur.execute(\"SELECT id FROM table2 WHERE netloc=? LIMIT 0,1\", [netloc])\n",
    "\n",
    "        netlocID = cur.fetchone()\n",
    "        if not netlocID:\n",
    "            cur.execute(\"INSERT INTO table2(netloc) VALUES(?)\",[netloc])\n",
    "            con.commit()\n",
    "            cur.execute(\"SELECT id FROM table2 WHERE netloc=? LIMIT 0,1\", [netloc])\n",
    "            netlocID = cur.fetchone()\n"
   ]
  },
  {
   "cell_type": "code",
   "execution_count": 269,
   "metadata": {},
   "outputs": [
    {
     "name": "stdout",
     "output_type": "stream",
     "text": [
      "https://namu.wiki\n",
      "https://ko.wikipedia.org\n",
      "https://ko.wikipedia.org\n",
      "https://news.joins.com\n",
      "https://movie.daum.net\n",
      "http://m.cafe.daum.net\n",
      "https://www.msn.com\n",
      "https://twitter.com\n",
      "http://www.synnara.co.kr\n"
     ]
    }
   ],
   "source": [
    "url = \"https://www.google.com/search\"\n",
    "param = {\"q\":\"박보영\"}\n",
    "html = download(\"get\",url,param)\n",
    "dom = bs(html.text, \"lxml\")\n",
    "\n",
    "\n",
    "for href in [_.find_parent()[\"href\"] for _ in dom.select(\".LC20lb\")]:\n",
    "    _urlparse = requests.compat.urlparse(href)\n",
    "    netloc = \"://\".join(_urlparse[:2])\n",
    "    print(netloc)\n",
    "    cur.execute(\"SELECT id FROM table2 WHERE netloc=? LIMIT 0,1\", [netloc])\n",
    "    \n",
    "    netlocID = cur.fetchone()\n",
    "    if not netlocID:\n",
    "        cur.execute(\"INSERT INTO table2(netloc) VALUES(?)\",[netloc])\n",
    "        con.commit()\n",
    "        cur.execute(\"SELECT id FROM table2 WHERE netloc=? LIMIT 0,1\", [netloc])\n",
    "        netlocID = cur.fetchone()\n",
    "    #cur.execute('''\n",
    "    #INSERT INTO table1(table2_id, path, param, depth) VALUES(?,?,?,?)\" \n",
    "    #''', [ netlocID[0], _urlparse[2], _urlparse[3], _urlparse[4] )    \n",
    "    cur.execute(\"INSERT INTO table1(table2_id, path, param, depth,inbound) VALUES(?,?,?,?,?)\",[netlocID[0], _urlparse[2], _urlparse[4], 1, 0])\n",
    "    con.commit()"
   ]
  },
  {
   "cell_type": "code",
   "execution_count": 279,
   "metadata": {},
   "outputs": [
    {
     "data": {
      "text/plain": [
       "ParseResult(scheme='http', netloc='www.synnara.co.kr', path='/sp/SP900.do', params='', query='topmenu=N&mem_id=D000219965', fragment='')"
      ]
     },
     "execution_count": 279,
     "metadata": {},
     "output_type": "execute_result"
    }
   ],
   "source": [
    "_urlparse"
   ]
  },
  {
   "cell_type": "code",
   "execution_count": 278,
   "metadata": {},
   "outputs": [
    {
     "data": {
      "text/plain": [
       "'www.synnara.co.kr'"
      ]
     },
     "execution_count": 278,
     "metadata": {},
     "output_type": "execute_result"
    }
   ],
   "source": [
    "_urlparse[1]"
   ]
  },
  {
   "cell_type": "code",
   "execution_count": 277,
   "metadata": {},
   "outputs": [
    {
     "data": {
      "text/plain": [
       "'wawawa.asayananaaaraaa.acaoa.akar'"
      ]
     },
     "execution_count": 277,
     "metadata": {},
     "output_type": "execute_result"
    }
   ],
   "source": [
    "\"a\".join(_urlparse[1])"
   ]
  },
  {
   "cell_type": "code",
   "execution_count": null,
   "metadata": {},
   "outputs": [],
   "source": []
  },
  {
   "cell_type": "code",
   "execution_count": 243,
   "metadata": {},
   "outputs": [
    {
     "ename": "KeyboardInterrupt",
     "evalue": "",
     "output_type": "error",
     "traceback": [
      "\u001b[1;31m---------------------------------------------------------------------------\u001b[0m",
      "\u001b[1;31mTypeError\u001b[0m                                 Traceback (most recent call last)",
      "\u001b[1;32mC:\\Program Files (x86)\\Microsoft Visual Studio\\Shared\\Anaconda3_64\\lib\\site-packages\\urllib3\\connectionpool.py\u001b[0m in \u001b[0;36m_make_request\u001b[1;34m(self, conn, method, url, timeout, chunked, **httplib_request_kw)\u001b[0m\n\u001b[0;32m    379\u001b[0m             \u001b[1;32mtry\u001b[0m\u001b[1;33m:\u001b[0m  \u001b[1;31m# Python 2.7, use buffering of HTTP responses\u001b[0m\u001b[1;33m\u001b[0m\u001b[0m\n\u001b[1;32m--> 380\u001b[1;33m                 \u001b[0mhttplib_response\u001b[0m \u001b[1;33m=\u001b[0m \u001b[0mconn\u001b[0m\u001b[1;33m.\u001b[0m\u001b[0mgetresponse\u001b[0m\u001b[1;33m(\u001b[0m\u001b[0mbuffering\u001b[0m\u001b[1;33m=\u001b[0m\u001b[1;32mTrue\u001b[0m\u001b[1;33m)\u001b[0m\u001b[1;33m\u001b[0m\u001b[0m\n\u001b[0m\u001b[0;32m    381\u001b[0m             \u001b[1;32mexcept\u001b[0m \u001b[0mTypeError\u001b[0m\u001b[1;33m:\u001b[0m  \u001b[1;31m# Python 2.6 and older, Python 3\u001b[0m\u001b[1;33m\u001b[0m\u001b[0m\n",
      "\u001b[1;31mTypeError\u001b[0m: getresponse() got an unexpected keyword argument 'buffering'",
      "\nDuring handling of the above exception, another exception occurred:\n",
      "\u001b[1;31mKeyboardInterrupt\u001b[0m                         Traceback (most recent call last)",
      "\u001b[1;32m<ipython-input-243-ebf08b959fd8>\u001b[0m in \u001b[0;36m<module>\u001b[1;34m()\u001b[0m\n\u001b[0;32m     23\u001b[0m \u001b[1;33m\u001b[0m\u001b[0m\n\u001b[0;32m     24\u001b[0m     \u001b[0mbaseURL\u001b[0m \u001b[1;33m=\u001b[0m \u001b[1;34m\"{0}{1}?{2}\"\u001b[0m\u001b[1;33m.\u001b[0m\u001b[0mformat\u001b[0m\u001b[1;33m(\u001b[0m\u001b[0mseed\u001b[0m\u001b[1;33m[\u001b[0m\u001b[1;36m1\u001b[0m\u001b[1;33m]\u001b[0m\u001b[1;33m,\u001b[0m \u001b[0mseed\u001b[0m\u001b[1;33m[\u001b[0m\u001b[1;36m2\u001b[0m\u001b[1;33m]\u001b[0m\u001b[1;33m,\u001b[0m \u001b[0mseed\u001b[0m\u001b[1;33m[\u001b[0m\u001b[1;36m3\u001b[0m\u001b[1;33m]\u001b[0m\u001b[1;33m)\u001b[0m\u001b[1;33m\u001b[0m\u001b[0m\n\u001b[1;32m---> 25\u001b[1;33m     \u001b[1;32mfor\u001b[0m \u001b[0mhref\u001b[0m \u001b[1;32min\u001b[0m \u001b[0mparseURL\u001b[0m\u001b[1;33m(\u001b[0m\u001b[0mbaseURL\u001b[0m\u001b[1;33m)\u001b[0m\u001b[1;33m:\u001b[0m\u001b[1;33m\u001b[0m\u001b[0m\n\u001b[0m\u001b[0;32m     26\u001b[0m         \u001b[0m_urlparse\u001b[0m \u001b[1;33m=\u001b[0m \u001b[0mrequests\u001b[0m\u001b[1;33m.\u001b[0m\u001b[0mcompat\u001b[0m\u001b[1;33m.\u001b[0m\u001b[0murlparse\u001b[0m\u001b[1;33m(\u001b[0m\u001b[0mhref\u001b[0m\u001b[1;33m)\u001b[0m\u001b[1;33m\u001b[0m\u001b[0m\n\u001b[0;32m     27\u001b[0m         \u001b[0mnetloc\u001b[0m \u001b[1;33m=\u001b[0m \u001b[1;34m\"://\"\u001b[0m\u001b[1;33m.\u001b[0m\u001b[0mjoin\u001b[0m\u001b[1;33m(\u001b[0m\u001b[0m_urlparse\u001b[0m\u001b[1;33m[\u001b[0m\u001b[1;33m:\u001b[0m\u001b[1;36m2\u001b[0m\u001b[1;33m]\u001b[0m\u001b[1;33m)\u001b[0m\u001b[1;33m\u001b[0m\u001b[0m\n",
      "\u001b[1;32m<ipython-input-215-8812dcd11799>\u001b[0m in \u001b[0;36mparseURL\u001b[1;34m(seed)\u001b[0m\n\u001b[0;32m      1\u001b[0m \u001b[1;32mdef\u001b[0m \u001b[0mparseURL\u001b[0m\u001b[1;33m(\u001b[0m\u001b[0mseed\u001b[0m\u001b[1;33m)\u001b[0m\u001b[1;33m:\u001b[0m\u001b[1;33m\u001b[0m\u001b[0m\n\u001b[1;32m----> 2\u001b[1;33m     \u001b[0mhtml\u001b[0m \u001b[1;33m=\u001b[0m \u001b[0mdownload\u001b[0m\u001b[1;33m(\u001b[0m\u001b[1;34m\"get\"\u001b[0m\u001b[1;33m,\u001b[0m \u001b[0mseed\u001b[0m\u001b[1;33m)\u001b[0m\u001b[1;33m\u001b[0m\u001b[0m\n\u001b[0m\u001b[0;32m      3\u001b[0m     \u001b[0mdom\u001b[0m \u001b[1;33m=\u001b[0m \u001b[0mbs\u001b[0m\u001b[1;33m(\u001b[0m\u001b[0mhtml\u001b[0m\u001b[1;33m.\u001b[0m\u001b[0mtext\u001b[0m\u001b[1;33m,\u001b[0m \u001b[1;34m\"lxml\"\u001b[0m\u001b[1;33m)\u001b[0m\u001b[1;33m\u001b[0m\u001b[0m\n\u001b[0;32m      4\u001b[0m     return [requests.compat.urljoin(seed, _[\"href\"])\n\u001b[0;32m      5\u001b[0m  \u001b[1;32mfor\u001b[0m \u001b[0m_\u001b[0m \u001b[1;32min\u001b[0m \u001b[0mdom\u001b[0m\u001b[1;33m.\u001b[0m\u001b[0mfind_all\u001b[0m\u001b[1;33m(\u001b[0m\u001b[1;34m\"a\"\u001b[0m\u001b[1;33m)\u001b[0m\u001b[1;33m\u001b[0m\u001b[0m\n",
      "\u001b[1;32m<ipython-input-98-1efbd68c1257>\u001b[0m in \u001b[0;36mdownload\u001b[1;34m(method, url, param, data, timeout, maxretries)\u001b[0m\n\u001b[0;32m      5\u001b[0m \u001b[1;31m#    headers = {\"user-agent\":\"Mozilla/5.0 (Windows NT 10.0; Win64; x64) AppleWebKit/537.36 (KHTML, like Gecko) Chrome/75.0.3770.100 Safari/537.36\"}\u001b[0m\u001b[1;33m\u001b[0m\u001b[1;33m\u001b[0m\u001b[0m\n\u001b[0;32m      6\u001b[0m     \u001b[1;32mtry\u001b[0m\u001b[1;33m:\u001b[0m\u001b[1;33m\u001b[0m\u001b[0m\n\u001b[1;32m----> 7\u001b[1;33m         \u001b[0mresp\u001b[0m \u001b[1;33m=\u001b[0m \u001b[0mrequests\u001b[0m\u001b[1;33m.\u001b[0m\u001b[0mrequest\u001b[0m\u001b[1;33m(\u001b[0m\u001b[0mmethod\u001b[0m\u001b[1;33m,\u001b[0m \u001b[0murl\u001b[0m\u001b[1;33m,\u001b[0m \u001b[0mparams\u001b[0m\u001b[1;33m=\u001b[0m\u001b[0mparam\u001b[0m\u001b[1;33m,\u001b[0m \u001b[0mdata\u001b[0m\u001b[1;33m=\u001b[0m\u001b[0mdata\u001b[0m\u001b[1;33m,\u001b[0m \u001b[0mheaders\u001b[0m \u001b[1;33m=\u001b[0m \u001b[1;33m{\u001b[0m\u001b[1;34m'user-agent'\u001b[0m\u001b[1;33m:\u001b[0m \u001b[1;34m'Mozilla/5.0 (Windows NT 10.0; Win64; x64) AppleWebKit/537.36 (KHTML, like Gecko) Chrome/75.0.3770.100 Safari/537.36)'\u001b[0m\u001b[1;33m}\u001b[0m\u001b[1;33m)\u001b[0m\u001b[1;33m\u001b[0m\u001b[0m\n\u001b[0m\u001b[0;32m      8\u001b[0m         \u001b[0mresp\u001b[0m\u001b[1;33m.\u001b[0m\u001b[0mraise_for_status\u001b[0m\u001b[1;33m(\u001b[0m\u001b[1;33m)\u001b[0m\u001b[1;33m\u001b[0m\u001b[0m\n\u001b[0;32m      9\u001b[0m     \u001b[1;32mexcept\u001b[0m \u001b[0mrequests\u001b[0m\u001b[1;33m.\u001b[0m\u001b[0mexceptions\u001b[0m\u001b[1;33m.\u001b[0m\u001b[0mHTTPError\u001b[0m \u001b[1;32mas\u001b[0m \u001b[0me\u001b[0m\u001b[1;33m:\u001b[0m\u001b[1;33m\u001b[0m\u001b[0m\n",
      "\u001b[1;32mC:\\Program Files (x86)\\Microsoft Visual Studio\\Shared\\Anaconda3_64\\lib\\site-packages\\requests\\api.py\u001b[0m in \u001b[0;36mrequest\u001b[1;34m(method, url, **kwargs)\u001b[0m\n\u001b[0;32m     56\u001b[0m     \u001b[1;31m# cases, and look like a memory leak in others.\u001b[0m\u001b[1;33m\u001b[0m\u001b[1;33m\u001b[0m\u001b[0m\n\u001b[0;32m     57\u001b[0m     \u001b[1;32mwith\u001b[0m \u001b[0msessions\u001b[0m\u001b[1;33m.\u001b[0m\u001b[0mSession\u001b[0m\u001b[1;33m(\u001b[0m\u001b[1;33m)\u001b[0m \u001b[1;32mas\u001b[0m \u001b[0msession\u001b[0m\u001b[1;33m:\u001b[0m\u001b[1;33m\u001b[0m\u001b[0m\n\u001b[1;32m---> 58\u001b[1;33m         \u001b[1;32mreturn\u001b[0m \u001b[0msession\u001b[0m\u001b[1;33m.\u001b[0m\u001b[0mrequest\u001b[0m\u001b[1;33m(\u001b[0m\u001b[0mmethod\u001b[0m\u001b[1;33m=\u001b[0m\u001b[0mmethod\u001b[0m\u001b[1;33m,\u001b[0m \u001b[0murl\u001b[0m\u001b[1;33m=\u001b[0m\u001b[0murl\u001b[0m\u001b[1;33m,\u001b[0m \u001b[1;33m**\u001b[0m\u001b[0mkwargs\u001b[0m\u001b[1;33m)\u001b[0m\u001b[1;33m\u001b[0m\u001b[0m\n\u001b[0m\u001b[0;32m     59\u001b[0m \u001b[1;33m\u001b[0m\u001b[0m\n\u001b[0;32m     60\u001b[0m \u001b[1;33m\u001b[0m\u001b[0m\n",
      "\u001b[1;32mC:\\Program Files (x86)\\Microsoft Visual Studio\\Shared\\Anaconda3_64\\lib\\site-packages\\requests\\sessions.py\u001b[0m in \u001b[0;36mrequest\u001b[1;34m(self, method, url, params, data, headers, cookies, files, auth, timeout, allow_redirects, proxies, hooks, stream, verify, cert, json)\u001b[0m\n\u001b[0;32m    506\u001b[0m         }\n\u001b[0;32m    507\u001b[0m         \u001b[0msend_kwargs\u001b[0m\u001b[1;33m.\u001b[0m\u001b[0mupdate\u001b[0m\u001b[1;33m(\u001b[0m\u001b[0msettings\u001b[0m\u001b[1;33m)\u001b[0m\u001b[1;33m\u001b[0m\u001b[0m\n\u001b[1;32m--> 508\u001b[1;33m         \u001b[0mresp\u001b[0m \u001b[1;33m=\u001b[0m \u001b[0mself\u001b[0m\u001b[1;33m.\u001b[0m\u001b[0msend\u001b[0m\u001b[1;33m(\u001b[0m\u001b[0mprep\u001b[0m\u001b[1;33m,\u001b[0m \u001b[1;33m**\u001b[0m\u001b[0msend_kwargs\u001b[0m\u001b[1;33m)\u001b[0m\u001b[1;33m\u001b[0m\u001b[0m\n\u001b[0m\u001b[0;32m    509\u001b[0m \u001b[1;33m\u001b[0m\u001b[0m\n\u001b[0;32m    510\u001b[0m         \u001b[1;32mreturn\u001b[0m \u001b[0mresp\u001b[0m\u001b[1;33m\u001b[0m\u001b[0m\n",
      "\u001b[1;32mC:\\Program Files (x86)\\Microsoft Visual Studio\\Shared\\Anaconda3_64\\lib\\site-packages\\requests\\sessions.py\u001b[0m in \u001b[0;36msend\u001b[1;34m(self, request, **kwargs)\u001b[0m\n\u001b[0;32m    616\u001b[0m \u001b[1;33m\u001b[0m\u001b[0m\n\u001b[0;32m    617\u001b[0m         \u001b[1;31m# Send the request\u001b[0m\u001b[1;33m\u001b[0m\u001b[1;33m\u001b[0m\u001b[0m\n\u001b[1;32m--> 618\u001b[1;33m         \u001b[0mr\u001b[0m \u001b[1;33m=\u001b[0m \u001b[0madapter\u001b[0m\u001b[1;33m.\u001b[0m\u001b[0msend\u001b[0m\u001b[1;33m(\u001b[0m\u001b[0mrequest\u001b[0m\u001b[1;33m,\u001b[0m \u001b[1;33m**\u001b[0m\u001b[0mkwargs\u001b[0m\u001b[1;33m)\u001b[0m\u001b[1;33m\u001b[0m\u001b[0m\n\u001b[0m\u001b[0;32m    619\u001b[0m \u001b[1;33m\u001b[0m\u001b[0m\n\u001b[0;32m    620\u001b[0m         \u001b[1;31m# Total elapsed time of the request (approximately)\u001b[0m\u001b[1;33m\u001b[0m\u001b[1;33m\u001b[0m\u001b[0m\n",
      "\u001b[1;32mC:\\Program Files (x86)\\Microsoft Visual Studio\\Shared\\Anaconda3_64\\lib\\site-packages\\requests\\adapters.py\u001b[0m in \u001b[0;36msend\u001b[1;34m(self, request, stream, timeout, verify, cert, proxies)\u001b[0m\n\u001b[0;32m    438\u001b[0m                     \u001b[0mdecode_content\u001b[0m\u001b[1;33m=\u001b[0m\u001b[1;32mFalse\u001b[0m\u001b[1;33m,\u001b[0m\u001b[1;33m\u001b[0m\u001b[0m\n\u001b[0;32m    439\u001b[0m                     \u001b[0mretries\u001b[0m\u001b[1;33m=\u001b[0m\u001b[0mself\u001b[0m\u001b[1;33m.\u001b[0m\u001b[0mmax_retries\u001b[0m\u001b[1;33m,\u001b[0m\u001b[1;33m\u001b[0m\u001b[0m\n\u001b[1;32m--> 440\u001b[1;33m                     \u001b[0mtimeout\u001b[0m\u001b[1;33m=\u001b[0m\u001b[0mtimeout\u001b[0m\u001b[1;33m\u001b[0m\u001b[0m\n\u001b[0m\u001b[0;32m    441\u001b[0m                 )\n\u001b[0;32m    442\u001b[0m \u001b[1;33m\u001b[0m\u001b[0m\n",
      "\u001b[1;32mC:\\Program Files (x86)\\Microsoft Visual Studio\\Shared\\Anaconda3_64\\lib\\site-packages\\urllib3\\connectionpool.py\u001b[0m in \u001b[0;36murlopen\u001b[1;34m(self, method, url, body, headers, retries, redirect, assert_same_host, timeout, pool_timeout, release_conn, chunked, body_pos, **response_kw)\u001b[0m\n\u001b[0;32m    599\u001b[0m                                                   \u001b[0mtimeout\u001b[0m\u001b[1;33m=\u001b[0m\u001b[0mtimeout_obj\u001b[0m\u001b[1;33m,\u001b[0m\u001b[1;33m\u001b[0m\u001b[0m\n\u001b[0;32m    600\u001b[0m                                                   \u001b[0mbody\u001b[0m\u001b[1;33m=\u001b[0m\u001b[0mbody\u001b[0m\u001b[1;33m,\u001b[0m \u001b[0mheaders\u001b[0m\u001b[1;33m=\u001b[0m\u001b[0mheaders\u001b[0m\u001b[1;33m,\u001b[0m\u001b[1;33m\u001b[0m\u001b[0m\n\u001b[1;32m--> 601\u001b[1;33m                                                   chunked=chunked)\n\u001b[0m\u001b[0;32m    602\u001b[0m \u001b[1;33m\u001b[0m\u001b[0m\n\u001b[0;32m    603\u001b[0m             \u001b[1;31m# If we're going to release the connection in ``finally:``, then\u001b[0m\u001b[1;33m\u001b[0m\u001b[1;33m\u001b[0m\u001b[0m\n",
      "\u001b[1;32mC:\\Program Files (x86)\\Microsoft Visual Studio\\Shared\\Anaconda3_64\\lib\\site-packages\\urllib3\\connectionpool.py\u001b[0m in \u001b[0;36m_make_request\u001b[1;34m(self, conn, method, url, timeout, chunked, **httplib_request_kw)\u001b[0m\n\u001b[0;32m    381\u001b[0m             \u001b[1;32mexcept\u001b[0m \u001b[0mTypeError\u001b[0m\u001b[1;33m:\u001b[0m  \u001b[1;31m# Python 2.6 and older, Python 3\u001b[0m\u001b[1;33m\u001b[0m\u001b[0m\n\u001b[0;32m    382\u001b[0m                 \u001b[1;32mtry\u001b[0m\u001b[1;33m:\u001b[0m\u001b[1;33m\u001b[0m\u001b[0m\n\u001b[1;32m--> 383\u001b[1;33m                     \u001b[0mhttplib_response\u001b[0m \u001b[1;33m=\u001b[0m \u001b[0mconn\u001b[0m\u001b[1;33m.\u001b[0m\u001b[0mgetresponse\u001b[0m\u001b[1;33m(\u001b[0m\u001b[1;33m)\u001b[0m\u001b[1;33m\u001b[0m\u001b[0m\n\u001b[0m\u001b[0;32m    384\u001b[0m                 \u001b[1;32mexcept\u001b[0m \u001b[0mException\u001b[0m \u001b[1;32mas\u001b[0m \u001b[0me\u001b[0m\u001b[1;33m:\u001b[0m\u001b[1;33m\u001b[0m\u001b[0m\n\u001b[0;32m    385\u001b[0m                     \u001b[1;31m# Remove the TypeError from the exception chain in Python 3;\u001b[0m\u001b[1;33m\u001b[0m\u001b[1;33m\u001b[0m\u001b[0m\n",
      "\u001b[1;32mC:\\Program Files (x86)\\Microsoft Visual Studio\\Shared\\Anaconda3_64\\lib\\http\\client.py\u001b[0m in \u001b[0;36mgetresponse\u001b[1;34m(self)\u001b[0m\n\u001b[0;32m   1329\u001b[0m         \u001b[1;32mtry\u001b[0m\u001b[1;33m:\u001b[0m\u001b[1;33m\u001b[0m\u001b[0m\n\u001b[0;32m   1330\u001b[0m             \u001b[1;32mtry\u001b[0m\u001b[1;33m:\u001b[0m\u001b[1;33m\u001b[0m\u001b[0m\n\u001b[1;32m-> 1331\u001b[1;33m                 \u001b[0mresponse\u001b[0m\u001b[1;33m.\u001b[0m\u001b[0mbegin\u001b[0m\u001b[1;33m(\u001b[0m\u001b[1;33m)\u001b[0m\u001b[1;33m\u001b[0m\u001b[0m\n\u001b[0m\u001b[0;32m   1332\u001b[0m             \u001b[1;32mexcept\u001b[0m \u001b[0mConnectionError\u001b[0m\u001b[1;33m:\u001b[0m\u001b[1;33m\u001b[0m\u001b[0m\n\u001b[0;32m   1333\u001b[0m                 \u001b[0mself\u001b[0m\u001b[1;33m.\u001b[0m\u001b[0mclose\u001b[0m\u001b[1;33m(\u001b[0m\u001b[1;33m)\u001b[0m\u001b[1;33m\u001b[0m\u001b[0m\n",
      "\u001b[1;32mC:\\Program Files (x86)\\Microsoft Visual Studio\\Shared\\Anaconda3_64\\lib\\http\\client.py\u001b[0m in \u001b[0;36mbegin\u001b[1;34m(self)\u001b[0m\n\u001b[0;32m    295\u001b[0m         \u001b[1;31m# read until we get a non-100 response\u001b[0m\u001b[1;33m\u001b[0m\u001b[1;33m\u001b[0m\u001b[0m\n\u001b[0;32m    296\u001b[0m         \u001b[1;32mwhile\u001b[0m \u001b[1;32mTrue\u001b[0m\u001b[1;33m:\u001b[0m\u001b[1;33m\u001b[0m\u001b[0m\n\u001b[1;32m--> 297\u001b[1;33m             \u001b[0mversion\u001b[0m\u001b[1;33m,\u001b[0m \u001b[0mstatus\u001b[0m\u001b[1;33m,\u001b[0m \u001b[0mreason\u001b[0m \u001b[1;33m=\u001b[0m \u001b[0mself\u001b[0m\u001b[1;33m.\u001b[0m\u001b[0m_read_status\u001b[0m\u001b[1;33m(\u001b[0m\u001b[1;33m)\u001b[0m\u001b[1;33m\u001b[0m\u001b[0m\n\u001b[0m\u001b[0;32m    298\u001b[0m             \u001b[1;32mif\u001b[0m \u001b[0mstatus\u001b[0m \u001b[1;33m!=\u001b[0m \u001b[0mCONTINUE\u001b[0m\u001b[1;33m:\u001b[0m\u001b[1;33m\u001b[0m\u001b[0m\n\u001b[0;32m    299\u001b[0m                 \u001b[1;32mbreak\u001b[0m\u001b[1;33m\u001b[0m\u001b[0m\n",
      "\u001b[1;32mC:\\Program Files (x86)\\Microsoft Visual Studio\\Shared\\Anaconda3_64\\lib\\http\\client.py\u001b[0m in \u001b[0;36m_read_status\u001b[1;34m(self)\u001b[0m\n\u001b[0;32m    256\u001b[0m \u001b[1;33m\u001b[0m\u001b[0m\n\u001b[0;32m    257\u001b[0m     \u001b[1;32mdef\u001b[0m \u001b[0m_read_status\u001b[0m\u001b[1;33m(\u001b[0m\u001b[0mself\u001b[0m\u001b[1;33m)\u001b[0m\u001b[1;33m:\u001b[0m\u001b[1;33m\u001b[0m\u001b[0m\n\u001b[1;32m--> 258\u001b[1;33m         \u001b[0mline\u001b[0m \u001b[1;33m=\u001b[0m \u001b[0mstr\u001b[0m\u001b[1;33m(\u001b[0m\u001b[0mself\u001b[0m\u001b[1;33m.\u001b[0m\u001b[0mfp\u001b[0m\u001b[1;33m.\u001b[0m\u001b[0mreadline\u001b[0m\u001b[1;33m(\u001b[0m\u001b[0m_MAXLINE\u001b[0m \u001b[1;33m+\u001b[0m \u001b[1;36m1\u001b[0m\u001b[1;33m)\u001b[0m\u001b[1;33m,\u001b[0m \u001b[1;34m\"iso-8859-1\"\u001b[0m\u001b[1;33m)\u001b[0m\u001b[1;33m\u001b[0m\u001b[0m\n\u001b[0m\u001b[0;32m    259\u001b[0m         \u001b[1;32mif\u001b[0m \u001b[0mlen\u001b[0m\u001b[1;33m(\u001b[0m\u001b[0mline\u001b[0m\u001b[1;33m)\u001b[0m \u001b[1;33m>\u001b[0m \u001b[0m_MAXLINE\u001b[0m\u001b[1;33m:\u001b[0m\u001b[1;33m\u001b[0m\u001b[0m\n\u001b[0;32m    260\u001b[0m             \u001b[1;32mraise\u001b[0m \u001b[0mLineTooLong\u001b[0m\u001b[1;33m(\u001b[0m\u001b[1;34m\"status line\"\u001b[0m\u001b[1;33m)\u001b[0m\u001b[1;33m\u001b[0m\u001b[0m\n",
      "\u001b[1;32mC:\\Program Files (x86)\\Microsoft Visual Studio\\Shared\\Anaconda3_64\\lib\\socket.py\u001b[0m in \u001b[0;36mreadinto\u001b[1;34m(self, b)\u001b[0m\n\u001b[0;32m    584\u001b[0m         \u001b[1;32mwhile\u001b[0m \u001b[1;32mTrue\u001b[0m\u001b[1;33m:\u001b[0m\u001b[1;33m\u001b[0m\u001b[0m\n\u001b[0;32m    585\u001b[0m             \u001b[1;32mtry\u001b[0m\u001b[1;33m:\u001b[0m\u001b[1;33m\u001b[0m\u001b[0m\n\u001b[1;32m--> 586\u001b[1;33m                 \u001b[1;32mreturn\u001b[0m \u001b[0mself\u001b[0m\u001b[1;33m.\u001b[0m\u001b[0m_sock\u001b[0m\u001b[1;33m.\u001b[0m\u001b[0mrecv_into\u001b[0m\u001b[1;33m(\u001b[0m\u001b[0mb\u001b[0m\u001b[1;33m)\u001b[0m\u001b[1;33m\u001b[0m\u001b[0m\n\u001b[0m\u001b[0;32m    587\u001b[0m             \u001b[1;32mexcept\u001b[0m \u001b[0mtimeout\u001b[0m\u001b[1;33m:\u001b[0m\u001b[1;33m\u001b[0m\u001b[0m\n\u001b[0;32m    588\u001b[0m                 \u001b[0mself\u001b[0m\u001b[1;33m.\u001b[0m\u001b[0m_timeout_occurred\u001b[0m \u001b[1;33m=\u001b[0m \u001b[1;32mTrue\u001b[0m\u001b[1;33m\u001b[0m\u001b[0m\n",
      "\u001b[1;32mC:\\Program Files (x86)\\Microsoft Visual Studio\\Shared\\Anaconda3_64\\lib\\site-packages\\urllib3\\contrib\\pyopenssl.py\u001b[0m in \u001b[0;36mrecv_into\u001b[1;34m(self, *args, **kwargs)\u001b[0m\n\u001b[0;32m    278\u001b[0m     \u001b[1;32mdef\u001b[0m \u001b[0mrecv_into\u001b[0m\u001b[1;33m(\u001b[0m\u001b[0mself\u001b[0m\u001b[1;33m,\u001b[0m \u001b[1;33m*\u001b[0m\u001b[0margs\u001b[0m\u001b[1;33m,\u001b[0m \u001b[1;33m**\u001b[0m\u001b[0mkwargs\u001b[0m\u001b[1;33m)\u001b[0m\u001b[1;33m:\u001b[0m\u001b[1;33m\u001b[0m\u001b[0m\n\u001b[0;32m    279\u001b[0m         \u001b[1;32mtry\u001b[0m\u001b[1;33m:\u001b[0m\u001b[1;33m\u001b[0m\u001b[0m\n\u001b[1;32m--> 280\u001b[1;33m             \u001b[1;32mreturn\u001b[0m \u001b[0mself\u001b[0m\u001b[1;33m.\u001b[0m\u001b[0mconnection\u001b[0m\u001b[1;33m.\u001b[0m\u001b[0mrecv_into\u001b[0m\u001b[1;33m(\u001b[0m\u001b[1;33m*\u001b[0m\u001b[0margs\u001b[0m\u001b[1;33m,\u001b[0m \u001b[1;33m**\u001b[0m\u001b[0mkwargs\u001b[0m\u001b[1;33m)\u001b[0m\u001b[1;33m\u001b[0m\u001b[0m\n\u001b[0m\u001b[0;32m    281\u001b[0m         \u001b[1;32mexcept\u001b[0m \u001b[0mOpenSSL\u001b[0m\u001b[1;33m.\u001b[0m\u001b[0mSSL\u001b[0m\u001b[1;33m.\u001b[0m\u001b[0mSysCallError\u001b[0m \u001b[1;32mas\u001b[0m \u001b[0me\u001b[0m\u001b[1;33m:\u001b[0m\u001b[1;33m\u001b[0m\u001b[0m\n\u001b[0;32m    282\u001b[0m             \u001b[1;32mif\u001b[0m \u001b[0mself\u001b[0m\u001b[1;33m.\u001b[0m\u001b[0msuppress_ragged_eofs\u001b[0m \u001b[1;32mand\u001b[0m \u001b[0me\u001b[0m\u001b[1;33m.\u001b[0m\u001b[0margs\u001b[0m \u001b[1;33m==\u001b[0m \u001b[1;33m(\u001b[0m\u001b[1;33m-\u001b[0m\u001b[1;36m1\u001b[0m\u001b[1;33m,\u001b[0m \u001b[1;34m'Unexpected EOF'\u001b[0m\u001b[1;33m)\u001b[0m\u001b[1;33m:\u001b[0m\u001b[1;33m\u001b[0m\u001b[0m\n",
      "\u001b[1;32mC:\\Program Files (x86)\\Microsoft Visual Studio\\Shared\\Anaconda3_64\\lib\\site-packages\\OpenSSL\\SSL.py\u001b[0m in \u001b[0;36mrecv_into\u001b[1;34m(self, buffer, nbytes, flags)\u001b[0m\n\u001b[0;32m   1811\u001b[0m             \u001b[0mresult\u001b[0m \u001b[1;33m=\u001b[0m \u001b[0m_lib\u001b[0m\u001b[1;33m.\u001b[0m\u001b[0mSSL_peek\u001b[0m\u001b[1;33m(\u001b[0m\u001b[0mself\u001b[0m\u001b[1;33m.\u001b[0m\u001b[0m_ssl\u001b[0m\u001b[1;33m,\u001b[0m \u001b[0mbuf\u001b[0m\u001b[1;33m,\u001b[0m \u001b[0mnbytes\u001b[0m\u001b[1;33m)\u001b[0m\u001b[1;33m\u001b[0m\u001b[0m\n\u001b[0;32m   1812\u001b[0m         \u001b[1;32melse\u001b[0m\u001b[1;33m:\u001b[0m\u001b[1;33m\u001b[0m\u001b[0m\n\u001b[1;32m-> 1813\u001b[1;33m             \u001b[0mresult\u001b[0m \u001b[1;33m=\u001b[0m \u001b[0m_lib\u001b[0m\u001b[1;33m.\u001b[0m\u001b[0mSSL_read\u001b[0m\u001b[1;33m(\u001b[0m\u001b[0mself\u001b[0m\u001b[1;33m.\u001b[0m\u001b[0m_ssl\u001b[0m\u001b[1;33m,\u001b[0m \u001b[0mbuf\u001b[0m\u001b[1;33m,\u001b[0m \u001b[0mnbytes\u001b[0m\u001b[1;33m)\u001b[0m\u001b[1;33m\u001b[0m\u001b[0m\n\u001b[0m\u001b[0;32m   1814\u001b[0m         \u001b[0mself\u001b[0m\u001b[1;33m.\u001b[0m\u001b[0m_raise_ssl_error\u001b[0m\u001b[1;33m(\u001b[0m\u001b[0mself\u001b[0m\u001b[1;33m.\u001b[0m\u001b[0m_ssl\u001b[0m\u001b[1;33m,\u001b[0m \u001b[0mresult\u001b[0m\u001b[1;33m)\u001b[0m\u001b[1;33m\u001b[0m\u001b[0m\n\u001b[0;32m   1815\u001b[0m \u001b[1;33m\u001b[0m\u001b[0m\n",
      "\u001b[1;31mKeyboardInterrupt\u001b[0m: "
     ]
    }
   ],
   "source": [
    "i = 0\n",
    "while True:\n",
    "    cur.execute(\"\"\"\n",
    "        SELECT table1.id, table2.netloc, table1.path, table1.param, table1.depth, table2.id\n",
    "        FROM table1 JOIN table2 \n",
    "        ON table1.table2_id = table2.id \n",
    "        WHERE table1.seen = \"FALSE\" and table1.depth<3\n",
    "        ORDER BY table1.date ASC\n",
    "        LIMIT 0,1;\n",
    "    \"\"\")\n",
    "    seed = cur.fetchone()\n",
    "    if not seed or i >1000:\n",
    "        break;\n",
    "    i+=1\n",
    "    #if not seed or i > 1000:\n",
    "    #    break\n",
    "    #i += 1\n",
    "    cur.execute(\"\"\"\n",
    "        UPDATE table1 SET seen=\"TRUE\"\n",
    "        WHERE id=?\n",
    "    \"\"\", [seed[0]])\n",
    "    con.commit()\n",
    "    \n",
    "    baseURL = \"{0}{1}?{2}\".format(seed[1], seed[2], seed[3])\n",
    "    for href in parseURL(baseURL):\n",
    "        _urlparse = requests.compat.urlparse(href)\n",
    "        netloc = \"://\".join(_urlparse[:2])\n",
    "        cur.execute(\"SELECT id FROM table2 WHERE netloc=? LIMIT 0,1\", [netloc])\n",
    "        netlocID = cur.fetchone()\n",
    "        if not netlocID:\n",
    "            cur.execute(\"INSERT INTO table2(netloc) VALUES(?)\",[netloc])\n",
    "            con.commit()\n",
    "            cur.execute(\"SELECT id FROM table2 WHERE netloc=? LIMIT 0,1\", [netloc])\n",
    "            netlocID = cur.fetchone()\n",
    "        cur.execute(\"INSERT INTO table1(table2_id, path, param,depth,inbound ) VALUES(?,?,?,?,?)\",[netlocID[0], _urlparse[2], _urlparse[4],seed[4]+1, seed[5]])\n",
    "        con.commit()"
   ]
  },
  {
   "cell_type": "code",
   "execution_count": 224,
   "metadata": {},
   "outputs": [
    {
     "ename": "TypeError",
     "evalue": "'NoneType' object is not subscriptable",
     "output_type": "error",
     "traceback": [
      "\u001b[1;31m---------------------------------------------------------------------------\u001b[0m",
      "\u001b[1;31mTypeError\u001b[0m                                 Traceback (most recent call last)",
      "\u001b[1;32m<ipython-input-224-85c6b9da9760>\u001b[0m in \u001b[0;36m<module>\u001b[1;34m()\u001b[0m\n\u001b[0;32m     16\u001b[0m         \u001b[0mcur\u001b[0m\u001b[1;33m.\u001b[0m\u001b[0mexecute\u001b[0m\u001b[1;33m(\u001b[0m\u001b[1;34m\"SELECT id FROM table2 WHERE netloc=? LIMIT 0,1\"\u001b[0m\u001b[1;33m,\u001b[0m \u001b[1;33m[\u001b[0m\u001b[0mnetloc\u001b[0m\u001b[1;33m]\u001b[0m\u001b[1;33m)\u001b[0m\u001b[1;33m\u001b[0m\u001b[0m\n\u001b[0;32m     17\u001b[0m         \u001b[0mnetlocID\u001b[0m \u001b[1;33m=\u001b[0m \u001b[0mcur\u001b[0m\u001b[1;33m.\u001b[0m\u001b[0mfetchone\u001b[0m\u001b[1;33m(\u001b[0m\u001b[1;33m)\u001b[0m\u001b[1;33m\u001b[0m\u001b[0m\n\u001b[1;32m---> 18\u001b[1;33m     \u001b[0mcur\u001b[0m\u001b[1;33m.\u001b[0m\u001b[0mexecute\u001b[0m\u001b[1;33m(\u001b[0m\u001b[1;34m\"INSERT INTO table1(table2_id, path, param) VALUES(?,?,?)\"\u001b[0m\u001b[1;33m,\u001b[0m\u001b[1;33m[\u001b[0m\u001b[0mnetlocID\u001b[0m\u001b[1;33m[\u001b[0m\u001b[1;36m0\u001b[0m\u001b[1;33m]\u001b[0m\u001b[1;33m,\u001b[0m \u001b[0m_urlparse\u001b[0m\u001b[1;33m[\u001b[0m\u001b[1;36m2\u001b[0m\u001b[1;33m]\u001b[0m\u001b[1;33m,\u001b[0m \u001b[0mseed\u001b[0m\u001b[1;33m[\u001b[0m\u001b[1;36m4\u001b[0m\u001b[1;33m]\u001b[0m\u001b[1;33m+\u001b[0m\u001b[1;36m1\u001b[0m\u001b[1;33m]\u001b[0m\u001b[1;33m)\u001b[0m\u001b[1;33m\u001b[0m\u001b[0m\n\u001b[0m\u001b[0;32m     19\u001b[0m     \u001b[0mcon\u001b[0m\u001b[1;33m.\u001b[0m\u001b[0mcommit\u001b[0m\u001b[1;33m(\u001b[0m\u001b[1;33m)\u001b[0m\u001b[1;33m\u001b[0m\u001b[0m\n\u001b[0;32m     20\u001b[0m \u001b[1;31m#print(list3)\u001b[0m\u001b[1;33m\u001b[0m\u001b[1;33m\u001b[0m\u001b[0m\n",
      "\u001b[1;31mTypeError\u001b[0m: 'NoneType' object is not subscriptable"
     ]
    }
   ],
   "source": [
    "# Seed URLs -> DB Insert \n",
    "url = \"https://www.google.com/search\"\n",
    "param = {'q':'박보영'}\n",
    "html = download('get',url,param)\n",
    "dom = bs(html.text,'lxml')\n",
    "#[_find_parent()[\"href\"] for _ in dom.select(\".LC201b\")]\n",
    "#list2 = [(_['href']) for _ in dom.select(\".rc > .r a[href^http]\")]\n",
    "for href in  [(_.find_parent()[\"href\"]) for _ in dom.select(\".LC20lb\")]:\n",
    "    _urlparse = requests.compat.urlparse(href)\n",
    "    netloc = \"://\".join(requests.compat.urlparse(href)[:2])\n",
    "    cur.execute(\"SELECT id FROM table2 WHERE netloc=? LIMIT 0,1\", [netloc])\n",
    "    netlocID = cur.fetchone()\n",
    "    if not netlocID:\n",
    "        cur.execute(\"INSERT INTO table2(netloc) VALUES(?)\",[netloc])\n",
    "        con.commit()\n",
    "        cur.execute(\"SELECT id FROM table2 WHERE netloc=? LIMIT 0,1\", [netloc])\n",
    "        netlocID = cur.fetchone()\n",
    "    cur.execute(\"INSERT INTO table1(table2_id, path, param) VALUES(?,?,?)\",[netlocID[0], _urlparse[2], _urlparse[4]])\n",
    "    conn1.commit()\n",
    "#print(list3)\n",
    "# DB SELECT LIMIT 0,1"
   ]
  },
  {
   "cell_type": "code",
   "execution_count": 241,
   "metadata": {},
   "outputs": [
    {
     "data": {
      "text/plain": [
       "<function Connection.commit>"
      ]
     },
     "execution_count": 241,
     "metadata": {},
     "output_type": "execute_result"
    }
   ],
   "source": [
    "cur.executescript(\"\"\"\n",
    "    DROP TABLE IF EXISTS table1;\n",
    "    DROP TABLE IF EXISTS table2;\n",
    "    CREATE TABLE table1(\n",
    "        id INTEGER PRIMARY KEY AUTOINCREMENT NOT NULL,\n",
    "        table2_id INTEGER NOT NULL,\n",
    "        path TEXT NOT NULL,\n",
    "        param TEXT, \n",
    "        depth INTEGER NOT NULL,\n",
    "        seen BOOLEAN DEFAULT FALSE,\n",
    "        inbound INTEGER NOT NULL,\n",
    "        date TIMESTAMP DEFAULT CURRENT_TIMESTAMP NOT NULL\n",
    "    );\n",
    "    \n",
    "    DROP TABLE IF EXISTS table2;\n",
    "    CREATE TABLE table2(\n",
    "        id INTEGER PRIMARY KEY AUTOINCREMENT NOT NULL,\n",
    "        netloc TEXT NOT NULL,\n",
    "        date TIMESTAMP DEFAULT CURRENT_TIMESTAMP NOT NULL\n",
    "    );\n",
    "    \n",
    "\"\"\")\n",
    "# 아웃 바운더리 링크를 DEPTH로 주는 것으로 이득을 볼 수 잇다.\n",
    "con.commit"
   ]
  },
  {
   "cell_type": "code",
   "execution_count": null,
   "metadata": {},
   "outputs": [],
   "source": [
    "#select inbound, count(inbound)\n",
    "#from table1 where table2_id=2 group by inbound;"
   ]
  },
  {
   "cell_type": "code",
   "execution_count": 254,
   "metadata": {},
   "outputs": [
    {
     "data": {
      "text/plain": [
       "[(0, 1), (2, 1), (6, 2), (7, 168), (8, 1)]"
      ]
     },
     "execution_count": 254,
     "metadata": {},
     "output_type": "execute_result"
    }
   ],
   "source": [
    "cur.execute(\"\"\"\n",
    "    SELECT inbound, count(inbound)\n",
    "    FROM table1\n",
    "    where table2_id = 7 group by inbound;\n",
    "\"\"\")\n",
    "cur.fetchall()"
   ]
  },
  {
   "cell_type": "code",
   "execution_count": 255,
   "metadata": {},
   "outputs": [
    {
     "data": {
      "text/plain": [
       "[(220,)]"
      ]
     },
     "execution_count": 255,
     "metadata": {},
     "output_type": "execute_result"
    }
   ],
   "source": [
    "cur.execute(\"\"\"\n",
    "    SELECT count(inbound)\n",
    "    FROM table1\n",
    "    where inbound = 7;\n",
    "\"\"\")\n",
    "cur.fetchall()"
   ]
  },
  {
   "cell_type": "code",
   "execution_count": 250,
   "metadata": {},
   "outputs": [],
   "source": [
    "# pagerank를 하기 위한 단초"
   ]
  },
  {
   "cell_type": "code",
   "execution_count": null,
   "metadata": {},
   "outputs": [],
   "source": []
  },
  {
   "cell_type": "code",
   "execution_count": null,
   "metadata": {},
   "outputs": [],
   "source": []
  },
  {
   "cell_type": "code",
   "execution_count": null,
   "metadata": {},
   "outputs": [],
   "source": []
  },
  {
   "cell_type": "code",
   "execution_count": null,
   "metadata": {},
   "outputs": [],
   "source": []
  },
  {
   "cell_type": "code",
   "execution_count": null,
   "metadata": {},
   "outputs": [],
   "source": []
  },
  {
   "cell_type": "code",
   "execution_count": null,
   "metadata": {},
   "outputs": [],
   "source": []
  },
  {
   "cell_type": "code",
   "execution_count": null,
   "metadata": {},
   "outputs": [],
   "source": []
  },
  {
   "cell_type": "code",
   "execution_count": null,
   "metadata": {},
   "outputs": [],
   "source": []
  },
  {
   "cell_type": "code",
   "execution_count": null,
   "metadata": {},
   "outputs": [],
   "source": []
  },
  {
   "cell_type": "code",
   "execution_count": null,
   "metadata": {},
   "outputs": [],
   "source": []
  },
  {
   "cell_type": "code",
   "execution_count": null,
   "metadata": {},
   "outputs": [],
   "source": []
  },
  {
   "cell_type": "code",
   "execution_count": 135,
   "metadata": {
    "scrolled": true
   },
   "outputs": [
    {
     "name": "stdout",
     "output_type": "stream",
     "text": [
      "9\n"
     ]
    }
   ],
   "source": []
  },
  {
   "cell_type": "code",
   "execution_count": null,
   "metadata": {},
   "outputs": [],
   "source": []
  }
 ],
 "metadata": {
  "kernelspec": {
   "display_name": "Python 3",
   "language": "python",
   "name": "python3"
  },
  "language_info": {
   "codemirror_mode": {
    "name": "ipython",
    "version": 3
   },
   "file_extension": ".py",
   "mimetype": "text/x-python",
   "name": "python",
   "nbconvert_exporter": "python",
   "pygments_lexer": "ipython3",
   "version": "3.6.5"
  }
 },
 "nbformat": 4,
 "nbformat_minor": 2
}
