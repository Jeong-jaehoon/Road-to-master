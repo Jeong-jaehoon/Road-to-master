{
 "cells": [
  {
   "cell_type": "markdown",
   "metadata": {},
   "source": [
    "# DBMS ( Data base management system)\n",
    "\n",
    "structured data는 20% 밖에 안된다 semi-structured data와 unstructured data를 주로 다룰 것이다. 데이터베이스는 아주아주중요하다. \n",
    "\n",
    "#### data\n",
    "* raw facts\n",
    "* no context\n",
    "* just numbers and text\n",
    "\n",
    "#### information \n",
    "* processed data\n",
    "* data with context\n",
    "* value-added data\n",
    "\n",
    "#### 데이터베이스 조건\n",
    "* ☆integrated(통합)☆ - 가장중요\n",
    "\n",
    "동일한 데이터가 중복되지 않도록 구성하고 최소한의 중복 또는 통제된 중복만 허용\n",
    "\n",
    "* Stored(저장)\n",
    "\n",
    "컴퓨터로 접근 가능한 물리적 저장 매체 저장\n",
    "\n",
    "* Shared(공유)\n",
    "\n",
    "공동으로 소유하고 유지하며 이용하는 데이터\n",
    "\n",
    "* Operational(운영)\n",
    "\n",
    "존재 목적이나 기능 수행에 꼭 필요한 데이터 집합\n",
    "\n",
    "#### 데이터베이스 특징\n",
    "* 실시간 접근성(Real-time Accessibility)\n",
    "\n",
    "데이터들 간의 밀접한 관계로 연결되고 중복 데이터를 배제 하도록 지양 사용자의 어떤 요구에도 즉각 응답\n",
    "\n",
    "* 계속적인 변화(Continuous evolution)\n",
    "\n",
    "현실 세계의 상태를 정확히 반영하고 동적으로 삽입/삭제/수정하여 현재의 데이터 유지\n",
    "\n",
    "* 동시 공유 가능(Concurrent sharing)\n",
    "\n",
    "여러 사용자들이 동시에 이용하고 같은 시간에 같은 데이터에 접근하여 이용\n",
    "\n",
    "* 내용에의한 참조 가능(Content reference)\n",
    "\n",
    "저장된주소나 위치에 의해서 참조하지 않고 사용자가 요구하는 데이터의 내용/값에 따라 참조\n",
    "\n",
    "`DB 하려면 분산처리 배워야함`\n",
    "\n",
    "#### DBMS 종류\n",
    "\n",
    "여러가지 있는데 그냥 두가지만 알자 \n",
    "\n",
    "관계 데이터 모델(RDBMS)과 객체 관계 모델 두가지만 기억하자\n",
    "\n",
    "관계 데이터 모델은 통상적으로 쓰는것임!\n",
    "\n",
    "둘을 ORM으로 연결?\n",
    "\n",
    "\n",
    "#### RDBMS\n",
    "\n",
    "* 데이터 안정성\n",
    "\n",
    "* 동시 접근성\n",
    "\n",
    "* 장애 허용성\n",
    "\n",
    "* 데이터 무결성\n",
    "\n",
    "* 데이터 확장성\n",
    "\n",
    "* 데이터 보고서\n",
    "\n",
    "\n",
    "#### SQL 명령\n",
    "\n",
    "* 데이터 정의 언어 DDL(Data definition language)\n",
    "\n",
    "이거는 슈퍼관리자만 쓸 수 있게 해야해 (CREATE DROP ALTER TRUNCATE)\n",
    "\n",
    "* 데이터 조작 언어 DML(Data manipulation language)\n",
    "\n",
    "updata랑 delete는 권한을 주면 안돼 보통은 SELECT 권한만 있다\n",
    "\n",
    "* 데이터 제어 언어 DCL(Data control language)\n",
    "\n",
    "\n",
    "`UPDATA county`\n",
    "`대소문자를 구분하자\n",
    "안해도되지만 처음 배우는 입장에서는 하는게 좋다`\n",
    "\n",
    "\n",
    "\n",
    "DATE 와 TIME 이용 - 티켓팅 할 수 있다.\n",
    "\n",
    "`notnull :  null을 허용하지않겠다.`\n",
    "\n",
    "DROP : Database 자체를 날려버리는 것 - 쓸 일이 없을 것이다.\n",
    "\n",
    "TRUNCATE : 데이터베이스 내의 데이터를 초기화 해주는것\n",
    "\n",
    "ALTER : 설계를 아예 잘못했을때 쓰일 것 같음 알고만 있자 - 쓸 일이 거의 없을 것이다.\n",
    "\n",
    "PK : Primary Key \n",
    "\n",
    "INSER INTO : row 추가 시킬수 있음\n",
    "\n",
    "SELECT : 이따 크로스 조인 이라고 부를거에요 아주아주 안좋은 방법이다 테이블을 여러개 부르는것은..\n",
    "SELECT문을 조금더 보면 요런식으로 생겼다.\n",
    "\n",
    "WHERE : specifies which rows to retrieve.\n",
    "\n",
    "GROUP BY : groups rows sharing a property so that an aggreragte function can be applied to each group ## 판다스에서 더 깊이있게 배우자\n",
    "\n",
    "HAVING : selects among the groups defined by the GROUP BY clause. ##조건거는거\n",
    "\n",
    "ORDER BY : specifies an order in which to return the rows ##정렬하는거 오름차순 내림차순\n",
    "\n",
    "AS : provides an alias which can be used to temporarily rename tables or columns\n",
    "\n",
    "\n",
    "`EXAMPLE`\n",
    "\n",
    "- SELECT * FROM T;\n",
    "\n",
    "- SELECT * FROM T WHERE C1 = 1;\n",
    "\n",
    "- SELECT * FROM T ORDER BY C1 DESC;\n",
    "\n",
    "\n",
    "#### WHERE 절\n",
    "- 특정 조건에 따라서 부분집합을 가져올 수 있음\n",
    "\n",
    "- == 쓰지않고 = 쓴다.\n",
    "\n",
    "- 다양한 연산자로 부분집합 가져옴\n",
    "\n",
    "`EXAMPLE`\n",
    "\n",
    "`DELETE\n",
    "FROM mytable\n",
    "Where mycol >100 AMD item = 'Hammer'`\n",
    "\n",
    "% : any character 을 의미\n",
    "\n",
    "a% : a로 시작하고 나머지가 뭔들 상관없다\n",
    "\n",
    "%a : a로 끝나고 나머지 뭔들 상관없다.\n",
    "\n",
    "% or % : 양쪾에 무슨 문자가 붙어도 상관없고 중간에 or만 있으면 됨\n",
    "\n",
    "a % o : a로 시작하고 o로 끝나면서 중간에 아무글자\n",
    "\n",
    "\n",
    "#### UPDATE\n",
    "\n",
    "- 잘 쓰지않는다 . 값을 아예 바꿀 수 있음.\n",
    "\n",
    "- 기존에 있는 데이터를 잃어버려서 굉장히 위험\n",
    "\n",
    "LIMIT 옵션 : 상위 TOP K개 가져오겠다 할때 뭐이럴때 쓴다\n",
    "\n",
    "#### DELETE\n",
    "\n",
    "- WHERE절을 걸어서 특정 컨디션에 있는 데이터 베이스만 날 릴수도있고 싹다 날릴수도 있고.\n",
    "\n",
    "- 얘도 쓰면 굉장히 위험\n",
    "\n",
    "- 강사님은 UPDATE문이나 DELETE문 을 안쓰신다고 하심 굉장히 위험하기 때문\n",
    "\n",
    "- TRUNCATE와 다른점은 데이터는 날리지만 테이블 자체는 유지되는? 뭐그런거 같음\n",
    "\n",
    "#### ☆JOIN☆ \n",
    "\n",
    "- INNER JOIN : 교집합, 1:n의 관계가 맞음!\n",
    "\n",
    "\n",
    "```SQL\n",
    "SELECT OrdersOrderID, Customers.CustomerName, Orders.Orderdate\n",
    "FROM Orders\n",
    "INNER JOIN Customers ON Orders.CustomerID=Customers.CustomerID;\n",
    "```\n",
    "\n",
    "\n",
    "- CROSS JOIN : 가능한 모든 경우의 쌍을 다만들어줌, 비추천\n",
    "\n",
    "``` SQL\n",
    "SELECT * \n",
    "FROM employee CROSS JOIN department;\n",
    "\n",
    "\n",
    "SELECT * FROM SUPPLIER, PART; (cross join) ##테이블 두개 가져오면 크로스 조인\n",
    "\n",
    "\n",
    "```\n",
    "\n",
    "\n",
    "- LEFT JOIN : 교집합 + 왼쪽 테이블\n",
    "\n",
    "- RIGHT JOIN : 교집합 + 오른쪽 테이블\n",
    "\n",
    "- FULL OUTER JOIN : 합집합이라고 생각!  \n",
    "\n",
    "\n",
    "\n",
    "## SQLite\n",
    "\n",
    "SQlite 는 open source database 이고 free이다. 서버가 필요 없고 (file 형태로 관리)\n",
    "\n",
    "\n"
   ]
  },
  {
   "cell_type": "code",
   "execution_count": null,
   "metadata": {},
   "outputs": [],
   "source": [
    "dir 에서...\n",
    "\n",
    "#### 실행에 있는것...\n",
    "\n",
    "execute 실행하겠다\n",
    "\n",
    "executemany : 시퀀셜한 데이터를 여러개 입력해야 할떄\n",
    "\n",
    "executescript \n",
    "\n",
    "#### fetch 부분\n",
    "\n",
    "fetchall : 다 가져와\n",
    "\n",
    "fetchone : 하나 가져와\n",
    "\n",
    "fetchmany : 내가 지정한 개수만큼"
   ]
  },
  {
   "cell_type": "code",
   "execution_count": 1,
   "metadata": {},
   "outputs": [],
   "source": [
    "import sqlite3"
   ]
  },
  {
   "cell_type": "code",
   "execution_count": 5,
   "metadata": {},
   "outputs": [],
   "source": [
    "cur = conn.cursor()"
   ]
  },
  {
   "cell_type": "code",
   "execution_count": 10,
   "metadata": {},
   "outputs": [],
   "source": [
    "conn = sqlite3.connect('my2.db')"
   ]
  },
  {
   "cell_type": "code",
   "execution_count": 11,
   "metadata": {},
   "outputs": [],
   "source": [
    "cur = conn.cursor()"
   ]
  },
  {
   "cell_type": "code",
   "execution_count": 12,
   "metadata": {},
   "outputs": [
    {
     "name": "stdout",
     "output_type": "stream",
     "text": [
      "Table created successfully\n"
     ]
    }
   ],
   "source": [
    "conn.execute('''\n",
    "    CREATE TABLE COMPANY(\n",
    "        ID INT PRIMARY KEY NOT NULL,\n",
    "        NAME          TEXT NOT NULL,\n",
    "        AGE            INT NOT NULL,\n",
    "        ADDRESS      CHAR(50),\n",
    "        SALARY        REAL);\n",
    "''')\n",
    "\n",
    "print('Table created successfully')"
   ]
  },
  {
   "cell_type": "code",
   "execution_count": 13,
   "metadata": {},
   "outputs": [],
   "source": [
    "cur.execute(\"INSERT INTO COMPANY (ID,NAME,AGE,ADDRESS,SALARY)\\\n",
    "            VALUES (1, 'Paul', 32, 'California', 20000.00)\");"
   ]
  },
  {
   "cell_type": "code",
   "execution_count": 14,
   "metadata": {},
   "outputs": [],
   "source": [
    "cur.execute(\"INSERT INTO COMPANY (ID,NAME,AGE,ADDRESS,SALARY)\\\n",
    "            VALUES (2, 'A', 25, 'Deegu', 20000.00)\");"
   ]
  },
  {
   "cell_type": "code",
   "execution_count": 15,
   "metadata": {},
   "outputs": [],
   "source": [
    "data = [(3, 'Teddy', 23, 'Norway', 200000.00),\n",
    "       (4,  \"MARK\", 23, \"Rich-Mond\", 65000.00)]\n"
   ]
  },
  {
   "cell_type": "code",
   "execution_count": 16,
   "metadata": {},
   "outputs": [
    {
     "data": {
      "text/plain": [
       "<sqlite3.Cursor at 0x1970c2e1420>"
      ]
     },
     "execution_count": 16,
     "metadata": {},
     "output_type": "execute_result"
    }
   ],
   "source": [
    "cur.executemany(\"INSERT INTO COMPANY (ID, NAME, AGE, ADDRESS, SALARY) \\\n",
    "VALUES (?,?,?,?,?)\" ,data)"
   ]
  },
  {
   "cell_type": "code",
   "execution_count": 17,
   "metadata": {},
   "outputs": [
    {
     "data": {
      "text/plain": [
       "[]"
      ]
     },
     "execution_count": 17,
     "metadata": {},
     "output_type": "execute_result"
    }
   ],
   "source": [
    "cur.fetchall()"
   ]
  },
  {
   "cell_type": "code",
   "execution_count": 18,
   "metadata": {},
   "outputs": [],
   "source": [
    "cursor = conn.execute(\"SELECT id, name, address, salary from COMPANY\")"
   ]
  },
  {
   "cell_type": "code",
   "execution_count": 20,
   "metadata": {},
   "outputs": [
    {
     "data": {
      "text/plain": [
       "[(1, 'Paul', 'California', 20000.0),\n",
       " (2, 'A', 'Deegu', 20000.0),\n",
       " (3, 'Teddy', 'Norway', 200000.0),\n",
       " (4, 'MARK', 'Rich-Mond', 65000.0)]"
      ]
     },
     "execution_count": 20,
     "metadata": {},
     "output_type": "execute_result"
    }
   ],
   "source": [
    "cursor.fetchall()"
   ]
  },
  {
   "cell_type": "code",
   "execution_count": 22,
   "metadata": {},
   "outputs": [],
   "source": [
    "conn.commit()"
   ]
  },
  {
   "cell_type": "code",
   "execution_count": 23,
   "metadata": {},
   "outputs": [
    {
     "data": {
      "text/plain": [
       "<sqlite3.Cursor at 0x1970c2e1420>"
      ]
     },
     "execution_count": 23,
     "metadata": {},
     "output_type": "execute_result"
    }
   ],
   "source": [
    "cur.executescript('''\n",
    "    INSERT INTO COMPANY (ID, NAME, AGE, ADDRESS, SALARY)\n",
    "    VALUES (5, 'M', 25, 'NICK', 65000);\n",
    "    \n",
    "    INSERT INTO COMPANY (ID, NAME, AGE, ADDRESS, SALARY)\n",
    "    VALUES (6, 'N', 25, 'MOND', 65000);\n",
    "''')"
   ]
  },
  {
   "cell_type": "code",
   "execution_count": 30,
   "metadata": {},
   "outputs": [],
   "source": [
    "cursor = conn.execute(\"SELECT id, name, address, salary from COMPANY\")"
   ]
  },
  {
   "cell_type": "code",
   "execution_count": 31,
   "metadata": {},
   "outputs": [
    {
     "data": {
      "text/plain": [
       "[(1, 'Paul', 'California', 20000.0),\n",
       " (2, 'A', 'Deegu', 20000.0),\n",
       " (3, 'Teddy', 'Norway', 200000.0),\n",
       " (4, 'MARK', 'Rich-Mond', 65000.0),\n",
       " (5, 'M', 'NICK', 65000.0),\n",
       " (6, 'N', 'MOND', 65000.0),\n",
       " (7, 'eddy', 'Noy', 2030000.0),\n",
       " (8, 'RK', 'Rond', 650400.0)]"
      ]
     },
     "execution_count": 31,
     "metadata": {},
     "output_type": "execute_result"
    }
   ],
   "source": [
    "cursor.fetchall()"
   ]
  },
  {
   "cell_type": "code",
   "execution_count": 32,
   "metadata": {},
   "outputs": [],
   "source": [
    "conn.commit()"
   ]
  },
  {
   "cell_type": "code",
   "execution_count": 29,
   "metadata": {},
   "outputs": [
    {
     "ename": "IntegrityError",
     "evalue": "UNIQUE constraint failed: COMPANY.ID",
     "output_type": "error",
     "traceback": [
      "\u001b[1;31m---------------------------------------------------------------------------\u001b[0m",
      "\u001b[1;31mIntegrityError\u001b[0m                            Traceback (most recent call last)",
      "\u001b[1;32m<ipython-input-29-820a91bf265c>\u001b[0m in \u001b[0;36m<module>\u001b[1;34m()\u001b[0m\n\u001b[0;32m      2\u001b[0m        (8,  \"RK\", 234, \"Rond\", 650400.00)]\n\u001b[0;32m      3\u001b[0m \u001b[1;33m\u001b[0m\u001b[0m\n\u001b[1;32m----> 4\u001b[1;33m \u001b[0mcur\u001b[0m\u001b[1;33m.\u001b[0m\u001b[0mexecutemany\u001b[0m\u001b[1;33m(\u001b[0m\u001b[1;34m\"INSERT INTO COMPANY (ID, NAME, AGE, ADDRESS, SALARY) VALUES (?,?,?,?,?)\"\u001b[0m \u001b[1;33m,\u001b[0m\u001b[0mdata\u001b[0m\u001b[1;33m)\u001b[0m\u001b[1;33m\u001b[0m\u001b[0m\n\u001b[0m",
      "\u001b[1;31mIntegrityError\u001b[0m: UNIQUE constraint failed: COMPANY.ID"
     ]
    }
   ],
   "source": [
    "data = [(7, 'eddy', 213, 'Noy', 2030000.00),\n",
    "       (8,  \"RK\", 234, \"Rond\", 650400.00)]\n",
    "\n",
    "cur.executemany(\"INSERT INTO COMPANY (ID, NAME, AGE, ADDRESS, SALARY) \\\n",
    "VALUES (?,?,?,?,?)\" ,data)"
   ]
  },
  {
   "cell_type": "code",
   "execution_count": 37,
   "metadata": {},
   "outputs": [
    {
     "data": {
      "text/plain": [
       "(2, 8)"
      ]
     },
     "execution_count": 37,
     "metadata": {},
     "output_type": "execute_result"
    }
   ],
   "source": [
    "cur.lastrowid ,conn.total_changes ##마지막 row id, "
   ]
  },
  {
   "cell_type": "markdown",
   "metadata": {},
   "source": [
    "---\n",
    "music data"
   ]
  },
  {
   "cell_type": "code",
   "execution_count": null,
   "metadata": {},
   "outputs": [],
   "source": [
    "conn = sqlite3"
   ]
  }
 ],
 "metadata": {
  "kernelspec": {
   "display_name": "Python 3",
   "language": "python",
   "name": "python3"
  },
  "language_info": {
   "codemirror_mode": {
    "name": "ipython",
    "version": 3
   },
   "file_extension": ".py",
   "mimetype": "text/x-python",
   "name": "python",
   "nbconvert_exporter": "python",
   "pygments_lexer": "ipython3",
   "version": "3.6.5"
  }
 },
 "nbformat": 4,
 "nbformat_minor": 2
}
