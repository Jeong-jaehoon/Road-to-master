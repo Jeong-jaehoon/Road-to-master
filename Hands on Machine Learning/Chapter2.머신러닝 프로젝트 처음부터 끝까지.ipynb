{
 "cells": [
  {
   "cell_type": "markdown",
   "metadata": {},
   "source": [
    "# 2장 머신러닝 프로젝트 처음부터 끝까지"
   ]
  },
  {
   "cell_type": "markdown",
   "metadata": {},
   "source": [
    "#### * 진행할 주요단계"
   ]
  },
  {
   "cell_type": "markdown",
   "metadata": {},
   "source": [
    "1. 큰그림 보기\n",
    "2. 데이터 구하기\n",
    "3. 데이터로부터 인사이트를 얻기 위해 탐색, 시각화\n",
    "4. 머신러닝 알고리즘을 위해 데이터 준비\n",
    "5. 모델을 선택하고 훈련\n",
    "6. 모델을 상세하게 조정\n",
    "7. 솔루션 제시\n",
    "8. 시스템을 론칭하고 모니터링, 유지 보수"
   ]
  },
  {
   "cell_type": "markdown",
   "metadata": {},
   "source": [
    "### California housing data"
   ]
  },
  {
   "cell_type": "markdown",
   "metadata": {},
   "source": [
    "#### 1. 문제정의\n",
    "모델만들기가 비즈니스 목적은 아니다.. 회사에서는 이 모델을 사용해서 어떻게 이익을 얻을려고 할까 이는 문제를 어떻게 구성할지 어떤 알고리즘을 선택할지 모델 평가에 어떤 성능지표를 사용할지 모델튜닝을 위해 얼마나 노력을 투여할지 결정한다.\n",
    "\n",
    "California housing data는 레이블된 훈련 샘플이 있으니 전형적인 지도학습이다.  \n",
    "또한 값을 예측해야하므로 전형적인 회귀문제이다.  \n",
    "좀 더 구체적으로는 feature가 여러개이므로 다변량 회귀문제이다.\n",
    "\n",
    "#### 2. 성능 측정 지표 선택\n",
    "\n",
    "회귀문제에서는 RMSE가 일반적으로 사용되는 성능 측정 방법이지만 경우에 따라 다른 함수를 사용할 수도 있다.  \n",
    "예를 들면 이상치로 보이는 구역이 많으면 MAE(평균 절대 오차)를 고려해볼 수도 있다.  \n",
    "RMSE가 MAE에 비해 이상치에더 민감하다.  \n",
    "이상치가 드물다면 RMSE가 잘 맞아 일반적으로 많이 사용된다.  \n",
    "\n",
    "#### 3.가정 검사\n",
    "예를들면 데이터의 target은 회귀문제인데 비즈니스 문제에서 필요한 output이 분류문제인 경우가 있다.  \n",
    "본격적인 분석에 앞서 위와 같은 가정들을 잘 검사할 필요가 있다"
   ]
  },
  {
   "cell_type": "markdown",
   "metadata": {},
   "source": [
    "### 데이터 다운로드"
   ]
  },
  {
   "cell_type": "code",
   "execution_count": 1,
   "metadata": {},
   "outputs": [],
   "source": [
    "import os\n",
    "import tarfile\n",
    "\n",
    "from six.moves import urllib\n",
    "\n",
    "DOWNLOAD_ROOT = \"https://raw.githubusercontent.com/ageron/handson-ml/master/\" ##데이터 다운로드 받을 곳의 주소 root\n",
    "HOUSING_PATH = os.path.join(\"datasets\", \"housing\") ##저장경로\n",
    "HOUSING_URL = DOWNLOAD_ROOT + \"datasets/housing/housing.tgz\" ## root + 다운로드파일 경로\n",
    "\n",
    "def fetch_housing_data(housing_url=HOUSING_URL, housing_path=HOUSING_PATH):\n",
    "    if not os.path.isdir(housing_path): ##내 os에 housing_path 경로 유무 검사\n",
    "        os.makedirs(housing_path) ## 만약 없다면 다음과같은 경로를 만들어줌\n",
    "    tgz_path = os.path.join(housing_path, \"housing_tgz\") ##경로 + housing_tgz\n",
    "    urllib.request.urlretrieve(housing_url, tgz_path) ## url경로 + 경로 + housing_tgz 다운로드\n",
    "    housing_tgz = tarfile.open(tgz_path) #tarfile.open은 tgz압축파일을 open\n",
    "    housing_tgz.extractall(path=housing_path) # os 경로에 압축해제\n",
    "    housing_tgz.close() #압축파일 close\n",
    "fetch_housing_data() #함수호출"
   ]
  },
  {
   "cell_type": "code",
   "execution_count": 2,
   "metadata": {},
   "outputs": [],
   "source": [
    "import pandas as pd\n",
    "\n",
    "def load_housing_data(housing_path=HOUSING_PATH):\n",
    "    csv_path = os.path.join(housing_path, \"housing.csv\") #housing_path + housing.csv 새경로 생성 및 csv_path에 할당\n",
    "    return pd.read_csv(csv_path) #해당 path를 pandas로 읽어들임"
   ]
  },
  {
   "cell_type": "markdown",
   "metadata": {},
   "source": [
    "### 데이터 훑어보기"
   ]
  },
  {
   "cell_type": "code",
   "execution_count": 3,
   "metadata": {},
   "outputs": [
    {
     "data": {
      "text/html": [
       "<div>\n",
       "<style scoped>\n",
       "    .dataframe tbody tr th:only-of-type {\n",
       "        vertical-align: middle;\n",
       "    }\n",
       "\n",
       "    .dataframe tbody tr th {\n",
       "        vertical-align: top;\n",
       "    }\n",
       "\n",
       "    .dataframe thead th {\n",
       "        text-align: right;\n",
       "    }\n",
       "</style>\n",
       "<table border=\"1\" class=\"dataframe\">\n",
       "  <thead>\n",
       "    <tr style=\"text-align: right;\">\n",
       "      <th></th>\n",
       "      <th>longitude</th>\n",
       "      <th>latitude</th>\n",
       "      <th>housing_median_age</th>\n",
       "      <th>total_rooms</th>\n",
       "      <th>total_bedrooms</th>\n",
       "      <th>population</th>\n",
       "      <th>households</th>\n",
       "      <th>median_income</th>\n",
       "      <th>median_house_value</th>\n",
       "      <th>ocean_proximity</th>\n",
       "    </tr>\n",
       "  </thead>\n",
       "  <tbody>\n",
       "    <tr>\n",
       "      <th>0</th>\n",
       "      <td>-122.23</td>\n",
       "      <td>37.88</td>\n",
       "      <td>41.0</td>\n",
       "      <td>880.0</td>\n",
       "      <td>129.0</td>\n",
       "      <td>322.0</td>\n",
       "      <td>126.0</td>\n",
       "      <td>8.3252</td>\n",
       "      <td>452600.0</td>\n",
       "      <td>NEAR BAY</td>\n",
       "    </tr>\n",
       "    <tr>\n",
       "      <th>1</th>\n",
       "      <td>-122.22</td>\n",
       "      <td>37.86</td>\n",
       "      <td>21.0</td>\n",
       "      <td>7099.0</td>\n",
       "      <td>1106.0</td>\n",
       "      <td>2401.0</td>\n",
       "      <td>1138.0</td>\n",
       "      <td>8.3014</td>\n",
       "      <td>358500.0</td>\n",
       "      <td>NEAR BAY</td>\n",
       "    </tr>\n",
       "    <tr>\n",
       "      <th>2</th>\n",
       "      <td>-122.24</td>\n",
       "      <td>37.85</td>\n",
       "      <td>52.0</td>\n",
       "      <td>1467.0</td>\n",
       "      <td>190.0</td>\n",
       "      <td>496.0</td>\n",
       "      <td>177.0</td>\n",
       "      <td>7.2574</td>\n",
       "      <td>352100.0</td>\n",
       "      <td>NEAR BAY</td>\n",
       "    </tr>\n",
       "    <tr>\n",
       "      <th>3</th>\n",
       "      <td>-122.25</td>\n",
       "      <td>37.85</td>\n",
       "      <td>52.0</td>\n",
       "      <td>1274.0</td>\n",
       "      <td>235.0</td>\n",
       "      <td>558.0</td>\n",
       "      <td>219.0</td>\n",
       "      <td>5.6431</td>\n",
       "      <td>341300.0</td>\n",
       "      <td>NEAR BAY</td>\n",
       "    </tr>\n",
       "    <tr>\n",
       "      <th>4</th>\n",
       "      <td>-122.25</td>\n",
       "      <td>37.85</td>\n",
       "      <td>52.0</td>\n",
       "      <td>1627.0</td>\n",
       "      <td>280.0</td>\n",
       "      <td>565.0</td>\n",
       "      <td>259.0</td>\n",
       "      <td>3.8462</td>\n",
       "      <td>342200.0</td>\n",
       "      <td>NEAR BAY</td>\n",
       "    </tr>\n",
       "  </tbody>\n",
       "</table>\n",
       "</div>"
      ],
      "text/plain": [
       "   longitude  latitude  housing_median_age  total_rooms  total_bedrooms  \\\n",
       "0    -122.23     37.88                41.0        880.0           129.0   \n",
       "1    -122.22     37.86                21.0       7099.0          1106.0   \n",
       "2    -122.24     37.85                52.0       1467.0           190.0   \n",
       "3    -122.25     37.85                52.0       1274.0           235.0   \n",
       "4    -122.25     37.85                52.0       1627.0           280.0   \n",
       "\n",
       "   population  households  median_income  median_house_value ocean_proximity  \n",
       "0       322.0       126.0         8.3252            452600.0        NEAR BAY  \n",
       "1      2401.0      1138.0         8.3014            358500.0        NEAR BAY  \n",
       "2       496.0       177.0         7.2574            352100.0        NEAR BAY  \n",
       "3       558.0       219.0         5.6431            341300.0        NEAR BAY  \n",
       "4       565.0       259.0         3.8462            342200.0        NEAR BAY  "
      ]
     },
     "execution_count": 3,
     "metadata": {},
     "output_type": "execute_result"
    }
   ],
   "source": [
    "housing = load_housing_data()\n",
    "housing.head() #위 다섯개 데이터"
   ]
  },
  {
   "cell_type": "code",
   "execution_count": 4,
   "metadata": {},
   "outputs": [
    {
     "name": "stdout",
     "output_type": "stream",
     "text": [
      "<class 'pandas.core.frame.DataFrame'>\n",
      "RangeIndex: 20640 entries, 0 to 20639\n",
      "Data columns (total 10 columns):\n",
      "longitude             20640 non-null float64\n",
      "latitude              20640 non-null float64\n",
      "housing_median_age    20640 non-null float64\n",
      "total_rooms           20640 non-null float64\n",
      "total_bedrooms        20433 non-null float64\n",
      "population            20640 non-null float64\n",
      "households            20640 non-null float64\n",
      "median_income         20640 non-null float64\n",
      "median_house_value    20640 non-null float64\n",
      "ocean_proximity       20640 non-null object\n",
      "dtypes: float64(9), object(1)\n",
      "memory usage: 1.6+ MB\n"
     ]
    }
   ],
   "source": [
    "housing.info() # 데이터에 대한 요약정보"
   ]
  },
  {
   "cell_type": "code",
   "execution_count": 5,
   "metadata": {},
   "outputs": [
    {
     "data": {
      "text/plain": [
       "<1H OCEAN     9136\n",
       "INLAND        6551\n",
       "NEAR OCEAN    2658\n",
       "NEAR BAY      2290\n",
       "ISLAND           5\n",
       "Name: ocean_proximity, dtype: int64"
      ]
     },
     "execution_count": 5,
     "metadata": {},
     "output_type": "execute_result"
    }
   ],
   "source": [
    "housing.ocean_proximity.value_counts() ##범주형 변수임을 확인"
   ]
  },
  {
   "cell_type": "code",
   "execution_count": 6,
   "metadata": {},
   "outputs": [
    {
     "data": {
      "text/html": [
       "<div>\n",
       "<style scoped>\n",
       "    .dataframe tbody tr th:only-of-type {\n",
       "        vertical-align: middle;\n",
       "    }\n",
       "\n",
       "    .dataframe tbody tr th {\n",
       "        vertical-align: top;\n",
       "    }\n",
       "\n",
       "    .dataframe thead th {\n",
       "        text-align: right;\n",
       "    }\n",
       "</style>\n",
       "<table border=\"1\" class=\"dataframe\">\n",
       "  <thead>\n",
       "    <tr style=\"text-align: right;\">\n",
       "      <th></th>\n",
       "      <th>longitude</th>\n",
       "      <th>latitude</th>\n",
       "      <th>housing_median_age</th>\n",
       "      <th>total_rooms</th>\n",
       "      <th>total_bedrooms</th>\n",
       "      <th>population</th>\n",
       "      <th>households</th>\n",
       "      <th>median_income</th>\n",
       "      <th>median_house_value</th>\n",
       "    </tr>\n",
       "  </thead>\n",
       "  <tbody>\n",
       "    <tr>\n",
       "      <th>count</th>\n",
       "      <td>20640.000000</td>\n",
       "      <td>20640.000000</td>\n",
       "      <td>20640.000000</td>\n",
       "      <td>20640.000000</td>\n",
       "      <td>20433.000000</td>\n",
       "      <td>20640.000000</td>\n",
       "      <td>20640.000000</td>\n",
       "      <td>20640.000000</td>\n",
       "      <td>20640.000000</td>\n",
       "    </tr>\n",
       "    <tr>\n",
       "      <th>mean</th>\n",
       "      <td>-119.569704</td>\n",
       "      <td>35.631861</td>\n",
       "      <td>28.639486</td>\n",
       "      <td>2635.763081</td>\n",
       "      <td>537.870553</td>\n",
       "      <td>1425.476744</td>\n",
       "      <td>499.539680</td>\n",
       "      <td>3.870671</td>\n",
       "      <td>206855.816909</td>\n",
       "    </tr>\n",
       "    <tr>\n",
       "      <th>std</th>\n",
       "      <td>2.003532</td>\n",
       "      <td>2.135952</td>\n",
       "      <td>12.585558</td>\n",
       "      <td>2181.615252</td>\n",
       "      <td>421.385070</td>\n",
       "      <td>1132.462122</td>\n",
       "      <td>382.329753</td>\n",
       "      <td>1.899822</td>\n",
       "      <td>115395.615874</td>\n",
       "    </tr>\n",
       "    <tr>\n",
       "      <th>min</th>\n",
       "      <td>-124.350000</td>\n",
       "      <td>32.540000</td>\n",
       "      <td>1.000000</td>\n",
       "      <td>2.000000</td>\n",
       "      <td>1.000000</td>\n",
       "      <td>3.000000</td>\n",
       "      <td>1.000000</td>\n",
       "      <td>0.499900</td>\n",
       "      <td>14999.000000</td>\n",
       "    </tr>\n",
       "    <tr>\n",
       "      <th>25%</th>\n",
       "      <td>-121.800000</td>\n",
       "      <td>33.930000</td>\n",
       "      <td>18.000000</td>\n",
       "      <td>1447.750000</td>\n",
       "      <td>296.000000</td>\n",
       "      <td>787.000000</td>\n",
       "      <td>280.000000</td>\n",
       "      <td>2.563400</td>\n",
       "      <td>119600.000000</td>\n",
       "    </tr>\n",
       "    <tr>\n",
       "      <th>50%</th>\n",
       "      <td>-118.490000</td>\n",
       "      <td>34.260000</td>\n",
       "      <td>29.000000</td>\n",
       "      <td>2127.000000</td>\n",
       "      <td>435.000000</td>\n",
       "      <td>1166.000000</td>\n",
       "      <td>409.000000</td>\n",
       "      <td>3.534800</td>\n",
       "      <td>179700.000000</td>\n",
       "    </tr>\n",
       "    <tr>\n",
       "      <th>75%</th>\n",
       "      <td>-118.010000</td>\n",
       "      <td>37.710000</td>\n",
       "      <td>37.000000</td>\n",
       "      <td>3148.000000</td>\n",
       "      <td>647.000000</td>\n",
       "      <td>1725.000000</td>\n",
       "      <td>605.000000</td>\n",
       "      <td>4.743250</td>\n",
       "      <td>264725.000000</td>\n",
       "    </tr>\n",
       "    <tr>\n",
       "      <th>max</th>\n",
       "      <td>-114.310000</td>\n",
       "      <td>41.950000</td>\n",
       "      <td>52.000000</td>\n",
       "      <td>39320.000000</td>\n",
       "      <td>6445.000000</td>\n",
       "      <td>35682.000000</td>\n",
       "      <td>6082.000000</td>\n",
       "      <td>15.000100</td>\n",
       "      <td>500001.000000</td>\n",
       "    </tr>\n",
       "  </tbody>\n",
       "</table>\n",
       "</div>"
      ],
      "text/plain": [
       "          longitude      latitude  housing_median_age   total_rooms  \\\n",
       "count  20640.000000  20640.000000        20640.000000  20640.000000   \n",
       "mean    -119.569704     35.631861           28.639486   2635.763081   \n",
       "std        2.003532      2.135952           12.585558   2181.615252   \n",
       "min     -124.350000     32.540000            1.000000      2.000000   \n",
       "25%     -121.800000     33.930000           18.000000   1447.750000   \n",
       "50%     -118.490000     34.260000           29.000000   2127.000000   \n",
       "75%     -118.010000     37.710000           37.000000   3148.000000   \n",
       "max     -114.310000     41.950000           52.000000  39320.000000   \n",
       "\n",
       "       total_bedrooms    population    households  median_income  \\\n",
       "count    20433.000000  20640.000000  20640.000000   20640.000000   \n",
       "mean       537.870553   1425.476744    499.539680       3.870671   \n",
       "std        421.385070   1132.462122    382.329753       1.899822   \n",
       "min          1.000000      3.000000      1.000000       0.499900   \n",
       "25%        296.000000    787.000000    280.000000       2.563400   \n",
       "50%        435.000000   1166.000000    409.000000       3.534800   \n",
       "75%        647.000000   1725.000000    605.000000       4.743250   \n",
       "max       6445.000000  35682.000000   6082.000000      15.000100   \n",
       "\n",
       "       median_house_value  \n",
       "count        20640.000000  \n",
       "mean        206855.816909  \n",
       "std         115395.615874  \n",
       "min          14999.000000  \n",
       "25%         119600.000000  \n",
       "50%         179700.000000  \n",
       "75%         264725.000000  \n",
       "max         500001.000000  "
      ]
     },
     "execution_count": 6,
     "metadata": {},
     "output_type": "execute_result"
    }
   ],
   "source": [
    "housing.describe() #수치형 변수들에 대해서만 요약 정보"
   ]
  },
  {
   "cell_type": "code",
   "execution_count": 7,
   "metadata": {},
   "outputs": [
    {
     "data": {
      "image/png": "[encoded data removed]",
      "text/plain": [
       "<Figure size 1440x1080 with 9 Axes>"
      ]
     },
     "metadata": {
      "needs_background": "light"
     },
     "output_type": "display_data"
    }
   ],
   "source": [
    "%matplotlib inline\n",
    "import matplotlib.pyplot as plt\n",
    "housing.hist(bins=50, figsize=(20,15))\n",
    "plt.show()"
   ]
  },
  {
   "cell_type": "markdown",
   "metadata": {},
   "source": [
    "#### 히스토그램을 통한 데이터 파악\n",
    "- median income은 US달러로 표시되어 있는것 같지않다. 실제로는 0.5~15사이로 스케일링한 데이터이다.  \n",
    "- hosing median age와 median_house_value 도 마찬가지로 최대값과 최소값을 한정하였다. 특히 median_house_value는 target이 될 값이므로 문제점이 생길수있다(머신러닝 알고리즘이 한계값을 넘지않도록 학습할 수 도 있음) 이는 클라이언트와 논의해야할 사항이며 정확한 예측이 필요하다면 a. 한곗값 밖의 구역에 대한 정확한 레이블을 구하거나 b. 훈련세트에서 이러한 구역들을 제거한다)\n",
    "- 특성들의 스케일링 단위가 많이 다르다\n",
    "- 히스토그램의 꼬리가 두껍다 이런 형태는 일부 머신러닝 알고리즘에서 패턴을 찾기 힘들게한다. 좀 더 종모양의 분포를 가지도록 스케일링 해주도록하자."
   ]
  },
  {
   "cell_type": "markdown",
   "metadata": {},
   "source": [
    "### 테스트 세트 만들기\n",
    "그냥 처음부터 테스트 세트 빼놓고 들여다보지도 말 것!  -> 데이터 스누핑 편항 일어날 수 있음"
   ]
  },
  {
   "cell_type": "code",
   "execution_count": 8,
   "metadata": {},
   "outputs": [
    {
     "name": "stdout",
     "output_type": "stream",
     "text": [
      "16512 train + 4128 test\n"
     ]
    }
   ],
   "source": [
    "import numpy as np\n",
    "\n",
    "def split_train_test(data, test_ratio):\n",
    "    shuffled_indices = np.random.permutation(len(data))\n",
    "    test_set_size = int(len(data) * test_ratio)\n",
    "    test_indices = shuffled_indices[:test_set_size]\n",
    "    train_indices = shuffled_indices[test_set_size:]\n",
    "    return data.iloc[train_indices], data.iloc[test_indices]\n",
    "\n",
    "train_set, test_set = split_train_test(housing, 0.2)\n",
    "print(len(train_set), \"train +\", len(test_set), \"test\")"
   ]
  },
  {
   "cell_type": "markdown",
   "metadata": {},
   "source": [
    "numpy로 작성한 split_train_test 함수는 겉보기에는 별 문제 없어보이지만 문제점을 가지고있다.  \n",
    "프로그램을 다시 실행하면 다른 테스트 셋이 만들어진다.  \n",
    "이에 대한 해결책으로\n",
    "1. 처음 실행에서 테스트 세트를 저장하고 다음 실행에서 이를 불러들이는 방법 \n",
    "2. np.random.permutation()을 호출하기 전에 난수 발생기의 초깃값을 지정하는 방법(예를들면, np.random.seed(42))\n"
   ]
  },
  {
   "cell_type": "markdown",
   "metadata": {},
   "source": [
    "사이킷런 에서는 데이터셋을 여러 서브셋으로 나누는 다양한 방법을 제공한다. 그냥 사이킷런 쓰면된다!"
   ]
  },
  {
   "cell_type": "code",
   "execution_count": 9,
   "metadata": {},
   "outputs": [],
   "source": [
    "from sklearn.model_selection import train_test_split\n",
    "\n",
    "train_set, test_set = train_test_split(housing, test_size=0.2, random_state=42)"
   ]
  },
  {
   "cell_type": "markdown",
   "metadata": {},
   "source": [
    "데이터셋의 크기가 충분히 크다면 (feature 수에 비해) 상관없지만 그렇지 않으면 샘플링 편향이 생길 수 있다. 이때 다양한 집단의 특성을 반영할 수 있는 계층적 샘플링(stratified sampling)을 이용해야한다.  \n",
    "예를들어 median_income이 median_house_price를 예측하는데 매우 중요하다면 테스트 세트가 전체 데이터 셋에 있는 여러 소득 카테고리를 잘 대표해야만 한다. 중간소득(median_income)은 연속적인 숫자형 특성이므로 소득에 대한 카테고리 특성을 만들어야만 한다.  \n",
    "다음 코드는 중간 소득(median_income)을 1.5로 나누고(소득 카테고리 수를 제한하기 위해), ceil함수를 사용하여 오림해서 소득 카테고리 특성을 만들고(이산적인 카테코리를 만들기위해), 5보다 큰 카테고리는 5로 합친다."
   ]
  },
  {
   "cell_type": "code",
   "execution_count": 10,
   "metadata": {},
   "outputs": [],
   "source": [
    "housing[\"income_cat\"] = np.ceil(housing[\"median_income\"] / 1.5)\n",
    "housing[\"income_cat\"].where(housing[\"income_cat\"] <5, 5.0, inplace = True)"
   ]
  },
  {
   "cell_type": "code",
   "execution_count": 11,
   "metadata": {},
   "outputs": [
    {
     "data": {
      "text/plain": [
       "<matplotlib.axes._subplots.AxesSubplot at 0x13a51d36780>"
      ]
     },
     "execution_count": 11,
     "metadata": {},
     "output_type": "execute_result"
    },
    {
     "data": {
      "image/png": "[encoded data removed]",
      "text/plain": [
       "<Figure size 432x288 with 1 Axes>"
      ]
     },
     "metadata": {
      "needs_background": "light"
     },
     "output_type": "display_data"
    }
   ],
   "source": [
    "housing[\"income_cat\"].hist()"
   ]
  },
  {
   "cell_type": "markdown",
   "metadata": {},
   "source": [
    "이제 사이킷 런의 Stratified Shuffle Split을 사용하면된다."
   ]
  },
  {
   "cell_type": "code",
   "execution_count": 12,
   "metadata": {},
   "outputs": [],
   "source": [
    "from sklearn.model_selection import StratifiedShuffleSplit\n",
    "\n",
    "split = StratifiedShuffleSplit(n_splits = 1, test_size =0.2 ,random_state = 42)\n",
    "for train_index, test_index in split.split(housing, housing[\"income_cat\"]):\n",
    "    strat_train_set = housing.loc[train_index]\n",
    "    strat_test_set = housing.loc[test_index]"
   ]
  },
  {
   "cell_type": "code",
   "execution_count": 13,
   "metadata": {},
   "outputs": [
    {
     "data": {
      "text/plain": [
       "3.0    0.350581\n",
       "2.0    0.318847\n",
       "4.0    0.176308\n",
       "5.0    0.114438\n",
       "1.0    0.039826\n",
       "Name: income_cat, dtype: float64"
      ]
     },
     "execution_count": 13,
     "metadata": {},
     "output_type": "execute_result"
    }
   ],
   "source": [
    "housing[\"income_cat\"].value_counts() / len(housing)"
   ]
  },
  {
   "cell_type": "markdown",
   "metadata": {},
   "source": [
    "그림 2-10을 참고하면 계층 샘플링과 무작위 샘플링의 샘플링 편향을 비교할 수 있다.  \n",
    "계층 샘플링의 오류율이 무작위 샘플링에 비해 상당히 낮다는 것을 알 수 있다."
   ]
  },
  {
   "cell_type": "code",
   "execution_count": 14,
   "metadata": {},
   "outputs": [],
   "source": [
    "for set_ in (strat_train_set, strat_test_set):\n",
    "    set_.drop(\"income_cat\", axis=1, inplace=True)"
   ]
  },
  {
   "cell_type": "markdown",
   "metadata": {},
   "source": [
    "### 데이터 탐색과 시각화\n",
    "\n",
    "이제 train set만을 다루어야함.  \n",
    "탐색/시각화 할 때 데이터가 크다면 trainset을 또다시 샘플링 할 수 있으나 이경우 데이터가 그다지 크지않으므로 trainset으로 그대로진행"
   ]
  },
  {
   "cell_type": "markdown",
   "metadata": {},
   "source": [
    "#### 지리적 데이터 시각화"
   ]
  },
  {
   "cell_type": "code",
   "execution_count": 15,
   "metadata": {},
   "outputs": [
    {
     "data": {
      "text/plain": [
       "<matplotlib.axes._subplots.AxesSubplot at 0x13a52a32f28>"
      ]
     },
     "execution_count": 15,
     "metadata": {},
     "output_type": "execute_result"
    },
    {
     "data": {
      "image/png": "[encoded data removed]",
      "text/plain": [
       "<Figure size 432x288 with 1 Axes>"
      ]
     },
     "metadata": {
      "needs_background": "light"
     },
     "output_type": "display_data"
    }
   ],
   "source": [
    "housing.plot(kind=\"scatter\", x=\"longitude\", y=\"latitude\")"
   ]
  },
  {
   "cell_type": "code",
   "execution_count": 16,
   "metadata": {},
   "outputs": [
    {
     "data": {
      "text/plain": [
       "<matplotlib.axes._subplots.AxesSubplot at 0x13a52017d30>"
      ]
     },
     "execution_count": 16,
     "metadata": {},
     "output_type": "execute_result"
    },
    {
     "data": {
      "image/png": "[encoded data removed]",
      "text/plain": [
       "<Figure size 432x288 with 1 Axes>"
      ]
     },
     "metadata": {
      "needs_background": "light"
     },
     "output_type": "display_data"
    }
   ],
   "source": [
    "housing.plot(kind=\"scatter\", x=\"longitude\", y=\"latitude\", alpha = 0.1)\n",
    "# 밀집된 지역을 확인하기위해 alpha = 0.1 옵션을 줌"
   ]
  },
  {
   "cell_type": "code",
   "execution_count": 17,
   "metadata": {},
   "outputs": [
    {
     "data": {
      "text/plain": [
       "<matplotlib.legend.Legend at 0x13a5228be10>"
      ]
     },
     "execution_count": 17,
     "metadata": {},
     "output_type": "execute_result"
    },
    {
     "data": {
      "image/png": "[encoded data removed]",
      "text/plain": [
       "<Figure size 720x504 with 2 Axes>"
      ]
     },
     "metadata": {
      "needs_background": "light"
     },
     "output_type": "display_data"
    }
   ],
   "source": [
    "housing.plot(kind=\"scatter\", x=\"longitude\", y=\"latitude\", alpha = 0.4,\n",
    "            s = housing[\"population\"]/100, label=\"population\", figsize=(10,7), #s, 원의 반지름은 해당 지역의 인구를 나타냄\n",
    "            c=\"median_house_value\", cmap=plt.get_cmap(\"jet\"), colorbar=True, sharex=False) # c, 색깔은 가격을 나타낸다. 파란색은 낮은가격 빨간색은 높은가격을 표시해주는 cmap=plt.get_cmap(\"jet\")옵션을 이용한다.\n",
    "plt.legend()"
   ]
  },
  {
   "cell_type": "markdown",
   "metadata": {},
   "source": [
    "#### 상관관계 조사"
   ]
  },
  {
   "cell_type": "markdown",
   "metadata": {},
   "source": [
    "`표준 상관계수`"
   ]
  },
  {
   "cell_type": "code",
   "execution_count": 18,
   "metadata": {},
   "outputs": [],
   "source": [
    "corr_matrix = housing.corr()"
   ]
  },
  {
   "cell_type": "code",
   "execution_count": 19,
   "metadata": {},
   "outputs": [
    {
     "data": {
      "text/plain": [
       "median_house_value    1.000000\n",
       "median_income         0.688075\n",
       "income_cat            0.643892\n",
       "total_rooms           0.134153\n",
       "housing_median_age    0.105623\n",
       "households            0.065843\n",
       "total_bedrooms        0.049686\n",
       "population           -0.024650\n",
       "longitude            -0.045967\n",
       "latitude             -0.144160\n",
       "Name: median_house_value, dtype: float64"
      ]
     },
     "execution_count": 19,
     "metadata": {},
     "output_type": "execute_result"
    }
   ],
   "source": [
    "corr_matrix[\"median_house_value\"].sort_values(ascending=False)"
   ]
  },
  {
   "cell_type": "code",
   "execution_count": 20,
   "metadata": {},
   "outputs": [
    {
     "data": {
      "text/plain": [
       "array([[<matplotlib.axes._subplots.AxesSubplot object at 0x0000013A51E6C7B8>,\n",
       "        <matplotlib.axes._subplots.AxesSubplot object at 0x0000013A51E56780>,\n",
       "        <matplotlib.axes._subplots.AxesSubplot object at 0x0000013A51DEDCC0>,\n",
       "        <matplotlib.axes._subplots.AxesSubplot object at 0x0000013A51DCA278>],\n",
       "       [<matplotlib.axes._subplots.AxesSubplot object at 0x0000013A51DD77F0>,\n",
       "        <matplotlib.axes._subplots.AxesSubplot object at 0x0000013A522D2D68>,\n",
       "        <matplotlib.axes._subplots.AxesSubplot object at 0x0000013A51D96320>,\n",
       "        <matplotlib.axes._subplots.AxesSubplot object at 0x0000013A51DB28D0>],\n",
       "       [<matplotlib.axes._subplots.AxesSubplot object at 0x0000013A51DB2908>,\n",
       "        <matplotlib.axes._subplots.AxesSubplot object at 0x0000013A51E243C8>,\n",
       "        <matplotlib.axes._subplots.AxesSubplot object at 0x0000013A51D74940>,\n",
       "        <matplotlib.axes._subplots.AxesSubplot object at 0x0000013A51D5EEB8>],\n",
       "       [<matplotlib.axes._subplots.AxesSubplot object at 0x0000013A52416470>,\n",
       "        <matplotlib.axes._subplots.AxesSubplot object at 0x0000013A524409E8>,\n",
       "        <matplotlib.axes._subplots.AxesSubplot object at 0x0000013A52468F60>,\n",
       "        <matplotlib.axes._subplots.AxesSubplot object at 0x0000013A52DE9518>]],\n",
       "      dtype=object)"
      ]
     },
     "execution_count": 20,
     "metadata": {},
     "output_type": "execute_result"
    },
    {
     "data": {
      "image/png": "[encoded data removed]",
      "text/plain": [
       "<Figure size 864x576 with 16 Axes>"
      ]
     },
     "metadata": {
      "needs_background": "light"
     },
     "output_type": "display_data"
    }
   ],
   "source": [
    "from pandas.plotting import scatter_matrix\n",
    "\n",
    "attributes = [\"median_house_value\", \"median_income\", \"total_rooms\", \"housing_median_age\"]\n",
    "scatter_matrix(housing[attributes], figsize=(12,8))"
   ]
  },
  {
   "cell_type": "markdown",
   "metadata": {},
   "source": [
    "median_house_value를 예측하는데 median_income이 가장 유용할 것 같으므로 산점도를 확대해보자"
   ]
  },
  {
   "cell_type": "code",
   "execution_count": 21,
   "metadata": {},
   "outputs": [
    {
     "data": {
      "text/plain": [
       "<matplotlib.axes._subplots.AxesSubplot at 0x13a51e6ed68>"
      ]
     },
     "execution_count": 21,
     "metadata": {},
     "output_type": "execute_result"
    },
    {
     "data": {
      "image/png": "[encoded data removed]",
      "text/plain": [
       "<Figure size 432x288 with 1 Axes>"
      ]
     },
     "metadata": {
      "needs_background": "light"
     },
     "output_type": "display_data"
    }
   ],
   "source": [
    "housing.plot(kind=\"scatter\", x=\"median_income\", y=\"median_house_value\",alpha=0.1)"
   ]
  },
  {
   "cell_type": "markdown",
   "metadata": {},
   "source": [
    "위 그래프의 특성\n",
    "1. 양의 상관관계가 매우강함\n",
    "2. 500000지점에서 수평으로 분포해있음\n",
    "3. 450000, 350000 지점도 마찬가지로 수평적 분포가 보임\n",
    "\n",
    "알고리즘이 데이터에서 이런 이상한 형태를 학습하지않도록 제거하는것이 좋아보인다"
   ]
  },
  {
   "cell_type": "markdown",
   "metadata": {},
   "source": [
    "#### 특성조합으로 실험"
   ]
  },
  {
   "cell_type": "code",
   "execution_count": 22,
   "metadata": {},
   "outputs": [],
   "source": [
    "housing[\"rooms_per_household\"] = housing[\"total_rooms\"]/housing[\"households\"]\n",
    "housing[\"bedrooms_per_room\"] = housing[\"total_bedrooms\"]/housing[\"total_rooms\"]\n",
    "housing[\"population_per_household\"] = housing[\"population\"]/housing[\"households\"]"
   ]
  },
  {
   "cell_type": "code",
   "execution_count": 23,
   "metadata": {},
   "outputs": [
    {
     "data": {
      "text/plain": [
       "median_house_value          1.000000\n",
       "median_income               0.688075\n",
       "income_cat                  0.643892\n",
       "rooms_per_household         0.151948\n",
       "total_rooms                 0.134153\n",
       "housing_median_age          0.105623\n",
       "households                  0.065843\n",
       "total_bedrooms              0.049686\n",
       "population_per_household   -0.023737\n",
       "population                 -0.024650\n",
       "longitude                  -0.045967\n",
       "latitude                   -0.144160\n",
       "bedrooms_per_room          -0.255880\n",
       "Name: median_house_value, dtype: float64"
      ]
     },
     "execution_count": 23,
     "metadata": {},
     "output_type": "execute_result"
    }
   ],
   "source": [
    "corr_matrix = housing.corr()\n",
    "corr_matrix[\"median_house_value\"].sort_values(ascending = False)"
   ]
  },
  {
   "cell_type": "markdown",
   "metadata": {},
   "source": [
    "### 머신러닝 알고리즘을 위한 데이터 준비"
   ]
  },
  {
   "cell_type": "markdown",
   "metadata": {},
   "source": [
    "이 작업은 수동으로 하는 대신 함수를 만들어 자동화 해야하는 이유가 있다.\n",
    "1. 어떤 데이터셋에 대해서도 데이터 변환을 손쉽게 반복할 수 있다.\n",
    "2. 향후 프로젝트에 사용할 수 있는 변환 라이브러리를 점진적으로 구축할 수 있다.\n",
    "3. 실제 시스템에서 알고리즘에 새 데이터를 주입하기 전에 변환시키는데 이 함수를 사용할 수 있다.\n",
    "4. 여러가지 데이터 변환을 쉽게 시도해볼 수 있고 어떤 조합이 가장 좋은지 확인하는데 편리하다.\n"
   ]
  },
  {
   "cell_type": "code",
   "execution_count": 24,
   "metadata": {},
   "outputs": [],
   "source": [
    "housing = strat_train_set.drop(\"median_house_value\", axis=1)\n",
    "housing_labels = strat_train_set[\"median_house_value\"].copy()"
   ]
  },
  {
   "cell_type": "markdown",
   "metadata": {},
   "source": [
    "#### 데이터 정제 "
   ]
  },
  {
   "cell_type": "markdown",
   "metadata": {},
   "source": [
    "dropna()  \n",
    "drop()  \n",
    "fillna()  \n"
   ]
  },
  {
   "cell_type": "code",
   "execution_count": 25,
   "metadata": {},
   "outputs": [],
   "source": [
    "housing.dropna(subset=[\"total_bedrooms\"])\n",
    "housing.drop(\"total_bedrooms\",axis=1)\n",
    "median = housing[\"total_bedrooms\"].median()\n",
    "housing[\"total_bedrooms\"].fillna(median, inplace =True)"
   ]
  },
  {
   "cell_type": "markdown",
   "metadata": {},
   "source": [
    "사이킷런의 SimpleImputer는 누락된 값을 손쉽게 다룰 수 있도록 해준다. "
   ]
  },
  {
   "cell_type": "code",
   "execution_count": 26,
   "metadata": {},
   "outputs": [],
   "source": [
    "from sklearn.impute import SimpleImputer\n",
    "imputer = SimpleImputer(strategy=\"median\")"
   ]
  },
  {
   "cell_type": "markdown",
   "metadata": {},
   "source": [
    "중간값이 수치형 특성에서만 계산될 수 있기때문에 ocean_proximity를 제외한 복사본 생성"
   ]
  },
  {
   "cell_type": "code",
   "execution_count": 27,
   "metadata": {},
   "outputs": [
    {
     "data": {
      "text/plain": [
       "SimpleImputer(copy=True, fill_value=None, missing_values=nan,\n",
       "       strategy='median', verbose=0)"
      ]
     },
     "execution_count": 27,
     "metadata": {},
     "output_type": "execute_result"
    }
   ],
   "source": [
    "housing_num = housing.drop(\"ocean_proximity\", axis = 1)\n",
    "imputer.fit(housing_num)"
   ]
  },
  {
   "cell_type": "code",
   "execution_count": 28,
   "metadata": {},
   "outputs": [
    {
     "data": {
      "text/plain": [
       "array([-118.51  ,   34.26  ,   29.    , 2119.5   ,  433.    , 1164.    ,\n",
       "        408.    ,    3.5409])"
      ]
     },
     "execution_count": 28,
     "metadata": {},
     "output_type": "execute_result"
    }
   ],
   "source": [
    "imputer.statistics_"
   ]
  },
  {
   "cell_type": "code",
   "execution_count": 29,
   "metadata": {},
   "outputs": [
    {
     "data": {
      "text/plain": [
       "array([-118.51  ,   34.26  ,   29.    , 2119.5   ,  433.    , 1164.    ,\n",
       "        408.    ,    3.5409])"
      ]
     },
     "execution_count": 29,
     "metadata": {},
     "output_type": "execute_result"
    }
   ],
   "source": [
    "housing_num.median().values"
   ]
  },
  {
   "cell_type": "code",
   "execution_count": 30,
   "metadata": {},
   "outputs": [
    {
     "data": {
      "text/plain": [
       "numpy.ndarray"
      ]
     },
     "execution_count": 30,
     "metadata": {},
     "output_type": "execute_result"
    }
   ],
   "source": [
    "X = imputer.transform(housing_num)\n",
    "type(X) ##imputer의 결과물은 평범한 numpy array이므로 pandas df로 돌려주자"
   ]
  },
  {
   "cell_type": "code",
   "execution_count": 31,
   "metadata": {},
   "outputs": [],
   "source": [
    "housing_tr = pd.DataFrame(X, columns=housing_num.columns,\n",
    "                         index = list(housing.index.values))"
   ]
  },
  {
   "cell_type": "code",
   "execution_count": 32,
   "metadata": {},
   "outputs": [
    {
     "data": {
      "text/html": [
       "<div>\n",
       "<style scoped>\n",
       "    .dataframe tbody tr th:only-of-type {\n",
       "        vertical-align: middle;\n",
       "    }\n",
       "\n",
       "    .dataframe tbody tr th {\n",
       "        vertical-align: top;\n",
       "    }\n",
       "\n",
       "    .dataframe thead th {\n",
       "        text-align: right;\n",
       "    }\n",
       "</style>\n",
       "<table border=\"1\" class=\"dataframe\">\n",
       "  <thead>\n",
       "    <tr style=\"text-align: right;\">\n",
       "      <th></th>\n",
       "      <th>longitude</th>\n",
       "      <th>latitude</th>\n",
       "      <th>housing_median_age</th>\n",
       "      <th>total_rooms</th>\n",
       "      <th>total_bedrooms</th>\n",
       "      <th>population</th>\n",
       "      <th>households</th>\n",
       "      <th>median_income</th>\n",
       "    </tr>\n",
       "  </thead>\n",
       "  <tbody>\n",
       "    <tr>\n",
       "      <th>17606</th>\n",
       "      <td>-121.89</td>\n",
       "      <td>37.29</td>\n",
       "      <td>38.0</td>\n",
       "      <td>1568.0</td>\n",
       "      <td>351.0</td>\n",
       "      <td>710.0</td>\n",
       "      <td>339.0</td>\n",
       "      <td>2.7042</td>\n",
       "    </tr>\n",
       "    <tr>\n",
       "      <th>18632</th>\n",
       "      <td>-121.93</td>\n",
       "      <td>37.05</td>\n",
       "      <td>14.0</td>\n",
       "      <td>679.0</td>\n",
       "      <td>108.0</td>\n",
       "      <td>306.0</td>\n",
       "      <td>113.0</td>\n",
       "      <td>6.4214</td>\n",
       "    </tr>\n",
       "    <tr>\n",
       "      <th>14650</th>\n",
       "      <td>-117.20</td>\n",
       "      <td>32.77</td>\n",
       "      <td>31.0</td>\n",
       "      <td>1952.0</td>\n",
       "      <td>471.0</td>\n",
       "      <td>936.0</td>\n",
       "      <td>462.0</td>\n",
       "      <td>2.8621</td>\n",
       "    </tr>\n",
       "    <tr>\n",
       "      <th>3230</th>\n",
       "      <td>-119.61</td>\n",
       "      <td>36.31</td>\n",
       "      <td>25.0</td>\n",
       "      <td>1847.0</td>\n",
       "      <td>371.0</td>\n",
       "      <td>1460.0</td>\n",
       "      <td>353.0</td>\n",
       "      <td>1.8839</td>\n",
       "    </tr>\n",
       "    <tr>\n",
       "      <th>3555</th>\n",
       "      <td>-118.59</td>\n",
       "      <td>34.23</td>\n",
       "      <td>17.0</td>\n",
       "      <td>6592.0</td>\n",
       "      <td>1525.0</td>\n",
       "      <td>4459.0</td>\n",
       "      <td>1463.0</td>\n",
       "      <td>3.0347</td>\n",
       "    </tr>\n",
       "    <tr>\n",
       "      <th>19480</th>\n",
       "      <td>-120.97</td>\n",
       "      <td>37.66</td>\n",
       "      <td>24.0</td>\n",
       "      <td>2930.0</td>\n",
       "      <td>588.0</td>\n",
       "      <td>1448.0</td>\n",
       "      <td>570.0</td>\n",
       "      <td>3.5395</td>\n",
       "    </tr>\n",
       "    <tr>\n",
       "      <th>8879</th>\n",
       "      <td>-118.50</td>\n",
       "      <td>34.04</td>\n",
       "      <td>52.0</td>\n",
       "      <td>2233.0</td>\n",
       "      <td>317.0</td>\n",
       "      <td>769.0</td>\n",
       "      <td>277.0</td>\n",
       "      <td>8.3839</td>\n",
       "    </tr>\n",
       "    <tr>\n",
       "      <th>13685</th>\n",
       "      <td>-117.24</td>\n",
       "      <td>34.15</td>\n",
       "      <td>26.0</td>\n",
       "      <td>2041.0</td>\n",
       "      <td>293.0</td>\n",
       "      <td>936.0</td>\n",
       "      <td>375.0</td>\n",
       "      <td>6.0000</td>\n",
       "    </tr>\n",
       "    <tr>\n",
       "      <th>4937</th>\n",
       "      <td>-118.26</td>\n",
       "      <td>33.99</td>\n",
       "      <td>47.0</td>\n",
       "      <td>1865.0</td>\n",
       "      <td>465.0</td>\n",
       "      <td>1916.0</td>\n",
       "      <td>438.0</td>\n",
       "      <td>1.8242</td>\n",
       "    </tr>\n",
       "    <tr>\n",
       "      <th>4861</th>\n",
       "      <td>-118.28</td>\n",
       "      <td>34.02</td>\n",
       "      <td>29.0</td>\n",
       "      <td>515.0</td>\n",
       "      <td>229.0</td>\n",
       "      <td>2690.0</td>\n",
       "      <td>217.0</td>\n",
       "      <td>0.4999</td>\n",
       "    </tr>\n",
       "    <tr>\n",
       "      <th>16365</th>\n",
       "      <td>-121.31</td>\n",
       "      <td>38.02</td>\n",
       "      <td>24.0</td>\n",
       "      <td>4157.0</td>\n",
       "      <td>951.0</td>\n",
       "      <td>2734.0</td>\n",
       "      <td>879.0</td>\n",
       "      <td>2.7981</td>\n",
       "    </tr>\n",
       "    <tr>\n",
       "      <th>19684</th>\n",
       "      <td>-121.62</td>\n",
       "      <td>39.14</td>\n",
       "      <td>41.0</td>\n",
       "      <td>2183.0</td>\n",
       "      <td>559.0</td>\n",
       "      <td>1202.0</td>\n",
       "      <td>506.0</td>\n",
       "      <td>1.6902</td>\n",
       "    </tr>\n",
       "    <tr>\n",
       "      <th>19234</th>\n",
       "      <td>-122.69</td>\n",
       "      <td>38.51</td>\n",
       "      <td>18.0</td>\n",
       "      <td>3364.0</td>\n",
       "      <td>501.0</td>\n",
       "      <td>1442.0</td>\n",
       "      <td>506.0</td>\n",
       "      <td>6.6854</td>\n",
       "    </tr>\n",
       "    <tr>\n",
       "      <th>13956</th>\n",
       "      <td>-117.06</td>\n",
       "      <td>34.17</td>\n",
       "      <td>21.0</td>\n",
       "      <td>2520.0</td>\n",
       "      <td>582.0</td>\n",
       "      <td>416.0</td>\n",
       "      <td>151.0</td>\n",
       "      <td>2.7120</td>\n",
       "    </tr>\n",
       "    <tr>\n",
       "      <th>2390</th>\n",
       "      <td>-119.46</td>\n",
       "      <td>36.91</td>\n",
       "      <td>12.0</td>\n",
       "      <td>2980.0</td>\n",
       "      <td>495.0</td>\n",
       "      <td>1184.0</td>\n",
       "      <td>429.0</td>\n",
       "      <td>3.9141</td>\n",
       "    </tr>\n",
       "    <tr>\n",
       "      <th>11176</th>\n",
       "      <td>-117.96</td>\n",
       "      <td>33.83</td>\n",
       "      <td>30.0</td>\n",
       "      <td>2838.0</td>\n",
       "      <td>649.0</td>\n",
       "      <td>1758.0</td>\n",
       "      <td>593.0</td>\n",
       "      <td>3.3831</td>\n",
       "    </tr>\n",
       "    <tr>\n",
       "      <th>15614</th>\n",
       "      <td>-122.41</td>\n",
       "      <td>37.81</td>\n",
       "      <td>25.0</td>\n",
       "      <td>1178.0</td>\n",
       "      <td>545.0</td>\n",
       "      <td>592.0</td>\n",
       "      <td>441.0</td>\n",
       "      <td>3.6728</td>\n",
       "    </tr>\n",
       "    <tr>\n",
       "      <th>2953</th>\n",
       "      <td>-119.02</td>\n",
       "      <td>35.35</td>\n",
       "      <td>42.0</td>\n",
       "      <td>1239.0</td>\n",
       "      <td>251.0</td>\n",
       "      <td>776.0</td>\n",
       "      <td>272.0</td>\n",
       "      <td>1.9830</td>\n",
       "    </tr>\n",
       "    <tr>\n",
       "      <th>13209</th>\n",
       "      <td>-117.72</td>\n",
       "      <td>34.05</td>\n",
       "      <td>8.0</td>\n",
       "      <td>1841.0</td>\n",
       "      <td>409.0</td>\n",
       "      <td>1243.0</td>\n",
       "      <td>394.0</td>\n",
       "      <td>4.0614</td>\n",
       "    </tr>\n",
       "    <tr>\n",
       "      <th>6569</th>\n",
       "      <td>-118.15</td>\n",
       "      <td>34.20</td>\n",
       "      <td>46.0</td>\n",
       "      <td>1505.0</td>\n",
       "      <td>261.0</td>\n",
       "      <td>857.0</td>\n",
       "      <td>269.0</td>\n",
       "      <td>4.5000</td>\n",
       "    </tr>\n",
       "    <tr>\n",
       "      <th>5825</th>\n",
       "      <td>-118.30</td>\n",
       "      <td>34.19</td>\n",
       "      <td>14.0</td>\n",
       "      <td>3615.0</td>\n",
       "      <td>913.0</td>\n",
       "      <td>1924.0</td>\n",
       "      <td>852.0</td>\n",
       "      <td>3.5083</td>\n",
       "    </tr>\n",
       "    <tr>\n",
       "      <th>18086</th>\n",
       "      <td>-122.05</td>\n",
       "      <td>37.31</td>\n",
       "      <td>25.0</td>\n",
       "      <td>4111.0</td>\n",
       "      <td>538.0</td>\n",
       "      <td>1585.0</td>\n",
       "      <td>568.0</td>\n",
       "      <td>9.2298</td>\n",
       "    </tr>\n",
       "    <tr>\n",
       "      <th>16718</th>\n",
       "      <td>-120.66</td>\n",
       "      <td>35.49</td>\n",
       "      <td>17.0</td>\n",
       "      <td>4422.0</td>\n",
       "      <td>945.0</td>\n",
       "      <td>2307.0</td>\n",
       "      <td>885.0</td>\n",
       "      <td>2.8285</td>\n",
       "    </tr>\n",
       "    <tr>\n",
       "      <th>13600</th>\n",
       "      <td>-117.25</td>\n",
       "      <td>34.16</td>\n",
       "      <td>37.0</td>\n",
       "      <td>1709.0</td>\n",
       "      <td>278.0</td>\n",
       "      <td>744.0</td>\n",
       "      <td>274.0</td>\n",
       "      <td>3.7188</td>\n",
       "    </tr>\n",
       "    <tr>\n",
       "      <th>13989</th>\n",
       "      <td>-117.19</td>\n",
       "      <td>34.94</td>\n",
       "      <td>31.0</td>\n",
       "      <td>2034.0</td>\n",
       "      <td>444.0</td>\n",
       "      <td>1097.0</td>\n",
       "      <td>367.0</td>\n",
       "      <td>2.1522</td>\n",
       "    </tr>\n",
       "    <tr>\n",
       "      <th>15168</th>\n",
       "      <td>-117.06</td>\n",
       "      <td>33.02</td>\n",
       "      <td>24.0</td>\n",
       "      <td>830.0</td>\n",
       "      <td>190.0</td>\n",
       "      <td>279.0</td>\n",
       "      <td>196.0</td>\n",
       "      <td>1.9176</td>\n",
       "    </tr>\n",
       "    <tr>\n",
       "      <th>6747</th>\n",
       "      <td>-118.07</td>\n",
       "      <td>34.11</td>\n",
       "      <td>41.0</td>\n",
       "      <td>2869.0</td>\n",
       "      <td>563.0</td>\n",
       "      <td>1627.0</td>\n",
       "      <td>533.0</td>\n",
       "      <td>5.0736</td>\n",
       "    </tr>\n",
       "    <tr>\n",
       "      <th>7398</th>\n",
       "      <td>-118.24</td>\n",
       "      <td>33.96</td>\n",
       "      <td>44.0</td>\n",
       "      <td>1338.0</td>\n",
       "      <td>366.0</td>\n",
       "      <td>1765.0</td>\n",
       "      <td>388.0</td>\n",
       "      <td>1.7778</td>\n",
       "    </tr>\n",
       "    <tr>\n",
       "      <th>5562</th>\n",
       "      <td>-118.28</td>\n",
       "      <td>33.91</td>\n",
       "      <td>41.0</td>\n",
       "      <td>620.0</td>\n",
       "      <td>133.0</td>\n",
       "      <td>642.0</td>\n",
       "      <td>162.0</td>\n",
       "      <td>2.6546</td>\n",
       "    </tr>\n",
       "    <tr>\n",
       "      <th>16121</th>\n",
       "      <td>-122.46</td>\n",
       "      <td>37.79</td>\n",
       "      <td>52.0</td>\n",
       "      <td>2059.0</td>\n",
       "      <td>416.0</td>\n",
       "      <td>999.0</td>\n",
       "      <td>402.0</td>\n",
       "      <td>3.7419</td>\n",
       "    </tr>\n",
       "    <tr>\n",
       "      <th>...</th>\n",
       "      <td>...</td>\n",
       "      <td>...</td>\n",
       "      <td>...</td>\n",
       "      <td>...</td>\n",
       "      <td>...</td>\n",
       "      <td>...</td>\n",
       "      <td>...</td>\n",
       "      <td>...</td>\n",
       "    </tr>\n",
       "    <tr>\n",
       "      <th>12380</th>\n",
       "      <td>-116.47</td>\n",
       "      <td>33.77</td>\n",
       "      <td>26.0</td>\n",
       "      <td>4300.0</td>\n",
       "      <td>767.0</td>\n",
       "      <td>1557.0</td>\n",
       "      <td>669.0</td>\n",
       "      <td>4.4107</td>\n",
       "    </tr>\n",
       "    <tr>\n",
       "      <th>5618</th>\n",
       "      <td>-118.23</td>\n",
       "      <td>33.78</td>\n",
       "      <td>20.0</td>\n",
       "      <td>59.0</td>\n",
       "      <td>24.0</td>\n",
       "      <td>69.0</td>\n",
       "      <td>23.0</td>\n",
       "      <td>2.5588</td>\n",
       "    </tr>\n",
       "    <tr>\n",
       "      <th>10060</th>\n",
       "      <td>-121.06</td>\n",
       "      <td>39.25</td>\n",
       "      <td>17.0</td>\n",
       "      <td>3127.0</td>\n",
       "      <td>539.0</td>\n",
       "      <td>1390.0</td>\n",
       "      <td>520.0</td>\n",
       "      <td>3.9537</td>\n",
       "    </tr>\n",
       "    <tr>\n",
       "      <th>18067</th>\n",
       "      <td>-122.03</td>\n",
       "      <td>37.29</td>\n",
       "      <td>22.0</td>\n",
       "      <td>3118.0</td>\n",
       "      <td>438.0</td>\n",
       "      <td>1147.0</td>\n",
       "      <td>425.0</td>\n",
       "      <td>10.3653</td>\n",
       "    </tr>\n",
       "    <tr>\n",
       "      <th>4471</th>\n",
       "      <td>-118.17</td>\n",
       "      <td>34.09</td>\n",
       "      <td>33.0</td>\n",
       "      <td>2907.0</td>\n",
       "      <td>797.0</td>\n",
       "      <td>3212.0</td>\n",
       "      <td>793.0</td>\n",
       "      <td>2.2348</td>\n",
       "    </tr>\n",
       "    <tr>\n",
       "      <th>19786</th>\n",
       "      <td>-122.86</td>\n",
       "      <td>40.56</td>\n",
       "      <td>12.0</td>\n",
       "      <td>1350.0</td>\n",
       "      <td>300.0</td>\n",
       "      <td>423.0</td>\n",
       "      <td>172.0</td>\n",
       "      <td>1.7393</td>\n",
       "    </tr>\n",
       "    <tr>\n",
       "      <th>9969</th>\n",
       "      <td>-122.48</td>\n",
       "      <td>38.51</td>\n",
       "      <td>49.0</td>\n",
       "      <td>1977.0</td>\n",
       "      <td>393.0</td>\n",
       "      <td>741.0</td>\n",
       "      <td>339.0</td>\n",
       "      <td>3.1312</td>\n",
       "    </tr>\n",
       "    <tr>\n",
       "      <th>14621</th>\n",
       "      <td>-117.17</td>\n",
       "      <td>32.78</td>\n",
       "      <td>17.0</td>\n",
       "      <td>3845.0</td>\n",
       "      <td>1051.0</td>\n",
       "      <td>3102.0</td>\n",
       "      <td>944.0</td>\n",
       "      <td>2.3658</td>\n",
       "    </tr>\n",
       "    <tr>\n",
       "      <th>579</th>\n",
       "      <td>-122.07</td>\n",
       "      <td>37.71</td>\n",
       "      <td>40.0</td>\n",
       "      <td>1808.0</td>\n",
       "      <td>302.0</td>\n",
       "      <td>746.0</td>\n",
       "      <td>270.0</td>\n",
       "      <td>5.3015</td>\n",
       "    </tr>\n",
       "    <tr>\n",
       "      <th>11682</th>\n",
       "      <td>-118.01</td>\n",
       "      <td>33.87</td>\n",
       "      <td>25.0</td>\n",
       "      <td>6348.0</td>\n",
       "      <td>1615.0</td>\n",
       "      <td>4188.0</td>\n",
       "      <td>1497.0</td>\n",
       "      <td>3.1390</td>\n",
       "    </tr>\n",
       "    <tr>\n",
       "      <th>245</th>\n",
       "      <td>-122.21</td>\n",
       "      <td>37.78</td>\n",
       "      <td>43.0</td>\n",
       "      <td>1702.0</td>\n",
       "      <td>460.0</td>\n",
       "      <td>1227.0</td>\n",
       "      <td>407.0</td>\n",
       "      <td>1.7188</td>\n",
       "    </tr>\n",
       "    <tr>\n",
       "      <th>12130</th>\n",
       "      <td>-117.23</td>\n",
       "      <td>33.94</td>\n",
       "      <td>8.0</td>\n",
       "      <td>2405.0</td>\n",
       "      <td>537.0</td>\n",
       "      <td>1594.0</td>\n",
       "      <td>517.0</td>\n",
       "      <td>3.0789</td>\n",
       "    </tr>\n",
       "    <tr>\n",
       "      <th>16441</th>\n",
       "      <td>-121.29</td>\n",
       "      <td>38.14</td>\n",
       "      <td>34.0</td>\n",
       "      <td>2770.0</td>\n",
       "      <td>544.0</td>\n",
       "      <td>1409.0</td>\n",
       "      <td>535.0</td>\n",
       "      <td>3.2338</td>\n",
       "    </tr>\n",
       "    <tr>\n",
       "      <th>11016</th>\n",
       "      <td>-117.82</td>\n",
       "      <td>33.76</td>\n",
       "      <td>33.0</td>\n",
       "      <td>2774.0</td>\n",
       "      <td>428.0</td>\n",
       "      <td>1229.0</td>\n",
       "      <td>407.0</td>\n",
       "      <td>6.2944</td>\n",
       "    </tr>\n",
       "    <tr>\n",
       "      <th>19934</th>\n",
       "      <td>-119.34</td>\n",
       "      <td>36.31</td>\n",
       "      <td>14.0</td>\n",
       "      <td>1635.0</td>\n",
       "      <td>422.0</td>\n",
       "      <td>870.0</td>\n",
       "      <td>399.0</td>\n",
       "      <td>2.7000</td>\n",
       "    </tr>\n",
       "    <tr>\n",
       "      <th>1364</th>\n",
       "      <td>-122.14</td>\n",
       "      <td>38.03</td>\n",
       "      <td>42.0</td>\n",
       "      <td>118.0</td>\n",
       "      <td>34.0</td>\n",
       "      <td>54.0</td>\n",
       "      <td>30.0</td>\n",
       "      <td>2.5795</td>\n",
       "    </tr>\n",
       "    <tr>\n",
       "      <th>1236</th>\n",
       "      <td>-120.37</td>\n",
       "      <td>38.23</td>\n",
       "      <td>13.0</td>\n",
       "      <td>4401.0</td>\n",
       "      <td>829.0</td>\n",
       "      <td>924.0</td>\n",
       "      <td>383.0</td>\n",
       "      <td>2.6942</td>\n",
       "    </tr>\n",
       "    <tr>\n",
       "      <th>5364</th>\n",
       "      <td>-118.42</td>\n",
       "      <td>34.04</td>\n",
       "      <td>52.0</td>\n",
       "      <td>1358.0</td>\n",
       "      <td>272.0</td>\n",
       "      <td>574.0</td>\n",
       "      <td>267.0</td>\n",
       "      <td>5.6454</td>\n",
       "    </tr>\n",
       "    <tr>\n",
       "      <th>11703</th>\n",
       "      <td>-117.97</td>\n",
       "      <td>33.88</td>\n",
       "      <td>16.0</td>\n",
       "      <td>2003.0</td>\n",
       "      <td>300.0</td>\n",
       "      <td>1172.0</td>\n",
       "      <td>318.0</td>\n",
       "      <td>6.0394</td>\n",
       "    </tr>\n",
       "    <tr>\n",
       "      <th>10356</th>\n",
       "      <td>-117.67</td>\n",
       "      <td>33.60</td>\n",
       "      <td>25.0</td>\n",
       "      <td>3164.0</td>\n",
       "      <td>449.0</td>\n",
       "      <td>1517.0</td>\n",
       "      <td>453.0</td>\n",
       "      <td>6.7921</td>\n",
       "    </tr>\n",
       "    <tr>\n",
       "      <th>15270</th>\n",
       "      <td>-117.29</td>\n",
       "      <td>33.08</td>\n",
       "      <td>18.0</td>\n",
       "      <td>3225.0</td>\n",
       "      <td>515.0</td>\n",
       "      <td>1463.0</td>\n",
       "      <td>476.0</td>\n",
       "      <td>5.7787</td>\n",
       "    </tr>\n",
       "    <tr>\n",
       "      <th>3754</th>\n",
       "      <td>-118.37</td>\n",
       "      <td>34.18</td>\n",
       "      <td>36.0</td>\n",
       "      <td>1608.0</td>\n",
       "      <td>373.0</td>\n",
       "      <td>1217.0</td>\n",
       "      <td>374.0</td>\n",
       "      <td>2.9728</td>\n",
       "    </tr>\n",
       "    <tr>\n",
       "      <th>12166</th>\n",
       "      <td>-117.14</td>\n",
       "      <td>33.81</td>\n",
       "      <td>13.0</td>\n",
       "      <td>4496.0</td>\n",
       "      <td>756.0</td>\n",
       "      <td>2044.0</td>\n",
       "      <td>695.0</td>\n",
       "      <td>3.2778</td>\n",
       "    </tr>\n",
       "    <tr>\n",
       "      <th>6003</th>\n",
       "      <td>-117.77</td>\n",
       "      <td>34.08</td>\n",
       "      <td>27.0</td>\n",
       "      <td>5929.0</td>\n",
       "      <td>932.0</td>\n",
       "      <td>2817.0</td>\n",
       "      <td>828.0</td>\n",
       "      <td>6.0434</td>\n",
       "    </tr>\n",
       "    <tr>\n",
       "      <th>7364</th>\n",
       "      <td>-118.20</td>\n",
       "      <td>33.97</td>\n",
       "      <td>43.0</td>\n",
       "      <td>825.0</td>\n",
       "      <td>212.0</td>\n",
       "      <td>820.0</td>\n",
       "      <td>184.0</td>\n",
       "      <td>1.8897</td>\n",
       "    </tr>\n",
       "    <tr>\n",
       "      <th>6563</th>\n",
       "      <td>-118.13</td>\n",
       "      <td>34.20</td>\n",
       "      <td>46.0</td>\n",
       "      <td>1271.0</td>\n",
       "      <td>236.0</td>\n",
       "      <td>573.0</td>\n",
       "      <td>210.0</td>\n",
       "      <td>4.9312</td>\n",
       "    </tr>\n",
       "    <tr>\n",
       "      <th>12053</th>\n",
       "      <td>-117.56</td>\n",
       "      <td>33.88</td>\n",
       "      <td>40.0</td>\n",
       "      <td>1196.0</td>\n",
       "      <td>294.0</td>\n",
       "      <td>1052.0</td>\n",
       "      <td>258.0</td>\n",
       "      <td>2.0682</td>\n",
       "    </tr>\n",
       "    <tr>\n",
       "      <th>13908</th>\n",
       "      <td>-116.40</td>\n",
       "      <td>34.09</td>\n",
       "      <td>9.0</td>\n",
       "      <td>4855.0</td>\n",
       "      <td>872.0</td>\n",
       "      <td>2098.0</td>\n",
       "      <td>765.0</td>\n",
       "      <td>3.2723</td>\n",
       "    </tr>\n",
       "    <tr>\n",
       "      <th>11159</th>\n",
       "      <td>-118.01</td>\n",
       "      <td>33.82</td>\n",
       "      <td>31.0</td>\n",
       "      <td>1960.0</td>\n",
       "      <td>380.0</td>\n",
       "      <td>1356.0</td>\n",
       "      <td>356.0</td>\n",
       "      <td>4.0625</td>\n",
       "    </tr>\n",
       "    <tr>\n",
       "      <th>15775</th>\n",
       "      <td>-122.45</td>\n",
       "      <td>37.77</td>\n",
       "      <td>52.0</td>\n",
       "      <td>3095.0</td>\n",
       "      <td>682.0</td>\n",
       "      <td>1269.0</td>\n",
       "      <td>639.0</td>\n",
       "      <td>3.5750</td>\n",
       "    </tr>\n",
       "  </tbody>\n",
       "</table>\n",
       "<p>16512 rows × 8 columns</p>\n",
       "</div>"
      ],
      "text/plain": [
       "       longitude  latitude  housing_median_age  total_rooms  total_bedrooms  \\\n",
       "17606    -121.89     37.29                38.0       1568.0           351.0   \n",
       "18632    -121.93     37.05                14.0        679.0           108.0   \n",
       "14650    -117.20     32.77                31.0       1952.0           471.0   \n",
       "3230     -119.61     36.31                25.0       1847.0           371.0   \n",
       "3555     -118.59     34.23                17.0       6592.0          1525.0   \n",
       "19480    -120.97     37.66                24.0       2930.0           588.0   \n",
       "8879     -118.50     34.04                52.0       2233.0           317.0   \n",
       "13685    -117.24     34.15                26.0       2041.0           293.0   \n",
       "4937     -118.26     33.99                47.0       1865.0           465.0   \n",
       "4861     -118.28     34.02                29.0        515.0           229.0   \n",
       "16365    -121.31     38.02                24.0       4157.0           951.0   \n",
       "19684    -121.62     39.14                41.0       2183.0           559.0   \n",
       "19234    -122.69     38.51                18.0       3364.0           501.0   \n",
       "13956    -117.06     34.17                21.0       2520.0           582.0   \n",
       "2390     -119.46     36.91                12.0       2980.0           495.0   \n",
       "11176    -117.96     33.83                30.0       2838.0           649.0   \n",
       "15614    -122.41     37.81                25.0       1178.0           545.0   \n",
       "2953     -119.02     35.35                42.0       1239.0           251.0   \n",
       "13209    -117.72     34.05                 8.0       1841.0           409.0   \n",
       "6569     -118.15     34.20                46.0       1505.0           261.0   \n",
       "5825     -118.30     34.19                14.0       3615.0           913.0   \n",
       "18086    -122.05     37.31                25.0       4111.0           538.0   \n",
       "16718    -120.66     35.49                17.0       4422.0           945.0   \n",
       "13600    -117.25     34.16                37.0       1709.0           278.0   \n",
       "13989    -117.19     34.94                31.0       2034.0           444.0   \n",
       "15168    -117.06     33.02                24.0        830.0           190.0   \n",
       "6747     -118.07     34.11                41.0       2869.0           563.0   \n",
       "7398     -118.24     33.96                44.0       1338.0           366.0   \n",
       "5562     -118.28     33.91                41.0        620.0           133.0   \n",
       "16121    -122.46     37.79                52.0       2059.0           416.0   \n",
       "...          ...       ...                 ...          ...             ...   \n",
       "12380    -116.47     33.77                26.0       4300.0           767.0   \n",
       "5618     -118.23     33.78                20.0         59.0            24.0   \n",
       "10060    -121.06     39.25                17.0       3127.0           539.0   \n",
       "18067    -122.03     37.29                22.0       3118.0           438.0   \n",
       "4471     -118.17     34.09                33.0       2907.0           797.0   \n",
       "19786    -122.86     40.56                12.0       1350.0           300.0   \n",
       "9969     -122.48     38.51                49.0       1977.0           393.0   \n",
       "14621    -117.17     32.78                17.0       3845.0          1051.0   \n",
       "579      -122.07     37.71                40.0       1808.0           302.0   \n",
       "11682    -118.01     33.87                25.0       6348.0          1615.0   \n",
       "245      -122.21     37.78                43.0       1702.0           460.0   \n",
       "12130    -117.23     33.94                 8.0       2405.0           537.0   \n",
       "16441    -121.29     38.14                34.0       2770.0           544.0   \n",
       "11016    -117.82     33.76                33.0       2774.0           428.0   \n",
       "19934    -119.34     36.31                14.0       1635.0           422.0   \n",
       "1364     -122.14     38.03                42.0        118.0            34.0   \n",
       "1236     -120.37     38.23                13.0       4401.0           829.0   \n",
       "5364     -118.42     34.04                52.0       1358.0           272.0   \n",
       "11703    -117.97     33.88                16.0       2003.0           300.0   \n",
       "10356    -117.67     33.60                25.0       3164.0           449.0   \n",
       "15270    -117.29     33.08                18.0       3225.0           515.0   \n",
       "3754     -118.37     34.18                36.0       1608.0           373.0   \n",
       "12166    -117.14     33.81                13.0       4496.0           756.0   \n",
       "6003     -117.77     34.08                27.0       5929.0           932.0   \n",
       "7364     -118.20     33.97                43.0        825.0           212.0   \n",
       "6563     -118.13     34.20                46.0       1271.0           236.0   \n",
       "12053    -117.56     33.88                40.0       1196.0           294.0   \n",
       "13908    -116.40     34.09                 9.0       4855.0           872.0   \n",
       "11159    -118.01     33.82                31.0       1960.0           380.0   \n",
       "15775    -122.45     37.77                52.0       3095.0           682.0   \n",
       "\n",
       "       population  households  median_income  \n",
       "17606       710.0       339.0         2.7042  \n",
       "18632       306.0       113.0         6.4214  \n",
       "14650       936.0       462.0         2.8621  \n",
       "3230       1460.0       353.0         1.8839  \n",
       "3555       4459.0      1463.0         3.0347  \n",
       "19480      1448.0       570.0         3.5395  \n",
       "8879        769.0       277.0         8.3839  \n",
       "13685       936.0       375.0         6.0000  \n",
       "4937       1916.0       438.0         1.8242  \n",
       "4861       2690.0       217.0         0.4999  \n",
       "16365      2734.0       879.0         2.7981  \n",
       "19684      1202.0       506.0         1.6902  \n",
       "19234      1442.0       506.0         6.6854  \n",
       "13956       416.0       151.0         2.7120  \n",
       "2390       1184.0       429.0         3.9141  \n",
       "11176      1758.0       593.0         3.3831  \n",
       "15614       592.0       441.0         3.6728  \n",
       "2953        776.0       272.0         1.9830  \n",
       "13209      1243.0       394.0         4.0614  \n",
       "6569        857.0       269.0         4.5000  \n",
       "5825       1924.0       852.0         3.5083  \n",
       "18086      1585.0       568.0         9.2298  \n",
       "16718      2307.0       885.0         2.8285  \n",
       "13600       744.0       274.0         3.7188  \n",
       "13989      1097.0       367.0         2.1522  \n",
       "15168       279.0       196.0         1.9176  \n",
       "6747       1627.0       533.0         5.0736  \n",
       "7398       1765.0       388.0         1.7778  \n",
       "5562        642.0       162.0         2.6546  \n",
       "16121       999.0       402.0         3.7419  \n",
       "...           ...         ...            ...  \n",
       "12380      1557.0       669.0         4.4107  \n",
       "5618         69.0        23.0         2.5588  \n",
       "10060      1390.0       520.0         3.9537  \n",
       "18067      1147.0       425.0        10.3653  \n",
       "4471       3212.0       793.0         2.2348  \n",
       "19786       423.0       172.0         1.7393  \n",
       "9969        741.0       339.0         3.1312  \n",
       "14621      3102.0       944.0         2.3658  \n",
       "579         746.0       270.0         5.3015  \n",
       "11682      4188.0      1497.0         3.1390  \n",
       "245        1227.0       407.0         1.7188  \n",
       "12130      1594.0       517.0         3.0789  \n",
       "16441      1409.0       535.0         3.2338  \n",
       "11016      1229.0       407.0         6.2944  \n",
       "19934       870.0       399.0         2.7000  \n",
       "1364         54.0        30.0         2.5795  \n",
       "1236        924.0       383.0         2.6942  \n",
       "5364        574.0       267.0         5.6454  \n",
       "11703      1172.0       318.0         6.0394  \n",
       "10356      1517.0       453.0         6.7921  \n",
       "15270      1463.0       476.0         5.7787  \n",
       "3754       1217.0       374.0         2.9728  \n",
       "12166      2044.0       695.0         3.2778  \n",
       "6003       2817.0       828.0         6.0434  \n",
       "7364        820.0       184.0         1.8897  \n",
       "6563        573.0       210.0         4.9312  \n",
       "12053      1052.0       258.0         2.0682  \n",
       "13908      2098.0       765.0         3.2723  \n",
       "11159      1356.0       356.0         4.0625  \n",
       "15775      1269.0       639.0         3.5750  \n",
       "\n",
       "[16512 rows x 8 columns]"
      ]
     },
     "execution_count": 32,
     "metadata": {},
     "output_type": "execute_result"
    }
   ],
   "source": [
    "housing_tr"
   ]
  },
  {
   "cell_type": "markdown",
   "metadata": {},
   "source": [
    "### *사이킷런의 설계 철학\n",
    "#### 1. 일관성  \n",
    "모든 객체가 일관되고 단순한 인터페이스를 공유한다.\n",
    "- 추정기(estimator)  \n",
    "데이터셋을 기반으로 일련의 모델 파라미터들을 추정하는 객체를 추정기라고 한다. 추정자체는 fit 메서드에 의해 수행되고 하나의 매개변수로 하나의 데이터셋만 전달한다.(지도학습의 경우에는 레이블을 포함한 두개의 매개변수)\n",
    "- 변환기(transformer)  \n",
    "변환은 transform() 메서드가 수행한다. 그리고 변환된 데이터셋을 반환한다. 모든 변환기는 fit()과 transform()을 연달아 호출하는것과 동일한 fit_transform() 메서드도 가지고있다 (fit_transform()이 최적화 되어있어 더 빠르다)\n",
    "- 예측기(predictor)  \n",
    "일부 추정기는 주어진 데이터셋에 대해 예측을 만들 수 있다. predict() 메서드는 새로운 데이터 셋을 받아 이에 상응하는 예측값을 반환한다. 또한 테스트 세트를 사용해 예측의 품질을 측정하는 score()메서드를 가지고있다.\n",
    "\n",
    "#### 2. 검사 가능  \n",
    "모든 추정기의 하이퍼파라미터는 공개 인스턴스 변수로 직접 접근할 수 있고. 모든 추정기의 학습된 모델 파라미터도 접미사로 밑줄을 붙여서 공개 인스턴스 변수로 제공된다.(imputer.statitics_)\n",
    "\n",
    "#### 3. 클래스 남용 방지  \n",
    "데이터셋을 별도의 클래스가 아니라 넘파이 배열이나 사이파이 희소행렬로 표현한다.\n",
    "\n",
    "#### 4. 조합성  \n",
    "기존의 구성요소를 최대한 재사용한다. 예를들어 여러 변환기를 연결한 다음 마지막에 추정기 하나를 배치한 Pipeline 추정기를 쉽게 만들 수 있다.\n",
    "\n",
    "#### 5. 합리적인 기본값  \n",
    "사이킷런은 일단 돌아가는 기본 시스템을 빠르게 만들 수 있도록 대부분 매개변수에 합리적인 기본값(default)를 지정해두었다."
   ]
  },
  {
   "cell_type": "markdown",
   "metadata": {},
   "source": [
    "### 텍스트와 범주형 특성 다루기"
   ]
  },
  {
   "cell_type": "markdown",
   "metadata": {},
   "source": [
    "#### factorizing  \n",
    "ocean_proximity 변수는 범주형 변수이므로 숫자로 범주화 시켜주자"
   ]
  },
  {
   "cell_type": "code",
   "execution_count": 33,
   "metadata": {},
   "outputs": [
    {
     "data": {
      "text/plain": [
       "17606     <1H OCEAN\n",
       "18632     <1H OCEAN\n",
       "14650    NEAR OCEAN\n",
       "3230         INLAND\n",
       "3555      <1H OCEAN\n",
       "19480        INLAND\n",
       "8879      <1H OCEAN\n",
       "13685        INLAND\n",
       "4937      <1H OCEAN\n",
       "4861      <1H OCEAN\n",
       "Name: ocean_proximity, dtype: object"
      ]
     },
     "execution_count": 33,
     "metadata": {},
     "output_type": "execute_result"
    }
   ],
   "source": [
    "housing_cat = housing[\"ocean_proximity\"]\n",
    "housing_cat.head(10)"
   ]
  },
  {
   "cell_type": "code",
   "execution_count": 34,
   "metadata": {},
   "outputs": [
    {
     "data": {
      "text/plain": [
       "array([0, 0, 1, 2, 0, 2, 0, 2, 0, 0], dtype=int64)"
      ]
     },
     "execution_count": 34,
     "metadata": {},
     "output_type": "execute_result"
    }
   ],
   "source": [
    "housing_cat_encoded, housing_categories = housing_cat.factorize()\n",
    "housing_cat_encoded[:10]\n"
   ]
  },
  {
   "cell_type": "code",
   "execution_count": 35,
   "metadata": {},
   "outputs": [
    {
     "data": {
      "text/plain": [
       "Index(['<1H OCEAN', 'NEAR OCEAN', 'INLAND', 'NEAR BAY', 'ISLAND'], dtype='object')"
      ]
     },
     "execution_count": 35,
     "metadata": {},
     "output_type": "execute_result"
    }
   ],
   "source": [
    "housing_categories"
   ]
  },
  {
   "cell_type": "markdown",
   "metadata": {},
   "source": [
    "factorized 된 표현 방식의 문제는 머신러닝 알고리즘이 가까이 있는 두 값이 떨어져 있는 두 값보다 더 비슷하다고 생각한다는 점이다. 실제로는 그렇지않다 (순서형 범주에서 문제를 일으킴)  \n",
    "그래서 `one-hot encoding` 방식을 사용한다."
   ]
  },
  {
   "cell_type": "code",
   "execution_count": 36,
   "metadata": {},
   "outputs": [
    {
     "data": {
      "text/plain": [
       "<16512x5 sparse matrix of type '<class 'numpy.float64'>'\n",
       "\twith 16512 stored elements in Compressed Sparse Row format>"
      ]
     },
     "execution_count": 36,
     "metadata": {},
     "output_type": "execute_result"
    }
   ],
   "source": [
    "from sklearn.preprocessing import OneHotEncoder\n",
    "encoder = OneHotEncoder(categories='auto')\n",
    "housing_cat_1hot = encoder.fit_transform(housing_cat_encoded.reshape(-1,1))\n",
    "housing_cat_1hot\n",
    "##출력형태가 numpy array가 아니라 scipy sparse matrix 형태이다. 변환해주자"
   ]
  },
  {
   "cell_type": "code",
   "execution_count": 37,
   "metadata": {},
   "outputs": [
    {
     "data": {
      "text/plain": [
       "array([[1., 0., 0., 0., 0.],\n",
       "       [1., 0., 0., 0., 0.],\n",
       "       [0., 1., 0., 0., 0.],\n",
       "       ...,\n",
       "       [0., 0., 1., 0., 0.],\n",
       "       [1., 0., 0., 0., 0.],\n",
       "       [0., 0., 0., 1., 0.]])"
      ]
     },
     "execution_count": 37,
     "metadata": {},
     "output_type": "execute_result"
    }
   ],
   "source": [
    "\n",
    "housing_cat_1hot.toarray()"
   ]
  },
  {
   "cell_type": "markdown",
   "metadata": {},
   "source": [
    "#### **나만의 변환기 만들기**"
   ]
  },
  {
   "cell_type": "markdown",
   "metadata": {},
   "source": [
    "사이킷런이 유용한 변환기를 많이 제고하지만 나만의 변환기를 만들 필요가있다.  \n",
    "\n"
   ]
  },
  {
   "cell_type": "code",
   "execution_count": 38,
   "metadata": {},
   "outputs": [],
   "source": [
    "from sklearn.base import BaseEstimator, TransformerMixin\n",
    "\n",
    "rooms_ix, bedrooms_ix, population_ix, household_ix = 3, 4, 5, 6\n",
    "\n",
    "class CombinedAttributesAdder(BaseEstimator, TransformerMixin):\n",
    "    def __init__(self, add_bedrooms_per_room = True):\n",
    "        self.add_bedrooms_per_room = add_bedrooms_per_room\n",
    "    def fit(self, X, y=None):\n",
    "        return self\n",
    "    def transform(self, X, y=None):\n",
    "        rooms_per_household = X[:, rooms_ix] / X[:, household_ix]\n",
    "        population_per_household = X[:, population_ix] / X[:, household_ix]\n",
    "        if self.add_bedrooms_per_room:\n",
    "            bedrooms_per_room = X[:, bedrooms_ix] / X[:, rooms_ix]\n",
    "            return np.c_[X, rooms_per_household, population_per_household, bedrooms_per_room]\n",
    "        else:\n",
    "            return np.c_[X, rooms_per_household, population_per_household]\n",
    "        \n",
    "attr_adder = CombinedAttributesAdder(add_bedrooms_per_room=False)\n",
    "housing_extra_attribs = attr_adder.transform(housing.values)"
   ]
  },
  {
   "cell_type": "markdown",
   "metadata": {},
   "source": [
    "100% 확신이 없는 준비단계에서는 하이퍼파라미터를 추가해서 불확실성을 줄인다.  \n",
    "이렇게 데이터 준비단계를 자동화할수록 더 많은 조합을 자동으로 시도해볼 수 있고 최상의 조합을 찾을 가능성을 높여준다."
   ]
  },
  {
   "cell_type": "markdown",
   "metadata": {},
   "source": [
    "### 특성스케일링(feature scaling)"
   ]
  },
  {
   "cell_type": "markdown",
   "metadata": {},
   "source": [
    "- **min-max 스케일링**\n",
    "데이터에서 최소값을 뺸훈 최댓값과 최솟값의 차이로 나누면 만들 수 있다.  \n",
    "sklearn의 MinMaxScaler 변환기를 사용하면 되고 0~1 사이를 원하지않는다면 feature_range 매개변수로 범위를 변경할 수 도 있다.\n",
    "- **표준화**\n",
    "표준화는 평균을뺀후 표준편차로 나누어 평균이 0 분산이 1이 되게끔 만들어준다. 표준화는 범위에 상한과 하한이 없어 DNN같은 알고리즘에서는 문제가 될 수 있다. (신경망에서는 0~1 사이의 input을 추천함.)  \n",
    "대신 표준화는 이상치의 영향을 적게 받을 수 있음.  \n",
    "sklearn의 StandardScaler 변환기를 사용하면 됨.\n",
    "\n",
    "**@Caution** 모든 변환기에서 스케일링은 전체 데이터가 아니고 훈련 데이터에 대해서만 fit()메서드를 적용해야한다. 그런 다음 훈련 세트와 테스트 세트에 대해 transform()메서드를 적용한다. "
   ]
  },
  {
   "cell_type": "markdown",
   "metadata": {},
   "source": [
    "### 변환 파이프라인"
   ]
  },
  {
   "cell_type": "markdown",
   "metadata": {},
   "source": [
    "사이킷런에는 연속된 변환을 순서대로 처리할 수 있도록 도와주는 Pipeline 클래스가 있다."
   ]
  },
  {
   "cell_type": "code",
   "execution_count": 39,
   "metadata": {},
   "outputs": [],
   "source": [
    "from sklearn.pipeline import Pipeline\n",
    "from sklearn.preprocessing import StandardScaler\n",
    "\n",
    "num_pipeline = Pipeline([\n",
    "    ('imputer', SimpleImputer(strategy=\"median\")),\n",
    "    ('attribs_adder', CombinedAttributesAdder()),\n",
    "    ('std_scaler', StandardScaler()),\n",
    "])\n",
    "\n",
    "housing_num_tr = num_pipeline.fit_transform(housing_num)"
   ]
  },
  {
   "cell_type": "code",
   "execution_count": 40,
   "metadata": {},
   "outputs": [
    {
     "data": {
      "text/plain": [
       "array([[-1.15604281,  0.77194962,  0.74333089, ..., -0.31205452,\n",
       "        -0.08649871,  0.15531753],\n",
       "       [-1.17602483,  0.6596948 , -1.1653172 , ...,  0.21768338,\n",
       "        -0.03353391, -0.83628902],\n",
       "       [ 1.18684903, -1.34218285,  0.18664186, ..., -0.46531516,\n",
       "        -0.09240499,  0.4222004 ],\n",
       "       ...,\n",
       "       [ 1.58648943, -0.72478134, -1.56295222, ...,  0.3469342 ,\n",
       "        -0.03055414, -0.52177644],\n",
       "       [ 0.78221312, -0.85106801,  0.18664186, ...,  0.02499488,\n",
       "         0.06150916, -0.30340741],\n",
       "       [-1.43579109,  0.99645926,  1.85670895, ..., -0.22852947,\n",
       "        -0.09586294,  0.10180567]])"
      ]
     },
     "execution_count": 40,
     "metadata": {},
     "output_type": "execute_result"
    }
   ],
   "source": [
    "housing_num_tr"
   ]
  },
  {
   "cell_type": "code",
   "execution_count": 41,
   "metadata": {},
   "outputs": [],
   "source": [
    "from sklearn.base import BaseEstimator, TransformerMixin\n",
    "\n",
    "class DataFrameSelector(BaseEstimator, TransformerMixin):\n",
    "    def __init__(self, attribute_names):\n",
    "        self.attribute_names = attribute_names\n",
    "    def fit(self, X, y=None):\n",
    "        return self\n",
    "    def transform(self, X):\n",
    "        return X[self.attribute_names].values"
   ]
  },
  {
   "cell_type": "markdown",
   "metadata": {},
   "source": [
    "DataFrameSelector는 나머지는 버리고 필요한 특성을 선택하여 데이터 프레임을 넘파이 배열 형태로 바꾸는 식으로 데이터를 변환한다.  \n",
    "이를 이용하여 데이터프레임을 받아 수치형만 다루는 파이프라인을 쉽게 만들 수 있다."
   ]
  },
  {
   "cell_type": "code",
   "execution_count": 42,
   "metadata": {},
   "outputs": [],
   "source": [
    "from sklearn.preprocessing import OneHotEncoder\n",
    "\n",
    "num_attribs = list(housing_num)\n",
    "cat_attribs = [\"ocean_proximity\"]\n",
    "\n",
    "num_pipeline = Pipeline([\n",
    "    ('selector', DataFrameSelector(num_attribs)),\n",
    "    ('imputer', SimpleImputer(strategy=\"median\")),\n",
    "    ('attribs_adder', CombinedAttributesAdder()),\n",
    "    ('std_scaler', StandardScaler()),\n",
    "]) ##숫자형 특성을 다루는 파이프라인\n",
    "\n",
    "cat_pipeline = Pipeline([\n",
    "    ('selector', DataFrameSelector(cat_attribs)),\n",
    "    ('cat_encoder', OneHotEncoder())\n",
    "]) ##범주형 특성을 다루는 파이프라인\n",
    "## CategoricalEncoder는 sklearn에서 없어진거같음. 책 내용상 CategoricalEncoder(encoding = Onehot-dense) 였으므로 아마  Onehotencoding을 생각한 듯 싶다."
   ]
  },
  {
   "cell_type": "markdown",
   "metadata": {},
   "source": [
    "이 두 파이프라인을 사이킷런의 FeatureUnion을 통해서 합칠 수 있다. "
   ]
  },
  {
   "cell_type": "code",
   "execution_count": 43,
   "metadata": {},
   "outputs": [],
   "source": [
    "from sklearn.pipeline import FeatureUnion\n",
    "\n",
    "full_pipeline = FeatureUnion(transformer_list = [\n",
    "    (\"num_pipeline\", num_pipeline),\n",
    "    (\"cat_pipeline\", cat_pipeline),\n",
    "])"
   ]
  },
  {
   "cell_type": "code",
   "execution_count": 44,
   "metadata": {},
   "outputs": [
    {
     "data": {
      "text/plain": [
       "(16512, 16)"
      ]
     },
     "execution_count": 44,
     "metadata": {},
     "output_type": "execute_result"
    }
   ],
   "source": [
    "housing_prepared = full_pipeline.fit_transform(housing)\n",
    "housing_prepared \n",
    "\n",
    "housing_prepared .shape"
   ]
  },
  {
   "cell_type": "markdown",
   "metadata": {},
   "source": [
    "### 모델선택과 훈련"
   ]
  },
  {
   "cell_type": "markdown",
   "metadata": {},
   "source": [
    "#### 훈련세트에서 훈련하고 평가하기"
   ]
  },
  {
   "cell_type": "markdown",
   "metadata": {},
   "source": [
    "선형회귀모델을 훈련시켜보자"
   ]
  },
  {
   "cell_type": "code",
   "execution_count": 46,
   "metadata": {},
   "outputs": [
    {
     "data": {
      "text/plain": [
       "LinearRegression(copy_X=True, fit_intercept=True, n_jobs=None, normalize=False)"
      ]
     },
     "execution_count": 46,
     "metadata": {},
     "output_type": "execute_result"
    }
   ],
   "source": [
    "from sklearn.linear_model import LinearRegression\n",
    "\n",
    "lin_reg = LinearRegression()\n",
    "lin_reg.fit(housing_prepared, housing_labels)"
   ]
  },
  {
   "cell_type": "code",
   "execution_count": 47,
   "metadata": {},
   "outputs": [
    {
     "name": "stdout",
     "output_type": "stream",
     "text": [
      "예측:  [210644.60469668 317768.80664235 210956.43335529  59218.98894118\n",
      " 189747.55853203]\n",
      "레이블:  [286600.0, 340600.0, 196900.0, 46300.0, 254500.0]\n"
     ]
    }
   ],
   "source": [
    "some_data = housing.iloc[:5]\n",
    "some_labels = housing_labels.iloc[:5]\n",
    "some_data_prepared = full_pipeline.transform(some_data)\n",
    "print(\"예측: \", lin_reg.predict(some_data_prepared))\n",
    "print(\"레이블: \", list(some_labels))"
   ]
  },
  {
   "cell_type": "code",
   "execution_count": 48,
   "metadata": {},
   "outputs": [
    {
     "data": {
      "text/plain": [
       "68628.19819848923"
      ]
     },
     "execution_count": 48,
     "metadata": {},
     "output_type": "execute_result"
    }
   ],
   "source": [
    "from sklearn.metrics import mean_squared_error\n",
    "housing_predictions = lin_reg.predict(housing_prepared)\n",
    "lin_mse = mean_squared_error(housing_labels, housing_predictions) \n",
    "lin_rmse = np.sqrt(lin_mse)\n",
    "lin_rmse #또는 mean_squared_error의 squared 옵션으로 mse / rmse를 구할 수 있다."
   ]
  },
  {
   "cell_type": "markdown",
   "metadata": {},
   "source": [
    "과소적합으로인해 rmse가 너무크다"
   ]
  },
  {
   "cell_type": "markdown",
   "metadata": {},
   "source": [
    "DecisionTree model을 학습 시켜보자"
   ]
  },
  {
   "cell_type": "code",
   "execution_count": 49,
   "metadata": {},
   "outputs": [
    {
     "data": {
      "text/plain": [
       "DecisionTreeRegressor(ccp_alpha=0.0, criterion='mse', max_depth=None,\n",
       "                      max_features=None, max_leaf_nodes=None,\n",
       "                      min_impurity_decrease=0.0, min_impurity_split=None,\n",
       "                      min_samples_leaf=1, min_samples_split=2,\n",
       "                      min_weight_fraction_leaf=0.0, presort='deprecated',\n",
       "                      random_state=None, splitter='best')"
      ]
     },
     "execution_count": 49,
     "metadata": {},
     "output_type": "execute_result"
    }
   ],
   "source": [
    "from sklearn.tree import DecisionTreeRegressor\n",
    "\n",
    "tree_reg = DecisionTreeRegressor()\n",
    "tree_reg.fit(housing_prepared, housing_labels)"
   ]
  },
  {
   "cell_type": "code",
   "execution_count": 50,
   "metadata": {},
   "outputs": [
    {
     "name": "stdout",
     "output_type": "stream",
     "text": [
      "0.0\n"
     ]
    }
   ],
   "source": [
    "housing_predictions = tree_reg.predict(housing_prepared)\n",
    "tree_mse = mean_squared_error(housing_labels, housing_predictions)\n",
    "tree_rmse = np.sqrt(tree_mse)\n",
    "print(tree_rmse)"
   ]
  },
  {
   "cell_type": "markdown",
   "metadata": {},
   "source": [
    "과대적합으로 인해 rmse가 0으로나옴"
   ]
  },
  {
   "cell_type": "markdown",
   "metadata": {},
   "source": [
    "#### 교차 검증을 사용한 평가"
   ]
  },
  {
   "cell_type": "code",
   "execution_count": 51,
   "metadata": {},
   "outputs": [],
   "source": [
    "from sklearn.model_selection import cross_val_score\n",
    "scores = cross_val_score(tree_reg, housing_prepared, housing_labels, scoring = \"neg_mean_squared_error\", cv = 10)\n",
    "tree_rmse_score = np.sqrt(-scores)"
   ]
  },
  {
   "cell_type": "markdown",
   "metadata": {},
   "source": [
    "**Caution**  \n",
    "사이킷런의 교차검증 기능은 scoring 매개변수에 비용함수가 아닌 효용함수를 기대한다. MSE는 낮을 수록 좋은 비용함수이므로 MSE의 음숫값을 계산하는 neg_mean_squared_error를 사용한다. "
   ]
  },
  {
   "cell_type": "code",
   "execution_count": 52,
   "metadata": {},
   "outputs": [
    {
     "name": "stdout",
     "output_type": "stream",
     "text": [
      "Scores: [69288.54959167 66592.23635513 70819.94721458 69458.95519463\n",
      " 70645.20433476 74963.30726201 72738.99188913 69550.94359776\n",
      " 76558.93063837 68844.08153919]\n",
      "Mean: 70946.11476172248\n",
      "Standard deviation: 2850.31367877747\n"
     ]
    }
   ],
   "source": [
    "def display_scores(scores):\n",
    "    print(\"Scores:\", scores)\n",
    "    print(\"Mean:\", scores.mean())\n",
    "    print(\"Standard deviation:\", scores.std())\n",
    "    \n",
    "display_scores(tree_rmse_score)"
   ]
  },
  {
   "cell_type": "markdown",
   "metadata": {},
   "source": [
    "교차검증으로 DecisionTree 모델을 사용하니 오히려 회귀보다도 더 안좋은 스코어를 기록!"
   ]
  },
  {
   "cell_type": "code",
   "execution_count": 53,
   "metadata": {},
   "outputs": [
    {
     "name": "stdout",
     "output_type": "stream",
     "text": [
      "Scores: [66782.73843548 66960.11769077 70347.95253867 74739.57051838\n",
      " 68031.13387324 71193.84184206 64969.63059148 68281.61137967\n",
      " 71552.91568337 67665.10086648]\n",
      "Mean: 69052.46134196043\n",
      "Standard deviation: 2731.6740307107216\n"
     ]
    }
   ],
   "source": [
    "lin_scores = cross_val_score(lin_reg, housing_prepared, housing_labels, scoring=\"neg_mean_squared_error\", cv = 10)\n",
    "lin_rmse_scores = np.sqrt(-lin_scores)\n",
    "display_scores(lin_rmse_scores)"
   ]
  },
  {
   "cell_type": "markdown",
   "metadata": {},
   "source": [
    "확실히 결정트리 모델이 과적합 되어있었으므로 과소적합된 선형회귀모델보다도 안좋은 성능이 나옴"
   ]
  },
  {
   "cell_type": "code",
   "execution_count": 54,
   "metadata": {},
   "outputs": [
    {
     "data": {
      "text/plain": [
       "RandomForestRegressor(bootstrap=True, ccp_alpha=0.0, criterion='mse',\n",
       "                      max_depth=None, max_features='auto', max_leaf_nodes=None,\n",
       "                      max_samples=None, min_impurity_decrease=0.0,\n",
       "                      min_impurity_split=None, min_samples_leaf=1,\n",
       "                      min_samples_split=2, min_weight_fraction_leaf=0.0,\n",
       "                      n_estimators=10, n_jobs=None, oob_score=False,\n",
       "                      random_state=None, verbose=0, warm_start=False)"
      ]
     },
     "execution_count": 54,
     "metadata": {},
     "output_type": "execute_result"
    }
   ],
   "source": [
    "from sklearn.ensemble import RandomForestRegressor\n",
    "forest_reg = RandomForestRegressor(n_estimators=10)\n",
    "forest_reg.fit(housing_prepared, housing_labels)"
   ]
  },
  {
   "cell_type": "code",
   "execution_count": 55,
   "metadata": {},
   "outputs": [
    {
     "name": "stdout",
     "output_type": "stream",
     "text": [
      "Scores: [52453.67738459 50186.62153122 52246.62174758 54004.55937596\n",
      " 52819.85411454 55889.77022781 52631.36091417 50307.84070628\n",
      " 55538.89277843 52566.18211619]\n",
      "Mean: 52864.538089677095\n",
      "Standard deviation: 1789.072421477792\n"
     ]
    }
   ],
   "source": [
    "forest_rmse = cross_val_score(forest_reg, housing_prepared, housing_labels, scoring='neg_mean_squared_error', cv = 10)\n",
    "forest_rmse_scores = np.sqrt(-forest_rmse)\n",
    "forest_rmse\n",
    "display_scores(forest_rmse_scores)"
   ]
  },
  {
   "cell_type": "code",
   "execution_count": 56,
   "metadata": {},
   "outputs": [
    {
     "data": {
      "text/plain": [
       "22225.033376549087"
      ]
     },
     "execution_count": 56,
     "metadata": {},
     "output_type": "execute_result"
    }
   ],
   "source": [
    "housing_predictions = forest_reg.predict(housing_prepared)\n",
    "forest_mse = mean_squared_error(housing_labels, housing_predictions) \n",
    "forest_rmse = np.sqrt(forest_mse)\n",
    "forest_rmse #또는 mean_squared_error의 squared 옵션으로 mse / rmse를 구할 수 있다."
   ]
  },
  {
   "cell_type": "markdown",
   "metadata": {},
   "source": [
    "훈련세트에 대한 점수가 검증세트에 대한 점수보다 훨씬 낮으므로 훈련 세트에 과적합 되어있다. 그래서 과적합을 피하기위해  \n",
    "규제를 하거나, 더 많은 훈련데이터를 모으거나, 모델을 좀더 간단히 하는 방법이 있다.  \n",
    "하지만 그전에 다양한 모델을 시도해볼 필요가있다."
   ]
  },
  {
   "cell_type": "markdown",
   "metadata": {},
   "source": [
    "**모델을 매번 학습시킬것 없이 파이썬의 pickle 패키지나 sklearn.externals.joblib 을 사용하여 사이킷런 모델을 간단하게 저장 가능하다.**\n",
    "```python\n",
    "sklearn.externals import joblib\n",
    "\n",
    "joblib.dump(my_model, \"my_model.pkl\")\n",
    "\n",
    "my_model_loaded = joblib.load(\"my_model.pkl\")\n",
    "\n",
    "```\n"
   ]
  },
  {
   "cell_type": "markdown",
   "metadata": {},
   "source": [
    "### 모델 세부 튜닝"
   ]
  },
  {
   "cell_type": "markdown",
   "metadata": {},
   "source": [
    "#### 그리드 탐색"
   ]
  },
  {
   "cell_type": "code",
   "execution_count": 57,
   "metadata": {},
   "outputs": [
    {
     "data": {
      "text/plain": [
       "GridSearchCV(cv=5, error_score=nan,\n",
       "             estimator=RandomForestRegressor(bootstrap=True, ccp_alpha=0.0,\n",
       "                                             criterion='mse', max_depth=None,\n",
       "                                             max_features='auto',\n",
       "                                             max_leaf_nodes=None,\n",
       "                                             max_samples=None,\n",
       "                                             min_impurity_decrease=0.0,\n",
       "                                             min_impurity_split=None,\n",
       "                                             min_samples_leaf=1,\n",
       "                                             min_samples_split=2,\n",
       "                                             min_weight_fraction_leaf=0.0,\n",
       "                                             n_estimators=100, n_jobs=None,\n",
       "                                             oob_score=False, random_state=None,\n",
       "                                             verbose=0, warm_start=False),\n",
       "             iid='deprecated', n_jobs=None,\n",
       "             param_grid=[{'max_features': [2, 4, 6, 8],\n",
       "                          'n_estimators': [3, 10, 10]},\n",
       "                         {'bootstrap': [False], 'max_features': [2, 3, 4],\n",
       "                          'n_estimators': [3, 10]}],\n",
       "             pre_dispatch='2*n_jobs', refit=True, return_train_score=True,\n",
       "             scoring='neg_mean_squared_error', verbose=0)"
      ]
     },
     "execution_count": 57,
     "metadata": {},
     "output_type": "execute_result"
    }
   ],
   "source": [
    "from sklearn.model_selection import GridSearchCV\n",
    "\n",
    "param_grid = [\n",
    "    {'n_estimators' : [3, 10, 10], 'max_features' : [2, 4, 6, 8]},\n",
    "    {'bootstrap':[False], 'n_estimators':[3,10], 'max_features':[2, 3, 4]},\n",
    "]\n",
    "\n",
    "forest_reg = RandomForestRegressor()\n",
    "\n",
    "grid_search = GridSearchCV(forest_reg, param_grid, cv = 5,\n",
    "                          scoring = 'neg_mean_squared_error',\n",
    "                          return_train_score = True)\n",
    "\n",
    "grid_search.fit(housing_prepared, housing_labels)"
   ]
  },
  {
   "cell_type": "code",
   "execution_count": 58,
   "metadata": {},
   "outputs": [
    {
     "data": {
      "text/plain": [
       "{'max_features': 8, 'n_estimators': 10}"
      ]
     },
     "execution_count": 58,
     "metadata": {},
     "output_type": "execute_result"
    }
   ],
   "source": [
    "grid_search.best_params_"
   ]
  },
  {
   "cell_type": "markdown",
   "metadata": {},
   "source": [
    "**Tip : 하이퍼파라미터가 설정한 값의 최대치로 결정 된경우에 다음 탐색 때 더 큰 수들을 정해서 하이퍼파라미터 탐색을 해주면 된다.** "
   ]
  },
  {
   "cell_type": "code",
   "execution_count": 59,
   "metadata": {},
   "outputs": [
    {
     "data": {
      "text/plain": [
       "RandomForestRegressor(bootstrap=True, ccp_alpha=0.0, criterion='mse',\n",
       "                      max_depth=None, max_features=8, max_leaf_nodes=None,\n",
       "                      max_samples=None, min_impurity_decrease=0.0,\n",
       "                      min_impurity_split=None, min_samples_leaf=1,\n",
       "                      min_samples_split=2, min_weight_fraction_leaf=0.0,\n",
       "                      n_estimators=10, n_jobs=None, oob_score=False,\n",
       "                      random_state=None, verbose=0, warm_start=False)"
      ]
     },
     "execution_count": 59,
     "metadata": {},
     "output_type": "execute_result"
    }
   ],
   "source": [
    "grid_search.best_estimator_"
   ]
  },
  {
   "cell_type": "markdown",
   "metadata": {},
   "source": [
    "위와 같이 최적의 추정기에 직접 접근도 가능하다."
   ]
  },
  {
   "cell_type": "code",
   "execution_count": 60,
   "metadata": {
    "collapsed": true,
    "jupyter": {
     "outputs_hidden": true
    }
   },
   "outputs": [
    {
     "data": {
      "text/plain": [
       "{'mean_fit_time': array([0.51464477, 1.65259013, 1.60531526, 0.71967583, 2.47400274,\n",
       "        2.46841507, 1.00532746, 3.4007441 , 3.44918542, 1.28377452,\n",
       "        4.3781075 , 4.27916451, 0.75617766, 2.50949063, 0.94686799,\n",
       "        3.15897698, 1.13896146, 4.32081814]),\n",
       " 'std_fit_time': array([0.03143269, 0.05147027, 0.02166943, 0.00580204, 0.05061845,\n",
       "        0.03653802, 0.0137529 , 0.12181801, 0.10125423, 0.03611924,\n",
       "        0.10503631, 0.02773012, 0.00662783, 0.01046581, 0.00870746,\n",
       "        0.02650557, 0.01313254, 0.57658799]),\n",
       " 'mean_score_time': array([0.00418735, 0.01056924, 0.00996561, 0.00359111, 0.01038418,\n",
       "        0.01196775, 0.00378742, 0.01036482, 0.0101656 , 0.00358977,\n",
       "        0.01037002, 0.00997238, 0.00438876, 0.0121675 , 0.00418935,\n",
       "        0.01116896, 0.00478005, 0.01276183]),\n",
       " 'std_score_time': array([1.16511706e-03, 1.19739075e-03, 1.48298656e-05, 4.88460948e-04,\n",
       "        5.03921919e-04, 3.98941090e-03, 4.00292841e-04, 4.94807359e-04,\n",
       "        3.85094486e-04, 4.90294034e-04, 7.99185151e-04, 2.51144296e-06,\n",
       "        4.88461018e-04, 1.46308580e-03, 3.98826742e-04, 3.80819810e-04,\n",
       "        3.95325785e-04, 2.22107100e-03]),\n",
       " 'param_max_features': masked_array(data=[2, 2, 2, 4, 4, 4, 6, 6, 6, 8, 8, 8, 2, 2, 3, 3, 4, 4],\n",
       "              mask=[False, False, False, False, False, False, False, False,\n",
       "                    False, False, False, False, False, False, False, False,\n",
       "                    False, False],\n",
       "        fill_value='?',\n",
       "             dtype=object),\n",
       " 'param_n_estimators': masked_array(data=[3, 10, 10, 3, 10, 10, 3, 10, 10, 3, 10, 10, 3, 10, 3,\n",
       "                    10, 3, 10],\n",
       "              mask=[False, False, False, False, False, False, False, False,\n",
       "                    False, False, False, False, False, False, False, False,\n",
       "                    False, False],\n",
       "        fill_value='?',\n",
       "             dtype=object),\n",
       " 'param_bootstrap': masked_array(data=[--, --, --, --, --, --, --, --, --, --, --, --, False,\n",
       "                    False, False, False, False, False],\n",
       "              mask=[ True,  True,  True,  True,  True,  True,  True,  True,\n",
       "                     True,  True,  True,  True, False, False, False, False,\n",
       "                    False, False],\n",
       "        fill_value='?',\n",
       "             dtype=object),\n",
       " 'params': [{'max_features': 2, 'n_estimators': 3},\n",
       "  {'max_features': 2, 'n_estimators': 10},\n",
       "  {'max_features': 2, 'n_estimators': 10},\n",
       "  {'max_features': 4, 'n_estimators': 3},\n",
       "  {'max_features': 4, 'n_estimators': 10},\n",
       "  {'max_features': 4, 'n_estimators': 10},\n",
       "  {'max_features': 6, 'n_estimators': 3},\n",
       "  {'max_features': 6, 'n_estimators': 10},\n",
       "  {'max_features': 6, 'n_estimators': 10},\n",
       "  {'max_features': 8, 'n_estimators': 3},\n",
       "  {'max_features': 8, 'n_estimators': 10},\n",
       "  {'max_features': 8, 'n_estimators': 10},\n",
       "  {'bootstrap': False, 'max_features': 2, 'n_estimators': 3},\n",
       "  {'bootstrap': False, 'max_features': 2, 'n_estimators': 10},\n",
       "  {'bootstrap': False, 'max_features': 3, 'n_estimators': 3},\n",
       "  {'bootstrap': False, 'max_features': 3, 'n_estimators': 10},\n",
       "  {'bootstrap': False, 'max_features': 4, 'n_estimators': 3},\n",
       "  {'bootstrap': False, 'max_features': 4, 'n_estimators': 10}],\n",
       " 'split0_test_score': array([-3.89255623e+09, -2.85293447e+09, -3.06595592e+09, -3.65468411e+09,\n",
       "        -2.54541096e+09, -2.78492940e+09, -3.32648802e+09, -2.52789791e+09,\n",
       "        -2.60757620e+09, -3.08637581e+09, -2.65135629e+09, -2.65184957e+09,\n",
       "        -3.60308046e+09, -2.85683450e+09, -3.27913855e+09, -2.64154413e+09,\n",
       "        -3.21181502e+09, -2.57523054e+09]),\n",
       " 'split1_test_score': array([-3.98071715e+09, -3.22139674e+09, -3.24783232e+09, -3.55176371e+09,\n",
       "        -2.82389523e+09, -2.85655550e+09, -3.25873028e+09, -2.83960134e+09,\n",
       "        -2.81955346e+09, -3.60722295e+09, -2.78329808e+09, -2.67803126e+09,\n",
       "        -3.85349192e+09, -3.14397091e+09, -3.65718705e+09, -2.85772076e+09,\n",
       "        -3.40804579e+09, -2.80236101e+09]),\n",
       " 'split2_test_score': array([-4.37055172e+09, -3.20865698e+09, -3.22268312e+09, -3.82747064e+09,\n",
       "        -2.93966862e+09, -2.92532024e+09, -3.67197819e+09, -2.86949511e+09,\n",
       "        -2.77577099e+09, -3.39744084e+09, -2.88290088e+09, -2.83419887e+09,\n",
       "        -3.78917508e+09, -2.97384248e+09, -3.77374771e+09, -3.00508371e+09,\n",
       "        -3.43300533e+09, -2.68894439e+09]),\n",
       " 'split3_test_score': array([-3.62833717e+09, -2.97324340e+09, -2.91022983e+09, -3.41246533e+09,\n",
       "        -2.60594469e+09, -2.58794526e+09, -3.13272802e+09, -2.34260204e+09,\n",
       "        -2.64621819e+09, -3.39559445e+09, -2.45654994e+09, -2.49996165e+09,\n",
       "        -3.83222899e+09, -2.88991910e+09, -3.62041955e+09, -2.65502000e+09,\n",
       "        -3.25398531e+09, -2.45688198e+09]),\n",
       " 'split4_test_score': array([-4.32520759e+09, -3.16018906e+09, -3.05498831e+09, -3.65578690e+09,\n",
       "        -2.97114848e+09, -2.88241175e+09, -3.66939141e+09, -2.77216929e+09,\n",
       "        -2.80458104e+09, -3.67917585e+09, -2.84029207e+09, -2.67067925e+09,\n",
       "        -3.90705023e+09, -3.18932510e+09, -3.74266134e+09, -2.92114130e+09,\n",
       "        -3.31014248e+09, -2.81362639e+09]),\n",
       " 'mean_test_score': array([-4.03947397e+09, -3.08328413e+09, -3.10033790e+09, -3.62043414e+09,\n",
       "        -2.77721359e+09, -2.80743243e+09, -3.41186319e+09, -2.67035314e+09,\n",
       "        -2.73073998e+09, -3.43316198e+09, -2.72287945e+09, -2.66694412e+09,\n",
       "        -3.79700533e+09, -3.01077842e+09, -3.61463084e+09, -2.81610198e+09,\n",
       "        -3.32339879e+09, -2.66740886e+09]),\n",
       " 'std_test_score': array([2.77606494e+08, 1.45518205e+08, 1.23371587e+08, 1.36567672e+08,\n",
       "        1.72769818e+08, 1.18838978e+08, 2.20288740e+08, 2.03166571e+08,\n",
       "        8.68117251e+07, 2.06769442e+08, 1.54330791e+08, 1.06039633e+08,\n",
       "        1.04124434e+08, 1.33633172e+08, 1.76697257e+08, 1.44842897e+08,\n",
       "        8.55845881e+07, 1.36289279e+08]),\n",
       " 'rank_test_score': array([18, 10, 11, 16,  6,  7, 13,  3,  5, 14,  4,  1, 17,  9, 15,  8, 12,\n",
       "         2]),\n",
       " 'split0_train_score': array([-1.07329045e+09, -5.90938856e+08, -5.98568220e+08, -1.07012994e+09,\n",
       "        -5.05968315e+08, -5.26439484e+08, -9.90652389e+08, -4.93108708e+08,\n",
       "        -4.96295774e+08, -9.30967765e+08, -5.08149455e+08, -5.15270039e+08,\n",
       "        -0.00000000e+00, -5.27064880e+01, -0.00000000e+00, -0.00000000e+00,\n",
       "        -0.00000000e+00, -0.00000000e+00]),\n",
       " 'split1_train_score': array([-1.01035326e+09, -5.78451191e+08, -5.66837883e+08, -9.02473929e+08,\n",
       "        -5.26657315e+08, -5.37971863e+08, -8.64398326e+08, -4.98544882e+08,\n",
       "        -5.02920945e+08, -8.64366579e+08, -4.84533121e+08, -4.76045143e+08,\n",
       "        -0.00000000e+00, -2.57400257e+00, -0.00000000e+00, -0.00000000e+00,\n",
       "        -0.00000000e+00, -0.00000000e+00]),\n",
       " 'split2_train_score': array([-1.09526789e+09, -5.57116429e+08, -6.12701750e+08, -8.98176617e+08,\n",
       "        -5.02700737e+08, -4.93308835e+08, -9.12079538e+08, -4.97243460e+08,\n",
       "        -5.04858385e+08, -8.31751745e+08, -4.91934805e+08, -4.78325909e+08,\n",
       "        -0.00000000e+00, -0.00000000e+00, -0.00000000e+00, -5.63361090e+01,\n",
       "        -0.00000000e+00, -0.00000000e+00]),\n",
       " 'split3_train_score': array([-1.09712731e+09, -5.83073170e+08, -5.92312527e+08, -9.44191476e+08,\n",
       "        -5.37593128e+08, -5.04705186e+08, -9.17398051e+08, -4.98243259e+08,\n",
       "        -5.18591419e+08, -9.80141230e+08, -4.92560319e+08, -5.27745260e+08,\n",
       "        -0.00000000e+00, -3.78501136e-01, -0.00000000e+00, -0.00000000e+00,\n",
       "        -0.00000000e+00, -0.00000000e+00]),\n",
       " 'split4_train_score': array([-1.09620231e+09, -5.72381967e+08, -5.59406117e+08, -9.32977258e+08,\n",
       "        -5.05404001e+08, -5.15738416e+08, -9.72326374e+08, -4.91626444e+08,\n",
       "        -5.09898482e+08, -9.02870850e+08, -4.86622333e+08, -4.96685802e+08,\n",
       "        -0.00000000e+00, -1.33777441e+02, -0.00000000e+00, -0.00000000e+00,\n",
       "        -0.00000000e+00, -0.00000000e+00]),\n",
       " 'mean_train_score': array([-1.07444825e+09, -5.76392323e+08, -5.85965299e+08, -9.49589843e+08,\n",
       "        -5.15664699e+08, -5.15632757e+08, -9.31370936e+08, -4.95753351e+08,\n",
       "        -5.06513001e+08, -9.02019634e+08, -4.92760007e+08, -4.98814431e+08,\n",
       "         0.00000000e+00, -3.78872866e+01,  0.00000000e+00, -1.12672218e+01,\n",
       "         0.00000000e+00,  0.00000000e+00]),\n",
       " 'std_train_score': array([3.32582167e+07, 1.13852300e+07, 1.99258971e+07, 6.27666529e+07,\n",
       "        1.39216356e+07, 1.57073324e+07, 4.52644864e+07, 2.83683660e+06,\n",
       "        7.44824818e+06, 5.15694316e+07, 8.28140879e+06, 2.02510788e+07,\n",
       "        0.00000000e+00, 5.19690562e+01, 0.00000000e+00, 2.25344436e+01,\n",
       "        0.00000000e+00, 0.00000000e+00])}"
      ]
     },
     "execution_count": 60,
     "metadata": {},
     "output_type": "execute_result"
    }
   ],
   "source": [
    "grid_search.cv_results_\n",
    "#각 반복에대한 결과값을 가지고있는 딕셔너리"
   ]
  },
  {
   "cell_type": "code",
   "execution_count": 61,
   "metadata": {
    "collapsed": true,
    "jupyter": {
     "outputs_hidden": true
    }
   },
   "outputs": [
    {
     "name": "stdout",
     "output_type": "stream",
     "text": [
      "63556.856209249745 {'max_features': 2, 'n_estimators': 3}\n",
      "55527.327764884205 {'max_features': 2, 'n_estimators': 10}\n",
      "55680.677985465256 {'max_features': 2, 'n_estimators': 10}\n",
      "60170.04350540825 {'max_features': 4, 'n_estimators': 3}\n",
      "52699.27508148144 {'max_features': 4, 'n_estimators': 10}\n",
      "52985.209537400166 {'max_features': 4, 'n_estimators': 10}\n",
      "58411.15634542904 {'max_features': 6, 'n_estimators': 3}\n",
      "51675.45972588802 {'max_features': 6, 'n_estimators': 10}\n",
      "52256.482621121926 {'max_features': 6, 'n_estimators': 10}\n",
      "58593.19054735425 {'max_features': 8, 'n_estimators': 3}\n",
      "52181.21741123959 {'max_features': 8, 'n_estimators': 10}\n",
      "51642.46429998484 {'max_features': 8, 'n_estimators': 10}\n",
      "61619.8452930641 {'bootstrap': False, 'max_features': 2, 'n_estimators': 3}\n",
      "54870.560589808825 {'bootstrap': False, 'max_features': 2, 'n_estimators': 10}\n",
      "60121.80005760588 {'bootstrap': False, 'max_features': 3, 'n_estimators': 3}\n",
      "53066.95749306552 {'bootstrap': False, 'max_features': 3, 'n_estimators': 10}\n",
      "57648.927016771406 {'bootstrap': False, 'max_features': 4, 'n_estimators': 3}\n",
      "51646.96373030832 {'bootstrap': False, 'max_features': 4, 'n_estimators': 10}\n"
     ]
    }
   ],
   "source": [
    "cvres = grid_search.cv_results_\n",
    "for mean_score, params in zip(cvres[\"mean_test_score\"], cvres[\"params\"]):\n",
    "    print(np.sqrt(-mean_score), params)"
   ]
  },
  {
   "cell_type": "markdown",
   "metadata": {},
   "source": [
    "#### 랜덤 탐색"
   ]
  },
  {
   "cell_type": "markdown",
   "metadata": {},
   "source": [
    "그리드 탐색 방법은 비교적 적은 수의 조합을 탐구할 떄 좋지만 하이퍼파라미터 탐색 공간이 커지면 RandomizedSearchCV를 사용하는 것이 좀 더 낫다.  \n",
    "특히 규제처럼 설정값이 연속형인 경우 랜덤 탐색이 권장된다. "
   ]
  },
  {
   "cell_type": "markdown",
   "metadata": {},
   "source": [
    "#### 앙상블 방법\n",
    "모델을 세밀하게 튜닝하는 또 다른 방법은 최상의 모델을 연결해보는 것이다. 모델의 그룹이 최상의 단일 모델보다 더 나은 성능을 발휘할 때가 많다.(예를들면, 랜덤포레스트와 디시젼트리)  \n",
    "자세한건 7장에서"
   ]
  },
  {
   "cell_type": "markdown",
   "metadata": {},
   "source": [
    "#### 최상의 모델과 오차 분석"
   ]
  },
  {
   "cell_type": "code",
   "execution_count": 134,
   "metadata": {},
   "outputs": [
    {
     "data": {
      "text/plain": [
       "[(0.39528093083430593, 'median_income'),\n",
       " (0.14276979094160436, 'INLAND'),\n",
       " (0.10363039199795512, 'pop_per_hhold'),\n",
       " (0.0848169650453154, 'bedrooms_per_room'),\n",
       " (0.0677248061062665, 'longitude'),\n",
       " (0.06277955912045916, 'latitude'),\n",
       " (0.044310455286576504, 'housing_median_age'),\n",
       " (0.029390871112549642, 'rooms_per_hhold'),\n",
       " (0.016599258551038422, 'population'),\n",
       " (0.016451580461241656, 'total_rooms'),\n",
       " (0.015492829454773756, 'households'),\n",
       " (0.013960079587475796, 'total_bedrooms'),\n",
       " (0.002483418564403132, '<1H OCEAN'),\n",
       " (0.0023635332895759987, 'NEAR OCEAN'),\n",
       " (0.001900113728020083, 'NEAR BAY'),\n",
       " (4.5415918438570976e-05, 'ISLAND')]"
      ]
     },
     "execution_count": 134,
     "metadata": {},
     "output_type": "execute_result"
    }
   ],
   "source": [
    "extra_attribs = [\"rooms_per_hhold\", \"pop_per_hhold\", \"bedrooms_per_room\"]\n",
    "cat_encoder = cat_pipeline.named_steps[\"cat_encoder\"]\n",
    "#cat_encoder = full_pipeline.named_transformers_[\"cat_encoder\"]\n",
    "cat_one_hot_attribs = list(cat_encoder.categories_[0])\n",
    "attributes = num_attribs + extra_attribs + cat_one_hot_attribs\n",
    "sorted(zip(feature_importances, attributes), reverse=True)"
   ]
  },
  {
   "cell_type": "markdown",
   "metadata": {},
   "source": [
    "#### 테스트 세트로 시스템 평가하기"
   ]
  },
  {
   "cell_type": "code",
   "execution_count": 64,
   "metadata": {},
   "outputs": [],
   "source": [
    "final_model = grid_search.best_estimator_\n",
    "\n",
    "X_test = strat_test_set.drop(\"median_house_value\", axis = 1)\n",
    "y_test = strat_test_set[\"median_house_value\"].copy()\n",
    "\n",
    "X_test_prepared = full_pipeline.transform(X_test)\n",
    "\n",
    "final_predictions = final_model.predict(X_test_prepared)\n",
    "\n",
    "final_mse = mean_squared_error(y_test, final_predictions)\n",
    "final_rmse = np.sqrt(final_mse)"
   ]
  },
  {
   "cell_type": "code",
   "execution_count": 65,
   "metadata": {},
   "outputs": [
    {
     "name": "stdout",
     "output_type": "stream",
     "text": [
      "Test rmse : 50587.2\n"
     ]
    }
   ],
   "source": [
    "print(\"Test rmse : {:.1f}\".format(final_rmse,))"
   ]
  },
  {
   "cell_type": "markdown",
   "metadata": {},
   "source": [
    "*하이퍼파라미터 튜닝을 많이 했다면 교차검증을 사용해 측정한것보다 조금 성능이 낮은 것이 보통이다. 이런 경우가 생기더라도 억지로 하이퍼파라미터를 튜닝하려고 시도하면 안된다.*"
   ]
  },
  {
   "cell_type": "markdown",
   "metadata": {},
   "source": [
    "### 연습문제"
   ]
  },
  {
   "cell_type": "markdown",
   "metadata": {},
   "source": [
    "#### 1. 서포트 벡터 머신 회귀를 kernel=\"linear\", kernel=\"rbf\" 등의 다양한 하이퍼파라미터 설정으로 시도해보세요. 지금은 이 하이퍼파라미터가 무엇을 의미하는지 너무 신경쓸 필요없습니다. 최상의 SVR모델은 무엇인가요?"
   ]
  },
  {
   "cell_type": "code",
   "execution_count": 98,
   "metadata": {
    "collapsed": true,
    "jupyter": {
     "outputs_hidden": true
    }
   },
   "outputs": [
    {
     "name": "stdout",
     "output_type": "stream",
     "text": [
      "Fitting 5 folds for each of 12 candidates, totalling 60 fits\n",
      "[CV] C=3000.0, kernel=linear .........................................\n"
     ]
    },
    {
     "name": "stderr",
     "output_type": "stream",
     "text": [
      "[Parallel(n_jobs=1)]: Using backend SequentialBackend with 1 concurrent workers.\n"
     ]
    },
    {
     "name": "stdout",
     "output_type": "stream",
     "text": [
      "[CV] .......................... C=3000.0, kernel=linear, total=  10.4s\n",
      "[CV] C=3000.0, kernel=linear .........................................\n"
     ]
    },
    {
     "name": "stderr",
     "output_type": "stream",
     "text": [
      "[Parallel(n_jobs=1)]: Done   1 out of   1 | elapsed:   10.3s remaining:    0.0s\n"
     ]
    },
    {
     "name": "stdout",
     "output_type": "stream",
     "text": [
      "[CV] .......................... C=3000.0, kernel=linear, total=  10.3s\n",
      "[CV] C=3000.0, kernel=linear .........................................\n",
      "[CV] .......................... C=3000.0, kernel=linear, total=  11.7s\n",
      "[CV] C=3000.0, kernel=linear .........................................\n",
      "[CV] .......................... C=3000.0, kernel=linear, total=  11.3s\n",
      "[CV] C=3000.0, kernel=linear .........................................\n",
      "[CV] .......................... C=3000.0, kernel=linear, total=  11.0s\n",
      "[CV] C=10000.0, kernel=linear ........................................\n",
      "[CV] ......................... C=10000.0, kernel=linear, total=  13.5s\n",
      "[CV] C=10000.0, kernel=linear ........................................\n",
      "[CV] ......................... C=10000.0, kernel=linear, total=  13.1s\n",
      "[CV] C=10000.0, kernel=linear ........................................\n",
      "[CV] ......................... C=10000.0, kernel=linear, total=  13.0s\n",
      "[CV] C=10000.0, kernel=linear ........................................\n",
      "[CV] ......................... C=10000.0, kernel=linear, total=  12.7s\n",
      "[CV] C=10000.0, kernel=linear ........................................\n",
      "[CV] ......................... C=10000.0, kernel=linear, total=  12.1s\n",
      "[CV] C=30000.0, kernel=linear ........................................\n",
      "[CV] ......................... C=30000.0, kernel=linear, total=  18.1s\n",
      "[CV] C=30000.0, kernel=linear ........................................\n",
      "[CV] ......................... C=30000.0, kernel=linear, total=  18.9s\n",
      "[CV] C=30000.0, kernel=linear ........................................\n",
      "[CV] ......................... C=30000.0, kernel=linear, total=  19.1s\n",
      "[CV] C=30000.0, kernel=linear ........................................\n",
      "[CV] ......................... C=30000.0, kernel=linear, total=  19.3s\n",
      "[CV] C=30000.0, kernel=linear ........................................\n",
      "[CV] ......................... C=30000.0, kernel=linear, total=  17.1s\n",
      "[CV] C=100.0, gamma=0.01, kernel=rbf .................................\n",
      "[CV] .................. C=100.0, gamma=0.01, kernel=rbf, total=  13.8s\n",
      "[CV] C=100.0, gamma=0.01, kernel=rbf .................................\n",
      "[CV] .................. C=100.0, gamma=0.01, kernel=rbf, total=  12.8s\n",
      "[CV] C=100.0, gamma=0.01, kernel=rbf .................................\n",
      "[CV] .................. C=100.0, gamma=0.01, kernel=rbf, total=  12.9s\n",
      "[CV] C=100.0, gamma=0.01, kernel=rbf .................................\n",
      "[CV] .................. C=100.0, gamma=0.01, kernel=rbf, total=  15.0s\n",
      "[CV] C=100.0, gamma=0.01, kernel=rbf .................................\n",
      "[CV] .................. C=100.0, gamma=0.01, kernel=rbf, total=  13.2s\n",
      "[CV] C=100.0, gamma=0.1, kernel=rbf ..................................\n",
      "[CV] ................... C=100.0, gamma=0.1, kernel=rbf, total=  12.9s\n",
      "[CV] C=100.0, gamma=0.1, kernel=rbf ..................................\n",
      "[CV] ................... C=100.0, gamma=0.1, kernel=rbf, total=  12.5s\n",
      "[CV] C=100.0, gamma=0.1, kernel=rbf ..................................\n",
      "[CV] ................... C=100.0, gamma=0.1, kernel=rbf, total=  12.7s\n",
      "[CV] C=100.0, gamma=0.1, kernel=rbf ..................................\n",
      "[CV] ................... C=100.0, gamma=0.1, kernel=rbf, total=  17.2s\n",
      "[CV] C=100.0, gamma=0.1, kernel=rbf ..................................\n",
      "[CV] ................... C=100.0, gamma=0.1, kernel=rbf, total=  12.3s\n",
      "[CV] C=100.0, gamma=1.0, kernel=rbf ..................................\n",
      "[CV] ................... C=100.0, gamma=1.0, kernel=rbf, total=  11.4s\n",
      "[CV] C=100.0, gamma=1.0, kernel=rbf ..................................\n",
      "[CV] ................... C=100.0, gamma=1.0, kernel=rbf, total=  11.4s\n",
      "[CV] C=100.0, gamma=1.0, kernel=rbf ..................................\n",
      "[CV] ................... C=100.0, gamma=1.0, kernel=rbf, total=  11.5s\n",
      "[CV] C=100.0, gamma=1.0, kernel=rbf ..................................\n",
      "[CV] ................... C=100.0, gamma=1.0, kernel=rbf, total=  11.8s\n",
      "[CV] C=100.0, gamma=1.0, kernel=rbf ..................................\n",
      "[CV] ................... C=100.0, gamma=1.0, kernel=rbf, total=  12.4s\n",
      "[CV] C=300.0, gamma=0.01, kernel=rbf .................................\n",
      "[CV] .................. C=300.0, gamma=0.01, kernel=rbf, total=  12.5s\n",
      "[CV] C=300.0, gamma=0.01, kernel=rbf .................................\n",
      "[CV] .................. C=300.0, gamma=0.01, kernel=rbf, total=  12.4s\n",
      "[CV] C=300.0, gamma=0.01, kernel=rbf .................................\n",
      "[CV] .................. C=300.0, gamma=0.01, kernel=rbf, total=  12.5s\n",
      "[CV] C=300.0, gamma=0.01, kernel=rbf .................................\n",
      "[CV] .................. C=300.0, gamma=0.01, kernel=rbf, total=  12.1s\n",
      "[CV] C=300.0, gamma=0.01, kernel=rbf .................................\n",
      "[CV] .................. C=300.0, gamma=0.01, kernel=rbf, total=  12.2s\n",
      "[CV] C=300.0, gamma=0.1, kernel=rbf ..................................\n",
      "[CV] ................... C=300.0, gamma=0.1, kernel=rbf, total=  11.6s\n",
      "[CV] C=300.0, gamma=0.1, kernel=rbf ..................................\n",
      "[CV] ................... C=300.0, gamma=0.1, kernel=rbf, total=  11.8s\n",
      "[CV] C=300.0, gamma=0.1, kernel=rbf ..................................\n",
      "[CV] ................... C=300.0, gamma=0.1, kernel=rbf, total=  12.0s\n",
      "[CV] C=300.0, gamma=0.1, kernel=rbf ..................................\n",
      "[CV] ................... C=300.0, gamma=0.1, kernel=rbf, total=  11.8s\n",
      "[CV] C=300.0, gamma=0.1, kernel=rbf ..................................\n",
      "[CV] ................... C=300.0, gamma=0.1, kernel=rbf, total=  12.0s\n",
      "[CV] C=300.0, gamma=1.0, kernel=rbf ..................................\n",
      "[CV] ................... C=300.0, gamma=1.0, kernel=rbf, total=  11.5s\n",
      "[CV] C=300.0, gamma=1.0, kernel=rbf ..................................\n",
      "[CV] ................... C=300.0, gamma=1.0, kernel=rbf, total=  11.9s\n",
      "[CV] C=300.0, gamma=1.0, kernel=rbf ..................................\n",
      "[CV] ................... C=300.0, gamma=1.0, kernel=rbf, total=  11.6s\n",
      "[CV] C=300.0, gamma=1.0, kernel=rbf ..................................\n",
      "[CV] ................... C=300.0, gamma=1.0, kernel=rbf, total=  11.6s\n",
      "[CV] C=300.0, gamma=1.0, kernel=rbf ..................................\n",
      "[CV] ................... C=300.0, gamma=1.0, kernel=rbf, total=  11.3s\n",
      "[CV] C=1000.0, gamma=0.01, kernel=rbf ................................\n",
      "[CV] ................. C=1000.0, gamma=0.01, kernel=rbf, total=  11.7s\n",
      "[CV] C=1000.0, gamma=0.01, kernel=rbf ................................\n",
      "[CV] ................. C=1000.0, gamma=0.01, kernel=rbf, total=  11.9s\n",
      "[CV] C=1000.0, gamma=0.01, kernel=rbf ................................\n",
      "[CV] ................. C=1000.0, gamma=0.01, kernel=rbf, total=  11.8s\n",
      "[CV] C=1000.0, gamma=0.01, kernel=rbf ................................\n",
      "[CV] ................. C=1000.0, gamma=0.01, kernel=rbf, total=  12.1s\n",
      "[CV] C=1000.0, gamma=0.01, kernel=rbf ................................\n",
      "[CV] ................. C=1000.0, gamma=0.01, kernel=rbf, total=  11.6s\n",
      "[CV] C=1000.0, gamma=0.1, kernel=rbf .................................\n",
      "[CV] .................. C=1000.0, gamma=0.1, kernel=rbf, total=  11.4s\n",
      "[CV] C=1000.0, gamma=0.1, kernel=rbf .................................\n",
      "[CV] .................. C=1000.0, gamma=0.1, kernel=rbf, total=  11.5s\n",
      "[CV] C=1000.0, gamma=0.1, kernel=rbf .................................\n",
      "[CV] .................. C=1000.0, gamma=0.1, kernel=rbf, total=  11.5s\n",
      "[CV] C=1000.0, gamma=0.1, kernel=rbf .................................\n",
      "[CV] .................. C=1000.0, gamma=0.1, kernel=rbf, total=  11.5s\n",
      "[CV] C=1000.0, gamma=0.1, kernel=rbf .................................\n",
      "[CV] .................. C=1000.0, gamma=0.1, kernel=rbf, total=  11.5s\n",
      "[CV] C=1000.0, gamma=1.0, kernel=rbf .................................\n",
      "[CV] .................. C=1000.0, gamma=1.0, kernel=rbf, total=  11.4s\n",
      "[CV] C=1000.0, gamma=1.0, kernel=rbf .................................\n",
      "[CV] .................. C=1000.0, gamma=1.0, kernel=rbf, total=  11.2s\n",
      "[CV] C=1000.0, gamma=1.0, kernel=rbf .................................\n",
      "[CV] .................. C=1000.0, gamma=1.0, kernel=rbf, total=  11.4s\n",
      "[CV] C=1000.0, gamma=1.0, kernel=rbf .................................\n",
      "[CV] .................. C=1000.0, gamma=1.0, kernel=rbf, total=  11.7s\n",
      "[CV] C=1000.0, gamma=1.0, kernel=rbf .................................\n",
      "[CV] .................. C=1000.0, gamma=1.0, kernel=rbf, total=  11.5s\n"
     ]
    },
    {
     "name": "stderr",
     "output_type": "stream",
     "text": [
      "[Parallel(n_jobs=1)]: Done  60 out of  60 | elapsed: 12.6min finished\n"
     ]
    },
    {
     "data": {
      "text/plain": [
       "GridSearchCV(cv=5, error_score=nan,\n",
       "             estimator=SVR(C=1.0, cache_size=200, coef0=0.0, degree=3,\n",
       "                           epsilon=0.1, gamma='scale', kernel='rbf',\n",
       "                           max_iter=-1, shrinking=True, tol=0.001,\n",
       "                           verbose=False),\n",
       "             iid='deprecated', n_jobs=1,\n",
       "             param_grid=[{'C': [3000.0, 10000.0, 30000.0],\n",
       "                          'kernel': ['linear']},\n",
       "                         {'C': [100.0, 300.0, 1000.0],\n",
       "                          'gamma': [0.01, 0.1, 1.0], 'kernel': ['rbf']}],\n",
       "             pre_dispatch='2*n_jobs', refit=True, return_train_score=False,\n",
       "             scoring='neg_mean_squared_error', verbose=2)"
      ]
     },
     "execution_count": 98,
     "metadata": {},
     "output_type": "execute_result"
    }
   ],
   "source": [
    "## 박해선님 깃허브 참고해서 코드를 가져왔지만 너무 많은 양의 그리드 서치이므로 조금 줄여주도록 하자.\n",
    "from sklearn.model_selection import GridSearchCV\n",
    "\n",
    "param_grid = [\n",
    "        {'kernel': ['linear'], 'C': [3000., 10000., 30000.0]},\n",
    "        {'kernel': ['rbf'], 'C': [100., 300., 1000.0],\n",
    "         'gamma': [0.01, 0.1, 1.0]},\n",
    "    ] ##grid search할 parameter정의\n",
    "\n",
    "svm_reg = SVR() ##support vector regression 인스턴스화.\n",
    "grid_search = GridSearchCV(svm_reg, param_grid, cv=5, scoring='neg_mean_squared_error', \n",
    "                           verbose=2, n_jobs=1) ##grid search 정의 {알고리즘 : svm_reg, 파릴미터 : param_grid, 폴드 수 : 5, \n",
    "                                                ##scroing 방법 : neg_mean_squared_error, verbose option, n jobs}\n",
    "\n",
    "grid_search.fit(housing_prepared, housing_labels) #train set에 grid_search fitting"
   ]
  },
  {
   "cell_type": "markdown",
   "metadata": {},
   "source": [
    "*최상 모델의 5폴드 평가 점수는 아래와 같음*"
   ]
  },
  {
   "cell_type": "code",
   "execution_count": 99,
   "metadata": {},
   "outputs": [
    {
     "data": {
      "text/plain": [
       "70363.84006944533"
      ]
     },
     "execution_count": 99,
     "metadata": {},
     "output_type": "execute_result"
    }
   ],
   "source": [
    "negative_mse = grid_search.best_score_\n",
    "rmse = np.sqrt(-negative_mse)\n",
    "rmse"
   ]
  },
  {
   "cell_type": "code",
   "execution_count": 100,
   "metadata": {},
   "outputs": [
    {
     "data": {
      "text/plain": [
       "{'C': 30000.0, 'kernel': 'linear'}"
      ]
     },
     "execution_count": 100,
     "metadata": {},
     "output_type": "execute_result"
    }
   ],
   "source": [
    "grid_search.best_params_\n",
    "#최상의 하이퍼파라미터"
   ]
  },
  {
   "cell_type": "markdown",
   "metadata": {},
   "source": [
    "*RandomForest 보다도 성능이 안나오고, linear이 rbf 커널보다 좋은 성능을 보이고있음. 게다가 C값이 maximum 에서 잡혔으므로 더 높여줄 필요도 있음*"
   ]
  },
  {
   "cell_type": "markdown",
   "metadata": {},
   "source": [
    "#### 2. GridSearchCV를 RandomizedSearchCV로 바꿔보세요"
   ]
  },
  {
   "cell_type": "code",
   "execution_count": 103,
   "metadata": {
    "collapsed": true,
    "jupyter": {
     "outputs_hidden": true
    }
   },
   "outputs": [
    {
     "name": "stdout",
     "output_type": "stream",
     "text": [
      "Fitting 5 folds for each of 10 candidates, totalling 50 fits\n",
      "[CV] C=629.782329591372, gamma=3.010121430917521, kernel=linear ......\n"
     ]
    },
    {
     "name": "stderr",
     "output_type": "stream",
     "text": [
      "[Parallel(n_jobs=1)]: Using backend SequentialBackend with 1 concurrent workers.\n"
     ]
    },
    {
     "name": "stdout",
     "output_type": "stream",
     "text": [
      "[CV]  C=629.782329591372, gamma=3.010121430917521, kernel=linear, total=  10.9s\n",
      "[CV] C=629.782329591372, gamma=3.010121430917521, kernel=linear ......\n"
     ]
    },
    {
     "name": "stderr",
     "output_type": "stream",
     "text": [
      "[Parallel(n_jobs=1)]: Done   1 out of   1 | elapsed:   10.8s remaining:    0.0s\n"
     ]
    },
    {
     "name": "stdout",
     "output_type": "stream",
     "text": [
      "[CV]  C=629.782329591372, gamma=3.010121430917521, kernel=linear, total=  10.6s\n",
      "[CV] C=629.782329591372, gamma=3.010121430917521, kernel=linear ......\n",
      "[CV]  C=629.782329591372, gamma=3.010121430917521, kernel=linear, total=  10.3s\n",
      "[CV] C=629.782329591372, gamma=3.010121430917521, kernel=linear ......\n",
      "[CV]  C=629.782329591372, gamma=3.010121430917521, kernel=linear, total=  10.3s\n",
      "[CV] C=629.782329591372, gamma=3.010121430917521, kernel=linear ......\n",
      "[CV]  C=629.782329591372, gamma=3.010121430917521, kernel=linear, total=   9.9s\n",
      "[CV] C=26290.206464300216, gamma=0.9084469696321253, kernel=rbf ......\n",
      "[CV]  C=26290.206464300216, gamma=0.9084469696321253, kernel=rbf, total=  14.9s\n",
      "[CV] C=26290.206464300216, gamma=0.9084469696321253, kernel=rbf ......\n",
      "[CV]  C=26290.206464300216, gamma=0.9084469696321253, kernel=rbf, total=  15.6s\n",
      "[CV] C=26290.206464300216, gamma=0.9084469696321253, kernel=rbf ......\n",
      "[CV]  C=26290.206464300216, gamma=0.9084469696321253, kernel=rbf, total=  15.0s\n",
      "[CV] C=26290.206464300216, gamma=0.9084469696321253, kernel=rbf ......\n",
      "[CV]  C=26290.206464300216, gamma=0.9084469696321253, kernel=rbf, total=  15.6s\n",
      "[CV] C=26290.206464300216, gamma=0.9084469696321253, kernel=rbf ......\n",
      "[CV]  C=26290.206464300216, gamma=0.9084469696321253, kernel=rbf, total=  17.2s\n",
      "[CV] C=84.14107900575871, gamma=0.059838768608680676, kernel=rbf .....\n",
      "[CV]  C=84.14107900575871, gamma=0.059838768608680676, kernel=rbf, total=  13.4s\n",
      "[CV] C=84.14107900575871, gamma=0.059838768608680676, kernel=rbf .....\n",
      "[CV]  C=84.14107900575871, gamma=0.059838768608680676, kernel=rbf, total=  13.1s\n",
      "[CV] C=84.14107900575871, gamma=0.059838768608680676, kernel=rbf .....\n",
      "[CV]  C=84.14107900575871, gamma=0.059838768608680676, kernel=rbf, total=  13.6s\n",
      "[CV] C=84.14107900575871, gamma=0.059838768608680676, kernel=rbf .....\n",
      "[CV]  C=84.14107900575871, gamma=0.059838768608680676, kernel=rbf, total=  13.2s\n",
      "[CV] C=84.14107900575871, gamma=0.059838768608680676, kernel=rbf .....\n",
      "[CV]  C=84.14107900575871, gamma=0.059838768608680676, kernel=rbf, total=  12.0s\n",
      "[CV] C=432.37884813148855, gamma=0.15416196746656105, kernel=linear ..\n",
      "[CV]  C=432.37884813148855, gamma=0.15416196746656105, kernel=linear, total=   9.9s\n",
      "[CV] C=432.37884813148855, gamma=0.15416196746656105, kernel=linear ..\n",
      "[CV]  C=432.37884813148855, gamma=0.15416196746656105, kernel=linear, total=   9.8s\n",
      "[CV] C=432.37884813148855, gamma=0.15416196746656105, kernel=linear ..\n",
      "[CV]  C=432.37884813148855, gamma=0.15416196746656105, kernel=linear, total=  10.0s\n",
      "[CV] C=432.37884813148855, gamma=0.15416196746656105, kernel=linear ..\n",
      "[CV]  C=432.37884813148855, gamma=0.15416196746656105, kernel=linear, total=  10.0s\n",
      "[CV] C=432.37884813148855, gamma=0.15416196746656105, kernel=linear ..\n",
      "[CV]  C=432.37884813148855, gamma=0.15416196746656105, kernel=linear, total=   9.7s\n",
      "[CV] C=24.17508294611391, gamma=3.503557475158312, kernel=rbf ........\n",
      "[CV]  C=24.17508294611391, gamma=3.503557475158312, kernel=rbf, total=  13.2s\n",
      "[CV] C=24.17508294611391, gamma=3.503557475158312, kernel=rbf ........\n",
      "[CV]  C=24.17508294611391, gamma=3.503557475158312, kernel=rbf, total=  15.0s\n",
      "[CV] C=24.17508294611391, gamma=3.503557475158312, kernel=rbf ........\n",
      "[CV]  C=24.17508294611391, gamma=3.503557475158312, kernel=rbf, total=  13.2s\n",
      "[CV] C=24.17508294611391, gamma=3.503557475158312, kernel=rbf ........\n",
      "[CV]  C=24.17508294611391, gamma=3.503557475158312, kernel=rbf, total=  13.8s\n",
      "[CV] C=24.17508294611391, gamma=3.503557475158312, kernel=rbf ........\n",
      "[CV]  C=24.17508294611391, gamma=3.503557475158312, kernel=rbf, total=  13.9s\n",
      "[CV] C=113564.03940586245, gamma=0.0007790692366582295, kernel=rbf ...\n",
      "[CV]  C=113564.03940586245, gamma=0.0007790692366582295, kernel=rbf, total=  13.3s\n",
      "[CV] C=113564.03940586245, gamma=0.0007790692366582295, kernel=rbf ...\n",
      "[CV]  C=113564.03940586245, gamma=0.0007790692366582295, kernel=rbf, total=  11.9s\n",
      "[CV] C=113564.03940586245, gamma=0.0007790692366582295, kernel=rbf ...\n",
      "[CV]  C=113564.03940586245, gamma=0.0007790692366582295, kernel=rbf, total=  11.9s\n",
      "[CV] C=113564.03940586245, gamma=0.0007790692366582295, kernel=rbf ...\n",
      "[CV]  C=113564.03940586245, gamma=0.0007790692366582295, kernel=rbf, total=  12.5s\n",
      "[CV] C=113564.03940586245, gamma=0.0007790692366582295, kernel=rbf ...\n",
      "[CV]  C=113564.03940586245, gamma=0.0007790692366582295, kernel=rbf, total=  12.1s\n",
      "[CV] C=108.30488238805073, gamma=0.3627537294604771, kernel=rbf ......\n",
      "[CV]  C=108.30488238805073, gamma=0.3627537294604771, kernel=rbf, total=  11.7s\n",
      "[CV] C=108.30488238805073, gamma=0.3627537294604771, kernel=rbf ......\n",
      "[CV]  C=108.30488238805073, gamma=0.3627537294604771, kernel=rbf, total=  12.3s\n",
      "[CV] C=108.30488238805073, gamma=0.3627537294604771, kernel=rbf ......\n",
      "[CV]  C=108.30488238805073, gamma=0.3627537294604771, kernel=rbf, total=  13.6s\n",
      "[CV] C=108.30488238805073, gamma=0.3627537294604771, kernel=rbf ......\n",
      "[CV]  C=108.30488238805073, gamma=0.3627537294604771, kernel=rbf, total=  12.0s\n",
      "[CV] C=108.30488238805073, gamma=0.3627537294604771, kernel=rbf ......\n",
      "[CV]  C=108.30488238805073, gamma=0.3627537294604771, kernel=rbf, total=  11.6s\n",
      "[CV] C=21.344953672647435, gamma=0.023332523598323388, kernel=linear .\n",
      "[CV]  C=21.344953672647435, gamma=0.023332523598323388, kernel=linear, total=   9.4s\n",
      "[CV] C=21.344953672647435, gamma=0.023332523598323388, kernel=linear .\n",
      "[CV]  C=21.344953672647435, gamma=0.023332523598323388, kernel=linear, total=   9.8s\n",
      "[CV] C=21.344953672647435, gamma=0.023332523598323388, kernel=linear .\n",
      "[CV]  C=21.344953672647435, gamma=0.023332523598323388, kernel=linear, total=   9.4s\n",
      "[CV] C=21.344953672647435, gamma=0.023332523598323388, kernel=linear .\n",
      "[CV]  C=21.344953672647435, gamma=0.023332523598323388, kernel=linear, total=   9.4s\n",
      "[CV] C=21.344953672647435, gamma=0.023332523598323388, kernel=linear .\n",
      "[CV]  C=21.344953672647435, gamma=0.023332523598323388, kernel=linear, total=   9.7s\n",
      "[CV] C=5603.270317432516, gamma=0.15023452872733867, kernel=rbf ......\n",
      "[CV]  C=5603.270317432516, gamma=0.15023452872733867, kernel=rbf, total=  11.5s\n",
      "[CV] C=5603.270317432516, gamma=0.15023452872733867, kernel=rbf ......\n",
      "[CV]  C=5603.270317432516, gamma=0.15023452872733867, kernel=rbf, total=  13.5s\n",
      "[CV] C=5603.270317432516, gamma=0.15023452872733867, kernel=rbf ......\n",
      "[CV]  C=5603.270317432516, gamma=0.15023452872733867, kernel=rbf, total=  13.3s\n",
      "[CV] C=5603.270317432516, gamma=0.15023452872733867, kernel=rbf ......\n",
      "[CV]  C=5603.270317432516, gamma=0.15023452872733867, kernel=rbf, total=  11.8s\n",
      "[CV] C=5603.270317432516, gamma=0.15023452872733867, kernel=rbf ......\n",
      "[CV]  C=5603.270317432516, gamma=0.15023452872733867, kernel=rbf, total=  12.4s\n",
      "[CV] C=157055.10989448498, gamma=0.26497040005002437, kernel=rbf .....\n",
      "[CV]  C=157055.10989448498, gamma=0.26497040005002437, kernel=rbf, total=  28.3s\n",
      "[CV] C=157055.10989448498, gamma=0.26497040005002437, kernel=rbf .....\n",
      "[CV]  C=157055.10989448498, gamma=0.26497040005002437, kernel=rbf, total=  28.6s\n",
      "[CV] C=157055.10989448498, gamma=0.26497040005002437, kernel=rbf .....\n",
      "[CV]  C=157055.10989448498, gamma=0.26497040005002437, kernel=rbf, total=  34.2s\n",
      "[CV] C=157055.10989448498, gamma=0.26497040005002437, kernel=rbf .....\n",
      "[CV]  C=157055.10989448498, gamma=0.26497040005002437, kernel=rbf, total=  28.3s\n",
      "[CV] C=157055.10989448498, gamma=0.26497040005002437, kernel=rbf .....\n",
      "[CV]  C=157055.10989448498, gamma=0.26497040005002437, kernel=rbf, total=  32.1s\n"
     ]
    },
    {
     "name": "stderr",
     "output_type": "stream",
     "text": [
      "[Parallel(n_jobs=1)]: Done  50 out of  50 | elapsed: 11.6min finished\n"
     ]
    },
    {
     "data": {
      "text/plain": [
       "RandomizedSearchCV(cv=5, error_score=nan,\n",
       "                   estimator=SVR(C=1.0, cache_size=200, coef0=0.0, degree=3,\n",
       "                                 epsilon=0.1, gamma='scale', kernel='rbf',\n",
       "                                 max_iter=-1, shrinking=True, tol=0.001,\n",
       "                                 verbose=False),\n",
       "                   iid='deprecated', n_iter=10, n_jobs=1,\n",
       "                   param_distributions={'C': <scipy.stats._distn_infrastructure.rv_frozen object at 0x00000175E9AA8688>,\n",
       "                                        'gamma': <scipy.stats._distn_infrastructure.rv_frozen object at 0x00000175D7D51988>,\n",
       "                                        'kernel': ['linear', 'rbf']},\n",
       "                   pre_dispatch='2*n_jobs', random_state=42, refit=True,\n",
       "                   return_train_score=False, scoring='neg_mean_squared_error',\n",
       "                   verbose=2)"
      ]
     },
     "execution_count": 103,
     "metadata": {},
     "output_type": "execute_result"
    }
   ],
   "source": [
    "from sklearn.model_selection import RandomizedSearchCV\n",
    "from scipy.stats import expon, reciprocal\n",
    "\n",
    "#https://docs.scipy.org/doc/scipy/reference/stats.html\n",
    "#expon() reciprocal() 외의 다양한 통계적 함수들.\n",
    "\n",
    "# kernel 매개변수가 linear 일떄는 gamma가 알아서 무시됨.\n",
    "\n",
    "param_distribs = {\n",
    "    'kernel' : ['linear', 'rbf'],\n",
    "    'C' : reciprocal(20, 200000),\n",
    "    'gamma' : expon(scale= 1.0), ##통계적 함수를 쓰는 이유는 뒤에 다시 설명\n",
    "}\n",
    "\n",
    "svm_reg = SVR() #support vector Regressor 인스턴스화\n",
    "rnd_search = RandomizedSearchCV(svm_reg, param_distributions=param_distribs,\n",
    "                                n_iter = 10, #git에는 50으로 줬지만 나는 10만 준다.\n",
    "                                cv = 5,\n",
    "                                scoring = \"neg_mean_squared_error\",\n",
    "                                verbose=2,\n",
    "                                n_jobs = 1,\n",
    "                                random_state = 42) # Define Random search\n",
    "rnd_search.fit(housing_prepared, housing_labels) #Random search fitting"
   ]
  },
  {
   "cell_type": "markdown",
   "metadata": {},
   "source": [
    "*최상 모델의 5-folds 점수는 아래와 같음*"
   ]
  },
  {
   "cell_type": "code",
   "execution_count": 104,
   "metadata": {},
   "outputs": [
    {
     "data": {
      "text/plain": [
       "54767.960710084146"
      ]
     },
     "execution_count": 104,
     "metadata": {},
     "output_type": "execute_result"
    }
   ],
   "source": [
    "negative_mse = rnd_search.best_score_\n",
    "rmse = np.sqrt(-negative_mse)\n",
    "rmse"
   ]
  },
  {
   "cell_type": "code",
   "execution_count": 105,
   "metadata": {},
   "outputs": [
    {
     "data": {
      "text/plain": [
       "{'C': 157055.10989448498, 'gamma': 0.26497040005002437, 'kernel': 'rbf'}"
      ]
     },
     "execution_count": 105,
     "metadata": {},
     "output_type": "execute_result"
    }
   ],
   "source": [
    "rnd_search.best_params_\n",
    "#랜덤서치 상 최고의 파라미터"
   ]
  },
  {
   "cell_type": "markdown",
   "metadata": {},
   "source": [
    "**보통 랜덤서치가 같은 시간안에 그리드 서치보다 더 좋은 하이퍼파리미터를 찾는다**"
   ]
  },
  {
   "cell_type": "markdown",
   "metadata": {},
   "source": [
    "gamma를 랜덤 서치할때 사용된 scale = 1.0 지수분포를 살펴보자.  \n",
    "일부 샘플을 1.0보다 아주 크거나 작지만 대부분의 값이 0.1과 7.4에 집중되어 있음을 알 수 있다."
   ]
  },
  {
   "cell_type": "code",
   "execution_count": 111,
   "metadata": {},
   "outputs": [
    {
     "data": {
      "image/png": "[encoded data removed]",
      "text/plain": [
       "<Figure size 720x288 with 2 Axes>"
      ]
     },
     "metadata": {
      "needs_background": "light"
     },
     "output_type": "display_data"
    }
   ],
   "source": [
    "expon_distrib = expon(scale = 1.) ##exponential 함수 정의\n",
    "samples = expon_distrib.rvs(10000, random_state=42) #샘플 10000개 생성\n",
    "plt.figure(figsize=(10,4)) #figure size 정의\n",
    "plt.subplot(121)\n",
    "plt.title(\"Exponential distribution (scale = 1.0)\")\n",
    "plt.hist(samples, bins=50)\n",
    "plt.subplot(122)\n",
    "plt.title(\"Log of this distribution\")\n",
    "plt.hist(np.log(samples), bins=50)\n",
    "plt.show()"
   ]
  },
  {
   "cell_type": "markdown",
   "metadata": {},
   "source": [
    "파라미터 C에 사용된 분포는 이와 다르다. 주어진 범위안에서 균등 분포로 샘플링 된다. 그래서 오른쪽 로그 분포가 거의 일정하게 나타난다.  \n",
    "**이런 분포는 원하는 스케일이 정확히 무엇인지 모를 때 사용하면 좋다!!**"
   ]
  },
  {
   "cell_type": "code",
   "execution_count": 112,
   "metadata": {},
   "outputs": [
    {
     "data": {
      "image/png": "[encoded data removed]",
      "text/plain": [
       "<Figure size 720x288 with 2 Axes>"
      ]
     },
     "metadata": {
      "needs_background": "light"
     },
     "output_type": "display_data"
    }
   ],
   "source": [
    "reciprocal_distrib = reciprocal(20, 200000)\n",
    "samples = reciprocal_distrib.rvs(10000, random_state = 42)\n",
    "plt.figure(figsize=(10,4))\n",
    "plt.subplot(121)\n",
    "plt.title(\"Reciprocal distribution (scale=1.0)\")\n",
    "plt.hist(samples, bins=50)\n",
    "plt.subplot(122)\n",
    "plt.title(\"Log of this distribution\")\n",
    "plt.hist(np.log(samples), bins=50)\n",
    "plt.show()"
   ]
  },
  {
   "cell_type": "markdown",
   "metadata": {},
   "source": [
    "*reiprocal() 함수는 **하이퍼파라미터스케일에 대해 전혀 감을 잡을 수 없을 때** 사용합니다.*  \n",
    "*오른쪽 그래프를 보면 알 수 있듯이 주어진 범위안에서 모든 값이 균등합니다*  \n",
    "*반면 **지수분포는 하이퍼파라미터의 스케일을 어느정도 알고 있을 때** 사용하는 것이 좋습니다.*"
   ]
  },
  {
   "cell_type": "markdown",
   "metadata": {},
   "source": [
    "#### 3. 가장 중요한 특성을 선택하는 변환기를 준비 파이프라인에 추가해보세요"
   ]
  },
  {
   "cell_type": "code",
   "execution_count": 113,
   "metadata": {},
   "outputs": [],
   "source": [
    "from sklearn.base import BaseEstimator, TransformerMixin\n",
    "\n",
    "def indices_of_top_k(arr, k):\n",
    "    return np.sort(np.argpartition(np.array(arr), -k)[-k:])\n",
    "\n",
    "class TopFeatureSelector(BaseEstimator, TransformerMixin):\n",
    "    def __init__(self, feature_importances, k):\n",
    "        self.feature_importances = feature_importances\n",
    "        self.k = k\n",
    "    def fit(self, X, y=None):\n",
    "        self.feature_indices_ = indices_of_top_k(self.feature_importances, self.k)\n",
    "        return self\n",
    "    def transform(self, X):\n",
    "        return X[:, self.feature_indices_]"
   ]
  },
  {
   "cell_type": "markdown",
   "metadata": {},
   "source": [
    "이 특성 선택 클래스(TopFeatureSelector)는 어떤 식으로든 특성 중요도를 계산했다고 가정합니다.  TopFeatureSelector의 fit()메서드에서 직접 계산할 수도 있지만 이렇게하면 그래드 서치나 랜덤 서치 모든 하이퍼 파라미터에 조합에 대해 계산이 일어나기 떄문에 매우 느려집니다."
   ]
  },
  {
   "cell_type": "markdown",
   "metadata": {},
   "source": [
    "선택할 특성의 개수 지정"
   ]
  },
  {
   "cell_type": "markdown",
   "metadata": {},
   "source": [
    "최상의 k개 특성의 인덱스를 확인해 보겠습니다."
   ]
  },
  {
   "cell_type": "code",
   "execution_count": 121,
   "metadata": {},
   "outputs": [
    {
     "data": {
      "text/plain": [
       "array([ 0,  7,  9, 10, 12], dtype=int64)"
      ]
     },
     "execution_count": 121,
     "metadata": {},
     "output_type": "execute_result"
    }
   ],
   "source": [
    "top_k_feature_indices = indices_of_top_k(feature_importances, k)\n",
    "top_k_feature_indices #top k개의 특성 중요도의 index 추출"
   ]
  },
  {
   "cell_type": "code",
   "execution_count": 135,
   "metadata": {},
   "outputs": [
    {
     "data": {
      "text/plain": [
       "array(['longitude', 'median_income', 'pop_per_hhold', 'bedrooms_per_room',\n",
       "       'INLAND'], dtype='<U18')"
      ]
     },
     "execution_count": 135,
     "metadata": {},
     "output_type": "execute_result"
    }
   ],
   "source": [
    "np.array(attributes)[top_k_feature_indices]"
   ]
  },
  {
   "cell_type": "code",
   "execution_count": 136,
   "metadata": {},
   "outputs": [
    {
     "data": {
      "text/plain": [
       "[(0.39528093083430593, 'median_income'),\n",
       " (0.14276979094160436, 'INLAND'),\n",
       " (0.10363039199795512, 'pop_per_hhold'),\n",
       " (0.0848169650453154, 'bedrooms_per_room'),\n",
       " (0.0677248061062665, 'longitude')]"
      ]
     },
     "execution_count": 136,
     "metadata": {},
     "output_type": "execute_result"
    }
   ],
   "source": [
    "sorted(zip(feature_importances, attributes), reverse = True)[:k]"
   ]
  },
  {
   "cell_type": "markdown",
   "metadata": {},
   "source": [
    "이제 이전에 정의한 준비 파이프라인과 특성 선택기를 추가한 새로운 파이프라인을 만들어보자"
   ]
  },
  {
   "cell_type": "code",
   "execution_count": 137,
   "metadata": {},
   "outputs": [],
   "source": [
    "preparation_and_feature_selection_pipeline = Pipeline([\n",
    "    ('preparation', full_pipeline),\n",
    "    ('feature_selection', TopFeatureSelector(feature_importances, k))\n",
    "])"
   ]
  },
  {
   "cell_type": "code",
   "execution_count": 138,
   "metadata": {},
   "outputs": [],
   "source": [
    "housing_prepared_top_k_features = preparation_and_feature_selection_pipeline.fit_transform(housing)"
   ]
  },
  {
   "cell_type": "markdown",
   "metadata": {},
   "source": [
    "처음 세개 샘플의 특성을 확인해보자"
   ]
  },
  {
   "cell_type": "code",
   "execution_count": 142,
   "metadata": {},
   "outputs": [
    {
     "data": {
      "text/plain": [
       "array([[-1.15604281, -0.61493744, -0.08649871,  0.15531753,  0.        ],\n",
       "       [-1.17602483,  1.33645936, -0.03353391, -0.83628902,  0.        ],\n",
       "       [ 1.18684903, -0.5320456 , -0.09240499,  0.4222004 ,  0.        ]])"
      ]
     },
     "execution_count": 142,
     "metadata": {},
     "output_type": "execute_result"
    }
   ],
   "source": [
    "housing_prepared_top_k_features[0:3].toarray()"
   ]
  },
  {
   "cell_type": "markdown",
   "metadata": {},
   "source": [
    "최상의 k개 특성이 맞는지 다시확인해보자"
   ]
  },
  {
   "cell_type": "code",
   "execution_count": 144,
   "metadata": {},
   "outputs": [
    {
     "data": {
      "text/plain": [
       "array([[-1.15604281, -0.61493744, -0.08649871,  0.15531753,  0.        ],\n",
       "       [-1.17602483,  1.33645936, -0.03353391, -0.83628902,  0.        ],\n",
       "       [ 1.18684903, -0.5320456 , -0.09240499,  0.4222004 ,  0.        ]])"
      ]
     },
     "execution_count": 144,
     "metadata": {},
     "output_type": "execute_result"
    }
   ],
   "source": [
    "housing_prepared[0:3, top_k_feature_indices].toarray()"
   ]
  },
  {
   "cell_type": "markdown",
   "metadata": {},
   "source": [
    "#### 4. 전체 데이터 준비 과정과 최종 예측을 하나의 파이프라인으로 만들어보세요."
   ]
  },
  {
   "cell_type": "code",
   "execution_count": 148,
   "metadata": {},
   "outputs": [],
   "source": [
    "prepare_select_and_predict_pipeline = Pipeline([\n",
    "    ('preparation', full_pipeline),\n",
    "    ('feature_selection', TopFeatureSelector(feature_importances, k)),\n",
    "    ('svm_reg', SVR(**rnd_search.best_params_))\n",
    "])"
   ]
  },
  {
   "cell_type": "code",
   "execution_count": 149,
   "metadata": {},
   "outputs": [
    {
     "data": {
      "text/plain": [
       "Pipeline(memory=None,\n",
       "         steps=[('preparation',\n",
       "                 FeatureUnion(n_jobs=None,\n",
       "                              transformer_list=[('num_pipeline',\n",
       "                                                 Pipeline(memory=None,\n",
       "                                                          steps=[('selector',\n",
       "                                                                  DataFrameSelector(attribute_names=['longitude',\n",
       "                                                                                                     'latitude',\n",
       "                                                                                                     'housing_median_age',\n",
       "                                                                                                     'total_rooms',\n",
       "                                                                                                     'total_bedrooms',\n",
       "                                                                                                     'population',\n",
       "                                                                                                     'households',\n",
       "                                                                                                     'median_income'])),\n",
       "                                                                 ('imputer',\n",
       "                                                                  SimpleImputer(add_indicator=False,\n",
       "                                                                                copy=Tru...\n",
       "       1.39600796e-02, 1.65992586e-02, 1.54928295e-02, 3.95280931e-01,\n",
       "       2.93908711e-02, 1.03630392e-01, 8.48169650e-02, 2.48341856e-03,\n",
       "       1.42769791e-01, 4.54159184e-05, 1.90011373e-03, 2.36353329e-03]),\n",
       "                                    k=5)),\n",
       "                ('svm_reg',\n",
       "                 SVR(C=157055.10989448498, cache_size=200, coef0=0.0, degree=3,\n",
       "                     epsilon=0.1, gamma=0.26497040005002437, kernel='rbf',\n",
       "                     max_iter=-1, shrinking=True, tol=0.001, verbose=False))],\n",
       "         verbose=False)"
      ]
     },
     "execution_count": 149,
     "metadata": {},
     "output_type": "execute_result"
    }
   ],
   "source": [
    "prepare_select_and_predict_pipeline.fit(housing, housing_labels)"
   ]
  },
  {
   "cell_type": "markdown",
   "metadata": {},
   "source": [
    "몇개의 샘플에 전체 파이프라인을 적용해보자"
   ]
  },
  {
   "cell_type": "code",
   "execution_count": 150,
   "metadata": {},
   "outputs": [
    {
     "name": "stdout",
     "output_type": "stream",
     "text": [
      "예측:\t [185384.13066634 341000.56131537 172531.39955817  56040.55006167]\n",
      "레이블:\t\t [286600.0, 340600.0, 196900.0, 46300.0]\n"
     ]
    }
   ],
   "source": [
    "some_data = housing.iloc[:4]\n",
    "some_labels = housing_labels.iloc[:4]\n",
    "\n",
    "print(\"예측:\\t\", prepare_select_and_predict_pipeline.predict(some_data))\n",
    "print(\"레이블:\\t\\t\", list(some_labels))"
   ]
  },
  {
   "cell_type": "markdown",
   "metadata": {},
   "source": [
    "#### 5. GridSearchCV를 사용해 준비 단계의 옵션을 자동으로 탐색해보세요."
   ]
  },
  {
   "cell_type": "code",
   "execution_count": 151,
   "metadata": {
    "collapsed": true,
    "jupyter": {
     "outputs_hidden": true
    }
   },
   "outputs": [
    {
     "name": "stdout",
     "output_type": "stream",
     "text": [
      "Fitting 5 folds for each of 48 candidates, totalling 240 fits\n",
      "[CV] feature_selection__k=1, preparation__num_pipeline__imputer__strategy=mean \n"
     ]
    },
    {
     "name": "stderr",
     "output_type": "stream",
     "text": [
      "[Parallel(n_jobs=1)]: Using backend SequentialBackend with 1 concurrent workers.\n"
     ]
    },
    {
     "name": "stdout",
     "output_type": "stream",
     "text": [
      "[CV]  feature_selection__k=1, preparation__num_pipeline__imputer__strategy=mean, total=   6.8s\n",
      "[CV] feature_selection__k=1, preparation__num_pipeline__imputer__strategy=mean \n"
     ]
    },
    {
     "name": "stderr",
     "output_type": "stream",
     "text": [
      "[Parallel(n_jobs=1)]: Done   1 out of   1 | elapsed:    6.7s remaining:    0.0s\n"
     ]
    },
    {
     "name": "stdout",
     "output_type": "stream",
     "text": [
      "[CV]  feature_selection__k=1, preparation__num_pipeline__imputer__strategy=mean, total=   6.8s\n",
      "[CV] feature_selection__k=1, preparation__num_pipeline__imputer__strategy=mean \n",
      "[CV]  feature_selection__k=1, preparation__num_pipeline__imputer__strategy=mean, total=   6.9s\n",
      "[CV] feature_selection__k=1, preparation__num_pipeline__imputer__strategy=mean \n",
      "[CV]  feature_selection__k=1, preparation__num_pipeline__imputer__strategy=mean, total=   6.3s\n",
      "[CV] feature_selection__k=1, preparation__num_pipeline__imputer__strategy=mean \n",
      "[CV]  feature_selection__k=1, preparation__num_pipeline__imputer__strategy=mean, total=   6.6s\n",
      "[CV] feature_selection__k=1, preparation__num_pipeline__imputer__strategy=median \n",
      "[CV]  feature_selection__k=1, preparation__num_pipeline__imputer__strategy=median, total=   6.8s\n",
      "[CV] feature_selection__k=1, preparation__num_pipeline__imputer__strategy=median \n",
      "[CV]  feature_selection__k=1, preparation__num_pipeline__imputer__strategy=median, total=   6.5s\n",
      "[CV] feature_selection__k=1, preparation__num_pipeline__imputer__strategy=median \n",
      "[CV]  feature_selection__k=1, preparation__num_pipeline__imputer__strategy=median, total=   7.0s\n",
      "[CV] feature_selection__k=1, preparation__num_pipeline__imputer__strategy=median \n",
      "[CV]  feature_selection__k=1, preparation__num_pipeline__imputer__strategy=median, total=   8.5s\n",
      "[CV] feature_selection__k=1, preparation__num_pipeline__imputer__strategy=median \n",
      "[CV]  feature_selection__k=1, preparation__num_pipeline__imputer__strategy=median, total=   6.5s\n",
      "[CV] feature_selection__k=1, preparation__num_pipeline__imputer__strategy=most_frequent \n",
      "[CV]  feature_selection__k=1, preparation__num_pipeline__imputer__strategy=most_frequent, total=   6.5s\n",
      "[CV] feature_selection__k=1, preparation__num_pipeline__imputer__strategy=most_frequent \n",
      "[CV]  feature_selection__k=1, preparation__num_pipeline__imputer__strategy=most_frequent, total=   6.6s\n",
      "[CV] feature_selection__k=1, preparation__num_pipeline__imputer__strategy=most_frequent \n",
      "[CV]  feature_selection__k=1, preparation__num_pipeline__imputer__strategy=most_frequent, total=   6.5s\n",
      "[CV] feature_selection__k=1, preparation__num_pipeline__imputer__strategy=most_frequent \n",
      "[CV]  feature_selection__k=1, preparation__num_pipeline__imputer__strategy=most_frequent, total=   6.6s\n",
      "[CV] feature_selection__k=1, preparation__num_pipeline__imputer__strategy=most_frequent \n",
      "[CV]  feature_selection__k=1, preparation__num_pipeline__imputer__strategy=most_frequent, total=   6.5s\n",
      "[CV] feature_selection__k=2, preparation__num_pipeline__imputer__strategy=mean \n",
      "[CV]  feature_selection__k=2, preparation__num_pipeline__imputer__strategy=mean, total=   6.9s\n",
      "[CV] feature_selection__k=2, preparation__num_pipeline__imputer__strategy=mean \n",
      "[CV]  feature_selection__k=2, preparation__num_pipeline__imputer__strategy=mean, total=   6.9s\n",
      "[CV] feature_selection__k=2, preparation__num_pipeline__imputer__strategy=mean \n",
      "[CV]  feature_selection__k=2, preparation__num_pipeline__imputer__strategy=mean, total=   7.1s\n",
      "[CV] feature_selection__k=2, preparation__num_pipeline__imputer__strategy=mean \n",
      "[CV]  feature_selection__k=2, preparation__num_pipeline__imputer__strategy=mean, total=   7.0s\n",
      "[CV] feature_selection__k=2, preparation__num_pipeline__imputer__strategy=mean \n",
      "[CV]  feature_selection__k=2, preparation__num_pipeline__imputer__strategy=mean, total=   7.3s\n",
      "[CV] feature_selection__k=2, preparation__num_pipeline__imputer__strategy=median \n",
      "[CV]  feature_selection__k=2, preparation__num_pipeline__imputer__strategy=median, total=   6.8s\n",
      "[CV] feature_selection__k=2, preparation__num_pipeline__imputer__strategy=median \n",
      "[CV]  feature_selection__k=2, preparation__num_pipeline__imputer__strategy=median, total=   6.8s\n",
      "[CV] feature_selection__k=2, preparation__num_pipeline__imputer__strategy=median \n",
      "[CV]  feature_selection__k=2, preparation__num_pipeline__imputer__strategy=median, total=   7.3s\n",
      "[CV] feature_selection__k=2, preparation__num_pipeline__imputer__strategy=median \n",
      "[CV]  feature_selection__k=2, preparation__num_pipeline__imputer__strategy=median, total=   7.1s\n",
      "[CV] feature_selection__k=2, preparation__num_pipeline__imputer__strategy=median \n",
      "[CV]  feature_selection__k=2, preparation__num_pipeline__imputer__strategy=median, total=   7.1s\n",
      "[CV] feature_selection__k=2, preparation__num_pipeline__imputer__strategy=most_frequent \n",
      "[CV]  feature_selection__k=2, preparation__num_pipeline__imputer__strategy=most_frequent, total=   7.1s\n",
      "[CV] feature_selection__k=2, preparation__num_pipeline__imputer__strategy=most_frequent \n",
      "[CV]  feature_selection__k=2, preparation__num_pipeline__imputer__strategy=most_frequent, total=   7.2s\n",
      "[CV] feature_selection__k=2, preparation__num_pipeline__imputer__strategy=most_frequent \n",
      "[CV]  feature_selection__k=2, preparation__num_pipeline__imputer__strategy=most_frequent, total=   7.9s\n",
      "[CV] feature_selection__k=2, preparation__num_pipeline__imputer__strategy=most_frequent \n",
      "[CV]  feature_selection__k=2, preparation__num_pipeline__imputer__strategy=most_frequent, total=   7.2s\n",
      "[CV] feature_selection__k=2, preparation__num_pipeline__imputer__strategy=most_frequent \n",
      "[CV]  feature_selection__k=2, preparation__num_pipeline__imputer__strategy=most_frequent, total=   7.0s\n",
      "[CV] feature_selection__k=3, preparation__num_pipeline__imputer__strategy=mean \n",
      "[CV]  feature_selection__k=3, preparation__num_pipeline__imputer__strategy=mean, total=   7.3s\n",
      "[CV] feature_selection__k=3, preparation__num_pipeline__imputer__strategy=mean \n",
      "[CV]  feature_selection__k=3, preparation__num_pipeline__imputer__strategy=mean, total=   7.5s\n",
      "[CV] feature_selection__k=3, preparation__num_pipeline__imputer__strategy=mean \n",
      "[CV]  feature_selection__k=3, preparation__num_pipeline__imputer__strategy=mean, total=   7.6s\n",
      "[CV] feature_selection__k=3, preparation__num_pipeline__imputer__strategy=mean \n",
      "[CV]  feature_selection__k=3, preparation__num_pipeline__imputer__strategy=mean, total=   7.2s\n",
      "[CV] feature_selection__k=3, preparation__num_pipeline__imputer__strategy=mean \n",
      "[CV]  feature_selection__k=3, preparation__num_pipeline__imputer__strategy=mean, total=   7.3s\n",
      "[CV] feature_selection__k=3, preparation__num_pipeline__imputer__strategy=median \n",
      "[CV]  feature_selection__k=3, preparation__num_pipeline__imputer__strategy=median, total=   7.3s\n",
      "[CV] feature_selection__k=3, preparation__num_pipeline__imputer__strategy=median \n",
      "[CV]  feature_selection__k=3, preparation__num_pipeline__imputer__strategy=median, total=   7.7s\n",
      "[CV] feature_selection__k=3, preparation__num_pipeline__imputer__strategy=median \n",
      "[CV]  feature_selection__k=3, preparation__num_pipeline__imputer__strategy=median, total=   7.4s\n",
      "[CV] feature_selection__k=3, preparation__num_pipeline__imputer__strategy=median \n",
      "[CV]  feature_selection__k=3, preparation__num_pipeline__imputer__strategy=median, total=   7.3s\n",
      "[CV] feature_selection__k=3, preparation__num_pipeline__imputer__strategy=median \n",
      "[CV]  feature_selection__k=3, preparation__num_pipeline__imputer__strategy=median, total=   7.3s\n",
      "[CV] feature_selection__k=3, preparation__num_pipeline__imputer__strategy=most_frequent \n",
      "[CV]  feature_selection__k=3, preparation__num_pipeline__imputer__strategy=most_frequent, total=   7.5s\n",
      "[CV] feature_selection__k=3, preparation__num_pipeline__imputer__strategy=most_frequent \n",
      "[CV]  feature_selection__k=3, preparation__num_pipeline__imputer__strategy=most_frequent, total=   7.4s\n",
      "[CV] feature_selection__k=3, preparation__num_pipeline__imputer__strategy=most_frequent \n",
      "[CV]  feature_selection__k=3, preparation__num_pipeline__imputer__strategy=most_frequent, total=   7.4s\n",
      "[CV] feature_selection__k=3, preparation__num_pipeline__imputer__strategy=most_frequent \n",
      "[CV]  feature_selection__k=3, preparation__num_pipeline__imputer__strategy=most_frequent, total=   7.7s\n",
      "[CV] feature_selection__k=3, preparation__num_pipeline__imputer__strategy=most_frequent \n",
      "[CV]  feature_selection__k=3, preparation__num_pipeline__imputer__strategy=most_frequent, total=   7.6s\n",
      "[CV] feature_selection__k=4, preparation__num_pipeline__imputer__strategy=mean \n",
      "[CV]  feature_selection__k=4, preparation__num_pipeline__imputer__strategy=mean, total=   7.7s\n",
      "[CV] feature_selection__k=4, preparation__num_pipeline__imputer__strategy=mean \n",
      "[CV]  feature_selection__k=4, preparation__num_pipeline__imputer__strategy=mean, total=   7.6s\n",
      "[CV] feature_selection__k=4, preparation__num_pipeline__imputer__strategy=mean \n",
      "[CV]  feature_selection__k=4, preparation__num_pipeline__imputer__strategy=mean, total=   8.0s\n",
      "[CV] feature_selection__k=4, preparation__num_pipeline__imputer__strategy=mean \n",
      "[CV]  feature_selection__k=4, preparation__num_pipeline__imputer__strategy=mean, total=   8.0s\n",
      "[CV] feature_selection__k=4, preparation__num_pipeline__imputer__strategy=mean \n",
      "[CV]  feature_selection__k=4, preparation__num_pipeline__imputer__strategy=mean, total=   8.4s\n",
      "[CV] feature_selection__k=4, preparation__num_pipeline__imputer__strategy=median \n",
      "[CV]  feature_selection__k=4, preparation__num_pipeline__imputer__strategy=median, total=   7.7s\n",
      "[CV] feature_selection__k=4, preparation__num_pipeline__imputer__strategy=median \n",
      "[CV]  feature_selection__k=4, preparation__num_pipeline__imputer__strategy=median, total=   7.9s\n",
      "[CV] feature_selection__k=4, preparation__num_pipeline__imputer__strategy=median \n",
      "[CV]  feature_selection__k=4, preparation__num_pipeline__imputer__strategy=median, total=   8.3s\n",
      "[CV] feature_selection__k=4, preparation__num_pipeline__imputer__strategy=median \n",
      "[CV]  feature_selection__k=4, preparation__num_pipeline__imputer__strategy=median, total=   7.5s\n",
      "[CV] feature_selection__k=4, preparation__num_pipeline__imputer__strategy=median \n",
      "[CV]  feature_selection__k=4, preparation__num_pipeline__imputer__strategy=median, total=   7.4s\n",
      "[CV] feature_selection__k=4, preparation__num_pipeline__imputer__strategy=most_frequent \n",
      "[CV]  feature_selection__k=4, preparation__num_pipeline__imputer__strategy=most_frequent, total=   7.3s\n",
      "[CV] feature_selection__k=4, preparation__num_pipeline__imputer__strategy=most_frequent \n",
      "[CV]  feature_selection__k=4, preparation__num_pipeline__imputer__strategy=most_frequent, total=   7.3s\n",
      "[CV] feature_selection__k=4, preparation__num_pipeline__imputer__strategy=most_frequent \n",
      "[CV]  feature_selection__k=4, preparation__num_pipeline__imputer__strategy=most_frequent, total=   7.4s\n",
      "[CV] feature_selection__k=4, preparation__num_pipeline__imputer__strategy=most_frequent \n",
      "[CV]  feature_selection__k=4, preparation__num_pipeline__imputer__strategy=most_frequent, total=   7.8s\n",
      "[CV] feature_selection__k=4, preparation__num_pipeline__imputer__strategy=most_frequent \n",
      "[CV]  feature_selection__k=4, preparation__num_pipeline__imputer__strategy=most_frequent, total=   7.7s\n",
      "[CV] feature_selection__k=5, preparation__num_pipeline__imputer__strategy=mean \n",
      "[CV]  feature_selection__k=5, preparation__num_pipeline__imputer__strategy=mean, total=   8.2s\n",
      "[CV] feature_selection__k=5, preparation__num_pipeline__imputer__strategy=mean \n",
      "[CV]  feature_selection__k=5, preparation__num_pipeline__imputer__strategy=mean, total=   8.6s\n",
      "[CV] feature_selection__k=5, preparation__num_pipeline__imputer__strategy=mean \n",
      "[CV]  feature_selection__k=5, preparation__num_pipeline__imputer__strategy=mean, total=   9.7s\n",
      "[CV] feature_selection__k=5, preparation__num_pipeline__imputer__strategy=mean \n",
      "[CV]  feature_selection__k=5, preparation__num_pipeline__imputer__strategy=mean, total=   8.4s\n",
      "[CV] feature_selection__k=5, preparation__num_pipeline__imputer__strategy=mean \n",
      "[CV]  feature_selection__k=5, preparation__num_pipeline__imputer__strategy=mean, total=   8.4s\n",
      "[CV] feature_selection__k=5, preparation__num_pipeline__imputer__strategy=median \n",
      "[CV]  feature_selection__k=5, preparation__num_pipeline__imputer__strategy=median, total=   9.6s\n",
      "[CV] feature_selection__k=5, preparation__num_pipeline__imputer__strategy=median \n",
      "[CV]  feature_selection__k=5, preparation__num_pipeline__imputer__strategy=median, total=   8.7s\n",
      "[CV] feature_selection__k=5, preparation__num_pipeline__imputer__strategy=median \n",
      "[CV]  feature_selection__k=5, preparation__num_pipeline__imputer__strategy=median, total=  10.4s\n",
      "[CV] feature_selection__k=5, preparation__num_pipeline__imputer__strategy=median \n",
      "[CV]  feature_selection__k=5, preparation__num_pipeline__imputer__strategy=median, total=   8.8s\n",
      "[CV] feature_selection__k=5, preparation__num_pipeline__imputer__strategy=median \n",
      "[CV]  feature_selection__k=5, preparation__num_pipeline__imputer__strategy=median, total=   9.1s\n",
      "[CV] feature_selection__k=5, preparation__num_pipeline__imputer__strategy=most_frequent \n",
      "[CV]  feature_selection__k=5, preparation__num_pipeline__imputer__strategy=most_frequent, total=   8.4s\n",
      "[CV] feature_selection__k=5, preparation__num_pipeline__imputer__strategy=most_frequent \n",
      "[CV]  feature_selection__k=5, preparation__num_pipeline__imputer__strategy=most_frequent, total=   9.2s\n",
      "[CV] feature_selection__k=5, preparation__num_pipeline__imputer__strategy=most_frequent \n",
      "[CV]  feature_selection__k=5, preparation__num_pipeline__imputer__strategy=most_frequent, total=   9.6s\n",
      "[CV] feature_selection__k=5, preparation__num_pipeline__imputer__strategy=most_frequent \n",
      "[CV]  feature_selection__k=5, preparation__num_pipeline__imputer__strategy=most_frequent, total=   9.0s\n",
      "[CV] feature_selection__k=5, preparation__num_pipeline__imputer__strategy=most_frequent \n",
      "[CV]  feature_selection__k=5, preparation__num_pipeline__imputer__strategy=most_frequent, total=   8.8s\n",
      "[CV] feature_selection__k=6, preparation__num_pipeline__imputer__strategy=mean \n",
      "[CV]  feature_selection__k=6, preparation__num_pipeline__imputer__strategy=mean, total=   8.4s\n",
      "[CV] feature_selection__k=6, preparation__num_pipeline__imputer__strategy=mean \n",
      "[CV]  feature_selection__k=6, preparation__num_pipeline__imputer__strategy=mean, total=   9.1s\n",
      "[CV] feature_selection__k=6, preparation__num_pipeline__imputer__strategy=mean \n",
      "[CV]  feature_selection__k=6, preparation__num_pipeline__imputer__strategy=mean, total=   8.5s\n",
      "[CV] feature_selection__k=6, preparation__num_pipeline__imputer__strategy=mean \n",
      "[CV]  feature_selection__k=6, preparation__num_pipeline__imputer__strategy=mean, total=   8.6s\n",
      "[CV] feature_selection__k=6, preparation__num_pipeline__imputer__strategy=mean \n",
      "[CV]  feature_selection__k=6, preparation__num_pipeline__imputer__strategy=mean, total=   8.8s\n",
      "[CV] feature_selection__k=6, preparation__num_pipeline__imputer__strategy=median \n",
      "[CV]  feature_selection__k=6, preparation__num_pipeline__imputer__strategy=median, total=   8.5s\n",
      "[CV] feature_selection__k=6, preparation__num_pipeline__imputer__strategy=median \n",
      "[CV]  feature_selection__k=6, preparation__num_pipeline__imputer__strategy=median, total=   9.2s\n",
      "[CV] feature_selection__k=6, preparation__num_pipeline__imputer__strategy=median \n",
      "[CV]  feature_selection__k=6, preparation__num_pipeline__imputer__strategy=median, total=   8.8s\n",
      "[CV] feature_selection__k=6, preparation__num_pipeline__imputer__strategy=median \n",
      "[CV]  feature_selection__k=6, preparation__num_pipeline__imputer__strategy=median, total=   8.7s\n",
      "[CV] feature_selection__k=6, preparation__num_pipeline__imputer__strategy=median \n",
      "[CV]  feature_selection__k=6, preparation__num_pipeline__imputer__strategy=median, total=   9.3s\n",
      "[CV] feature_selection__k=6, preparation__num_pipeline__imputer__strategy=most_frequent \n",
      "[CV]  feature_selection__k=6, preparation__num_pipeline__imputer__strategy=most_frequent, total=   8.4s\n",
      "[CV] feature_selection__k=6, preparation__num_pipeline__imputer__strategy=most_frequent \n",
      "[CV]  feature_selection__k=6, preparation__num_pipeline__imputer__strategy=most_frequent, total=   9.0s\n",
      "[CV] feature_selection__k=6, preparation__num_pipeline__imputer__strategy=most_frequent \n",
      "[CV]  feature_selection__k=6, preparation__num_pipeline__imputer__strategy=most_frequent, total=   8.6s\n",
      "[CV] feature_selection__k=6, preparation__num_pipeline__imputer__strategy=most_frequent \n",
      "[CV]  feature_selection__k=6, preparation__num_pipeline__imputer__strategy=most_frequent, total=   9.3s\n",
      "[CV] feature_selection__k=6, preparation__num_pipeline__imputer__strategy=most_frequent \n",
      "[CV]  feature_selection__k=6, preparation__num_pipeline__imputer__strategy=most_frequent, total=   8.9s\n",
      "[CV] feature_selection__k=7, preparation__num_pipeline__imputer__strategy=mean \n",
      "[CV]  feature_selection__k=7, preparation__num_pipeline__imputer__strategy=mean, total=  14.6s\n",
      "[CV] feature_selection__k=7, preparation__num_pipeline__imputer__strategy=mean \n",
      "[CV]  feature_selection__k=7, preparation__num_pipeline__imputer__strategy=mean, total=  15.9s\n",
      "[CV] feature_selection__k=7, preparation__num_pipeline__imputer__strategy=mean \n",
      "[CV]  feature_selection__k=7, preparation__num_pipeline__imputer__strategy=mean, total=  12.3s\n",
      "[CV] feature_selection__k=7, preparation__num_pipeline__imputer__strategy=mean \n",
      "[CV]  feature_selection__k=7, preparation__num_pipeline__imputer__strategy=mean, total=  10.2s\n",
      "[CV] feature_selection__k=7, preparation__num_pipeline__imputer__strategy=mean \n",
      "[CV]  feature_selection__k=7, preparation__num_pipeline__imputer__strategy=mean, total=  12.4s\n",
      "[CV] feature_selection__k=7, preparation__num_pipeline__imputer__strategy=median \n",
      "[CV]  feature_selection__k=7, preparation__num_pipeline__imputer__strategy=median, total=  11.6s\n",
      "[CV] feature_selection__k=7, preparation__num_pipeline__imputer__strategy=median \n",
      "[CV]  feature_selection__k=7, preparation__num_pipeline__imputer__strategy=median, total=  12.8s\n",
      "[CV] feature_selection__k=7, preparation__num_pipeline__imputer__strategy=median \n",
      "[CV]  feature_selection__k=7, preparation__num_pipeline__imputer__strategy=median, total=  11.7s\n",
      "[CV] feature_selection__k=7, preparation__num_pipeline__imputer__strategy=median \n",
      "[CV]  feature_selection__k=7, preparation__num_pipeline__imputer__strategy=median, total=  11.1s\n",
      "[CV] feature_selection__k=7, preparation__num_pipeline__imputer__strategy=median \n",
      "[CV]  feature_selection__k=7, preparation__num_pipeline__imputer__strategy=median, total=  12.5s\n",
      "[CV] feature_selection__k=7, preparation__num_pipeline__imputer__strategy=most_frequent \n",
      "[CV]  feature_selection__k=7, preparation__num_pipeline__imputer__strategy=most_frequent, total=  12.0s\n",
      "[CV] feature_selection__k=7, preparation__num_pipeline__imputer__strategy=most_frequent \n",
      "[CV]  feature_selection__k=7, preparation__num_pipeline__imputer__strategy=most_frequent, total=  12.6s\n",
      "[CV] feature_selection__k=7, preparation__num_pipeline__imputer__strategy=most_frequent \n",
      "[CV]  feature_selection__k=7, preparation__num_pipeline__imputer__strategy=most_frequent, total=  12.1s\n",
      "[CV] feature_selection__k=7, preparation__num_pipeline__imputer__strategy=most_frequent \n",
      "[CV]  feature_selection__k=7, preparation__num_pipeline__imputer__strategy=most_frequent, total=  10.9s\n",
      "[CV] feature_selection__k=7, preparation__num_pipeline__imputer__strategy=most_frequent \n",
      "[CV]  feature_selection__k=7, preparation__num_pipeline__imputer__strategy=most_frequent, total=  12.7s\n",
      "[CV] feature_selection__k=8, preparation__num_pipeline__imputer__strategy=mean \n",
      "[CV]  feature_selection__k=8, preparation__num_pipeline__imputer__strategy=mean, total=  13.4s\n",
      "[CV] feature_selection__k=8, preparation__num_pipeline__imputer__strategy=mean \n",
      "[CV]  feature_selection__k=8, preparation__num_pipeline__imputer__strategy=mean, total=  13.3s\n",
      "[CV] feature_selection__k=8, preparation__num_pipeline__imputer__strategy=mean \n",
      "[CV]  feature_selection__k=8, preparation__num_pipeline__imputer__strategy=mean, total=  13.8s\n",
      "[CV] feature_selection__k=8, preparation__num_pipeline__imputer__strategy=mean \n",
      "[CV]  feature_selection__k=8, preparation__num_pipeline__imputer__strategy=mean, total=  13.9s\n",
      "[CV] feature_selection__k=8, preparation__num_pipeline__imputer__strategy=mean \n",
      "[CV]  feature_selection__k=8, preparation__num_pipeline__imputer__strategy=mean, total=  17.8s\n",
      "[CV] feature_selection__k=8, preparation__num_pipeline__imputer__strategy=median \n",
      "[CV]  feature_selection__k=8, preparation__num_pipeline__imputer__strategy=median, total=  13.7s\n",
      "[CV] feature_selection__k=8, preparation__num_pipeline__imputer__strategy=median \n",
      "[CV]  feature_selection__k=8, preparation__num_pipeline__imputer__strategy=median, total=  12.4s\n",
      "[CV] feature_selection__k=8, preparation__num_pipeline__imputer__strategy=median \n",
      "[CV]  feature_selection__k=8, preparation__num_pipeline__imputer__strategy=median, total=  13.3s\n",
      "[CV] feature_selection__k=8, preparation__num_pipeline__imputer__strategy=median \n",
      "[CV]  feature_selection__k=8, preparation__num_pipeline__imputer__strategy=median, total=  14.4s\n",
      "[CV] feature_selection__k=8, preparation__num_pipeline__imputer__strategy=median \n",
      "[CV]  feature_selection__k=8, preparation__num_pipeline__imputer__strategy=median, total=  13.6s\n",
      "[CV] feature_selection__k=8, preparation__num_pipeline__imputer__strategy=most_frequent \n",
      "[CV]  feature_selection__k=8, preparation__num_pipeline__imputer__strategy=most_frequent, total=  12.4s\n",
      "[CV] feature_selection__k=8, preparation__num_pipeline__imputer__strategy=most_frequent \n",
      "[CV]  feature_selection__k=8, preparation__num_pipeline__imputer__strategy=most_frequent, total=  12.8s\n",
      "[CV] feature_selection__k=8, preparation__num_pipeline__imputer__strategy=most_frequent \n",
      "[CV]  feature_selection__k=8, preparation__num_pipeline__imputer__strategy=most_frequent, total=  13.0s\n",
      "[CV] feature_selection__k=8, preparation__num_pipeline__imputer__strategy=most_frequent \n",
      "[CV]  feature_selection__k=8, preparation__num_pipeline__imputer__strategy=most_frequent, total=  13.1s\n",
      "[CV] feature_selection__k=8, preparation__num_pipeline__imputer__strategy=most_frequent \n",
      "[CV]  feature_selection__k=8, preparation__num_pipeline__imputer__strategy=most_frequent, total=  13.7s\n",
      "[CV] feature_selection__k=9, preparation__num_pipeline__imputer__strategy=mean \n",
      "[CV]  feature_selection__k=9, preparation__num_pipeline__imputer__strategy=mean, total=  18.7s\n",
      "[CV] feature_selection__k=9, preparation__num_pipeline__imputer__strategy=mean \n",
      "[CV]  feature_selection__k=9, preparation__num_pipeline__imputer__strategy=mean, total=  17.4s\n",
      "[CV] feature_selection__k=9, preparation__num_pipeline__imputer__strategy=mean \n",
      "[CV]  feature_selection__k=9, preparation__num_pipeline__imputer__strategy=mean, total=  18.0s\n",
      "[CV] feature_selection__k=9, preparation__num_pipeline__imputer__strategy=mean \n",
      "[CV]  feature_selection__k=9, preparation__num_pipeline__imputer__strategy=mean, total=  17.9s\n",
      "[CV] feature_selection__k=9, preparation__num_pipeline__imputer__strategy=mean \n",
      "[CV]  feature_selection__k=9, preparation__num_pipeline__imputer__strategy=mean, total=  17.9s\n",
      "[CV] feature_selection__k=9, preparation__num_pipeline__imputer__strategy=median \n",
      "[CV]  feature_selection__k=9, preparation__num_pipeline__imputer__strategy=median, total=  18.0s\n",
      "[CV] feature_selection__k=9, preparation__num_pipeline__imputer__strategy=median \n",
      "[CV]  feature_selection__k=9, preparation__num_pipeline__imputer__strategy=median, total=  17.0s\n",
      "[CV] feature_selection__k=9, preparation__num_pipeline__imputer__strategy=median \n",
      "[CV]  feature_selection__k=9, preparation__num_pipeline__imputer__strategy=median, total=  18.0s\n",
      "[CV] feature_selection__k=9, preparation__num_pipeline__imputer__strategy=median \n",
      "[CV]  feature_selection__k=9, preparation__num_pipeline__imputer__strategy=median, total=  17.7s\n",
      "[CV] feature_selection__k=9, preparation__num_pipeline__imputer__strategy=median \n",
      "[CV]  feature_selection__k=9, preparation__num_pipeline__imputer__strategy=median, total=  18.0s\n",
      "[CV] feature_selection__k=9, preparation__num_pipeline__imputer__strategy=most_frequent \n",
      "[CV]  feature_selection__k=9, preparation__num_pipeline__imputer__strategy=most_frequent, total=  18.1s\n",
      "[CV] feature_selection__k=9, preparation__num_pipeline__imputer__strategy=most_frequent \n",
      "[CV]  feature_selection__k=9, preparation__num_pipeline__imputer__strategy=most_frequent, total=  17.1s\n",
      "[CV] feature_selection__k=9, preparation__num_pipeline__imputer__strategy=most_frequent \n",
      "[CV]  feature_selection__k=9, preparation__num_pipeline__imputer__strategy=most_frequent, total=  18.3s\n",
      "[CV] feature_selection__k=9, preparation__num_pipeline__imputer__strategy=most_frequent \n",
      "[CV]  feature_selection__k=9, preparation__num_pipeline__imputer__strategy=most_frequent, total=  17.9s\n",
      "[CV] feature_selection__k=9, preparation__num_pipeline__imputer__strategy=most_frequent \n",
      "[CV]  feature_selection__k=9, preparation__num_pipeline__imputer__strategy=most_frequent, total=  17.9s\n",
      "[CV] feature_selection__k=10, preparation__num_pipeline__imputer__strategy=mean \n",
      "[CV]  feature_selection__k=10, preparation__num_pipeline__imputer__strategy=mean, total=  19.0s\n",
      "[CV] feature_selection__k=10, preparation__num_pipeline__imputer__strategy=mean \n",
      "[CV]  feature_selection__k=10, preparation__num_pipeline__imputer__strategy=mean, total=  22.0s\n",
      "[CV] feature_selection__k=10, preparation__num_pipeline__imputer__strategy=mean \n",
      "[CV]  feature_selection__k=10, preparation__num_pipeline__imputer__strategy=mean, total=  18.7s\n",
      "[CV] feature_selection__k=10, preparation__num_pipeline__imputer__strategy=mean \n",
      "[CV]  feature_selection__k=10, preparation__num_pipeline__imputer__strategy=mean, total=  20.9s\n",
      "[CV] feature_selection__k=10, preparation__num_pipeline__imputer__strategy=mean \n",
      "[CV]  feature_selection__k=10, preparation__num_pipeline__imputer__strategy=mean, total=  20.5s\n",
      "[CV] feature_selection__k=10, preparation__num_pipeline__imputer__strategy=median \n",
      "[CV]  feature_selection__k=10, preparation__num_pipeline__imputer__strategy=median, total=  19.3s\n",
      "[CV] feature_selection__k=10, preparation__num_pipeline__imputer__strategy=median \n",
      "[CV]  feature_selection__k=10, preparation__num_pipeline__imputer__strategy=median, total=  22.0s\n",
      "[CV] feature_selection__k=10, preparation__num_pipeline__imputer__strategy=median \n",
      "[CV]  feature_selection__k=10, preparation__num_pipeline__imputer__strategy=median, total=  18.8s\n",
      "[CV] feature_selection__k=10, preparation__num_pipeline__imputer__strategy=median \n",
      "[CV]  feature_selection__k=10, preparation__num_pipeline__imputer__strategy=median, total=  22.2s\n",
      "[CV] feature_selection__k=10, preparation__num_pipeline__imputer__strategy=median \n",
      "[CV]  feature_selection__k=10, preparation__num_pipeline__imputer__strategy=median, total=  25.2s\n",
      "[CV] feature_selection__k=10, preparation__num_pipeline__imputer__strategy=most_frequent \n",
      "[CV]  feature_selection__k=10, preparation__num_pipeline__imputer__strategy=most_frequent, total=  21.4s\n",
      "[CV] feature_selection__k=10, preparation__num_pipeline__imputer__strategy=most_frequent \n",
      "[CV]  feature_selection__k=10, preparation__num_pipeline__imputer__strategy=most_frequent, total=  24.5s\n",
      "[CV] feature_selection__k=10, preparation__num_pipeline__imputer__strategy=most_frequent \n",
      "[CV]  feature_selection__k=10, preparation__num_pipeline__imputer__strategy=most_frequent, total=  19.3s\n",
      "[CV] feature_selection__k=10, preparation__num_pipeline__imputer__strategy=most_frequent \n",
      "[CV]  feature_selection__k=10, preparation__num_pipeline__imputer__strategy=most_frequent, total=  21.8s\n",
      "[CV] feature_selection__k=10, preparation__num_pipeline__imputer__strategy=most_frequent \n",
      "[CV]  feature_selection__k=10, preparation__num_pipeline__imputer__strategy=most_frequent, total=  20.6s\n",
      "[CV] feature_selection__k=11, preparation__num_pipeline__imputer__strategy=mean \n",
      "[CV]  feature_selection__k=11, preparation__num_pipeline__imputer__strategy=mean, total=  24.7s\n",
      "[CV] feature_selection__k=11, preparation__num_pipeline__imputer__strategy=mean \n",
      "[CV]  feature_selection__k=11, preparation__num_pipeline__imputer__strategy=mean, total=  25.8s\n",
      "[CV] feature_selection__k=11, preparation__num_pipeline__imputer__strategy=mean \n",
      "[CV]  feature_selection__k=11, preparation__num_pipeline__imputer__strategy=mean, total=  22.8s\n",
      "[CV] feature_selection__k=11, preparation__num_pipeline__imputer__strategy=mean \n",
      "[CV]  feature_selection__k=11, preparation__num_pipeline__imputer__strategy=mean, total=  25.7s\n",
      "[CV] feature_selection__k=11, preparation__num_pipeline__imputer__strategy=mean \n",
      "[CV]  feature_selection__k=11, preparation__num_pipeline__imputer__strategy=mean, total=  27.0s\n",
      "[CV] feature_selection__k=11, preparation__num_pipeline__imputer__strategy=median \n",
      "[CV]  feature_selection__k=11, preparation__num_pipeline__imputer__strategy=median, total=  22.4s\n",
      "[CV] feature_selection__k=11, preparation__num_pipeline__imputer__strategy=median \n",
      "[CV]  feature_selection__k=11, preparation__num_pipeline__imputer__strategy=median, total=  25.6s\n",
      "[CV] feature_selection__k=11, preparation__num_pipeline__imputer__strategy=median \n",
      "[CV]  feature_selection__k=11, preparation__num_pipeline__imputer__strategy=median, total=  22.8s\n",
      "[CV] feature_selection__k=11, preparation__num_pipeline__imputer__strategy=median \n",
      "[CV]  feature_selection__k=11, preparation__num_pipeline__imputer__strategy=median, total=  25.5s\n",
      "[CV] feature_selection__k=11, preparation__num_pipeline__imputer__strategy=median \n",
      "[CV]  feature_selection__k=11, preparation__num_pipeline__imputer__strategy=median, total=  25.7s\n",
      "[CV] feature_selection__k=11, preparation__num_pipeline__imputer__strategy=most_frequent \n",
      "[CV]  feature_selection__k=11, preparation__num_pipeline__imputer__strategy=most_frequent, total=  21.3s\n",
      "[CV] feature_selection__k=11, preparation__num_pipeline__imputer__strategy=most_frequent \n",
      "[CV]  feature_selection__k=11, preparation__num_pipeline__imputer__strategy=most_frequent, total=  23.4s\n",
      "[CV] feature_selection__k=11, preparation__num_pipeline__imputer__strategy=most_frequent \n",
      "[CV]  feature_selection__k=11, preparation__num_pipeline__imputer__strategy=most_frequent, total=  22.7s\n",
      "[CV] feature_selection__k=11, preparation__num_pipeline__imputer__strategy=most_frequent \n",
      "[CV]  feature_selection__k=11, preparation__num_pipeline__imputer__strategy=most_frequent, total=  25.4s\n",
      "[CV] feature_selection__k=11, preparation__num_pipeline__imputer__strategy=most_frequent \n"
     ]
    },
    {
     "ename": "KeyboardInterrupt",
     "evalue": "",
     "output_type": "error",
     "traceback": [
      "\u001b[1;31m---------------------------------------------------------------------------\u001b[0m",
      "\u001b[1;31mKeyboardInterrupt\u001b[0m                         Traceback (most recent call last)",
      "\u001b[1;32m<ipython-input-151-8f9be662cea6>\u001b[0m in \u001b[0;36m<module>\u001b[1;34m\u001b[0m\n\u001b[0;32m      6\u001b[0m grid_search_prep = GridSearchCV(prepare_select_and_predict_pipeline, param_grid, cv=5,\n\u001b[0;32m      7\u001b[0m                                 scoring='neg_mean_squared_error', verbose=2, n_jobs=1)\n\u001b[1;32m----> 8\u001b[1;33m \u001b[0mgrid_search_prep\u001b[0m\u001b[1;33m.\u001b[0m\u001b[0mfit\u001b[0m\u001b[1;33m(\u001b[0m\u001b[0mhousing\u001b[0m\u001b[1;33m,\u001b[0m \u001b[0mhousing_labels\u001b[0m\u001b[1;33m)\u001b[0m\u001b[1;33m\u001b[0m\u001b[1;33m\u001b[0m\u001b[0m\n\u001b[0m",
      "\u001b[1;32m~\\Anaconda3\\lib\\site-packages\\sklearn\\model_selection\\_search.py\u001b[0m in \u001b[0;36mfit\u001b[1;34m(self, X, y, groups, **fit_params)\u001b[0m\n\u001b[0;32m    708\u001b[0m                 \u001b[1;32mreturn\u001b[0m \u001b[0mresults\u001b[0m\u001b[1;33m\u001b[0m\u001b[1;33m\u001b[0m\u001b[0m\n\u001b[0;32m    709\u001b[0m \u001b[1;33m\u001b[0m\u001b[0m\n\u001b[1;32m--> 710\u001b[1;33m             \u001b[0mself\u001b[0m\u001b[1;33m.\u001b[0m\u001b[0m_run_search\u001b[0m\u001b[1;33m(\u001b[0m\u001b[0mevaluate_candidates\u001b[0m\u001b[1;33m)\u001b[0m\u001b[1;33m\u001b[0m\u001b[1;33m\u001b[0m\u001b[0m\n\u001b[0m\u001b[0;32m    711\u001b[0m \u001b[1;33m\u001b[0m\u001b[0m\n\u001b[0;32m    712\u001b[0m         \u001b[1;31m# For multi-metric evaluation, store the best_index_, best_params_ and\u001b[0m\u001b[1;33m\u001b[0m\u001b[1;33m\u001b[0m\u001b[1;33m\u001b[0m\u001b[0m\n",
      "\u001b[1;32m~\\Anaconda3\\lib\\site-packages\\sklearn\\model_selection\\_search.py\u001b[0m in \u001b[0;36m_run_search\u001b[1;34m(self, evaluate_candidates)\u001b[0m\n\u001b[0;32m   1149\u001b[0m     \u001b[1;32mdef\u001b[0m \u001b[0m_run_search\u001b[0m\u001b[1;33m(\u001b[0m\u001b[0mself\u001b[0m\u001b[1;33m,\u001b[0m \u001b[0mevaluate_candidates\u001b[0m\u001b[1;33m)\u001b[0m\u001b[1;33m:\u001b[0m\u001b[1;33m\u001b[0m\u001b[1;33m\u001b[0m\u001b[0m\n\u001b[0;32m   1150\u001b[0m         \u001b[1;34m\"\"\"Search all candidates in param_grid\"\"\"\u001b[0m\u001b[1;33m\u001b[0m\u001b[1;33m\u001b[0m\u001b[0m\n\u001b[1;32m-> 1151\u001b[1;33m         \u001b[0mevaluate_candidates\u001b[0m\u001b[1;33m(\u001b[0m\u001b[0mParameterGrid\u001b[0m\u001b[1;33m(\u001b[0m\u001b[0mself\u001b[0m\u001b[1;33m.\u001b[0m\u001b[0mparam_grid\u001b[0m\u001b[1;33m)\u001b[0m\u001b[1;33m)\u001b[0m\u001b[1;33m\u001b[0m\u001b[1;33m\u001b[0m\u001b[0m\n\u001b[0m\u001b[0;32m   1152\u001b[0m \u001b[1;33m\u001b[0m\u001b[0m\n\u001b[0;32m   1153\u001b[0m \u001b[1;33m\u001b[0m\u001b[0m\n",
      "\u001b[1;32m~\\Anaconda3\\lib\\site-packages\\sklearn\\model_selection\\_search.py\u001b[0m in \u001b[0;36mevaluate_candidates\u001b[1;34m(candidate_params)\u001b[0m\n\u001b[0;32m    687\u001b[0m                                \u001b[1;32mfor\u001b[0m \u001b[0mparameters\u001b[0m\u001b[1;33m,\u001b[0m \u001b[1;33m(\u001b[0m\u001b[0mtrain\u001b[0m\u001b[1;33m,\u001b[0m \u001b[0mtest\u001b[0m\u001b[1;33m)\u001b[0m\u001b[1;33m\u001b[0m\u001b[1;33m\u001b[0m\u001b[0m\n\u001b[0;32m    688\u001b[0m                                in product(candidate_params,\n\u001b[1;32m--> 689\u001b[1;33m                                           cv.split(X, y, groups)))\n\u001b[0m\u001b[0;32m    690\u001b[0m \u001b[1;33m\u001b[0m\u001b[0m\n\u001b[0;32m    691\u001b[0m                 \u001b[1;32mif\u001b[0m \u001b[0mlen\u001b[0m\u001b[1;33m(\u001b[0m\u001b[0mout\u001b[0m\u001b[1;33m)\u001b[0m \u001b[1;33m<\u001b[0m \u001b[1;36m1\u001b[0m\u001b[1;33m:\u001b[0m\u001b[1;33m\u001b[0m\u001b[1;33m\u001b[0m\u001b[0m\n",
      "\u001b[1;32m~\\Anaconda3\\lib\\site-packages\\joblib\\parallel.py\u001b[0m in \u001b[0;36m__call__\u001b[1;34m(self, iterable)\u001b[0m\n\u001b[0;32m   1005\u001b[0m                 \u001b[0mself\u001b[0m\u001b[1;33m.\u001b[0m\u001b[0m_iterating\u001b[0m \u001b[1;33m=\u001b[0m \u001b[0mself\u001b[0m\u001b[1;33m.\u001b[0m\u001b[0m_original_iterator\u001b[0m \u001b[1;32mis\u001b[0m \u001b[1;32mnot\u001b[0m \u001b[1;32mNone\u001b[0m\u001b[1;33m\u001b[0m\u001b[1;33m\u001b[0m\u001b[0m\n\u001b[0;32m   1006\u001b[0m \u001b[1;33m\u001b[0m\u001b[0m\n\u001b[1;32m-> 1007\u001b[1;33m             \u001b[1;32mwhile\u001b[0m \u001b[0mself\u001b[0m\u001b[1;33m.\u001b[0m\u001b[0mdispatch_one_batch\u001b[0m\u001b[1;33m(\u001b[0m\u001b[0miterator\u001b[0m\u001b[1;33m)\u001b[0m\u001b[1;33m:\u001b[0m\u001b[1;33m\u001b[0m\u001b[1;33m\u001b[0m\u001b[0m\n\u001b[0m\u001b[0;32m   1008\u001b[0m                 \u001b[1;32mpass\u001b[0m\u001b[1;33m\u001b[0m\u001b[1;33m\u001b[0m\u001b[0m\n\u001b[0;32m   1009\u001b[0m \u001b[1;33m\u001b[0m\u001b[0m\n",
      "\u001b[1;32m~\\Anaconda3\\lib\\site-packages\\joblib\\parallel.py\u001b[0m in \u001b[0;36mdispatch_one_batch\u001b[1;34m(self, iterator)\u001b[0m\n\u001b[0;32m    833\u001b[0m                 \u001b[1;32mreturn\u001b[0m \u001b[1;32mFalse\u001b[0m\u001b[1;33m\u001b[0m\u001b[1;33m\u001b[0m\u001b[0m\n\u001b[0;32m    834\u001b[0m             \u001b[1;32melse\u001b[0m\u001b[1;33m:\u001b[0m\u001b[1;33m\u001b[0m\u001b[1;33m\u001b[0m\u001b[0m\n\u001b[1;32m--> 835\u001b[1;33m                 \u001b[0mself\u001b[0m\u001b[1;33m.\u001b[0m\u001b[0m_dispatch\u001b[0m\u001b[1;33m(\u001b[0m\u001b[0mtasks\u001b[0m\u001b[1;33m)\u001b[0m\u001b[1;33m\u001b[0m\u001b[1;33m\u001b[0m\u001b[0m\n\u001b[0m\u001b[0;32m    836\u001b[0m                 \u001b[1;32mreturn\u001b[0m \u001b[1;32mTrue\u001b[0m\u001b[1;33m\u001b[0m\u001b[1;33m\u001b[0m\u001b[0m\n\u001b[0;32m    837\u001b[0m \u001b[1;33m\u001b[0m\u001b[0m\n",
      "\u001b[1;32m~\\Anaconda3\\lib\\site-packages\\joblib\\parallel.py\u001b[0m in \u001b[0;36m_dispatch\u001b[1;34m(self, batch)\u001b[0m\n\u001b[0;32m    752\u001b[0m         \u001b[1;32mwith\u001b[0m \u001b[0mself\u001b[0m\u001b[1;33m.\u001b[0m\u001b[0m_lock\u001b[0m\u001b[1;33m:\u001b[0m\u001b[1;33m\u001b[0m\u001b[1;33m\u001b[0m\u001b[0m\n\u001b[0;32m    753\u001b[0m             \u001b[0mjob_idx\u001b[0m \u001b[1;33m=\u001b[0m \u001b[0mlen\u001b[0m\u001b[1;33m(\u001b[0m\u001b[0mself\u001b[0m\u001b[1;33m.\u001b[0m\u001b[0m_jobs\u001b[0m\u001b[1;33m)\u001b[0m\u001b[1;33m\u001b[0m\u001b[1;33m\u001b[0m\u001b[0m\n\u001b[1;32m--> 754\u001b[1;33m             \u001b[0mjob\u001b[0m \u001b[1;33m=\u001b[0m \u001b[0mself\u001b[0m\u001b[1;33m.\u001b[0m\u001b[0m_backend\u001b[0m\u001b[1;33m.\u001b[0m\u001b[0mapply_async\u001b[0m\u001b[1;33m(\u001b[0m\u001b[0mbatch\u001b[0m\u001b[1;33m,\u001b[0m \u001b[0mcallback\u001b[0m\u001b[1;33m=\u001b[0m\u001b[0mcb\u001b[0m\u001b[1;33m)\u001b[0m\u001b[1;33m\u001b[0m\u001b[1;33m\u001b[0m\u001b[0m\n\u001b[0m\u001b[0;32m    755\u001b[0m             \u001b[1;31m# A job can complete so quickly than its callback is\u001b[0m\u001b[1;33m\u001b[0m\u001b[1;33m\u001b[0m\u001b[1;33m\u001b[0m\u001b[0m\n\u001b[0;32m    756\u001b[0m             \u001b[1;31m# called before we get here, causing self._jobs to\u001b[0m\u001b[1;33m\u001b[0m\u001b[1;33m\u001b[0m\u001b[1;33m\u001b[0m\u001b[0m\n",
      "\u001b[1;32m~\\Anaconda3\\lib\\site-packages\\joblib\\_parallel_backends.py\u001b[0m in \u001b[0;36mapply_async\u001b[1;34m(self, func, callback)\u001b[0m\n\u001b[0;32m    207\u001b[0m     \u001b[1;32mdef\u001b[0m \u001b[0mapply_async\u001b[0m\u001b[1;33m(\u001b[0m\u001b[0mself\u001b[0m\u001b[1;33m,\u001b[0m \u001b[0mfunc\u001b[0m\u001b[1;33m,\u001b[0m \u001b[0mcallback\u001b[0m\u001b[1;33m=\u001b[0m\u001b[1;32mNone\u001b[0m\u001b[1;33m)\u001b[0m\u001b[1;33m:\u001b[0m\u001b[1;33m\u001b[0m\u001b[1;33m\u001b[0m\u001b[0m\n\u001b[0;32m    208\u001b[0m         \u001b[1;34m\"\"\"Schedule a func to be run\"\"\"\u001b[0m\u001b[1;33m\u001b[0m\u001b[1;33m\u001b[0m\u001b[0m\n\u001b[1;32m--> 209\u001b[1;33m         \u001b[0mresult\u001b[0m \u001b[1;33m=\u001b[0m \u001b[0mImmediateResult\u001b[0m\u001b[1;33m(\u001b[0m\u001b[0mfunc\u001b[0m\u001b[1;33m)\u001b[0m\u001b[1;33m\u001b[0m\u001b[1;33m\u001b[0m\u001b[0m\n\u001b[0m\u001b[0;32m    210\u001b[0m         \u001b[1;32mif\u001b[0m \u001b[0mcallback\u001b[0m\u001b[1;33m:\u001b[0m\u001b[1;33m\u001b[0m\u001b[1;33m\u001b[0m\u001b[0m\n\u001b[0;32m    211\u001b[0m             \u001b[0mcallback\u001b[0m\u001b[1;33m(\u001b[0m\u001b[0mresult\u001b[0m\u001b[1;33m)\u001b[0m\u001b[1;33m\u001b[0m\u001b[1;33m\u001b[0m\u001b[0m\n",
      "\u001b[1;32m~\\Anaconda3\\lib\\site-packages\\joblib\\_parallel_backends.py\u001b[0m in \u001b[0;36m__init__\u001b[1;34m(self, batch)\u001b[0m\n\u001b[0;32m    588\u001b[0m         \u001b[1;31m# Don't delay the application, to avoid keeping the input\u001b[0m\u001b[1;33m\u001b[0m\u001b[1;33m\u001b[0m\u001b[1;33m\u001b[0m\u001b[0m\n\u001b[0;32m    589\u001b[0m         \u001b[1;31m# arguments in memory\u001b[0m\u001b[1;33m\u001b[0m\u001b[1;33m\u001b[0m\u001b[1;33m\u001b[0m\u001b[0m\n\u001b[1;32m--> 590\u001b[1;33m         \u001b[0mself\u001b[0m\u001b[1;33m.\u001b[0m\u001b[0mresults\u001b[0m \u001b[1;33m=\u001b[0m \u001b[0mbatch\u001b[0m\u001b[1;33m(\u001b[0m\u001b[1;33m)\u001b[0m\u001b[1;33m\u001b[0m\u001b[1;33m\u001b[0m\u001b[0m\n\u001b[0m\u001b[0;32m    591\u001b[0m \u001b[1;33m\u001b[0m\u001b[0m\n\u001b[0;32m    592\u001b[0m     \u001b[1;32mdef\u001b[0m \u001b[0mget\u001b[0m\u001b[1;33m(\u001b[0m\u001b[0mself\u001b[0m\u001b[1;33m)\u001b[0m\u001b[1;33m:\u001b[0m\u001b[1;33m\u001b[0m\u001b[1;33m\u001b[0m\u001b[0m\n",
      "\u001b[1;32m~\\Anaconda3\\lib\\site-packages\\joblib\\parallel.py\u001b[0m in \u001b[0;36m__call__\u001b[1;34m(self)\u001b[0m\n\u001b[0;32m    254\u001b[0m         \u001b[1;32mwith\u001b[0m \u001b[0mparallel_backend\u001b[0m\u001b[1;33m(\u001b[0m\u001b[0mself\u001b[0m\u001b[1;33m.\u001b[0m\u001b[0m_backend\u001b[0m\u001b[1;33m,\u001b[0m \u001b[0mn_jobs\u001b[0m\u001b[1;33m=\u001b[0m\u001b[0mself\u001b[0m\u001b[1;33m.\u001b[0m\u001b[0m_n_jobs\u001b[0m\u001b[1;33m)\u001b[0m\u001b[1;33m:\u001b[0m\u001b[1;33m\u001b[0m\u001b[1;33m\u001b[0m\u001b[0m\n\u001b[0;32m    255\u001b[0m             return [func(*args, **kwargs)\n\u001b[1;32m--> 256\u001b[1;33m                     for func, args, kwargs in self.items]\n\u001b[0m\u001b[0;32m    257\u001b[0m \u001b[1;33m\u001b[0m\u001b[0m\n\u001b[0;32m    258\u001b[0m     \u001b[1;32mdef\u001b[0m \u001b[0m__len__\u001b[0m\u001b[1;33m(\u001b[0m\u001b[0mself\u001b[0m\u001b[1;33m)\u001b[0m\u001b[1;33m:\u001b[0m\u001b[1;33m\u001b[0m\u001b[1;33m\u001b[0m\u001b[0m\n",
      "\u001b[1;32m~\\Anaconda3\\lib\\site-packages\\joblib\\parallel.py\u001b[0m in \u001b[0;36m<listcomp>\u001b[1;34m(.0)\u001b[0m\n\u001b[0;32m    254\u001b[0m         \u001b[1;32mwith\u001b[0m \u001b[0mparallel_backend\u001b[0m\u001b[1;33m(\u001b[0m\u001b[0mself\u001b[0m\u001b[1;33m.\u001b[0m\u001b[0m_backend\u001b[0m\u001b[1;33m,\u001b[0m \u001b[0mn_jobs\u001b[0m\u001b[1;33m=\u001b[0m\u001b[0mself\u001b[0m\u001b[1;33m.\u001b[0m\u001b[0m_n_jobs\u001b[0m\u001b[1;33m)\u001b[0m\u001b[1;33m:\u001b[0m\u001b[1;33m\u001b[0m\u001b[1;33m\u001b[0m\u001b[0m\n\u001b[0;32m    255\u001b[0m             return [func(*args, **kwargs)\n\u001b[1;32m--> 256\u001b[1;33m                     for func, args, kwargs in self.items]\n\u001b[0m\u001b[0;32m    257\u001b[0m \u001b[1;33m\u001b[0m\u001b[0m\n\u001b[0;32m    258\u001b[0m     \u001b[1;32mdef\u001b[0m \u001b[0m__len__\u001b[0m\u001b[1;33m(\u001b[0m\u001b[0mself\u001b[0m\u001b[1;33m)\u001b[0m\u001b[1;33m:\u001b[0m\u001b[1;33m\u001b[0m\u001b[1;33m\u001b[0m\u001b[0m\n",
      "\u001b[1;32m~\\Anaconda3\\lib\\site-packages\\sklearn\\model_selection\\_validation.py\u001b[0m in \u001b[0;36m_fit_and_score\u001b[1;34m(estimator, X, y, scorer, train, test, verbose, parameters, fit_params, return_train_score, return_parameters, return_n_test_samples, return_times, return_estimator, error_score)\u001b[0m\n\u001b[0;32m    513\u001b[0m             \u001b[0mestimator\u001b[0m\u001b[1;33m.\u001b[0m\u001b[0mfit\u001b[0m\u001b[1;33m(\u001b[0m\u001b[0mX_train\u001b[0m\u001b[1;33m,\u001b[0m \u001b[1;33m**\u001b[0m\u001b[0mfit_params\u001b[0m\u001b[1;33m)\u001b[0m\u001b[1;33m\u001b[0m\u001b[1;33m\u001b[0m\u001b[0m\n\u001b[0;32m    514\u001b[0m         \u001b[1;32melse\u001b[0m\u001b[1;33m:\u001b[0m\u001b[1;33m\u001b[0m\u001b[1;33m\u001b[0m\u001b[0m\n\u001b[1;32m--> 515\u001b[1;33m             \u001b[0mestimator\u001b[0m\u001b[1;33m.\u001b[0m\u001b[0mfit\u001b[0m\u001b[1;33m(\u001b[0m\u001b[0mX_train\u001b[0m\u001b[1;33m,\u001b[0m \u001b[0my_train\u001b[0m\u001b[1;33m,\u001b[0m \u001b[1;33m**\u001b[0m\u001b[0mfit_params\u001b[0m\u001b[1;33m)\u001b[0m\u001b[1;33m\u001b[0m\u001b[1;33m\u001b[0m\u001b[0m\n\u001b[0m\u001b[0;32m    516\u001b[0m \u001b[1;33m\u001b[0m\u001b[0m\n\u001b[0;32m    517\u001b[0m     \u001b[1;32mexcept\u001b[0m \u001b[0mException\u001b[0m \u001b[1;32mas\u001b[0m \u001b[0me\u001b[0m\u001b[1;33m:\u001b[0m\u001b[1;33m\u001b[0m\u001b[1;33m\u001b[0m\u001b[0m\n",
      "\u001b[1;32m~\\Anaconda3\\lib\\site-packages\\sklearn\\pipeline.py\u001b[0m in \u001b[0;36mfit\u001b[1;34m(self, X, y, **fit_params)\u001b[0m\n\u001b[0;32m    352\u001b[0m                                  self._log_message(len(self.steps) - 1)):\n\u001b[0;32m    353\u001b[0m             \u001b[1;32mif\u001b[0m \u001b[0mself\u001b[0m\u001b[1;33m.\u001b[0m\u001b[0m_final_estimator\u001b[0m \u001b[1;33m!=\u001b[0m \u001b[1;34m'passthrough'\u001b[0m\u001b[1;33m:\u001b[0m\u001b[1;33m\u001b[0m\u001b[1;33m\u001b[0m\u001b[0m\n\u001b[1;32m--> 354\u001b[1;33m                 \u001b[0mself\u001b[0m\u001b[1;33m.\u001b[0m\u001b[0m_final_estimator\u001b[0m\u001b[1;33m.\u001b[0m\u001b[0mfit\u001b[0m\u001b[1;33m(\u001b[0m\u001b[0mXt\u001b[0m\u001b[1;33m,\u001b[0m \u001b[0my\u001b[0m\u001b[1;33m,\u001b[0m \u001b[1;33m**\u001b[0m\u001b[0mfit_params\u001b[0m\u001b[1;33m)\u001b[0m\u001b[1;33m\u001b[0m\u001b[1;33m\u001b[0m\u001b[0m\n\u001b[0m\u001b[0;32m    355\u001b[0m         \u001b[1;32mreturn\u001b[0m \u001b[0mself\u001b[0m\u001b[1;33m\u001b[0m\u001b[1;33m\u001b[0m\u001b[0m\n\u001b[0;32m    356\u001b[0m \u001b[1;33m\u001b[0m\u001b[0m\n",
      "\u001b[1;32m~\\Anaconda3\\lib\\site-packages\\sklearn\\svm\\_base.py\u001b[0m in \u001b[0;36mfit\u001b[1;34m(self, X, y, sample_weight)\u001b[0m\n\u001b[0;32m    197\u001b[0m \u001b[1;33m\u001b[0m\u001b[0m\n\u001b[0;32m    198\u001b[0m         \u001b[0mseed\u001b[0m \u001b[1;33m=\u001b[0m \u001b[0mrnd\u001b[0m\u001b[1;33m.\u001b[0m\u001b[0mrandint\u001b[0m\u001b[1;33m(\u001b[0m\u001b[0mnp\u001b[0m\u001b[1;33m.\u001b[0m\u001b[0miinfo\u001b[0m\u001b[1;33m(\u001b[0m\u001b[1;34m'i'\u001b[0m\u001b[1;33m)\u001b[0m\u001b[1;33m.\u001b[0m\u001b[0mmax\u001b[0m\u001b[1;33m)\u001b[0m\u001b[1;33m\u001b[0m\u001b[1;33m\u001b[0m\u001b[0m\n\u001b[1;32m--> 199\u001b[1;33m         \u001b[0mfit\u001b[0m\u001b[1;33m(\u001b[0m\u001b[0mX\u001b[0m\u001b[1;33m,\u001b[0m \u001b[0my\u001b[0m\u001b[1;33m,\u001b[0m \u001b[0msample_weight\u001b[0m\u001b[1;33m,\u001b[0m \u001b[0msolver_type\u001b[0m\u001b[1;33m,\u001b[0m \u001b[0mkernel\u001b[0m\u001b[1;33m,\u001b[0m \u001b[0mrandom_seed\u001b[0m\u001b[1;33m=\u001b[0m\u001b[0mseed\u001b[0m\u001b[1;33m)\u001b[0m\u001b[1;33m\u001b[0m\u001b[1;33m\u001b[0m\u001b[0m\n\u001b[0m\u001b[0;32m    200\u001b[0m         \u001b[1;31m# see comment on the other call to np.iinfo in this file\u001b[0m\u001b[1;33m\u001b[0m\u001b[1;33m\u001b[0m\u001b[1;33m\u001b[0m\u001b[0m\n\u001b[0;32m    201\u001b[0m \u001b[1;33m\u001b[0m\u001b[0m\n",
      "\u001b[1;32m~\\Anaconda3\\lib\\site-packages\\sklearn\\svm\\_base.py\u001b[0m in \u001b[0;36m_sparse_fit\u001b[1;34m(self, X, y, sample_weight, solver_type, kernel, random_seed)\u001b[0m\n\u001b[0;32m    278\u001b[0m                 \u001b[0msample_weight\u001b[0m\u001b[1;33m,\u001b[0m \u001b[0mself\u001b[0m\u001b[1;33m.\u001b[0m\u001b[0mnu\u001b[0m\u001b[1;33m,\u001b[0m \u001b[0mself\u001b[0m\u001b[1;33m.\u001b[0m\u001b[0mcache_size\u001b[0m\u001b[1;33m,\u001b[0m \u001b[0mself\u001b[0m\u001b[1;33m.\u001b[0m\u001b[0mepsilon\u001b[0m\u001b[1;33m,\u001b[0m\u001b[1;33m\u001b[0m\u001b[1;33m\u001b[0m\u001b[0m\n\u001b[0;32m    279\u001b[0m                 \u001b[0mint\u001b[0m\u001b[1;33m(\u001b[0m\u001b[0mself\u001b[0m\u001b[1;33m.\u001b[0m\u001b[0mshrinking\u001b[0m\u001b[1;33m)\u001b[0m\u001b[1;33m,\u001b[0m \u001b[0mint\u001b[0m\u001b[1;33m(\u001b[0m\u001b[0mself\u001b[0m\u001b[1;33m.\u001b[0m\u001b[0mprobability\u001b[0m\u001b[1;33m)\u001b[0m\u001b[1;33m,\u001b[0m \u001b[0mself\u001b[0m\u001b[1;33m.\u001b[0m\u001b[0mmax_iter\u001b[0m\u001b[1;33m,\u001b[0m\u001b[1;33m\u001b[0m\u001b[1;33m\u001b[0m\u001b[0m\n\u001b[1;32m--> 280\u001b[1;33m                 random_seed)\n\u001b[0m\u001b[0;32m    281\u001b[0m \u001b[1;33m\u001b[0m\u001b[0m\n\u001b[0;32m    282\u001b[0m         \u001b[0mself\u001b[0m\u001b[1;33m.\u001b[0m\u001b[0m_warn_from_fit_status\u001b[0m\u001b[1;33m(\u001b[0m\u001b[1;33m)\u001b[0m\u001b[1;33m\u001b[0m\u001b[1;33m\u001b[0m\u001b[0m\n",
      "\u001b[1;32msklearn\\svm\\_libsvm_sparse.pyx\u001b[0m in \u001b[0;36msklearn.svm._libsvm_sparse.libsvm_sparse_train\u001b[1;34m()\u001b[0m\n",
      "\u001b[1;32m~\\Anaconda3\\lib\\site-packages\\scipy\\sparse\\compressed.py\u001b[0m in \u001b[0;36m__init__\u001b[1;34m(self, arg1, shape, dtype, copy)\u001b[0m\n\u001b[0;32m     28\u001b[0m     \u001b[1;34m\"\"\"base matrix class for compressed row and column oriented matrices\"\"\"\u001b[0m\u001b[1;33m\u001b[0m\u001b[1;33m\u001b[0m\u001b[0m\n\u001b[0;32m     29\u001b[0m \u001b[1;33m\u001b[0m\u001b[0m\n\u001b[1;32m---> 30\u001b[1;33m     \u001b[1;32mdef\u001b[0m \u001b[0m__init__\u001b[0m\u001b[1;33m(\u001b[0m\u001b[0mself\u001b[0m\u001b[1;33m,\u001b[0m \u001b[0marg1\u001b[0m\u001b[1;33m,\u001b[0m \u001b[0mshape\u001b[0m\u001b[1;33m=\u001b[0m\u001b[1;32mNone\u001b[0m\u001b[1;33m,\u001b[0m \u001b[0mdtype\u001b[0m\u001b[1;33m=\u001b[0m\u001b[1;32mNone\u001b[0m\u001b[1;33m,\u001b[0m \u001b[0mcopy\u001b[0m\u001b[1;33m=\u001b[0m\u001b[1;32mFalse\u001b[0m\u001b[1;33m)\u001b[0m\u001b[1;33m:\u001b[0m\u001b[1;33m\u001b[0m\u001b[1;33m\u001b[0m\u001b[0m\n\u001b[0m\u001b[0;32m     31\u001b[0m         \u001b[0m_data_matrix\u001b[0m\u001b[1;33m.\u001b[0m\u001b[0m__init__\u001b[0m\u001b[1;33m(\u001b[0m\u001b[0mself\u001b[0m\u001b[1;33m)\u001b[0m\u001b[1;33m\u001b[0m\u001b[1;33m\u001b[0m\u001b[0m\n\u001b[0;32m     32\u001b[0m \u001b[1;33m\u001b[0m\u001b[0m\n",
      "\u001b[1;31mKeyboardInterrupt\u001b[0m: "
     ]
    }
   ],
   "source": [
    "param_grid = [\n",
    "        {'preparation__num_pipeline__imputer__strategy': ['mean', 'median', 'most_frequent'],\n",
    "         'feature_selection__k': list(range(1, len(feature_importances) + 1))}\n",
    "]\n",
    "\n",
    "grid_search_prep = GridSearchCV(prepare_select_and_predict_pipeline, param_grid, cv=5,\n",
    "                                scoring='neg_mean_squared_error', verbose=2, n_jobs=1)\n",
    "grid_search_prep.fit(housing, housing_labels)"
   ]
  },
  {
   "cell_type": "code",
   "execution_count": null,
   "metadata": {},
   "outputs": [],
   "source": [
    "grid_search_prep.best_params_"
   ]
  },
  {
   "cell_type": "code",
   "execution_count": null,
   "metadata": {},
   "outputs": [],
   "source": [
    "StratifiedShuffleSplit()"
   ]
  },
  {
   "cell_type": "code",
   "execution_count": 218,
   "metadata": {},
   "outputs": [],
   "source": [
    "split = StratifiedShuffleSplit(n_splits = 1, test_size=0.2, random_state=42)"
   ]
  },
  {
   "cell_type": "code",
   "execution_count": null,
   "metadata": {},
   "outputs": [],
   "source": [
    "for train_index, test_index in split.split(housing, housing[\"income_cat\"]):\n",
    "    strat_train_set = housing.loc[train_index]"
   ]
  },
  {
   "cell_type": "code",
   "execution_count": 216,
   "metadata": {},
   "outputs": [
    {
     "data": {
      "text/plain": [
       "((13209,), (3303,))"
      ]
     },
     "execution_count": 216,
     "metadata": {},
     "output_type": "execute_result"
    }
   ],
   "source": [
    "next(split.split(housing, housing[\"income_cat\"]))[0].shape, next(split.split(housing, housing[\"income_cat\"]))[1].shape"
   ]
  },
  {
   "cell_type": "code",
   "execution_count": null,
   "metadata": {},
   "outputs": [],
   "source": []
  }
 ],
 "metadata": {
  "kernelspec": {
   "display_name": "Python 3",
   "language": "python",
   "name": "python3"
  },
  "language_info": {
   "codemirror_mode": {
    "name": "ipython",
    "version": 3
   },
   "file_extension": ".py",
   "mimetype": "text/x-python",
   "name": "python",
   "nbconvert_exporter": "python",
   "pygments_lexer": "ipython3",
   "version": "3.7.3"
  }
 },
 "nbformat": 4,
 "nbformat_minor": 4
}
