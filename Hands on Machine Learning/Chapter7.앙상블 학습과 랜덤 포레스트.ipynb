{
 "cells": [
  {
   "cell_type": "markdown",
   "metadata": {},
   "source": [
    "# 7장 앙상블 학습과 랜덤 포레스트\n"
   ]
  },
  {
   "cell_type": "markdown",
   "metadata": {},
   "source": [
    "일련의 예측기로 가장 좋은 모델 하나 보다 더 좋은 예측을 할 수 있다.  \n",
    "일련의 예측기를 __앙상블__ 이라고 부르기 때문에 이를 __앙상블학습__ 이라고 한다.  \n",
    "\n",
    "예를들어 훈련세트로 부터 무작위로 각기 다른 서브셋을 만들어 일련의 결정트리 분류기를 훈련시킬 수 있다.  \n",
    "예측을 하려면 모들 개별 트리의 예측을 구하면 된다. 그다음 가장 많은 선택을 받은 클래스를 예측으로 삼는다.  \n",
    "결정 트리의 앙상블을 __랜덤 포레스트__ 라고 한다. 간단한 방법이지만 랜덤 포레스트는 오늘날 가장 강력한 머신러닝 알고리즘 중 하나이다.  \n",
    "\n",
    "프로젝트의 마지막에 다다르면 흔히 앙상블 방법을 사용하여 이미 만든 여러 괜찮은 예측기를 만든다.  \n"
   ]
  },
  {
   "cell_type": "markdown",
   "metadata": {},
   "source": [
    "## 7.1 투표 기반 분류기"
   ]
  },
  {
   "cell_type": "markdown",
   "metadata": {},
   "source": [
    "정확도가 80%인 분류기 여러개를 훈련 시켰다고 가정하자. 아마도 로지스틱, SVM, 랜덤 포레스트, K-NN 등을 가지고 있을 수 있다.  \n",
    "더 좋은 분류기를 만드는 매우 간단한 방법은 각 분류기의 예측을 모아서 가장 많이 선택된 클래스를 예측하는 것이다. 이렇게 다수결 투표로 정해지는 분류기를 __직접 투표(hard voting)__ 분류기 라고 한다.  \n",
    "\n",
    "이 다수결 투표 분류기가 앙상블에 포함된 개별 분류기 중 가장 뛰어난 것보다도 정확도가 높을 경우가 많다.  \n",
    "사실 각 분류기가 __약한 학습기__일지라도 충분하게 많고 다양하다면 앙상블은 __강한 학습기__가 될 수 있다.  \n",
    "\n"
   ]
  },
  {
   "cell_type": "code",
   "execution_count": 44,
   "metadata": {},
   "outputs": [
    {
     "name": "stdout",
     "output_type": "stream",
     "text": [
      "0.7467502275561786\n",
      "0.9777976478701533\n"
     ]
    }
   ],
   "source": [
    "from scipy.stats import binom\n",
    "from pprint import pprint\n",
    "pprint(1 - binom.cdf(499, 1000, 0.51))\n",
    "pprint(1 - binom.cdf(4999, 10000, 0.51))"
   ]
  },
  {
   "cell_type": "markdown",
   "metadata": {},
   "source": [
    "- 이유 : 대수의 법칙 때문(law of large numbers)"
   ]
  },
  {
   "cell_type": "markdown",
   "metadata": {},
   "source": [
    "`TIP`  \n",
    "앙상블 방법은 예측기가 가능한 한 서로 독립적일 때 최고의 성능을 발휘한다.  \n",
    "다양한 분류기를 얻는 한 가지방법은 각기 다른 알고리즘으로 학습시키는 것이다.  \n",
    "이렇게 하면 매우 다른 종류의 오차를 만들 가능성이 높기 때문에 앙상블 모델의 정확도를 향상시킨다.  "
   ]
  },
  {
   "cell_type": "code",
   "execution_count": 71,
   "metadata": {},
   "outputs": [],
   "source": [
    "from sklearn.datasets import make_moons\n",
    "from sklearn.model_selection import train_test_split\n",
    "X,y = make_moons(n_samples = 500, noise = 0.30, random_state =42)"
   ]
  },
  {
   "cell_type": "code",
   "execution_count": 72,
   "metadata": {},
   "outputs": [],
   "source": [
    "X_train, X_test, y_train, y_test = train_test_split(X, y, test_size = 0.25, random_state =42)"
   ]
  },
  {
   "cell_type": "code",
   "execution_count": 73,
   "metadata": {},
   "outputs": [
    {
     "data": {
      "text/plain": [
       "VotingClassifier(estimators=[('lr', LogisticRegression(C=1.0, class_weight=None, dual=False, fit_intercept=True,\n",
       "          intercept_scaling=1, max_iter=100, multi_class='warn',\n",
       "          n_jobs=None, penalty='l2', random_state=42, solver='liblinear',\n",
       "          tol=0.0001, verbose=0, warm_start=False)), ('rf', Rando...f',\n",
       "  max_iter=-1, probability=False, random_state=42, shrinking=True,\n",
       "  tol=0.001, verbose=False))],\n",
       "         flatten_transform=None, n_jobs=None, voting='hard', weights=None)"
      ]
     },
     "execution_count": 73,
     "metadata": {},
     "output_type": "execute_result"
    }
   ],
   "source": [
    "from sklearn.ensemble import RandomForestClassifier\n",
    "from sklearn.ensemble import VotingClassifier\n",
    "from sklearn.linear_model import LogisticRegression\n",
    "from sklearn.svm import SVC\n",
    "\n",
    "log_clf = LogisticRegression(solver='liblinear', random_state=42)\n",
    "rnd_clf = RandomForestClassifier(n_estimators=10, random_state=42)\n",
    "svm_clf = SVC(gamma='auto', random_state=42)\n",
    "\n",
    "voting_clf = VotingClassifier(\n",
    "    estimators=[('lr', log_clf), ('rf', rnd_clf), ('svc', svm_clf)],\n",
    "    voting='hard')\n",
    "voting_clf.fit(X_train, y_train)"
   ]
  },
  {
   "cell_type": "code",
   "execution_count": 74,
   "metadata": {},
   "outputs": [
    {
     "name": "stdout",
     "output_type": "stream",
     "text": [
      "LogisticRegression 0.864\n",
      "RandomForestClassifier 0.872\n",
      "SVC 0.888\n",
      "VotingClassifier 0.896\n"
     ]
    }
   ],
   "source": [
    "\n",
    "from sklearn.metrics import accuracy_score\n",
    "\n",
    "for clf in (log_clf, rnd_clf, svm_clf, voting_clf):\n",
    "    clf.fit(X_train, y_train)\n",
    "    y_pred = clf.predict(X_test)\n",
    "    print(clf.__class__.__name__, accuracy_score(y_test, y_pred))"
   ]
  },
  {
   "cell_type": "markdown",
   "metadata": {},
   "source": [
    "책에는 세 모델을 Voting으로 앙상블한 VotingClassifier가 가장 성능이 좋았지만  \n",
    "나는 RandomForest가 가장 정확도가 높게나옴"
   ]
  },
  {
   "cell_type": "markdown",
   "metadata": {},
   "source": [
    "모든 분류기가 클래스의 확률을 예측할 수 있으면(즉, sklearn에서 predict_proba() 메서드가 있으면) 개별 분류기의 예측을 평균 내어 확률이 가장 높은 클래스를 예측할 수 있다.  \n",
    "이를 __간접 투표(Soft voting)__ 이라고한다.  \n",
    "\n",
    "_SVC는 기본값에서는 클래스 확률을 제공하지 않으므로 probability 매개변수를 True로 지정해야한다._  \n",
    "(서포트 벡터 머신상에서 probability = True 를 지정하면 교차 검증을 사용하여 클래스 확률을 만들어낸다.  속도는 느려지지만 predict_proba 메서드를 사용할 수 있다.)  "
   ]
  },
  {
   "cell_type": "markdown",
   "metadata": {},
   "source": [
    "SoftVoting 예)"
   ]
  },
  {
   "cell_type": "code",
   "execution_count": 75,
   "metadata": {},
   "outputs": [],
   "source": [
    "svm_clf2 = SVC(gamma='auto', random_state = 42, probability=True)"
   ]
  },
  {
   "cell_type": "code",
   "execution_count": 76,
   "metadata": {},
   "outputs": [
    {
     "data": {
      "text/plain": [
       "VotingClassifier(estimators=[('lr', LogisticRegression(C=1.0, class_weight=None, dual=False, fit_intercept=True,\n",
       "          intercept_scaling=1, max_iter=100, multi_class='warn',\n",
       "          n_jobs=None, penalty='l2', random_state=42, solver='liblinear',\n",
       "          tol=0.0001, verbose=0, warm_start=False)), ('rf', Rando...bf',\n",
       "  max_iter=-1, probability=True, random_state=42, shrinking=True,\n",
       "  tol=0.001, verbose=False))],\n",
       "         flatten_transform=None, n_jobs=None, voting='soft', weights=None)"
      ]
     },
     "execution_count": 76,
     "metadata": {},
     "output_type": "execute_result"
    }
   ],
   "source": [
    "voting_clf2 = VotingClassifier(\n",
    "            estimators=[('lr', log_clf), ('rf', rnd_clf), ('svc2', svm_clf2)],\n",
    "            voting = 'soft')\n",
    "\n",
    "voting_clf2.fit(X_train,y_train)"
   ]
  },
  {
   "cell_type": "code",
   "execution_count": 77,
   "metadata": {},
   "outputs": [
    {
     "name": "stdout",
     "output_type": "stream",
     "text": [
      "LogisticRegression 0.864\n",
      "RandomForestClassifier 0.872\n",
      "SVC 0.888\n",
      "SVC 0.888\n",
      "VotingClassifier 0.896\n",
      "VotingClassifier 0.912\n"
     ]
    }
   ],
   "source": [
    "for clf in (log_clf, rnd_clf, svm_clf, svm_clf2, voting_clf, voting_clf2):\n",
    "    clf.fit(X_train, y_train)\n",
    "    y_pred = clf.predict(X_test)\n",
    "    print(clf.__class__.__name__, accuracy_score(y_test, y_pred))"
   ]
  },
  {
   "cell_type": "code",
   "execution_count": 78,
   "metadata": {},
   "outputs": [
    {
     "name": "stdout",
     "output_type": "stream",
     "text": [
      "SoftVoting accuracy : 0.912\n"
     ]
    }
   ],
   "source": [
    "print(\"SoftVoting accuracy : {:}\".format(accuracy_score(y_test, y_pred)))"
   ]
  },
  {
   "cell_type": "markdown",
   "metadata": {},
   "source": [
    "## 7.2 배깅과 페이스팅"
   ]
  },
  {
   "cell_type": "markdown",
   "metadata": {},
   "source": [
    "__bagging(bootstrap aggregaing)__ : 중복을 허용하여 샘플링 하는 방식.  \n",
    "__pasting__ : 중복을 허용하지 않고 샘플링 하는 방법.  \n",
    "\n",
    "다시말해 배깅과 페이스팅에서는 같은 훈련 샘플을 여러개의 예측기에 걸쳐 사용할 수 있다.  \n",
    "하지만 배깅만이 한 예측기를 위해 같은 훈련샘플을 여러번 샘플링 할 수 있다.  "
   ]
  },
  {
   "attachments": {
    "image.png": {
     "image/png": "[encoded data removed]"
    }
   },
   "cell_type": "markdown",
   "metadata": {},
   "source": [
    "![image.png](attachment:image.png)"
   ]
  },
  {
   "cell_type": "markdown",
   "metadata": {},
   "source": [
    "### 각 무작위 샘플링에 대해서 예측기 훈련을 수행한다.  \n",
    "훈련을 마치면 앙상블은 모든 에측기의 예측을 모아서 새로운 샘플에 대한 예측을 만든다.  \n",
    "수집 함수는 전형적으로 분류일때는 __통계적 최빈값__ 이고 회귀에 대해서는 __평균__을 계산한다.  \n",
    "\n",
    "_개별 예측기는 원본 훈련 세트로 훈련시킨 것보다 훨씬 크게 편향 되어있지만(bias) 수집 함수를 통과하면 편향과 분산이 모두 감소한다(bias, variance)_  \n",
    "\n",
    "_예측기는 동시에 다른 CPU코어나 서버에 병렬로 학습 시킬 수 있다.  이와 유사하게 예측도 병렬로 수행 할 수 있다._"
   ]
  },
  {
   "cell_type": "markdown",
   "metadata": {},
   "source": [
    "\n",
    "### 7.2.1 사이킷런의 배깅과 페이스팅"
   ]
  },
  {
   "cell_type": "markdown",
   "metadata": {},
   "source": [
    "사이킷런은 배깅과 페이스팅을 위해 BaggingClassifier를 제공한다.(회귀일 경우 BaggingRegressor)  \n",
    "다음은 결정 트리 분류기 500개의 앙상블을 훈련시키는 코드이다.  \n",
    "각 분류기는 훈련 세트에서 중복을 허용하여 무작위로 선택된 100개의 샘플로 훈련된다.  "
   ]
  },
  {
   "cell_type": "markdown",
   "metadata": {},
   "source": [
    "페이스팅을 사용하려면 boostrap = False로 지정하면 된다.  "
   ]
  },
  {
   "cell_type": "code",
   "execution_count": 79,
   "metadata": {},
   "outputs": [],
   "source": [
    "from sklearn.ensemble import BaggingClassifier\n",
    "from sklearn.tree import DecisionTreeClassifier\n",
    "\n",
    "bag_clf = BaggingClassifier(\n",
    "        DecisionTreeClassifier(), n_estimators = 500,\n",
    "        max_samples =100, bootstrap=True, n_jobs =-1)\n",
    "bag_clf.fit(X_train, y_train)\n",
    "y_pred = bag_clf.predict(X_test)"
   ]
  },
  {
   "cell_type": "code",
   "execution_count": 80,
   "metadata": {},
   "outputs": [
    {
     "data": {
      "text/plain": [
       "0.904"
      ]
     },
     "execution_count": 80,
     "metadata": {},
     "output_type": "execute_result"
    }
   ],
   "source": [
    "accuracy_score(y_test,y_pred)"
   ]
  },
  {
   "cell_type": "code",
   "execution_count": 81,
   "metadata": {},
   "outputs": [
    {
     "name": "stdout",
     "output_type": "stream",
     "text": [
      "0.856\n"
     ]
    }
   ],
   "source": [
    "tree_clf = DecisionTreeClassifier(random_state=42)\n",
    "tree_clf.fit(X_train, y_train)\n",
    "y_pred_tree = tree_clf.predict(X_test)\n",
    "print(accuracy_score(y_test, y_pred_tree))"
   ]
  },
  {
   "cell_type": "markdown",
   "metadata": {},
   "source": [
    "_배깅을 사용했을때 정확도가 8%가량 상승했다._"
   ]
  },
  {
   "attachments": {
    "image.png": {
     "image/png": "[encoded data removed]"
    }
   },
   "cell_type": "markdown",
   "metadata": {},
   "source": [
    "![image.png](attachment:image.png)"
   ]
  },
  {
   "cell_type": "markdown",
   "metadata": {},
   "source": [
    "앙상블의 예측이 결정트리 하나의 예측보다 훨씬 일반화가 잘된것으로 보인다.  \n",
    "`앙상블은 비슷한 편향에서 더 작은 분산을 만든다.`  "
   ]
  },
  {
   "cell_type": "markdown",
   "metadata": {},
   "source": [
    "부트스트래핑은 각 예측기가 학습하는 서브셋에 다양성을 증가시키므로 배깅이 페이스팅보다 편향이 조금 더 높다.  \n",
    "하지만 이는 예측기의 상관관계를 줄이므로 앙상블의 분산을 감소시킨다.   \n",
    "전반적으로 배깅이 더 나은 모델을 만들기 때문에 더 선호되지만  \n",
    "시간과 CPU에 여유가있다면 교차검증으로 배깅과 페이스팅 모두 평가해서 더 나은 쪽을 선택하는 것이 낫다.  "
   ]
  },
  {
   "cell_type": "markdown",
   "metadata": {},
   "source": [
    "### 7.2.2 oob 평가"
   ]
  },
  {
   "cell_type": "markdown",
   "metadata": {},
   "source": [
    "배깅을 사용하면 어떤 샘플은 한 예측기를 위해 여러 번 샘플링되고 어떤 것은 전혀 선택되지 않을 수도 있다.  \n",
    "BaggingClassifier은 기본값으로 중복을 허용하여 훈련 세트의 크기만큼인 m개의 샘플을 선택한다.  \n",
    "이는 평균적으로 각 예측기에 훈련 샘플의 63%정도만 샘플링 된다는 것을 의미한다.  ($(1-1/m)^m = 1 - e^{-1} = 0.632$)  \n",
    "선택되지 않은 훈련 샘플의 나머지 37%를 __oob샘플__ 이라고 한다. 예측기바다 남겨진 37%는 모두 다르다.  \n",
    "\n",
    "예측기가 훈련되는 동안에는 oob 샘플을 사용하지 않으므로 검증 세트나 교차 검즈을 사용하지 않고 oob 샘플을 사용하여 평가 할 수 있다. 앙상블의 평가는 각 예측기의 oob 평가를 평균하여 얻는다.  \n",
    "\n",
    "사이킷런에서 __BaggingClassifier__를 만들때 oob_score = True 로 지정하면 훈련이 끝난 후 자동으로 oob평가를 수행한다.  "
   ]
  },
  {
   "cell_type": "code",
   "execution_count": 82,
   "metadata": {},
   "outputs": [
    {
     "data": {
      "text/plain": [
       "0.904"
      ]
     },
     "execution_count": 82,
     "metadata": {},
     "output_type": "execute_result"
    }
   ],
   "source": [
    "bag_clf = BaggingClassifier(\n",
    "    DecisionTreeClassifier(), n_estimators=500,\n",
    "    bootstrap = True, n_jobs = -1 , oob_score = True) ##oob_score 파라미터를 통해 oob 평가를 할건지 결정\n",
    "\n",
    "bag_clf.fit(X_train, y_train)\n",
    "bag_clf.oob_score_"
   ]
  },
  {
   "cell_type": "code",
   "execution_count": 83,
   "metadata": {},
   "outputs": [
    {
     "data": {
      "text/plain": [
       "0.912"
      ]
     },
     "execution_count": 83,
     "metadata": {},
     "output_type": "execute_result"
    }
   ],
   "source": [
    "y_pred = bag_clf.predict(X_test)\n",
    "accuracy_score(y_test, y_pred)"
   ]
  },
  {
   "cell_type": "markdown",
   "metadata": {},
   "source": [
    "테스트세트에서의 평가결과와 oob socre에서의 평가결과가 비슷하다는걸 말하고 싶은거임. "
   ]
  },
  {
   "cell_type": "code",
   "execution_count": 84,
   "metadata": {
    "collapsed": true
   },
   "outputs": [
    {
     "data": {
      "text/plain": [
       "array([[0.36413043, 0.63586957],\n",
       "       [0.31428571, 0.68571429],\n",
       "       [1.        , 0.        ],\n",
       "       [0.        , 1.        ],\n",
       "       [0.        , 1.        ],\n",
       "       [0.08588957, 0.91411043],\n",
       "       [0.28484848, 0.71515152],\n",
       "       [0.        , 1.        ],\n",
       "       [0.99456522, 0.00543478],\n",
       "       [0.98947368, 0.01052632],\n",
       "       [0.80104712, 0.19895288],\n",
       "       [0.00520833, 0.99479167],\n",
       "       [0.76404494, 0.23595506],\n",
       "       [0.82967033, 0.17032967],\n",
       "       [0.95721925, 0.04278075],\n",
       "       [0.09289617, 0.90710383],\n",
       "       [0.00552486, 0.99447514],\n",
       "       [0.97860963, 0.02139037],\n",
       "       [0.94936709, 0.05063291],\n",
       "       [1.        , 0.        ],\n",
       "       [0.03488372, 0.96511628],\n",
       "       [0.31382979, 0.68617021],\n",
       "       [0.90163934, 0.09836066],\n",
       "       [1.        , 0.        ],\n",
       "       [1.        , 0.        ],\n",
       "       [0.        , 1.        ],\n",
       "       [1.        , 0.        ],\n",
       "       [1.        , 0.        ],\n",
       "       [0.00534759, 0.99465241],\n",
       "       [0.63874346, 0.36125654],\n",
       "       [0.        , 1.        ],\n",
       "       [1.        , 0.        ],\n",
       "       [0.        , 1.        ],\n",
       "       [0.        , 1.        ],\n",
       "       [0.12429379, 0.87570621],\n",
       "       [1.        , 0.        ],\n",
       "       [0.00564972, 0.99435028],\n",
       "       [0.37222222, 0.62777778],\n",
       "       [0.        , 1.        ],\n",
       "       [1.        , 0.        ],\n",
       "       [0.22543353, 0.77456647],\n",
       "       [0.38121547, 0.61878453],\n",
       "       [1.        , 0.        ],\n",
       "       [1.        , 0.        ],\n",
       "       [0.        , 1.        ],\n",
       "       [1.        , 0.        ],\n",
       "       [1.        , 0.        ],\n",
       "       [0.01149425, 0.98850575],\n",
       "       [1.        , 0.        ],\n",
       "       [0.        , 1.        ],\n",
       "       [0.98918919, 0.01081081],\n",
       "       [0.88700565, 0.11299435],\n",
       "       [0.96721311, 0.03278689],\n",
       "       [0.95145631, 0.04854369],\n",
       "       [0.        , 1.        ],\n",
       "       [0.03571429, 0.96428571],\n",
       "       [0.99354839, 0.00645161],\n",
       "       [0.        , 1.        ],\n",
       "       [0.        , 1.        ],\n",
       "       [0.01169591, 0.98830409],\n",
       "       [0.99428571, 0.00571429],\n",
       "       [0.81767956, 0.18232044],\n",
       "       [0.38974359, 0.61025641],\n",
       "       [1.        , 0.        ],\n",
       "       [0.        , 1.        ],\n",
       "       [0.65517241, 0.34482759],\n",
       "       [1.        , 0.        ],\n",
       "       [1.        , 0.        ],\n",
       "       [0.83625731, 0.16374269],\n",
       "       [1.        , 0.        ],\n",
       "       [0.63483146, 0.36516854],\n",
       "       [0.125     , 0.875     ],\n",
       "       [0.70103093, 0.29896907],\n",
       "       [0.9112426 , 0.0887574 ],\n",
       "       [0.        , 1.        ],\n",
       "       [0.1420765 , 0.8579235 ],\n",
       "       [0.90047393, 0.09952607],\n",
       "       [1.        , 0.        ],\n",
       "       [0.        , 1.        ],\n",
       "       [1.        , 0.        ],\n",
       "       [0.        , 1.        ],\n",
       "       [0.02808989, 0.97191011],\n",
       "       [0.06134969, 0.93865031],\n",
       "       [0.31055901, 0.68944099],\n",
       "       [1.        , 0.        ],\n",
       "       [0.01117318, 0.98882682],\n",
       "       [0.82010582, 0.17989418],\n",
       "       [0.00543478, 0.99456522],\n",
       "       [0.        , 1.        ],\n",
       "       [0.        , 1.        ],\n",
       "       [0.20833333, 0.79166667],\n",
       "       [1.        , 0.        ],\n",
       "       [0.        , 1.        ],\n",
       "       [0.        , 1.        ],\n",
       "       [0.        , 1.        ],\n",
       "       [0.95930233, 0.04069767],\n",
       "       [0.76744186, 0.23255814],\n",
       "       [0.00505051, 0.99494949],\n",
       "       [1.        , 0.        ],\n",
       "       [0.24137931, 0.75862069],\n",
       "       [0.56353591, 0.43646409],\n",
       "       [0.        , 1.        ],\n",
       "       [0.06395349, 0.93604651],\n",
       "       [0.44927536, 0.55072464],\n",
       "       [1.        , 0.        ],\n",
       "       [0.02512563, 0.97487437],\n",
       "       [1.        , 0.        ],\n",
       "       [0.26011561, 0.73988439],\n",
       "       [0.48913043, 0.51086957],\n",
       "       [1.        , 0.        ],\n",
       "       [0.02094241, 0.97905759],\n",
       "       [0.98888889, 0.01111111],\n",
       "       [0.28140704, 0.71859296],\n",
       "       [0.91477273, 0.08522727],\n",
       "       [1.        , 0.        ],\n",
       "       [1.        , 0.        ],\n",
       "       [0.        , 1.        ],\n",
       "       [0.        , 1.        ],\n",
       "       [0.73652695, 0.26347305],\n",
       "       [1.        , 0.        ],\n",
       "       [0.        , 1.        ],\n",
       "       [1.        , 0.        ],\n",
       "       [1.        , 0.        ],\n",
       "       [1.        , 0.        ],\n",
       "       [0.98876404, 0.01123596],\n",
       "       [1.        , 0.        ],\n",
       "       [0.        , 1.        ],\n",
       "       [0.95505618, 0.04494382],\n",
       "       [0.99428571, 0.00571429],\n",
       "       [0.00568182, 0.99431818],\n",
       "       [0.2010582 , 0.7989418 ],\n",
       "       [0.94146341, 0.05853659],\n",
       "       [0.33142857, 0.66857143],\n",
       "       [0.98837209, 0.01162791],\n",
       "       [0.        , 1.        ],\n",
       "       [0.        , 1.        ],\n",
       "       [0.7539267 , 0.2460733 ],\n",
       "       [0.35757576, 0.64242424],\n",
       "       [0.4301676 , 0.5698324 ],\n",
       "       [0.86666667, 0.13333333],\n",
       "       [0.92227979, 0.07772021],\n",
       "       [0.05472637, 0.94527363],\n",
       "       [0.78010471, 0.21989529],\n",
       "       [0.        , 1.        ],\n",
       "       [0.        , 1.        ],\n",
       "       [0.01685393, 0.98314607],\n",
       "       [0.98342541, 0.01657459],\n",
       "       [1.        , 0.        ],\n",
       "       [1.        , 0.        ],\n",
       "       [0.        , 1.        ],\n",
       "       [0.        , 1.        ],\n",
       "       [0.01005025, 0.98994975],\n",
       "       [0.        , 1.        ],\n",
       "       [1.        , 0.        ],\n",
       "       [1.        , 0.        ],\n",
       "       [0.96531792, 0.03468208],\n",
       "       [1.        , 0.        ],\n",
       "       [1.        , 0.        ],\n",
       "       [1.        , 0.        ],\n",
       "       [0.        , 1.        ],\n",
       "       [0.36813187, 0.63186813],\n",
       "       [0.2295082 , 0.7704918 ],\n",
       "       [0.00540541, 0.99459459],\n",
       "       [0.        , 1.        ],\n",
       "       [0.22413793, 0.77586207],\n",
       "       [1.        , 0.        ],\n",
       "       [1.        , 0.        ],\n",
       "       [0.        , 1.        ],\n",
       "       [1.        , 0.        ],\n",
       "       [0.00588235, 0.99411765],\n",
       "       [0.        , 1.        ],\n",
       "       [0.9787234 , 0.0212766 ],\n",
       "       [0.        , 1.        ],\n",
       "       [0.        , 1.        ],\n",
       "       [1.        , 0.        ],\n",
       "       [0.        , 1.        ],\n",
       "       [0.60309278, 0.39690722],\n",
       "       [0.92820513, 0.07179487],\n",
       "       [0.00510204, 0.99489796],\n",
       "       [0.99512195, 0.00487805],\n",
       "       [0.98913043, 0.01086957],\n",
       "       [1.        , 0.        ],\n",
       "       [0.        , 1.        ],\n",
       "       [0.        , 1.        ],\n",
       "       [1.        , 0.        ],\n",
       "       [0.0855615 , 0.9144385 ],\n",
       "       [1.        , 0.        ],\n",
       "       [0.04790419, 0.95209581],\n",
       "       [0.        , 1.        ],\n",
       "       [1.        , 0.        ],\n",
       "       [0.        , 1.        ],\n",
       "       [0.03804348, 0.96195652],\n",
       "       [1.        , 0.        ],\n",
       "       [0.91891892, 0.08108108],\n",
       "       [0.75543478, 0.24456522],\n",
       "       [0.60465116, 0.39534884],\n",
       "       [0.        , 1.        ],\n",
       "       [0.17877095, 0.82122905],\n",
       "       [1.        , 0.        ],\n",
       "       [0.96969697, 0.03030303],\n",
       "       [0.96551724, 0.03448276],\n",
       "       [1.        , 0.        ],\n",
       "       [0.        , 1.        ],\n",
       "       [0.        , 1.        ],\n",
       "       [0.41752577, 0.58247423],\n",
       "       [0.8556701 , 0.1443299 ],\n",
       "       [0.        , 1.        ],\n",
       "       [0.        , 1.        ],\n",
       "       [1.        , 0.        ],\n",
       "       [0.00546448, 0.99453552],\n",
       "       [0.        , 1.        ],\n",
       "       [0.95979899, 0.04020101],\n",
       "       [0.        , 1.        ],\n",
       "       [0.2979798 , 0.7020202 ],\n",
       "       [0.        , 1.        ],\n",
       "       [1.        , 0.        ],\n",
       "       [0.        , 1.        ],\n",
       "       [0.        , 1.        ],\n",
       "       [0.97765363, 0.02234637],\n",
       "       [0.81578947, 0.18421053],\n",
       "       [0.99521531, 0.00478469],\n",
       "       [0.        , 1.        ],\n",
       "       [0.08376963, 0.91623037],\n",
       "       [1.        , 0.        ],\n",
       "       [0.03608247, 0.96391753],\n",
       "       [0.        , 1.        ],\n",
       "       [0.05076142, 0.94923858],\n",
       "       [1.        , 0.        ],\n",
       "       [0.78061224, 0.21938776],\n",
       "       [0.        , 1.        ],\n",
       "       [0.88541667, 0.11458333],\n",
       "       [0.98913043, 0.01086957],\n",
       "       [0.18902439, 0.81097561],\n",
       "       [0.22222222, 0.77777778],\n",
       "       [1.        , 0.        ],\n",
       "       [0.        , 1.        ],\n",
       "       [0.        , 1.        ],\n",
       "       [0.        , 1.        ],\n",
       "       [0.22826087, 0.77173913],\n",
       "       [0.94202899, 0.05797101],\n",
       "       [0.01020408, 0.98979592],\n",
       "       [1.        , 0.        ],\n",
       "       [1.        , 0.        ],\n",
       "       [0.        , 1.        ],\n",
       "       [0.50777202, 0.49222798],\n",
       "       [1.        , 0.        ],\n",
       "       [0.        , 1.        ],\n",
       "       [1.        , 0.        ],\n",
       "       [0.        , 1.        ],\n",
       "       [0.        , 1.        ],\n",
       "       [0.09473684, 0.90526316],\n",
       "       [0.07731959, 0.92268041],\n",
       "       [1.        , 0.        ],\n",
       "       [0.01630435, 0.98369565],\n",
       "       [1.        , 0.        ],\n",
       "       [0.47395833, 0.52604167],\n",
       "       [0.10588235, 0.89411765],\n",
       "       [0.50276243, 0.49723757],\n",
       "       [0.58381503, 0.41618497],\n",
       "       [0.00595238, 0.99404762],\n",
       "       [1.        , 0.        ],\n",
       "       [0.        , 1.        ],\n",
       "       [0.        , 1.        ],\n",
       "       [0.6       , 0.4       ],\n",
       "       [0.        , 1.        ],\n",
       "       [1.        , 0.        ],\n",
       "       [0.22959184, 0.77040816],\n",
       "       [0.77840909, 0.22159091],\n",
       "       [0.06185567, 0.93814433],\n",
       "       [1.        , 0.        ],\n",
       "       [0.80597015, 0.19402985],\n",
       "       [0.        , 1.        ],\n",
       "       [0.00558659, 0.99441341],\n",
       "       [0.11377246, 0.88622754],\n",
       "       [0.02185792, 0.97814208],\n",
       "       [0.        , 1.        ],\n",
       "       [1.        , 0.        ],\n",
       "       [0.9138756 , 0.0861244 ],\n",
       "       [0.15104167, 0.84895833],\n",
       "       [0.93142857, 0.06857143],\n",
       "       [0.        , 1.        ],\n",
       "       [0.55248619, 0.44751381],\n",
       "       [0.09580838, 0.90419162],\n",
       "       [0.9895288 , 0.0104712 ],\n",
       "       [0.81818182, 0.18181818],\n",
       "       [0.        , 1.        ],\n",
       "       [1.        , 0.        ],\n",
       "       [0.91812865, 0.08187135],\n",
       "       [0.        , 1.        ],\n",
       "       [0.        , 1.        ],\n",
       "       [1.        , 0.        ],\n",
       "       [0.        , 1.        ],\n",
       "       [1.        , 0.        ],\n",
       "       [0.2568306 , 0.7431694 ],\n",
       "       [0.97883598, 0.02116402],\n",
       "       [1.        , 0.        ],\n",
       "       [0.        , 1.        ],\n",
       "       [0.        , 1.        ],\n",
       "       [0.83888889, 0.16111111],\n",
       "       [0.        , 1.        ],\n",
       "       [1.        , 0.        ],\n",
       "       [0.77604167, 0.22395833],\n",
       "       [0.93220339, 0.06779661],\n",
       "       [1.        , 0.        ],\n",
       "       [0.67692308, 0.32307692],\n",
       "       [0.51546392, 0.48453608],\n",
       "       [0.        , 1.        ],\n",
       "       [0.85380117, 0.14619883],\n",
       "       [0.        , 1.        ],\n",
       "       [1.        , 0.        ],\n",
       "       [0.86885246, 0.13114754],\n",
       "       [1.        , 0.        ],\n",
       "       [1.        , 0.        ],\n",
       "       [0.69942197, 0.30057803],\n",
       "       [0.1       , 0.9       ],\n",
       "       [0.4566474 , 0.5433526 ],\n",
       "       [0.23214286, 0.76785714],\n",
       "       [0.        , 1.        ],\n",
       "       [0.88461538, 0.11538462],\n",
       "       [0.76969697, 0.23030303],\n",
       "       [0.00531915, 0.99468085],\n",
       "       [1.        , 0.        ],\n",
       "       [1.        , 0.        ],\n",
       "       [1.        , 0.        ],\n",
       "       [0.        , 1.        ],\n",
       "       [0.02197802, 0.97802198],\n",
       "       [0.95930233, 0.04069767],\n",
       "       [0.97777778, 0.02222222],\n",
       "       [1.        , 0.        ],\n",
       "       [0.43678161, 0.56321839],\n",
       "       [1.        , 0.        ],\n",
       "       [0.        , 1.        ],\n",
       "       [0.99019608, 0.00980392],\n",
       "       [0.0257732 , 0.9742268 ],\n",
       "       [1.        , 0.        ],\n",
       "       [1.        , 0.        ],\n",
       "       [1.        , 0.        ],\n",
       "       [0.        , 1.        ],\n",
       "       [0.98      , 0.02      ],\n",
       "       [0.        , 1.        ],\n",
       "       [0.08045977, 0.91954023],\n",
       "       [0.        , 1.        ],\n",
       "       [0.        , 1.        ],\n",
       "       [1.        , 0.        ],\n",
       "       [1.        , 0.        ],\n",
       "       [0.        , 1.        ],\n",
       "       [1.        , 0.        ],\n",
       "       [0.025     , 0.975     ],\n",
       "       [1.        , 0.        ],\n",
       "       [0.0923913 , 0.9076087 ],\n",
       "       [0.        , 1.        ],\n",
       "       [0.02234637, 0.97765363],\n",
       "       [0.        , 1.        ],\n",
       "       [0.37988827, 0.62011173],\n",
       "       [0.09659091, 0.90340909],\n",
       "       [0.21827411, 0.78172589],\n",
       "       [1.        , 0.        ],\n",
       "       [0.98387097, 0.01612903],\n",
       "       [0.17156863, 0.82843137],\n",
       "       [0.99487179, 0.00512821],\n",
       "       [0.        , 1.        ],\n",
       "       [0.        , 1.        ],\n",
       "       [1.        , 0.        ],\n",
       "       [0.96590909, 0.03409091],\n",
       "       [0.27083333, 0.72916667],\n",
       "       [0.98994975, 0.01005025],\n",
       "       [1.        , 0.        ],\n",
       "       [0.        , 1.        ],\n",
       "       [0.99481865, 0.00518135],\n",
       "       [0.01069519, 0.98930481],\n",
       "       [0.06024096, 0.93975904],\n",
       "       [0.97790055, 0.02209945],\n",
       "       [1.        , 0.        ],\n",
       "       [0.00515464, 0.99484536],\n",
       "       [0.65408805, 0.34591195]])"
      ]
     },
     "execution_count": 84,
     "metadata": {},
     "output_type": "execute_result"
    }
   ],
   "source": [
    "bag_clf.oob_decision_function_"
   ]
  },
  {
   "cell_type": "markdown",
   "metadata": {},
   "source": [
    "## 7.3 랜덤패치와 랜덤 서브스페이스"
   ]
  },
  {
   "cell_type": "markdown",
   "metadata": {},
   "source": [
    "BaggingClassifier는 특성 샘플링도 지원한다. max_features, bootstrap_features 두 매개변수로 조절된다.  \n",
    "작동 방식은 max_samples, boostrap과 동일하지만 샘플이 아니고 특성에 대한 샘플링이다.  \n",
    "따라서 각 예측기는 무작위로 선택한 입력 특성의 일부분으로 훈련된다.  \n",
    "이는 특히 이미지와 같은 고차원의 데이터셋을 다룰 때 유용하다.  \n",
    "훈련 특성과 샘플을 모두 샘플링하는 것을 __랜덤 패치__라고 한다.  \n",
    "훈련 샘플을 모두 사용하고(즉, bootsrap = False, max_samples = 1.0) 특성은 샘플링하는(bootstrap_features = True, max_fetures<1.0)인것을 __랜덤 서브스페이스__ 라고한다.  \n",
    "\n",
    "_특성 샘플링은 더 다양한 예측기를 만들어 편향은 증가시키지만 분산은 감소시킨다_"
   ]
  },
  {
   "cell_type": "markdown",
   "metadata": {},
   "source": [
    "## 7.4 랜덤 포레스트"
   ]
  },
  {
   "cell_type": "markdown",
   "metadata": {},
   "source": [
    "랜덤 포레스트는 일반적으로 배깅 방법(또는 페이스팅)을 적용한 결정 트리의 앙상블이다.  \n",
    "전형적으로 max_samples를 훈련 세트의 크기로 결정한다.  \n",
    "Bagging Classifier에 DecisionTreeClassifier를 넣어 만드는 대신 결정 트리에 최적화 되어 사용하기 편리한 RandomForestClassifier를 사용할 수 있다.  \n",
    "`결정 트리 이외의 모델을 앙상블 하고 싶을때 BaggingClassifier은 여전히 유용함`  \n"
   ]
  },
  {
   "cell_type": "code",
   "execution_count": 85,
   "metadata": {},
   "outputs": [
    {
     "data": {
      "text/plain": [
       "0.92"
      ]
     },
     "execution_count": 85,
     "metadata": {},
     "output_type": "execute_result"
    }
   ],
   "source": [
    "from sklearn.ensemble import RandomForestClassifier\n",
    "\n",
    "rnd_clf = RandomForestClassifier(n_estimators=500, max_leaf_nodes = 16, n_jobs = -1)\n",
    "rnd_clf.fit(X_train ,y_train)\n",
    "\n",
    "y_pred_clf = rnd_clf.predict(X_test)\n",
    "\n",
    "accuracy_score(y_test, y_pred_clf)"
   ]
  },
  {
   "cell_type": "markdown",
   "metadata": {},
   "source": [
    "랜덤 포레스트 알고리즘은 트리의 노드를 분할할 때 전체 특성 중에서 최선의 특성을 찾는 대신 무작위로 선택한 특성 후보 중에서 최적의 특성을 찾는 식으로 무작위성을 더 주입한다.  \n",
    "이는 결국 트리를 더욱 다양하게 만들고 편향을 손해 보는 대신 분산을 낮추어 훌륭한 모델을 만들어낸다. "
   ]
  },
  {
   "cell_type": "markdown",
   "metadata": {},
   "source": [
    "_아래 코드는 BaggingClassifier을 이용하여 RandomForestClassifier과 유사한 모델은 만든 것_"
   ]
  },
  {
   "cell_type": "code",
   "execution_count": 86,
   "metadata": {},
   "outputs": [
    {
     "data": {
      "text/plain": [
       "0.904"
      ]
     },
     "execution_count": 86,
     "metadata": {},
     "output_type": "execute_result"
    }
   ],
   "source": [
    "from sklearn.ensemble import BaggingClassifier\n",
    "from sklearn.tree import DecisionTreeClassifier\n",
    "\n",
    "bag_clf = BaggingClassifier(\n",
    "    DecisionTreeClassifier(splitter=\"random\", #결정트리의 파라미터\n",
    "    max_leaf_nodes = 16 #결정트리의 파라미터. \n",
    "                          ),\n",
    "    n_estimators = 500,\n",
    "    max_samples = 1.0,\n",
    "    bootstrap = True,\n",
    "    n_jobs = -1 )\n",
    "\n",
    "bag_clf.fit(X_train, y_train)\n",
    "bag_pred_clf = bag_clf.predict(X_test)\n",
    "accuracy_score(y_test, bag_pred_clf)"
   ]
  },
  {
   "cell_type": "markdown",
   "metadata": {},
   "source": [
    "### 7.4.1 엑스트라 트리"
   ]
  },
  {
   "cell_type": "markdown",
   "metadata": {},
   "source": [
    "랜덤 포레스트에서 트리를 만들때 각 노드는 무작위로 특성의 서브셋을 만들어 분할에 사용한다.  \n",
    "트리를 더욱 무작위하게 만들기 위해 최적의 임곗값을 찾는 대신 후보 특성을 사용해 무작위로 분할한 다음 그중에서 최상의 분할을 선택한다.  \n",
    "\n",
    "이와 같이 극단적으로 무작위한 트리의 랜덤 포레스트를 __익스트림 랜덤 트리 앙상블(줄여서 엑스트라 트리)__ 라 한다.  \n",
    "\n",
    "여기서도 편향이 늘어나지만 분산을 낮추게된다.  \n",
    "모든 노드에서 특성마다 가장 최적의 임곗값을 찾는것이 트리 알고리즘에서 시간이 가장 많이 소요되는 것중 하나이므로 엑스트라 트리는 일반적인 랜덤 포레스트보다 훨씬 빠르다.  \n",
    "\n",
    "엑스트라 트리를 만들려면 사이킷런의 ExtratreesClassifier를 사용한다. 사용법은 RandomForestClassifier와 같다."
   ]
  },
  {
   "cell_type": "markdown",
   "metadata": {},
   "source": [
    "`TIP`  \n",
    "엑스트라 트리와 일반적인 랜덤 포레스트 중 무엇이 더 나을지 예단하기는 어렵다.  \n",
    "일반적으로 둘 다 시도 해보고 교차 검증으료 비교해보는 것이 좋다."
   ]
  },
  {
   "cell_type": "markdown",
   "metadata": {},
   "source": [
    "### 7.4.2 특성 중요도"
   ]
  },
  {
   "cell_type": "markdown",
   "metadata": {},
   "source": []
  }
 ],
 "metadata": {
  "kernelspec": {
   "display_name": "Python 3",
   "language": "python",
   "name": "python3"
  },
  "language_info": {
   "codemirror_mode": {
    "name": "ipython",
    "version": 3
   },
   "file_extension": ".py",
   "mimetype": "text/x-python",
   "name": "python",
   "nbconvert_exporter": "python",
   "pygments_lexer": "ipython3",
   "version": "3.7.3"
  }
 },
 "nbformat": 4,
 "nbformat_minor": 2
}
